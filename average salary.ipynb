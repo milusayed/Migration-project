{
 "cells": [
  {
   "cell_type": "code",
   "execution_count": 1383,
   "id": "4dc5692e-7deb-4516-912c-c06e8d408bbc",
   "metadata": {},
   "outputs": [],
   "source": [
    "import pandas as pd\n",
    "import numpy as np\n",
    "import matplotlib.pyplot as plt"
   ]
  },
  {
   "cell_type": "code",
   "execution_count": 1384,
   "id": "a4c4fbbb-a915-4006-abf0-09813e378156",
   "metadata": {},
   "outputs": [],
   "source": [
    "new=pd.read_excel('average salary.xlsx')"
   ]
  },
  {
   "cell_type": "code",
   "execution_count": null,
   "id": "b96022ed-672f-4881-b40f-9a83d40d1191",
   "metadata": {},
   "outputs": [],
   "source": []
  },
  {
   "cell_type": "code",
   "execution_count": 1385,
   "id": "9c53f53c-a4b1-40c0-b9c3-65b6c0ffd9d0",
   "metadata": {},
   "outputs": [],
   "source": [
    "pd.set_option('display.max_rows', 61)\n",
    "\n",
    "pd.set_option('display.max_columns', 15)"
   ]
  },
  {
   "cell_type": "code",
   "execution_count": 1386,
   "id": "7ca9b1d9-8f5c-4d69-aca8-0e42cd363162",
   "metadata": {},
   "outputs": [
    {
     "data": {
      "text/html": [
       "<div>\n",
       "<style scoped>\n",
       "    .dataframe tbody tr th:only-of-type {\n",
       "        vertical-align: middle;\n",
       "    }\n",
       "\n",
       "    .dataframe tbody tr th {\n",
       "        vertical-align: top;\n",
       "    }\n",
       "\n",
       "    .dataframe thead th {\n",
       "        text-align: right;\n",
       "    }\n",
       "</style>\n",
       "<table border=\"1\" class=\"dataframe\">\n",
       "  <thead>\n",
       "    <tr style=\"text-align: right;\">\n",
       "      <th></th>\n",
       "      <th>Country</th>\n",
       "      <th>cost of living.Rank</th>\n",
       "      <th>cost of living.Cost index</th>\n",
       "      <th>cost of living.Monthly income (USD)</th>\n",
       "      <th>cost of living.Purchasing power index</th>\n",
       "      <th>currency rate.2023</th>\n",
       "      <th>GDP (in USD) per capita by country, territory, non-sovereign state or non-IMF .1</th>\n",
       "      <th>population.Population (2023)</th>\n",
       "      <th>population.Migrants (net)</th>\n",
       "      <th>Skilled force.2023</th>\n",
       "      <th>technology.2023 rank</th>\n",
       "      <th>Unemployement rate.Unemploymentrate (%)</th>\n",
       "      <th>inflation.Inflation</th>\n",
       "      <th>Monthly salary+Tax(USD)</th>\n",
       "      <th>Literacy rate</th>\n",
       "    </tr>\n",
       "  </thead>\n",
       "  <tbody>\n",
       "    <tr>\n",
       "      <th>0</th>\n",
       "      <td>Albania</td>\n",
       "      <td>55</td>\n",
       "      <td>47.9</td>\n",
       "      <td>631</td>\n",
       "      <td>19.7</td>\n",
       "      <td>3.297</td>\n",
       "      <td>8368</td>\n",
       "      <td>2791765</td>\n",
       "      <td>-24472</td>\n",
       "      <td>1387831</td>\n",
       "      <td>88</td>\n",
       "      <td>11.00</td>\n",
       "      <td>1.90</td>\n",
       "      <td>634.13</td>\n",
       "      <td>99.50</td>\n",
       "    </tr>\n",
       "    <tr>\n",
       "      <th>1</th>\n",
       "      <td>Algeria</td>\n",
       "      <td>89</td>\n",
       "      <td>30.7</td>\n",
       "      <td>413</td>\n",
       "      <td>20.1</td>\n",
       "      <td>4.184</td>\n",
       "      <td>5260</td>\n",
       "      <td>46814308</td>\n",
       "      <td>-31240</td>\n",
       "      <td>13425064</td>\n",
       "      <td>97</td>\n",
       "      <td>12.70</td>\n",
       "      <td>4.56</td>\n",
       "      <td>228.37</td>\n",
       "      <td>74.00</td>\n",
       "    </tr>\n",
       "    <tr>\n",
       "      <th>2</th>\n",
       "      <td>Australia</td>\n",
       "      <td>17</td>\n",
       "      <td>96.4</td>\n",
       "      <td>5262</td>\n",
       "      <td>81.6</td>\n",
       "      <td>2.063</td>\n",
       "      <td>64712</td>\n",
       "      <td>26713205</td>\n",
       "      <td>138510</td>\n",
       "      <td>14501414</td>\n",
       "      <td>12</td>\n",
       "      <td>4.21</td>\n",
       "      <td>2.80</td>\n",
       "      <td>3678.75</td>\n",
       "      <td>99.00</td>\n",
       "    </tr>\n",
       "    <tr>\n",
       "      <th>3</th>\n",
       "      <td>Austria</td>\n",
       "      <td>27</td>\n",
       "      <td>80.9</td>\n",
       "      <td>4589</td>\n",
       "      <td>84.8</td>\n",
       "      <td>-0.746</td>\n",
       "      <td>56506</td>\n",
       "      <td>9120813</td>\n",
       "      <td>8813</td>\n",
       "      <td>4825387</td>\n",
       "      <td>24</td>\n",
       "      <td>5.40</td>\n",
       "      <td>1.80</td>\n",
       "      <td>2579.59</td>\n",
       "      <td>98.00</td>\n",
       "    </tr>\n",
       "    <tr>\n",
       "      <th>4</th>\n",
       "      <td>Azerbaijan</td>\n",
       "      <td>84</td>\n",
       "      <td>31.3</td>\n",
       "      <td>557</td>\n",
       "      <td>26.6</td>\n",
       "      <td>1.100</td>\n",
       "      <td>7155</td>\n",
       "      <td>10336577</td>\n",
       "      <td>10864</td>\n",
       "      <td>5473196</td>\n",
       "      <td>96</td>\n",
       "      <td>5.52</td>\n",
       "      <td>3.50</td>\n",
       "      <td>456.50</td>\n",
       "      <td>99.90</td>\n",
       "    </tr>\n",
       "    <tr>\n",
       "      <th>5</th>\n",
       "      <td>Bangladesh</td>\n",
       "      <td>95</td>\n",
       "      <td>28.5</td>\n",
       "      <td>238</td>\n",
       "      <td>12.5</td>\n",
       "      <td>6.025</td>\n",
       "      <td>2529</td>\n",
       "      <td>173562364</td>\n",
       "      <td>-473362</td>\n",
       "      <td>74913612</td>\n",
       "      <td>126</td>\n",
       "      <td>5.20</td>\n",
       "      <td>9.92</td>\n",
       "      <td>239.43</td>\n",
       "      <td>94.80</td>\n",
       "    </tr>\n",
       "    <tr>\n",
       "      <th>6</th>\n",
       "      <td>Belarus</td>\n",
       "      <td>94</td>\n",
       "      <td>29.3</td>\n",
       "      <td>648</td>\n",
       "      <td>33.0</td>\n",
       "      <td>3.882</td>\n",
       "      <td>7829</td>\n",
       "      <td>9056696</td>\n",
       "      <td>-3119</td>\n",
       "      <td>4956149</td>\n",
       "      <td>55</td>\n",
       "      <td>3.04</td>\n",
       "      <td>6.00</td>\n",
       "      <td>522.44</td>\n",
       "      <td>99.90</td>\n",
       "    </tr>\n",
       "    <tr>\n",
       "      <th>7</th>\n",
       "      <td>Belgium</td>\n",
       "      <td>25</td>\n",
       "      <td>83.7</td>\n",
       "      <td>4544</td>\n",
       "      <td>81.1</td>\n",
       "      <td>1.461</td>\n",
       "      <td>53475</td>\n",
       "      <td>11738763</td>\n",
       "      <td>36243</td>\n",
       "      <td>5432007</td>\n",
       "      <td>10</td>\n",
       "      <td>5.51</td>\n",
       "      <td>3.20</td>\n",
       "      <td>2563.22</td>\n",
       "      <td>99.00</td>\n",
       "    </tr>\n",
       "    <tr>\n",
       "      <th>8</th>\n",
       "      <td>Brazil</td>\n",
       "      <td>51</td>\n",
       "      <td>49.8</td>\n",
       "      <td>756</td>\n",
       "      <td>22.7</td>\n",
       "      <td>2.908</td>\n",
       "      <td>10044</td>\n",
       "      <td>211998573</td>\n",
       "      <td>-225510</td>\n",
       "      <td>108695239</td>\n",
       "      <td>40</td>\n",
       "      <td>7.50</td>\n",
       "      <td>4.76</td>\n",
       "      <td>414.62</td>\n",
       "      <td>99.30</td>\n",
       "    </tr>\n",
       "    <tr>\n",
       "      <th>9</th>\n",
       "      <td>Bulgaria</td>\n",
       "      <td>60</td>\n",
       "      <td>43.3</td>\n",
       "      <td>1205</td>\n",
       "      <td>41.6</td>\n",
       "      <td>1.846</td>\n",
       "      <td>15798</td>\n",
       "      <td>6757689</td>\n",
       "      <td>524</td>\n",
       "      <td>3102757</td>\n",
       "      <td>43</td>\n",
       "      <td>4.30</td>\n",
       "      <td>1.20</td>\n",
       "      <td>1011.33</td>\n",
       "      <td>98.10</td>\n",
       "    </tr>\n",
       "    <tr>\n",
       "      <th>10</th>\n",
       "      <td>Canada</td>\n",
       "      <td>21</td>\n",
       "      <td>90.7</td>\n",
       "      <td>4494</td>\n",
       "      <td>74.1</td>\n",
       "      <td>1.066</td>\n",
       "      <td>53372</td>\n",
       "      <td>39742430</td>\n",
       "      <td>368599</td>\n",
       "      <td>22110473</td>\n",
       "      <td>11</td>\n",
       "      <td>6.32</td>\n",
       "      <td>1.60</td>\n",
       "      <td>2818.53</td>\n",
       "      <td>99.00</td>\n",
       "    </tr>\n",
       "    <tr>\n",
       "      <th>11</th>\n",
       "      <td>Chile</td>\n",
       "      <td>46</td>\n",
       "      <td>58.5</td>\n",
       "      <td>1318</td>\n",
       "      <td>33.7</td>\n",
       "      <td>0.219</td>\n",
       "      <td>17093</td>\n",
       "      <td>19764771</td>\n",
       "      <td>58316</td>\n",
       "      <td>9847754</td>\n",
       "      <td>48</td>\n",
       "      <td>8.71</td>\n",
       "      <td>4.70</td>\n",
       "      <td>670.31</td>\n",
       "      <td>99.30</td>\n",
       "    </tr>\n",
       "    <tr>\n",
       "      <th>12</th>\n",
       "      <td>China</td>\n",
       "      <td>49</td>\n",
       "      <td>51.5</td>\n",
       "      <td>1117</td>\n",
       "      <td>32.4</td>\n",
       "      <td>5.240</td>\n",
       "      <td>12614</td>\n",
       "      <td>1419321278</td>\n",
       "      <td>-318992</td>\n",
       "      <td>779245529</td>\n",
       "      <td>35</td>\n",
       "      <td>5.10</td>\n",
       "      <td>0.30</td>\n",
       "      <td>938.91</td>\n",
       "      <td>99.80</td>\n",
       "    </tr>\n",
       "    <tr>\n",
       "      <th>13</th>\n",
       "      <td>Colombia</td>\n",
       "      <td>68</td>\n",
       "      <td>36.9</td>\n",
       "      <td>573</td>\n",
       "      <td>23.2</td>\n",
       "      <td>0.612</td>\n",
       "      <td>6980</td>\n",
       "      <td>52886363</td>\n",
       "      <td>141643</td>\n",
       "      <td>26003385</td>\n",
       "      <td>72</td>\n",
       "      <td>9.87</td>\n",
       "      <td>5.41</td>\n",
       "      <td>350.64</td>\n",
       "      <td>98.90</td>\n",
       "    </tr>\n",
       "    <tr>\n",
       "      <th>14</th>\n",
       "      <td>Costa Rica</td>\n",
       "      <td>39</td>\n",
       "      <td>67.2</td>\n",
       "      <td>1154</td>\n",
       "      <td>25.7</td>\n",
       "      <td>5.112</td>\n",
       "      <td>16595</td>\n",
       "      <td>5129910</td>\n",
       "      <td>967</td>\n",
       "      <td>2407610</td>\n",
       "      <td>57</td>\n",
       "      <td>8.29</td>\n",
       "      <td>-0.79</td>\n",
       "      <td>964.67</td>\n",
       "      <td>99.50</td>\n",
       "    </tr>\n",
       "    <tr>\n",
       "      <th>15</th>\n",
       "      <td>Croatia</td>\n",
       "      <td>47</td>\n",
       "      <td>55.0</td>\n",
       "      <td>1723</td>\n",
       "      <td>46.8</td>\n",
       "      <td>2.831</td>\n",
       "      <td>21460</td>\n",
       "      <td>3875325</td>\n",
       "      <td>-5186</td>\n",
       "      <td>1744221</td>\n",
       "      <td>42</td>\n",
       "      <td>5.77</td>\n",
       "      <td>2.20</td>\n",
       "      <td>1361.96</td>\n",
       "      <td>99.80</td>\n",
       "    </tr>\n",
       "    <tr>\n",
       "      <th>16</th>\n",
       "      <td>Denmark</td>\n",
       "      <td>10</td>\n",
       "      <td>103.9</td>\n",
       "      <td>6113</td>\n",
       "      <td>87.9</td>\n",
       "      <td>1.813</td>\n",
       "      <td>67967</td>\n",
       "      <td>5977412</td>\n",
       "      <td>25639</td>\n",
       "      <td>3179505</td>\n",
       "      <td>16</td>\n",
       "      <td>4.89</td>\n",
       "      <td>1.60</td>\n",
       "      <td>3596.29</td>\n",
       "      <td>99.00</td>\n",
       "    </tr>\n",
       "    <tr>\n",
       "      <th>17</th>\n",
       "      <td>Ecuador</td>\n",
       "      <td>57</td>\n",
       "      <td>45.6</td>\n",
       "      <td>543</td>\n",
       "      <td>17.8</td>\n",
       "      <td>2.284</td>\n",
       "      <td>6533</td>\n",
       "      <td>18135478</td>\n",
       "      <td>-19704</td>\n",
       "      <td>8893065</td>\n",
       "      <td>90</td>\n",
       "      <td>4.20</td>\n",
       "      <td>1.36</td>\n",
       "      <td>495.25</td>\n",
       "      <td>96.40</td>\n",
       "    </tr>\n",
       "    <tr>\n",
       "      <th>18</th>\n",
       "      <td>El Salvador</td>\n",
       "      <td>54</td>\n",
       "      <td>49.0</td>\n",
       "      <td>410</td>\n",
       "      <td>12.5</td>\n",
       "      <td>3.498</td>\n",
       "      <td>5344</td>\n",
       "      <td>6338193</td>\n",
       "      <td>-23102</td>\n",
       "      <td>2870401</td>\n",
       "      <td>102</td>\n",
       "      <td>5.50</td>\n",
       "      <td>-0.07</td>\n",
       "      <td>501.07</td>\n",
       "      <td>98.30</td>\n",
       "    </tr>\n",
       "    <tr>\n",
       "      <th>19</th>\n",
       "      <td>Estonia</td>\n",
       "      <td>37</td>\n",
       "      <td>71.0</td>\n",
       "      <td>2270</td>\n",
       "      <td>47.8</td>\n",
       "      <td>-3.006</td>\n",
       "      <td>29824</td>\n",
       "      <td>1360546</td>\n",
       "      <td>-7742</td>\n",
       "      <td>752419</td>\n",
       "      <td>29</td>\n",
       "      <td>8.06</td>\n",
       "      <td>4.10</td>\n",
       "      <td>1525.26</td>\n",
       "      <td>100.00</td>\n",
       "    </tr>\n",
       "    <tr>\n",
       "      <th>20</th>\n",
       "      <td>Finland</td>\n",
       "      <td>22</td>\n",
       "      <td>90.2</td>\n",
       "      <td>4449</td>\n",
       "      <td>73.7</td>\n",
       "      <td>-0.957</td>\n",
       "      <td>53756</td>\n",
       "      <td>5617310</td>\n",
       "      <td>26894</td>\n",
       "      <td>2879817</td>\n",
       "      <td>8</td>\n",
       "      <td>7.60</td>\n",
       "      <td>0.80</td>\n",
       "      <td>2818.03</td>\n",
       "      <td>99.00</td>\n",
       "    </tr>\n",
       "    <tr>\n",
       "      <th>21</th>\n",
       "      <td>France</td>\n",
       "      <td>28</td>\n",
       "      <td>79.8</td>\n",
       "      <td>3756</td>\n",
       "      <td>70.4</td>\n",
       "      <td>0.869</td>\n",
       "      <td>44461</td>\n",
       "      <td>66548530</td>\n",
       "      <td>90527</td>\n",
       "      <td>31825317</td>\n",
       "      <td>15</td>\n",
       "      <td>7.36</td>\n",
       "      <td>1.20</td>\n",
       "      <td>2486.51</td>\n",
       "      <td>99.00</td>\n",
       "    </tr>\n",
       "    <tr>\n",
       "      <th>22</th>\n",
       "      <td>Georgia</td>\n",
       "      <td>90</td>\n",
       "      <td>30.4</td>\n",
       "      <td>557</td>\n",
       "      <td>27.3</td>\n",
       "      <td>7.474</td>\n",
       "      <td>8120</td>\n",
       "      <td>3807670</td>\n",
       "      <td>1745</td>\n",
       "      <td>1853143</td>\n",
       "      <td>79</td>\n",
       "      <td>15.70</td>\n",
       "      <td>0.30</td>\n",
       "      <td>505.05</td>\n",
       "      <td>99.70</td>\n",
       "    </tr>\n",
       "    <tr>\n",
       "      <th>23</th>\n",
       "      <td>Germany</td>\n",
       "      <td>29</td>\n",
       "      <td>79.5</td>\n",
       "      <td>4498</td>\n",
       "      <td>84.6</td>\n",
       "      <td>-0.305</td>\n",
       "      <td>52746</td>\n",
       "      <td>84552242</td>\n",
       "      <td>36954</td>\n",
       "      <td>44783712</td>\n",
       "      <td>7</td>\n",
       "      <td>3.29</td>\n",
       "      <td>2.00</td>\n",
       "      <td>2984.93</td>\n",
       "      <td>99.00</td>\n",
       "    </tr>\n",
       "    <tr>\n",
       "      <th>24</th>\n",
       "      <td>Greece</td>\n",
       "      <td>43</td>\n",
       "      <td>63.2</td>\n",
       "      <td>1882</td>\n",
       "      <td>44.5</td>\n",
       "      <td>2.011</td>\n",
       "      <td>22990</td>\n",
       "      <td>10047817</td>\n",
       "      <td>-122772</td>\n",
       "      <td>4645359</td>\n",
       "      <td>44</td>\n",
       "      <td>9.36</td>\n",
       "      <td>2.40</td>\n",
       "      <td>1012.20</td>\n",
       "      <td>95.29</td>\n",
       "    </tr>\n",
       "    <tr>\n",
       "      <th>25</th>\n",
       "      <td>Hungary</td>\n",
       "      <td>48</td>\n",
       "      <td>54.9</td>\n",
       "      <td>1652</td>\n",
       "      <td>44.9</td>\n",
       "      <td>-0.908</td>\n",
       "      <td>22147</td>\n",
       "      <td>9676135</td>\n",
       "      <td>16223</td>\n",
       "      <td>5005562</td>\n",
       "      <td>36</td>\n",
       "      <td>4.40</td>\n",
       "      <td>3.20</td>\n",
       "      <td>961.67</td>\n",
       "      <td>98.70</td>\n",
       "    </tr>\n",
       "    <tr>\n",
       "      <th>26</th>\n",
       "      <td>India</td>\n",
       "      <td>106</td>\n",
       "      <td>23.6</td>\n",
       "      <td>212</td>\n",
       "      <td>13.4</td>\n",
       "      <td>7.827</td>\n",
       "      <td>2485</td>\n",
       "      <td>1450935791</td>\n",
       "      <td>-630830</td>\n",
       "      <td>593729164</td>\n",
       "      <td>46</td>\n",
       "      <td>7.80</td>\n",
       "      <td>6.21</td>\n",
       "      <td>608.55</td>\n",
       "      <td>96.50</td>\n",
       "    </tr>\n",
       "    <tr>\n",
       "      <th>27</th>\n",
       "      <td>Indonesia</td>\n",
       "      <td>72</td>\n",
       "      <td>33.7</td>\n",
       "      <td>406</td>\n",
       "      <td>18.0</td>\n",
       "      <td>5.048</td>\n",
       "      <td>4940</td>\n",
       "      <td>283487931</td>\n",
       "      <td>-38469</td>\n",
       "      <td>140931083</td>\n",
       "      <td>85</td>\n",
       "      <td>5.20</td>\n",
       "      <td>1.71</td>\n",
       "      <td>315.65</td>\n",
       "      <td>99.80</td>\n",
       "    </tr>\n",
       "    <tr>\n",
       "      <th>28</th>\n",
       "      <td>Iraq</td>\n",
       "      <td>64</td>\n",
       "      <td>40.5</td>\n",
       "      <td>467</td>\n",
       "      <td>17.2</td>\n",
       "      <td>-2.176</td>\n",
       "      <td>5512</td>\n",
       "      <td>46042015</td>\n",
       "      <td>-17735</td>\n",
       "      <td>11811525</td>\n",
       "      <td>107</td>\n",
       "      <td>14.20</td>\n",
       "      <td>3.10</td>\n",
       "      <td>529.19</td>\n",
       "      <td>93.50</td>\n",
       "    </tr>\n",
       "    <tr>\n",
       "      <th>29</th>\n",
       "      <td>Ireland</td>\n",
       "      <td>11</td>\n",
       "      <td>102.7</td>\n",
       "      <td>6699</td>\n",
       "      <td>97.4</td>\n",
       "      <td>-3.199</td>\n",
       "      <td>103685</td>\n",
       "      <td>5255017</td>\n",
       "      <td>39059</td>\n",
       "      <td>2766155</td>\n",
       "      <td>14</td>\n",
       "      <td>4.38</td>\n",
       "      <td>0.70</td>\n",
       "      <td>3073.35</td>\n",
       "      <td>99.00</td>\n",
       "    </tr>\n",
       "    <tr>\n",
       "      <th>30</th>\n",
       "      <td>Israel</td>\n",
       "      <td>8</td>\n",
       "      <td>105.3</td>\n",
       "      <td>4585</td>\n",
       "      <td>65.1</td>\n",
       "      <td>2.003</td>\n",
       "      <td>52262</td>\n",
       "      <td>9387021</td>\n",
       "      <td>10612</td>\n",
       "      <td>4553808</td>\n",
       "      <td>20</td>\n",
       "      <td>3.70</td>\n",
       "      <td>3.50</td>\n",
       "      <td>2703.21</td>\n",
       "      <td>97.10</td>\n",
       "    </tr>\n",
       "    <tr>\n",
       "      <th>31</th>\n",
       "      <td>Italy</td>\n",
       "      <td>35</td>\n",
       "      <td>71.8</td>\n",
       "      <td>3183</td>\n",
       "      <td>66.3</td>\n",
       "      <td>0.921</td>\n",
       "      <td>38373</td>\n",
       "      <td>59342867</td>\n",
       "      <td>95246</td>\n",
       "      <td>25668665</td>\n",
       "      <td>25</td>\n",
       "      <td>7.83</td>\n",
       "      <td>0.90</td>\n",
       "      <td>1716.62</td>\n",
       "      <td>99.90</td>\n",
       "    </tr>\n",
       "    <tr>\n",
       "      <th>32</th>\n",
       "      <td>Japan</td>\n",
       "      <td>33</td>\n",
       "      <td>74.7</td>\n",
       "      <td>3253</td>\n",
       "      <td>65.0</td>\n",
       "      <td>1.923</td>\n",
       "      <td>33834</td>\n",
       "      <td>123753041</td>\n",
       "      <td>153357</td>\n",
       "      <td>69349452</td>\n",
       "      <td>19</td>\n",
       "      <td>2.50</td>\n",
       "      <td>2.50</td>\n",
       "      <td>2059.60</td>\n",
       "      <td>99.00</td>\n",
       "    </tr>\n",
       "    <tr>\n",
       "      <th>33</th>\n",
       "      <td>Kazakhstan</td>\n",
       "      <td>70</td>\n",
       "      <td>36.6</td>\n",
       "      <td>912</td>\n",
       "      <td>37.2</td>\n",
       "      <td>5.101</td>\n",
       "      <td>13137</td>\n",
       "      <td>20592571</td>\n",
       "      <td>-7368</td>\n",
       "      <td>9587167</td>\n",
       "      <td>68</td>\n",
       "      <td>4.78</td>\n",
       "      <td>8.50</td>\n",
       "      <td>568.13</td>\n",
       "      <td>99.90</td>\n",
       "    </tr>\n",
       "    <tr>\n",
       "      <th>34</th>\n",
       "      <td>Kenya</td>\n",
       "      <td>83</td>\n",
       "      <td>31.4</td>\n",
       "      <td>176</td>\n",
       "      <td>8.4</td>\n",
       "      <td>5.507</td>\n",
       "      <td>1950</td>\n",
       "      <td>56432944</td>\n",
       "      <td>-19781</td>\n",
       "      <td>25501846</td>\n",
       "      <td>117</td>\n",
       "      <td>5.70</td>\n",
       "      <td>2.70</td>\n",
       "      <td>360.47</td>\n",
       "      <td>89.00</td>\n",
       "    </tr>\n",
       "    <tr>\n",
       "      <th>35</th>\n",
       "      <td>Libya</td>\n",
       "      <td>104</td>\n",
       "      <td>24.4</td>\n",
       "      <td>631</td>\n",
       "      <td>38.7</td>\n",
       "      <td>10.156</td>\n",
       "      <td>7330</td>\n",
       "      <td>7381023</td>\n",
       "      <td>3448</td>\n",
       "      <td>2397855</td>\n",
       "      <td>122</td>\n",
       "      <td>19.60</td>\n",
       "      <td>2.70</td>\n",
       "      <td>326.36</td>\n",
       "      <td>91.12</td>\n",
       "    </tr>\n",
       "    <tr>\n",
       "      <th>36</th>\n",
       "      <td>Luxembourg</td>\n",
       "      <td>16</td>\n",
       "      <td>97.5</td>\n",
       "      <td>7364</td>\n",
       "      <td>112.9</td>\n",
       "      <td>-1.095</td>\n",
       "      <td>128259</td>\n",
       "      <td>673036</td>\n",
       "      <td>5677</td>\n",
       "      <td>351903</td>\n",
       "      <td>18</td>\n",
       "      <td>5.99</td>\n",
       "      <td>1.00</td>\n",
       "      <td>5686.45</td>\n",
       "      <td>100.00</td>\n",
       "    </tr>\n",
       "    <tr>\n",
       "      <th>37</th>\n",
       "      <td>Malaysia</td>\n",
       "      <td>82</td>\n",
       "      <td>32.2</td>\n",
       "      <td>998</td>\n",
       "      <td>46.4</td>\n",
       "      <td>3.680</td>\n",
       "      <td>11649</td>\n",
       "      <td>35557673</td>\n",
       "      <td>174770</td>\n",
       "      <td>17307639</td>\n",
       "      <td>32</td>\n",
       "      <td>3.52</td>\n",
       "      <td>1.80</td>\n",
       "      <td>922.50</td>\n",
       "      <td>96.00</td>\n",
       "    </tr>\n",
       "    <tr>\n",
       "      <th>38</th>\n",
       "      <td>Mexico</td>\n",
       "      <td>45</td>\n",
       "      <td>60.7</td>\n",
       "      <td>1008</td>\n",
       "      <td>24.8</td>\n",
       "      <td>3.229</td>\n",
       "      <td>13926</td>\n",
       "      <td>130861007</td>\n",
       "      <td>-104581</td>\n",
       "      <td>60042318</td>\n",
       "      <td>61</td>\n",
       "      <td>2.80</td>\n",
       "      <td>4.76</td>\n",
       "      <td>653.23</td>\n",
       "      <td>98.90</td>\n",
       "    </tr>\n",
       "    <tr>\n",
       "      <th>39</th>\n",
       "      <td>Morocco</td>\n",
       "      <td>63</td>\n",
       "      <td>40.6</td>\n",
       "      <td>308</td>\n",
       "      <td>11.3</td>\n",
       "      <td>3.017</td>\n",
       "      <td>3672</td>\n",
       "      <td>38081173</td>\n",
       "      <td>-46802</td>\n",
       "      <td>12284010</td>\n",
       "      <td>70</td>\n",
       "      <td>12.00</td>\n",
       "      <td>0.80</td>\n",
       "      <td>418.32</td>\n",
       "      <td>98.50</td>\n",
       "    </tr>\n",
       "    <tr>\n",
       "      <th>40</th>\n",
       "      <td>Nepal</td>\n",
       "      <td>99</td>\n",
       "      <td>26.3</td>\n",
       "      <td>114</td>\n",
       "      <td>6.5</td>\n",
       "      <td>0.832</td>\n",
       "      <td>1324</td>\n",
       "      <td>29651054</td>\n",
       "      <td>-401282</td>\n",
       "      <td>8937228</td>\n",
       "      <td>106</td>\n",
       "      <td>5.10</td>\n",
       "      <td>3.85</td>\n",
       "      <td>215.71</td>\n",
       "      <td>94.20</td>\n",
       "    </tr>\n",
       "    <tr>\n",
       "      <th>41</th>\n",
       "      <td>New Zealand</td>\n",
       "      <td>18</td>\n",
       "      <td>94.3</td>\n",
       "      <td>4051</td>\n",
       "      <td>64.2</td>\n",
       "      <td>0.633</td>\n",
       "      <td>48528</td>\n",
       "      <td>5213944</td>\n",
       "      <td>18766</td>\n",
       "      <td>3068205</td>\n",
       "      <td>23</td>\n",
       "      <td>5.04</td>\n",
       "      <td>2.20</td>\n",
       "      <td>2962.58</td>\n",
       "      <td>99.00</td>\n",
       "    </tr>\n",
       "    <tr>\n",
       "      <th>42</th>\n",
       "      <td>Nigeria</td>\n",
       "      <td>79</td>\n",
       "      <td>32.4</td>\n",
       "      <td>161</td>\n",
       "      <td>7.4</td>\n",
       "      <td>2.860</td>\n",
       "      <td>1621</td>\n",
       "      <td>232679478</td>\n",
       "      <td>-35202</td>\n",
       "      <td>75721345</td>\n",
       "      <td>119</td>\n",
       "      <td>4.10</td>\n",
       "      <td>32.70</td>\n",
       "      <td>148.16</td>\n",
       "      <td>75.00</td>\n",
       "    </tr>\n",
       "    <tr>\n",
       "      <th>43</th>\n",
       "      <td>Norway</td>\n",
       "      <td>20</td>\n",
       "      <td>90.8</td>\n",
       "      <td>8538</td>\n",
       "      <td>140.6</td>\n",
       "      <td>0.514</td>\n",
       "      <td>87962</td>\n",
       "      <td>5576660</td>\n",
       "      <td>44356</td>\n",
       "      <td>3009339</td>\n",
       "      <td>13</td>\n",
       "      <td>3.80</td>\n",
       "      <td>2.60</td>\n",
       "      <td>3286.54</td>\n",
       "      <td>100.00</td>\n",
       "    </tr>\n",
       "    <tr>\n",
       "      <th>44</th>\n",
       "      <td>Pakistan</td>\n",
       "      <td>108</td>\n",
       "      <td>21.3</td>\n",
       "      <td>125</td>\n",
       "      <td>8.8</td>\n",
       "      <td>-0.166</td>\n",
       "      <td>1407</td>\n",
       "      <td>251269164</td>\n",
       "      <td>-1401173</td>\n",
       "      <td>80989797</td>\n",
       "      <td>125</td>\n",
       "      <td>8.00</td>\n",
       "      <td>7.20</td>\n",
       "      <td>182.06</td>\n",
       "      <td>72.70</td>\n",
       "    </tr>\n",
       "    <tr>\n",
       "      <th>45</th>\n",
       "      <td>Philippines</td>\n",
       "      <td>67</td>\n",
       "      <td>37.2</td>\n",
       "      <td>353</td>\n",
       "      <td>14.2</td>\n",
       "      <td>5.568</td>\n",
       "      <td>3726</td>\n",
       "      <td>115843670</td>\n",
       "      <td>-160373</td>\n",
       "      <td>49477060</td>\n",
       "      <td>54</td>\n",
       "      <td>4.50</td>\n",
       "      <td>2.30</td>\n",
       "      <td>378.58</td>\n",
       "      <td>99.20</td>\n",
       "    </tr>\n",
       "    <tr>\n",
       "      <th>46</th>\n",
       "      <td>Poland</td>\n",
       "      <td>56</td>\n",
       "      <td>47.8</td>\n",
       "      <td>1644</td>\n",
       "      <td>51.4</td>\n",
       "      <td>0.160</td>\n",
       "      <td>22113</td>\n",
       "      <td>38539201</td>\n",
       "      <td>-238062</td>\n",
       "      <td>18387400</td>\n",
       "      <td>27</td>\n",
       "      <td>2.93</td>\n",
       "      <td>5.00</td>\n",
       "      <td>1439.95</td>\n",
       "      <td>99.90</td>\n",
       "    </tr>\n",
       "    <tr>\n",
       "      <th>47</th>\n",
       "      <td>Portugal</td>\n",
       "      <td>42</td>\n",
       "      <td>63.5</td>\n",
       "      <td>2189</td>\n",
       "      <td>51.6</td>\n",
       "      <td>2.280</td>\n",
       "      <td>27275</td>\n",
       "      <td>10425292</td>\n",
       "      <td>20648</td>\n",
       "      <td>5418819</td>\n",
       "      <td>33</td>\n",
       "      <td>6.48</td>\n",
       "      <td>2.30</td>\n",
       "      <td>1105.82</td>\n",
       "      <td>99.70</td>\n",
       "    </tr>\n",
       "    <tr>\n",
       "      <th>48</th>\n",
       "      <td>Qatar</td>\n",
       "      <td>31</td>\n",
       "      <td>76.9</td>\n",
       "      <td>5839</td>\n",
       "      <td>113.5</td>\n",
       "      <td>1.558</td>\n",
       "      <td>87480</td>\n",
       "      <td>3048423</td>\n",
       "      <td>46105</td>\n",
       "      <td>2035269</td>\n",
       "      <td>67</td>\n",
       "      <td>0.30</td>\n",
       "      <td>0.82</td>\n",
       "      <td>4086.40</td>\n",
       "      <td>98.70</td>\n",
       "    </tr>\n",
       "    <tr>\n",
       "      <th>49</th>\n",
       "      <td>Romania</td>\n",
       "      <td>59</td>\n",
       "      <td>43.6</td>\n",
       "      <td>1389</td>\n",
       "      <td>47.6</td>\n",
       "      <td>2.110</td>\n",
       "      <td>18419</td>\n",
       "      <td>19015088</td>\n",
       "      <td>-28466</td>\n",
       "      <td>8282417</td>\n",
       "      <td>45</td>\n",
       "      <td>5.60</td>\n",
       "      <td>4.70</td>\n",
       "      <td>919.76</td>\n",
       "      <td>99.90</td>\n",
       "    </tr>\n",
       "    <tr>\n",
       "      <th>50</th>\n",
       "      <td>Saudi Arabia</td>\n",
       "      <td>50</td>\n",
       "      <td>50.8</td>\n",
       "      <td>2391</td>\n",
       "      <td>70.4</td>\n",
       "      <td>-0.755</td>\n",
       "      <td>28895</td>\n",
       "      <td>33962757</td>\n",
       "      <td>122170</td>\n",
       "      <td>16933906</td>\n",
       "      <td>47</td>\n",
       "      <td>4.80</td>\n",
       "      <td>1.70</td>\n",
       "      <td>2198.45</td>\n",
       "      <td>99.50</td>\n",
       "    </tr>\n",
       "    <tr>\n",
       "      <th>51</th>\n",
       "      <td>Serbia</td>\n",
       "      <td>53</td>\n",
       "      <td>49.1</td>\n",
       "      <td>836</td>\n",
       "      <td>25.5</td>\n",
       "      <td>2.528</td>\n",
       "      <td>11361</td>\n",
       "      <td>6736216</td>\n",
       "      <td>-8132</td>\n",
       "      <td>3333428</td>\n",
       "      <td>50</td>\n",
       "      <td>9.40</td>\n",
       "      <td>4.50</td>\n",
       "      <td>776.48</td>\n",
       "      <td>100.00</td>\n",
       "    </tr>\n",
       "    <tr>\n",
       "      <th>52</th>\n",
       "      <td>Singapore</td>\n",
       "      <td>30</td>\n",
       "      <td>78.0</td>\n",
       "      <td>5883</td>\n",
       "      <td>112.7</td>\n",
       "      <td>1.075</td>\n",
       "      <td>84734</td>\n",
       "      <td>5832387</td>\n",
       "      <td>20011</td>\n",
       "      <td>3619025</td>\n",
       "      <td>3</td>\n",
       "      <td>1.90</td>\n",
       "      <td>2.00</td>\n",
       "      <td>4293.54</td>\n",
       "      <td>99.90</td>\n",
       "    </tr>\n",
       "    <tr>\n",
       "      <th>53</th>\n",
       "      <td>South Africa</td>\n",
       "      <td>62</td>\n",
       "      <td>41.2</td>\n",
       "      <td>563</td>\n",
       "      <td>20.4</td>\n",
       "      <td>0.602</td>\n",
       "      <td>6253</td>\n",
       "      <td>64007187</td>\n",
       "      <td>166972</td>\n",
       "      <td>25158403</td>\n",
       "      <td>56</td>\n",
       "      <td>33.50</td>\n",
       "      <td>3.80</td>\n",
       "      <td>1387.56</td>\n",
       "      <td>96.70</td>\n",
       "    </tr>\n",
       "    <tr>\n",
       "      <th>54</th>\n",
       "      <td>Spain</td>\n",
       "      <td>38</td>\n",
       "      <td>67.3</td>\n",
       "      <td>2682</td>\n",
       "      <td>59.6</td>\n",
       "      <td>2.501</td>\n",
       "      <td>32677</td>\n",
       "      <td>47910526</td>\n",
       "      <td>111674</td>\n",
       "      <td>24107955</td>\n",
       "      <td>21</td>\n",
       "      <td>12.29</td>\n",
       "      <td>1.80</td>\n",
       "      <td>1851.82</td>\n",
       "      <td>99.60</td>\n",
       "    </tr>\n",
       "    <tr>\n",
       "      <th>55</th>\n",
       "      <td>Sri Lanka</td>\n",
       "      <td>97</td>\n",
       "      <td>27.5</td>\n",
       "      <td>295</td>\n",
       "      <td>16.0</td>\n",
       "      <td>NaN</td>\n",
       "      <td>3828</td>\n",
       "      <td>23103565</td>\n",
       "      <td>-27245</td>\n",
       "      <td>8707414</td>\n",
       "      <td>89</td>\n",
       "      <td>4.30</td>\n",
       "      <td>-0.80</td>\n",
       "      <td>206.76</td>\n",
       "      <td>98.80</td>\n",
       "    </tr>\n",
       "    <tr>\n",
       "      <th>56</th>\n",
       "      <td>Sweden</td>\n",
       "      <td>26</td>\n",
       "      <td>82.4</td>\n",
       "      <td>5138</td>\n",
       "      <td>93.2</td>\n",
       "      <td>-0.196</td>\n",
       "      <td>56305</td>\n",
       "      <td>10606999</td>\n",
       "      <td>50115</td>\n",
       "      <td>5825253</td>\n",
       "      <td>2</td>\n",
       "      <td>8.36</td>\n",
       "      <td>1.60</td>\n",
       "      <td>2807.55</td>\n",
       "      <td>99.00</td>\n",
       "    </tr>\n",
       "    <tr>\n",
       "      <th>57</th>\n",
       "      <td>Thailand</td>\n",
       "      <td>81</td>\n",
       "      <td>32.2</td>\n",
       "      <td>598</td>\n",
       "      <td>27.8</td>\n",
       "      <td>1.872</td>\n",
       "      <td>7172</td>\n",
       "      <td>71668011</td>\n",
       "      <td>23321</td>\n",
       "      <td>40813511</td>\n",
       "      <td>49</td>\n",
       "      <td>1.10</td>\n",
       "      <td>0.83</td>\n",
       "      <td>584.14</td>\n",
       "      <td>98.80</td>\n",
       "    </tr>\n",
       "    <tr>\n",
       "      <th>58</th>\n",
       "      <td>Tunisia</td>\n",
       "      <td>93</td>\n",
       "      <td>29.6</td>\n",
       "      <td>314</td>\n",
       "      <td>15.8</td>\n",
       "      <td>0.425</td>\n",
       "      <td>3895</td>\n",
       "      <td>12277109</td>\n",
       "      <td>-15221</td>\n",
       "      <td>4445313</td>\n",
       "      <td>66</td>\n",
       "      <td>16.10</td>\n",
       "      <td>6.70</td>\n",
       "      <td>291.18</td>\n",
       "      <td>96.80</td>\n",
       "    </tr>\n",
       "    <tr>\n",
       "      <th>59</th>\n",
       "      <td>United Arab Emirates</td>\n",
       "      <td>34</td>\n",
       "      <td>72.1</td>\n",
       "      <td>4441</td>\n",
       "      <td>92.1</td>\n",
       "      <td>3.404</td>\n",
       "      <td>52977</td>\n",
       "      <td>11027129</td>\n",
       "      <td>278439</td>\n",
       "      <td>6668172</td>\n",
       "      <td>37</td>\n",
       "      <td>3.40</td>\n",
       "      <td>2.50</td>\n",
       "      <td>3300.22</td>\n",
       "      <td>99.70</td>\n",
       "    </tr>\n",
       "    <tr>\n",
       "      <th>60</th>\n",
       "      <td>United Kingdom</td>\n",
       "      <td>19</td>\n",
       "      <td>92.9</td>\n",
       "      <td>3983</td>\n",
       "      <td>64.1</td>\n",
       "      <td>0.145</td>\n",
       "      <td>48867</td>\n",
       "      <td>69138192</td>\n",
       "      <td>417114</td>\n",
       "      <td>35275169</td>\n",
       "      <td>17</td>\n",
       "      <td>4.15</td>\n",
       "      <td>1.70</td>\n",
       "      <td>3105.98</td>\n",
       "      <td>99.76</td>\n",
       "    </tr>\n",
       "  </tbody>\n",
       "</table>\n",
       "</div>"
      ],
      "text/plain": [
       "                 Country  cost of living.Rank  cost of living.Cost index  \\\n",
       "0                Albania                   55                       47.9   \n",
       "1                Algeria                   89                       30.7   \n",
       "2              Australia                   17                       96.4   \n",
       "3                Austria                   27                       80.9   \n",
       "4             Azerbaijan                   84                       31.3   \n",
       "5             Bangladesh                   95                       28.5   \n",
       "6                Belarus                   94                       29.3   \n",
       "7                Belgium                   25                       83.7   \n",
       "8                 Brazil                   51                       49.8   \n",
       "9               Bulgaria                   60                       43.3   \n",
       "10                Canada                   21                       90.7   \n",
       "11                 Chile                   46                       58.5   \n",
       "12                 China                   49                       51.5   \n",
       "13              Colombia                   68                       36.9   \n",
       "14            Costa Rica                   39                       67.2   \n",
       "15               Croatia                   47                       55.0   \n",
       "16               Denmark                   10                      103.9   \n",
       "17               Ecuador                   57                       45.6   \n",
       "18           El Salvador                   54                       49.0   \n",
       "19               Estonia                   37                       71.0   \n",
       "20               Finland                   22                       90.2   \n",
       "21                France                   28                       79.8   \n",
       "22               Georgia                   90                       30.4   \n",
       "23               Germany                   29                       79.5   \n",
       "24                Greece                   43                       63.2   \n",
       "25               Hungary                   48                       54.9   \n",
       "26                 India                  106                       23.6   \n",
       "27             Indonesia                   72                       33.7   \n",
       "28                  Iraq                   64                       40.5   \n",
       "29               Ireland                   11                      102.7   \n",
       "30                Israel                    8                      105.3   \n",
       "31                 Italy                   35                       71.8   \n",
       "32                 Japan                   33                       74.7   \n",
       "33            Kazakhstan                   70                       36.6   \n",
       "34                 Kenya                   83                       31.4   \n",
       "35                 Libya                  104                       24.4   \n",
       "36            Luxembourg                   16                       97.5   \n",
       "37              Malaysia                   82                       32.2   \n",
       "38                Mexico                   45                       60.7   \n",
       "39               Morocco                   63                       40.6   \n",
       "40                 Nepal                   99                       26.3   \n",
       "41           New Zealand                   18                       94.3   \n",
       "42               Nigeria                   79                       32.4   \n",
       "43                Norway                   20                       90.8   \n",
       "44              Pakistan                  108                       21.3   \n",
       "45           Philippines                   67                       37.2   \n",
       "46                Poland                   56                       47.8   \n",
       "47              Portugal                   42                       63.5   \n",
       "48                 Qatar                   31                       76.9   \n",
       "49               Romania                   59                       43.6   \n",
       "50          Saudi Arabia                   50                       50.8   \n",
       "51                Serbia                   53                       49.1   \n",
       "52             Singapore                   30                       78.0   \n",
       "53          South Africa                   62                       41.2   \n",
       "54                 Spain                   38                       67.3   \n",
       "55             Sri Lanka                   97                       27.5   \n",
       "56                Sweden                   26                       82.4   \n",
       "57              Thailand                   81                       32.2   \n",
       "58               Tunisia                   93                       29.6   \n",
       "59  United Arab Emirates                   34                       72.1   \n",
       "60        United Kingdom                   19                       92.9   \n",
       "\n",
       "    cost of living.Monthly income (USD)  \\\n",
       "0                                   631   \n",
       "1                                   413   \n",
       "2                                  5262   \n",
       "3                                  4589   \n",
       "4                                   557   \n",
       "5                                   238   \n",
       "6                                   648   \n",
       "7                                  4544   \n",
       "8                                   756   \n",
       "9                                  1205   \n",
       "10                                 4494   \n",
       "11                                 1318   \n",
       "12                                 1117   \n",
       "13                                  573   \n",
       "14                                 1154   \n",
       "15                                 1723   \n",
       "16                                 6113   \n",
       "17                                  543   \n",
       "18                                  410   \n",
       "19                                 2270   \n",
       "20                                 4449   \n",
       "21                                 3756   \n",
       "22                                  557   \n",
       "23                                 4498   \n",
       "24                                 1882   \n",
       "25                                 1652   \n",
       "26                                  212   \n",
       "27                                  406   \n",
       "28                                  467   \n",
       "29                                 6699   \n",
       "30                                 4585   \n",
       "31                                 3183   \n",
       "32                                 3253   \n",
       "33                                  912   \n",
       "34                                  176   \n",
       "35                                  631   \n",
       "36                                 7364   \n",
       "37                                  998   \n",
       "38                                 1008   \n",
       "39                                  308   \n",
       "40                                  114   \n",
       "41                                 4051   \n",
       "42                                  161   \n",
       "43                                 8538   \n",
       "44                                  125   \n",
       "45                                  353   \n",
       "46                                 1644   \n",
       "47                                 2189   \n",
       "48                                 5839   \n",
       "49                                 1389   \n",
       "50                                 2391   \n",
       "51                                  836   \n",
       "52                                 5883   \n",
       "53                                  563   \n",
       "54                                 2682   \n",
       "55                                  295   \n",
       "56                                 5138   \n",
       "57                                  598   \n",
       "58                                  314   \n",
       "59                                 4441   \n",
       "60                                 3983   \n",
       "\n",
       "    cost of living.Purchasing power index  currency rate.2023  \\\n",
       "0                                    19.7               3.297   \n",
       "1                                    20.1               4.184   \n",
       "2                                    81.6               2.063   \n",
       "3                                    84.8              -0.746   \n",
       "4                                    26.6               1.100   \n",
       "5                                    12.5               6.025   \n",
       "6                                    33.0               3.882   \n",
       "7                                    81.1               1.461   \n",
       "8                                    22.7               2.908   \n",
       "9                                    41.6               1.846   \n",
       "10                                   74.1               1.066   \n",
       "11                                   33.7               0.219   \n",
       "12                                   32.4               5.240   \n",
       "13                                   23.2               0.612   \n",
       "14                                   25.7               5.112   \n",
       "15                                   46.8               2.831   \n",
       "16                                   87.9               1.813   \n",
       "17                                   17.8               2.284   \n",
       "18                                   12.5               3.498   \n",
       "19                                   47.8              -3.006   \n",
       "20                                   73.7              -0.957   \n",
       "21                                   70.4               0.869   \n",
       "22                                   27.3               7.474   \n",
       "23                                   84.6              -0.305   \n",
       "24                                   44.5               2.011   \n",
       "25                                   44.9              -0.908   \n",
       "26                                   13.4               7.827   \n",
       "27                                   18.0               5.048   \n",
       "28                                   17.2              -2.176   \n",
       "29                                   97.4              -3.199   \n",
       "30                                   65.1               2.003   \n",
       "31                                   66.3               0.921   \n",
       "32                                   65.0               1.923   \n",
       "33                                   37.2               5.101   \n",
       "34                                    8.4               5.507   \n",
       "35                                   38.7              10.156   \n",
       "36                                  112.9              -1.095   \n",
       "37                                   46.4               3.680   \n",
       "38                                   24.8               3.229   \n",
       "39                                   11.3               3.017   \n",
       "40                                    6.5               0.832   \n",
       "41                                   64.2               0.633   \n",
       "42                                    7.4               2.860   \n",
       "43                                  140.6               0.514   \n",
       "44                                    8.8              -0.166   \n",
       "45                                   14.2               5.568   \n",
       "46                                   51.4               0.160   \n",
       "47                                   51.6               2.280   \n",
       "48                                  113.5               1.558   \n",
       "49                                   47.6               2.110   \n",
       "50                                   70.4              -0.755   \n",
       "51                                   25.5               2.528   \n",
       "52                                  112.7               1.075   \n",
       "53                                   20.4               0.602   \n",
       "54                                   59.6               2.501   \n",
       "55                                   16.0                 NaN   \n",
       "56                                   93.2              -0.196   \n",
       "57                                   27.8               1.872   \n",
       "58                                   15.8               0.425   \n",
       "59                                   92.1               3.404   \n",
       "60                                   64.1               0.145   \n",
       "\n",
       "    GDP (in USD) per capita by country, territory, non-sovereign state or non-IMF .1  \\\n",
       "0                                                8368                                  \n",
       "1                                                5260                                  \n",
       "2                                               64712                                  \n",
       "3                                               56506                                  \n",
       "4                                                7155                                  \n",
       "5                                                2529                                  \n",
       "6                                                7829                                  \n",
       "7                                               53475                                  \n",
       "8                                               10044                                  \n",
       "9                                               15798                                  \n",
       "10                                              53372                                  \n",
       "11                                              17093                                  \n",
       "12                                              12614                                  \n",
       "13                                               6980                                  \n",
       "14                                              16595                                  \n",
       "15                                              21460                                  \n",
       "16                                              67967                                  \n",
       "17                                               6533                                  \n",
       "18                                               5344                                  \n",
       "19                                              29824                                  \n",
       "20                                              53756                                  \n",
       "21                                              44461                                  \n",
       "22                                               8120                                  \n",
       "23                                              52746                                  \n",
       "24                                              22990                                  \n",
       "25                                              22147                                  \n",
       "26                                               2485                                  \n",
       "27                                               4940                                  \n",
       "28                                               5512                                  \n",
       "29                                             103685                                  \n",
       "30                                              52262                                  \n",
       "31                                              38373                                  \n",
       "32                                              33834                                  \n",
       "33                                              13137                                  \n",
       "34                                               1950                                  \n",
       "35                                               7330                                  \n",
       "36                                             128259                                  \n",
       "37                                              11649                                  \n",
       "38                                              13926                                  \n",
       "39                                               3672                                  \n",
       "40                                               1324                                  \n",
       "41                                              48528                                  \n",
       "42                                               1621                                  \n",
       "43                                              87962                                  \n",
       "44                                               1407                                  \n",
       "45                                               3726                                  \n",
       "46                                              22113                                  \n",
       "47                                              27275                                  \n",
       "48                                              87480                                  \n",
       "49                                              18419                                  \n",
       "50                                              28895                                  \n",
       "51                                              11361                                  \n",
       "52                                              84734                                  \n",
       "53                                               6253                                  \n",
       "54                                              32677                                  \n",
       "55                                               3828                                  \n",
       "56                                              56305                                  \n",
       "57                                               7172                                  \n",
       "58                                               3895                                  \n",
       "59                                              52977                                  \n",
       "60                                              48867                                  \n",
       "\n",
       "    population.Population (2023)  population.Migrants (net)  \\\n",
       "0                        2791765                     -24472   \n",
       "1                       46814308                     -31240   \n",
       "2                       26713205                     138510   \n",
       "3                        9120813                       8813   \n",
       "4                       10336577                      10864   \n",
       "5                      173562364                    -473362   \n",
       "6                        9056696                      -3119   \n",
       "7                       11738763                      36243   \n",
       "8                      211998573                    -225510   \n",
       "9                        6757689                        524   \n",
       "10                      39742430                     368599   \n",
       "11                      19764771                      58316   \n",
       "12                    1419321278                    -318992   \n",
       "13                      52886363                     141643   \n",
       "14                       5129910                        967   \n",
       "15                       3875325                      -5186   \n",
       "16                       5977412                      25639   \n",
       "17                      18135478                     -19704   \n",
       "18                       6338193                     -23102   \n",
       "19                       1360546                      -7742   \n",
       "20                       5617310                      26894   \n",
       "21                      66548530                      90527   \n",
       "22                       3807670                       1745   \n",
       "23                      84552242                      36954   \n",
       "24                      10047817                    -122772   \n",
       "25                       9676135                      16223   \n",
       "26                    1450935791                    -630830   \n",
       "27                     283487931                     -38469   \n",
       "28                      46042015                     -17735   \n",
       "29                       5255017                      39059   \n",
       "30                       9387021                      10612   \n",
       "31                      59342867                      95246   \n",
       "32                     123753041                     153357   \n",
       "33                      20592571                      -7368   \n",
       "34                      56432944                     -19781   \n",
       "35                       7381023                       3448   \n",
       "36                        673036                       5677   \n",
       "37                      35557673                     174770   \n",
       "38                     130861007                    -104581   \n",
       "39                      38081173                     -46802   \n",
       "40                      29651054                    -401282   \n",
       "41                       5213944                      18766   \n",
       "42                     232679478                     -35202   \n",
       "43                       5576660                      44356   \n",
       "44                     251269164                   -1401173   \n",
       "45                     115843670                    -160373   \n",
       "46                      38539201                    -238062   \n",
       "47                      10425292                      20648   \n",
       "48                       3048423                      46105   \n",
       "49                      19015088                     -28466   \n",
       "50                      33962757                     122170   \n",
       "51                       6736216                      -8132   \n",
       "52                       5832387                      20011   \n",
       "53                      64007187                     166972   \n",
       "54                      47910526                     111674   \n",
       "55                      23103565                     -27245   \n",
       "56                      10606999                      50115   \n",
       "57                      71668011                      23321   \n",
       "58                      12277109                     -15221   \n",
       "59                      11027129                     278439   \n",
       "60                      69138192                     417114   \n",
       "\n",
       "    Skilled force.2023  technology.2023 rank  \\\n",
       "0              1387831                    88   \n",
       "1             13425064                    97   \n",
       "2             14501414                    12   \n",
       "3              4825387                    24   \n",
       "4              5473196                    96   \n",
       "5             74913612                   126   \n",
       "6              4956149                    55   \n",
       "7              5432007                    10   \n",
       "8            108695239                    40   \n",
       "9              3102757                    43   \n",
       "10            22110473                    11   \n",
       "11             9847754                    48   \n",
       "12           779245529                    35   \n",
       "13            26003385                    72   \n",
       "14             2407610                    57   \n",
       "15             1744221                    42   \n",
       "16             3179505                    16   \n",
       "17             8893065                    90   \n",
       "18             2870401                   102   \n",
       "19              752419                    29   \n",
       "20             2879817                     8   \n",
       "21            31825317                    15   \n",
       "22             1853143                    79   \n",
       "23            44783712                     7   \n",
       "24             4645359                    44   \n",
       "25             5005562                    36   \n",
       "26           593729164                    46   \n",
       "27           140931083                    85   \n",
       "28            11811525                   107   \n",
       "29             2766155                    14   \n",
       "30             4553808                    20   \n",
       "31            25668665                    25   \n",
       "32            69349452                    19   \n",
       "33             9587167                    68   \n",
       "34            25501846                   117   \n",
       "35             2397855                   122   \n",
       "36              351903                    18   \n",
       "37            17307639                    32   \n",
       "38            60042318                    61   \n",
       "39            12284010                    70   \n",
       "40             8937228                   106   \n",
       "41             3068205                    23   \n",
       "42            75721345                   119   \n",
       "43             3009339                    13   \n",
       "44            80989797                   125   \n",
       "45            49477060                    54   \n",
       "46            18387400                    27   \n",
       "47             5418819                    33   \n",
       "48             2035269                    67   \n",
       "49             8282417                    45   \n",
       "50            16933906                    47   \n",
       "51             3333428                    50   \n",
       "52             3619025                     3   \n",
       "53            25158403                    56   \n",
       "54            24107955                    21   \n",
       "55             8707414                    89   \n",
       "56             5825253                     2   \n",
       "57            40813511                    49   \n",
       "58             4445313                    66   \n",
       "59             6668172                    37   \n",
       "60            35275169                    17   \n",
       "\n",
       "    Unemployement rate.Unemploymentrate (%)  inflation.Inflation  \\\n",
       "0                                     11.00                 1.90   \n",
       "1                                     12.70                 4.56   \n",
       "2                                      4.21                 2.80   \n",
       "3                                      5.40                 1.80   \n",
       "4                                      5.52                 3.50   \n",
       "5                                      5.20                 9.92   \n",
       "6                                      3.04                 6.00   \n",
       "7                                      5.51                 3.20   \n",
       "8                                      7.50                 4.76   \n",
       "9                                      4.30                 1.20   \n",
       "10                                     6.32                 1.60   \n",
       "11                                     8.71                 4.70   \n",
       "12                                     5.10                 0.30   \n",
       "13                                     9.87                 5.41   \n",
       "14                                     8.29                -0.79   \n",
       "15                                     5.77                 2.20   \n",
       "16                                     4.89                 1.60   \n",
       "17                                     4.20                 1.36   \n",
       "18                                     5.50                -0.07   \n",
       "19                                     8.06                 4.10   \n",
       "20                                     7.60                 0.80   \n",
       "21                                     7.36                 1.20   \n",
       "22                                    15.70                 0.30   \n",
       "23                                     3.29                 2.00   \n",
       "24                                     9.36                 2.40   \n",
       "25                                     4.40                 3.20   \n",
       "26                                     7.80                 6.21   \n",
       "27                                     5.20                 1.71   \n",
       "28                                    14.20                 3.10   \n",
       "29                                     4.38                 0.70   \n",
       "30                                     3.70                 3.50   \n",
       "31                                     7.83                 0.90   \n",
       "32                                     2.50                 2.50   \n",
       "33                                     4.78                 8.50   \n",
       "34                                     5.70                 2.70   \n",
       "35                                    19.60                 2.70   \n",
       "36                                     5.99                 1.00   \n",
       "37                                     3.52                 1.80   \n",
       "38                                     2.80                 4.76   \n",
       "39                                    12.00                 0.80   \n",
       "40                                     5.10                 3.85   \n",
       "41                                     5.04                 2.20   \n",
       "42                                     4.10                32.70   \n",
       "43                                     3.80                 2.60   \n",
       "44                                     8.00                 7.20   \n",
       "45                                     4.50                 2.30   \n",
       "46                                     2.93                 5.00   \n",
       "47                                     6.48                 2.30   \n",
       "48                                     0.30                 0.82   \n",
       "49                                     5.60                 4.70   \n",
       "50                                     4.80                 1.70   \n",
       "51                                     9.40                 4.50   \n",
       "52                                     1.90                 2.00   \n",
       "53                                    33.50                 3.80   \n",
       "54                                    12.29                 1.80   \n",
       "55                                     4.30                -0.80   \n",
       "56                                     8.36                 1.60   \n",
       "57                                     1.10                 0.83   \n",
       "58                                    16.10                 6.70   \n",
       "59                                     3.40                 2.50   \n",
       "60                                     4.15                 1.70   \n",
       "\n",
       "    Monthly salary+Tax(USD)  Literacy rate  \n",
       "0                    634.13          99.50  \n",
       "1                    228.37          74.00  \n",
       "2                   3678.75          99.00  \n",
       "3                   2579.59          98.00  \n",
       "4                    456.50          99.90  \n",
       "5                    239.43          94.80  \n",
       "6                    522.44          99.90  \n",
       "7                   2563.22          99.00  \n",
       "8                    414.62          99.30  \n",
       "9                   1011.33          98.10  \n",
       "10                  2818.53          99.00  \n",
       "11                   670.31          99.30  \n",
       "12                   938.91          99.80  \n",
       "13                   350.64          98.90  \n",
       "14                   964.67          99.50  \n",
       "15                  1361.96          99.80  \n",
       "16                  3596.29          99.00  \n",
       "17                   495.25          96.40  \n",
       "18                   501.07          98.30  \n",
       "19                  1525.26         100.00  \n",
       "20                  2818.03          99.00  \n",
       "21                  2486.51          99.00  \n",
       "22                   505.05          99.70  \n",
       "23                  2984.93          99.00  \n",
       "24                  1012.20          95.29  \n",
       "25                   961.67          98.70  \n",
       "26                   608.55          96.50  \n",
       "27                   315.65          99.80  \n",
       "28                   529.19          93.50  \n",
       "29                  3073.35          99.00  \n",
       "30                  2703.21          97.10  \n",
       "31                  1716.62          99.90  \n",
       "32                  2059.60          99.00  \n",
       "33                   568.13          99.90  \n",
       "34                   360.47          89.00  \n",
       "35                   326.36          91.12  \n",
       "36                  5686.45         100.00  \n",
       "37                   922.50          96.00  \n",
       "38                   653.23          98.90  \n",
       "39                   418.32          98.50  \n",
       "40                   215.71          94.20  \n",
       "41                  2962.58          99.00  \n",
       "42                   148.16          75.00  \n",
       "43                  3286.54         100.00  \n",
       "44                   182.06          72.70  \n",
       "45                   378.58          99.20  \n",
       "46                  1439.95          99.90  \n",
       "47                  1105.82          99.70  \n",
       "48                  4086.40          98.70  \n",
       "49                   919.76          99.90  \n",
       "50                  2198.45          99.50  \n",
       "51                   776.48         100.00  \n",
       "52                  4293.54          99.90  \n",
       "53                  1387.56          96.70  \n",
       "54                  1851.82          99.60  \n",
       "55                   206.76          98.80  \n",
       "56                  2807.55          99.00  \n",
       "57                   584.14          98.80  \n",
       "58                   291.18          96.80  \n",
       "59                  3300.22          99.70  \n",
       "60                  3105.98          99.76  "
      ]
     },
     "execution_count": 1386,
     "metadata": {},
     "output_type": "execute_result"
    }
   ],
   "source": [
    "new"
   ]
  },
  {
   "cell_type": "code",
   "execution_count": 1387,
   "id": "63f3ad50-021e-4f68-87bf-7eeafa8601f6",
   "metadata": {
    "jupyter": {
     "source_hidden": true
    }
   },
   "outputs": [
    {
     "name": "stdout",
     "output_type": "stream",
     "text": [
      "<class 'pandas.core.frame.DataFrame'>\n",
      "RangeIndex: 61 entries, 0 to 60\n",
      "Data columns (total 15 columns):\n",
      " #   Column                                                                            Non-Null Count  Dtype  \n",
      "---  ------                                                                            --------------  -----  \n",
      " 0   Country                                                                           61 non-null     object \n",
      " 1   cost of living.Rank                                                               61 non-null     int64  \n",
      " 2   cost of living.Cost index                                                         61 non-null     float64\n",
      " 3   cost of living.Monthly income (USD)                                               61 non-null     int64  \n",
      " 4   cost of living.Purchasing power index                                             61 non-null     float64\n",
      " 5   currency rate.2023                                                                60 non-null     float64\n",
      " 6   GDP (in USD) per capita by country, territory, non-sovereign state or non-IMF .1  61 non-null     int64  \n",
      " 7   population.Population (2023)                                                      61 non-null     int64  \n",
      " 8   population.Migrants (net)                                                         61 non-null     int64  \n",
      " 9   Skilled force.2023                                                                61 non-null     int64  \n",
      " 10  technology.2023 rank                                                              61 non-null     int64  \n",
      " 11  Unemployement rate.Unemploymentrate (%)                                           61 non-null     float64\n",
      " 12  inflation.Inflation                                                               61 non-null     float64\n",
      " 13  Monthly salary+Tax(USD)                                                           61 non-null     float64\n",
      " 14  Literacy rate                                                                     61 non-null     float64\n",
      "dtypes: float64(7), int64(7), object(1)\n",
      "memory usage: 7.3+ KB\n"
     ]
    }
   ],
   "source": [
    "new.info()\n"
   ]
  },
  {
   "cell_type": "code",
   "execution_count": 1388,
   "id": "1ce9173a-a3b5-4680-8278-72059c45aadc",
   "metadata": {},
   "outputs": [],
   "source": [
    "rename_col={'cost of living.Rank':'cost of living','cost of living.Cost index': 'cost index','cost of living.Monthly income':'Monthly income($)','cost of living.Purchasing power index':'Purchasing Power Index','currency rate.2023':'currency rate','GDP (in USD) per capita by country, territory, non-sovereign state or non-IMF .1':'Gdp','population.Population (2023)':'population', ' population.Migrants (net)':'migrants','Skilled force.2023':'Skilled force',' technology.2023 rank':'technology','Unemployement rate.Unemploymentrate (%)':'Unemployment(%)','inflation.Inflation':'Inflation(%)','Literacy rate':'Literacy rate(%)'}  "
   ]
  },
  {
   "cell_type": "code",
   "execution_count": 1389,
   "id": "7dd94ebe-b584-4677-ac25-128452b5c3c5",
   "metadata": {},
   "outputs": [],
   "source": [
    "new=new.rename(columns=rename_col)"
   ]
  },
  {
   "cell_type": "code",
   "execution_count": 1390,
   "id": "5f3b5221-7029-4e9e-b17c-bd914fe0871f",
   "metadata": {},
   "outputs": [
    {
     "data": {
      "text/plain": [
       "Country                                0\n",
       "cost of living                         0\n",
       "cost index                             0\n",
       "cost of living.Monthly income (USD)    0\n",
       "Purchasing Power Index                 0\n",
       "currency rate                          1\n",
       "Gdp                                    0\n",
       "population                             0\n",
       "population.Migrants (net)              0\n",
       "Skilled force                          0\n",
       "technology.2023 rank                   0\n",
       "Unemployment(%)                        0\n",
       "Inflation(%)                           0\n",
       "Monthly salary+Tax(USD)                0\n",
       "Literacy rate(%)                       0\n",
       "dtype: int64"
      ]
     },
     "execution_count": 1390,
     "metadata": {},
     "output_type": "execute_result"
    }
   ],
   "source": [
    "new.isnull().sum()"
   ]
  },
  {
   "cell_type": "code",
   "execution_count": 1391,
   "id": "1769a130-fee0-40b7-8a70-7cb4338b6ca5",
   "metadata": {},
   "outputs": [
    {
     "name": "stderr",
     "output_type": "stream",
     "text": [
      "C:\\Users\\ajms\\AppData\\Local\\Temp\\ipykernel_18988\\3293588455.py:1: FutureWarning:\n",
      "\n",
      "A value is trying to be set on a copy of a DataFrame or Series through chained assignment using an inplace method.\n",
      "The behavior will change in pandas 3.0. This inplace method will never work because the intermediate object on which we are setting values always behaves as a copy.\n",
      "\n",
      "For example, when doing 'df[col].method(value, inplace=True)', try using 'df.method({col: value}, inplace=True)' or df[col] = df[col].method(value) instead, to perform the operation inplace on the original object.\n",
      "\n",
      "\n",
      "\n"
     ]
    }
   ],
   "source": [
    "new['currency rate'].fillna(12.1,inplace=True)"
   ]
  },
  {
   "cell_type": "code",
   "execution_count": 1392,
   "id": "a4045015-9430-4e0b-97fb-de40ebc6f54d",
   "metadata": {},
   "outputs": [
    {
     "data": {
      "text/plain": [
       "Country                                0\n",
       "cost of living                         0\n",
       "cost index                             0\n",
       "cost of living.Monthly income (USD)    0\n",
       "Purchasing Power Index                 0\n",
       "currency rate                          0\n",
       "Gdp                                    0\n",
       "population                             0\n",
       "population.Migrants (net)              0\n",
       "Skilled force                          0\n",
       "technology.2023 rank                   0\n",
       "Unemployment(%)                        0\n",
       "Inflation(%)                           0\n",
       "Monthly salary+Tax(USD)                0\n",
       "Literacy rate(%)                       0\n",
       "dtype: int64"
      ]
     },
     "execution_count": 1392,
     "metadata": {},
     "output_type": "execute_result"
    }
   ],
   "source": [
    "new.isnull().sum()"
   ]
  },
  {
   "cell_type": "markdown",
   "id": "84c819e7-5190-489c-b391-018ef979fe4a",
   "metadata": {},
   "source": [
    "What is the minimum wage in countries where it is higher than the average salary?"
   ]
  },
  {
   "cell_type": "code",
   "execution_count": 1393,
   "id": "c153e5db-6332-40be-9a10-3534f0a963e1",
   "metadata": {},
   "outputs": [],
   "source": [
    "avg_sal=new['Monthly salary+Tax(USD)'].mean()"
   ]
  },
  {
   "cell_type": "code",
   "execution_count": 1394,
   "id": "8edac6ce-0c92-4ed5-9760-b83f10f0df5e",
   "metadata": {},
   "outputs": [
    {
     "data": {
      "text/plain": [
       "1504.7627868852455"
      ]
     },
     "execution_count": 1394,
     "metadata": {},
     "output_type": "execute_result"
    }
   ],
   "source": [
    "avg_sal"
   ]
  },
  {
   "cell_type": "code",
   "execution_count": 1395,
   "id": "f7b2c58b-9445-4576-b787-678cf8fb0ede",
   "metadata": {},
   "outputs": [],
   "source": [
    "new1=new[avg_sal<new['Monthly salary+Tax(USD)']]"
   ]
  },
  {
   "cell_type": "code",
   "execution_count": 1396,
   "id": "61845b28-da9b-4026-87f1-84ccf77f5de3",
   "metadata": {},
   "outputs": [
    {
     "data": {
      "text/html": [
       "<div>\n",
       "<style scoped>\n",
       "    .dataframe tbody tr th:only-of-type {\n",
       "        vertical-align: middle;\n",
       "    }\n",
       "\n",
       "    .dataframe tbody tr th {\n",
       "        vertical-align: top;\n",
       "    }\n",
       "\n",
       "    .dataframe thead th {\n",
       "        text-align: right;\n",
       "    }\n",
       "</style>\n",
       "<table border=\"1\" class=\"dataframe\">\n",
       "  <thead>\n",
       "    <tr style=\"text-align: right;\">\n",
       "      <th></th>\n",
       "      <th>Country</th>\n",
       "      <th>cost of living</th>\n",
       "      <th>cost index</th>\n",
       "      <th>cost of living.Monthly income (USD)</th>\n",
       "      <th>Purchasing Power Index</th>\n",
       "      <th>currency rate</th>\n",
       "      <th>Gdp</th>\n",
       "      <th>population</th>\n",
       "      <th>population.Migrants (net)</th>\n",
       "      <th>Skilled force</th>\n",
       "      <th>technology.2023 rank</th>\n",
       "      <th>Unemployment(%)</th>\n",
       "      <th>Inflation(%)</th>\n",
       "      <th>Monthly salary+Tax(USD)</th>\n",
       "      <th>Literacy rate(%)</th>\n",
       "    </tr>\n",
       "  </thead>\n",
       "  <tbody>\n",
       "    <tr>\n",
       "      <th>2</th>\n",
       "      <td>Australia</td>\n",
       "      <td>17</td>\n",
       "      <td>96.4</td>\n",
       "      <td>5262</td>\n",
       "      <td>81.6</td>\n",
       "      <td>2.063</td>\n",
       "      <td>64712</td>\n",
       "      <td>26713205</td>\n",
       "      <td>138510</td>\n",
       "      <td>14501414</td>\n",
       "      <td>12</td>\n",
       "      <td>4.21</td>\n",
       "      <td>2.80</td>\n",
       "      <td>3678.75</td>\n",
       "      <td>99.00</td>\n",
       "    </tr>\n",
       "    <tr>\n",
       "      <th>3</th>\n",
       "      <td>Austria</td>\n",
       "      <td>27</td>\n",
       "      <td>80.9</td>\n",
       "      <td>4589</td>\n",
       "      <td>84.8</td>\n",
       "      <td>-0.746</td>\n",
       "      <td>56506</td>\n",
       "      <td>9120813</td>\n",
       "      <td>8813</td>\n",
       "      <td>4825387</td>\n",
       "      <td>24</td>\n",
       "      <td>5.40</td>\n",
       "      <td>1.80</td>\n",
       "      <td>2579.59</td>\n",
       "      <td>98.00</td>\n",
       "    </tr>\n",
       "    <tr>\n",
       "      <th>7</th>\n",
       "      <td>Belgium</td>\n",
       "      <td>25</td>\n",
       "      <td>83.7</td>\n",
       "      <td>4544</td>\n",
       "      <td>81.1</td>\n",
       "      <td>1.461</td>\n",
       "      <td>53475</td>\n",
       "      <td>11738763</td>\n",
       "      <td>36243</td>\n",
       "      <td>5432007</td>\n",
       "      <td>10</td>\n",
       "      <td>5.51</td>\n",
       "      <td>3.20</td>\n",
       "      <td>2563.22</td>\n",
       "      <td>99.00</td>\n",
       "    </tr>\n",
       "    <tr>\n",
       "      <th>10</th>\n",
       "      <td>Canada</td>\n",
       "      <td>21</td>\n",
       "      <td>90.7</td>\n",
       "      <td>4494</td>\n",
       "      <td>74.1</td>\n",
       "      <td>1.066</td>\n",
       "      <td>53372</td>\n",
       "      <td>39742430</td>\n",
       "      <td>368599</td>\n",
       "      <td>22110473</td>\n",
       "      <td>11</td>\n",
       "      <td>6.32</td>\n",
       "      <td>1.60</td>\n",
       "      <td>2818.53</td>\n",
       "      <td>99.00</td>\n",
       "    </tr>\n",
       "    <tr>\n",
       "      <th>16</th>\n",
       "      <td>Denmark</td>\n",
       "      <td>10</td>\n",
       "      <td>103.9</td>\n",
       "      <td>6113</td>\n",
       "      <td>87.9</td>\n",
       "      <td>1.813</td>\n",
       "      <td>67967</td>\n",
       "      <td>5977412</td>\n",
       "      <td>25639</td>\n",
       "      <td>3179505</td>\n",
       "      <td>16</td>\n",
       "      <td>4.89</td>\n",
       "      <td>1.60</td>\n",
       "      <td>3596.29</td>\n",
       "      <td>99.00</td>\n",
       "    </tr>\n",
       "    <tr>\n",
       "      <th>19</th>\n",
       "      <td>Estonia</td>\n",
       "      <td>37</td>\n",
       "      <td>71.0</td>\n",
       "      <td>2270</td>\n",
       "      <td>47.8</td>\n",
       "      <td>-3.006</td>\n",
       "      <td>29824</td>\n",
       "      <td>1360546</td>\n",
       "      <td>-7742</td>\n",
       "      <td>752419</td>\n",
       "      <td>29</td>\n",
       "      <td>8.06</td>\n",
       "      <td>4.10</td>\n",
       "      <td>1525.26</td>\n",
       "      <td>100.00</td>\n",
       "    </tr>\n",
       "    <tr>\n",
       "      <th>20</th>\n",
       "      <td>Finland</td>\n",
       "      <td>22</td>\n",
       "      <td>90.2</td>\n",
       "      <td>4449</td>\n",
       "      <td>73.7</td>\n",
       "      <td>-0.957</td>\n",
       "      <td>53756</td>\n",
       "      <td>5617310</td>\n",
       "      <td>26894</td>\n",
       "      <td>2879817</td>\n",
       "      <td>8</td>\n",
       "      <td>7.60</td>\n",
       "      <td>0.80</td>\n",
       "      <td>2818.03</td>\n",
       "      <td>99.00</td>\n",
       "    </tr>\n",
       "    <tr>\n",
       "      <th>21</th>\n",
       "      <td>France</td>\n",
       "      <td>28</td>\n",
       "      <td>79.8</td>\n",
       "      <td>3756</td>\n",
       "      <td>70.4</td>\n",
       "      <td>0.869</td>\n",
       "      <td>44461</td>\n",
       "      <td>66548530</td>\n",
       "      <td>90527</td>\n",
       "      <td>31825317</td>\n",
       "      <td>15</td>\n",
       "      <td>7.36</td>\n",
       "      <td>1.20</td>\n",
       "      <td>2486.51</td>\n",
       "      <td>99.00</td>\n",
       "    </tr>\n",
       "    <tr>\n",
       "      <th>23</th>\n",
       "      <td>Germany</td>\n",
       "      <td>29</td>\n",
       "      <td>79.5</td>\n",
       "      <td>4498</td>\n",
       "      <td>84.6</td>\n",
       "      <td>-0.305</td>\n",
       "      <td>52746</td>\n",
       "      <td>84552242</td>\n",
       "      <td>36954</td>\n",
       "      <td>44783712</td>\n",
       "      <td>7</td>\n",
       "      <td>3.29</td>\n",
       "      <td>2.00</td>\n",
       "      <td>2984.93</td>\n",
       "      <td>99.00</td>\n",
       "    </tr>\n",
       "    <tr>\n",
       "      <th>29</th>\n",
       "      <td>Ireland</td>\n",
       "      <td>11</td>\n",
       "      <td>102.7</td>\n",
       "      <td>6699</td>\n",
       "      <td>97.4</td>\n",
       "      <td>-3.199</td>\n",
       "      <td>103685</td>\n",
       "      <td>5255017</td>\n",
       "      <td>39059</td>\n",
       "      <td>2766155</td>\n",
       "      <td>14</td>\n",
       "      <td>4.38</td>\n",
       "      <td>0.70</td>\n",
       "      <td>3073.35</td>\n",
       "      <td>99.00</td>\n",
       "    </tr>\n",
       "    <tr>\n",
       "      <th>30</th>\n",
       "      <td>Israel</td>\n",
       "      <td>8</td>\n",
       "      <td>105.3</td>\n",
       "      <td>4585</td>\n",
       "      <td>65.1</td>\n",
       "      <td>2.003</td>\n",
       "      <td>52262</td>\n",
       "      <td>9387021</td>\n",
       "      <td>10612</td>\n",
       "      <td>4553808</td>\n",
       "      <td>20</td>\n",
       "      <td>3.70</td>\n",
       "      <td>3.50</td>\n",
       "      <td>2703.21</td>\n",
       "      <td>97.10</td>\n",
       "    </tr>\n",
       "    <tr>\n",
       "      <th>31</th>\n",
       "      <td>Italy</td>\n",
       "      <td>35</td>\n",
       "      <td>71.8</td>\n",
       "      <td>3183</td>\n",
       "      <td>66.3</td>\n",
       "      <td>0.921</td>\n",
       "      <td>38373</td>\n",
       "      <td>59342867</td>\n",
       "      <td>95246</td>\n",
       "      <td>25668665</td>\n",
       "      <td>25</td>\n",
       "      <td>7.83</td>\n",
       "      <td>0.90</td>\n",
       "      <td>1716.62</td>\n",
       "      <td>99.90</td>\n",
       "    </tr>\n",
       "    <tr>\n",
       "      <th>32</th>\n",
       "      <td>Japan</td>\n",
       "      <td>33</td>\n",
       "      <td>74.7</td>\n",
       "      <td>3253</td>\n",
       "      <td>65.0</td>\n",
       "      <td>1.923</td>\n",
       "      <td>33834</td>\n",
       "      <td>123753041</td>\n",
       "      <td>153357</td>\n",
       "      <td>69349452</td>\n",
       "      <td>19</td>\n",
       "      <td>2.50</td>\n",
       "      <td>2.50</td>\n",
       "      <td>2059.60</td>\n",
       "      <td>99.00</td>\n",
       "    </tr>\n",
       "    <tr>\n",
       "      <th>36</th>\n",
       "      <td>Luxembourg</td>\n",
       "      <td>16</td>\n",
       "      <td>97.5</td>\n",
       "      <td>7364</td>\n",
       "      <td>112.9</td>\n",
       "      <td>-1.095</td>\n",
       "      <td>128259</td>\n",
       "      <td>673036</td>\n",
       "      <td>5677</td>\n",
       "      <td>351903</td>\n",
       "      <td>18</td>\n",
       "      <td>5.99</td>\n",
       "      <td>1.00</td>\n",
       "      <td>5686.45</td>\n",
       "      <td>100.00</td>\n",
       "    </tr>\n",
       "    <tr>\n",
       "      <th>41</th>\n",
       "      <td>New Zealand</td>\n",
       "      <td>18</td>\n",
       "      <td>94.3</td>\n",
       "      <td>4051</td>\n",
       "      <td>64.2</td>\n",
       "      <td>0.633</td>\n",
       "      <td>48528</td>\n",
       "      <td>5213944</td>\n",
       "      <td>18766</td>\n",
       "      <td>3068205</td>\n",
       "      <td>23</td>\n",
       "      <td>5.04</td>\n",
       "      <td>2.20</td>\n",
       "      <td>2962.58</td>\n",
       "      <td>99.00</td>\n",
       "    </tr>\n",
       "    <tr>\n",
       "      <th>43</th>\n",
       "      <td>Norway</td>\n",
       "      <td>20</td>\n",
       "      <td>90.8</td>\n",
       "      <td>8538</td>\n",
       "      <td>140.6</td>\n",
       "      <td>0.514</td>\n",
       "      <td>87962</td>\n",
       "      <td>5576660</td>\n",
       "      <td>44356</td>\n",
       "      <td>3009339</td>\n",
       "      <td>13</td>\n",
       "      <td>3.80</td>\n",
       "      <td>2.60</td>\n",
       "      <td>3286.54</td>\n",
       "      <td>100.00</td>\n",
       "    </tr>\n",
       "    <tr>\n",
       "      <th>48</th>\n",
       "      <td>Qatar</td>\n",
       "      <td>31</td>\n",
       "      <td>76.9</td>\n",
       "      <td>5839</td>\n",
       "      <td>113.5</td>\n",
       "      <td>1.558</td>\n",
       "      <td>87480</td>\n",
       "      <td>3048423</td>\n",
       "      <td>46105</td>\n",
       "      <td>2035269</td>\n",
       "      <td>67</td>\n",
       "      <td>0.30</td>\n",
       "      <td>0.82</td>\n",
       "      <td>4086.40</td>\n",
       "      <td>98.70</td>\n",
       "    </tr>\n",
       "    <tr>\n",
       "      <th>50</th>\n",
       "      <td>Saudi Arabia</td>\n",
       "      <td>50</td>\n",
       "      <td>50.8</td>\n",
       "      <td>2391</td>\n",
       "      <td>70.4</td>\n",
       "      <td>-0.755</td>\n",
       "      <td>28895</td>\n",
       "      <td>33962757</td>\n",
       "      <td>122170</td>\n",
       "      <td>16933906</td>\n",
       "      <td>47</td>\n",
       "      <td>4.80</td>\n",
       "      <td>1.70</td>\n",
       "      <td>2198.45</td>\n",
       "      <td>99.50</td>\n",
       "    </tr>\n",
       "    <tr>\n",
       "      <th>52</th>\n",
       "      <td>Singapore</td>\n",
       "      <td>30</td>\n",
       "      <td>78.0</td>\n",
       "      <td>5883</td>\n",
       "      <td>112.7</td>\n",
       "      <td>1.075</td>\n",
       "      <td>84734</td>\n",
       "      <td>5832387</td>\n",
       "      <td>20011</td>\n",
       "      <td>3619025</td>\n",
       "      <td>3</td>\n",
       "      <td>1.90</td>\n",
       "      <td>2.00</td>\n",
       "      <td>4293.54</td>\n",
       "      <td>99.90</td>\n",
       "    </tr>\n",
       "    <tr>\n",
       "      <th>54</th>\n",
       "      <td>Spain</td>\n",
       "      <td>38</td>\n",
       "      <td>67.3</td>\n",
       "      <td>2682</td>\n",
       "      <td>59.6</td>\n",
       "      <td>2.501</td>\n",
       "      <td>32677</td>\n",
       "      <td>47910526</td>\n",
       "      <td>111674</td>\n",
       "      <td>24107955</td>\n",
       "      <td>21</td>\n",
       "      <td>12.29</td>\n",
       "      <td>1.80</td>\n",
       "      <td>1851.82</td>\n",
       "      <td>99.60</td>\n",
       "    </tr>\n",
       "    <tr>\n",
       "      <th>56</th>\n",
       "      <td>Sweden</td>\n",
       "      <td>26</td>\n",
       "      <td>82.4</td>\n",
       "      <td>5138</td>\n",
       "      <td>93.2</td>\n",
       "      <td>-0.196</td>\n",
       "      <td>56305</td>\n",
       "      <td>10606999</td>\n",
       "      <td>50115</td>\n",
       "      <td>5825253</td>\n",
       "      <td>2</td>\n",
       "      <td>8.36</td>\n",
       "      <td>1.60</td>\n",
       "      <td>2807.55</td>\n",
       "      <td>99.00</td>\n",
       "    </tr>\n",
       "    <tr>\n",
       "      <th>59</th>\n",
       "      <td>United Arab Emirates</td>\n",
       "      <td>34</td>\n",
       "      <td>72.1</td>\n",
       "      <td>4441</td>\n",
       "      <td>92.1</td>\n",
       "      <td>3.404</td>\n",
       "      <td>52977</td>\n",
       "      <td>11027129</td>\n",
       "      <td>278439</td>\n",
       "      <td>6668172</td>\n",
       "      <td>37</td>\n",
       "      <td>3.40</td>\n",
       "      <td>2.50</td>\n",
       "      <td>3300.22</td>\n",
       "      <td>99.70</td>\n",
       "    </tr>\n",
       "    <tr>\n",
       "      <th>60</th>\n",
       "      <td>United Kingdom</td>\n",
       "      <td>19</td>\n",
       "      <td>92.9</td>\n",
       "      <td>3983</td>\n",
       "      <td>64.1</td>\n",
       "      <td>0.145</td>\n",
       "      <td>48867</td>\n",
       "      <td>69138192</td>\n",
       "      <td>417114</td>\n",
       "      <td>35275169</td>\n",
       "      <td>17</td>\n",
       "      <td>4.15</td>\n",
       "      <td>1.70</td>\n",
       "      <td>3105.98</td>\n",
       "      <td>99.76</td>\n",
       "    </tr>\n",
       "  </tbody>\n",
       "</table>\n",
       "</div>"
      ],
      "text/plain": [
       "                 Country  cost of living  cost index  \\\n",
       "2              Australia              17        96.4   \n",
       "3                Austria              27        80.9   \n",
       "7                Belgium              25        83.7   \n",
       "10                Canada              21        90.7   \n",
       "16               Denmark              10       103.9   \n",
       "19               Estonia              37        71.0   \n",
       "20               Finland              22        90.2   \n",
       "21                France              28        79.8   \n",
       "23               Germany              29        79.5   \n",
       "29               Ireland              11       102.7   \n",
       "30                Israel               8       105.3   \n",
       "31                 Italy              35        71.8   \n",
       "32                 Japan              33        74.7   \n",
       "36            Luxembourg              16        97.5   \n",
       "41           New Zealand              18        94.3   \n",
       "43                Norway              20        90.8   \n",
       "48                 Qatar              31        76.9   \n",
       "50          Saudi Arabia              50        50.8   \n",
       "52             Singapore              30        78.0   \n",
       "54                 Spain              38        67.3   \n",
       "56                Sweden              26        82.4   \n",
       "59  United Arab Emirates              34        72.1   \n",
       "60        United Kingdom              19        92.9   \n",
       "\n",
       "    cost of living.Monthly income (USD)  Purchasing Power Index  \\\n",
       "2                                  5262                    81.6   \n",
       "3                                  4589                    84.8   \n",
       "7                                  4544                    81.1   \n",
       "10                                 4494                    74.1   \n",
       "16                                 6113                    87.9   \n",
       "19                                 2270                    47.8   \n",
       "20                                 4449                    73.7   \n",
       "21                                 3756                    70.4   \n",
       "23                                 4498                    84.6   \n",
       "29                                 6699                    97.4   \n",
       "30                                 4585                    65.1   \n",
       "31                                 3183                    66.3   \n",
       "32                                 3253                    65.0   \n",
       "36                                 7364                   112.9   \n",
       "41                                 4051                    64.2   \n",
       "43                                 8538                   140.6   \n",
       "48                                 5839                   113.5   \n",
       "50                                 2391                    70.4   \n",
       "52                                 5883                   112.7   \n",
       "54                                 2682                    59.6   \n",
       "56                                 5138                    93.2   \n",
       "59                                 4441                    92.1   \n",
       "60                                 3983                    64.1   \n",
       "\n",
       "    currency rate     Gdp  population  population.Migrants (net)  \\\n",
       "2           2.063   64712    26713205                     138510   \n",
       "3          -0.746   56506     9120813                       8813   \n",
       "7           1.461   53475    11738763                      36243   \n",
       "10          1.066   53372    39742430                     368599   \n",
       "16          1.813   67967     5977412                      25639   \n",
       "19         -3.006   29824     1360546                      -7742   \n",
       "20         -0.957   53756     5617310                      26894   \n",
       "21          0.869   44461    66548530                      90527   \n",
       "23         -0.305   52746    84552242                      36954   \n",
       "29         -3.199  103685     5255017                      39059   \n",
       "30          2.003   52262     9387021                      10612   \n",
       "31          0.921   38373    59342867                      95246   \n",
       "32          1.923   33834   123753041                     153357   \n",
       "36         -1.095  128259      673036                       5677   \n",
       "41          0.633   48528     5213944                      18766   \n",
       "43          0.514   87962     5576660                      44356   \n",
       "48          1.558   87480     3048423                      46105   \n",
       "50         -0.755   28895    33962757                     122170   \n",
       "52          1.075   84734     5832387                      20011   \n",
       "54          2.501   32677    47910526                     111674   \n",
       "56         -0.196   56305    10606999                      50115   \n",
       "59          3.404   52977    11027129                     278439   \n",
       "60          0.145   48867    69138192                     417114   \n",
       "\n",
       "    Skilled force  technology.2023 rank  Unemployment(%)  Inflation(%)  \\\n",
       "2        14501414                    12             4.21          2.80   \n",
       "3         4825387                    24             5.40          1.80   \n",
       "7         5432007                    10             5.51          3.20   \n",
       "10       22110473                    11             6.32          1.60   \n",
       "16        3179505                    16             4.89          1.60   \n",
       "19         752419                    29             8.06          4.10   \n",
       "20        2879817                     8             7.60          0.80   \n",
       "21       31825317                    15             7.36          1.20   \n",
       "23       44783712                     7             3.29          2.00   \n",
       "29        2766155                    14             4.38          0.70   \n",
       "30        4553808                    20             3.70          3.50   \n",
       "31       25668665                    25             7.83          0.90   \n",
       "32       69349452                    19             2.50          2.50   \n",
       "36         351903                    18             5.99          1.00   \n",
       "41        3068205                    23             5.04          2.20   \n",
       "43        3009339                    13             3.80          2.60   \n",
       "48        2035269                    67             0.30          0.82   \n",
       "50       16933906                    47             4.80          1.70   \n",
       "52        3619025                     3             1.90          2.00   \n",
       "54       24107955                    21            12.29          1.80   \n",
       "56        5825253                     2             8.36          1.60   \n",
       "59        6668172                    37             3.40          2.50   \n",
       "60       35275169                    17             4.15          1.70   \n",
       "\n",
       "    Monthly salary+Tax(USD)  Literacy rate(%)  \n",
       "2                   3678.75             99.00  \n",
       "3                   2579.59             98.00  \n",
       "7                   2563.22             99.00  \n",
       "10                  2818.53             99.00  \n",
       "16                  3596.29             99.00  \n",
       "19                  1525.26            100.00  \n",
       "20                  2818.03             99.00  \n",
       "21                  2486.51             99.00  \n",
       "23                  2984.93             99.00  \n",
       "29                  3073.35             99.00  \n",
       "30                  2703.21             97.10  \n",
       "31                  1716.62             99.90  \n",
       "32                  2059.60             99.00  \n",
       "36                  5686.45            100.00  \n",
       "41                  2962.58             99.00  \n",
       "43                  3286.54            100.00  \n",
       "48                  4086.40             98.70  \n",
       "50                  2198.45             99.50  \n",
       "52                  4293.54             99.90  \n",
       "54                  1851.82             99.60  \n",
       "56                  2807.55             99.00  \n",
       "59                  3300.22             99.70  \n",
       "60                  3105.98             99.76  "
      ]
     },
     "execution_count": 1396,
     "metadata": {},
     "output_type": "execute_result"
    }
   ],
   "source": [
    "new1"
   ]
  },
  {
   "cell_type": "code",
   "execution_count": 1397,
   "id": "5586ff00-4f31-49d1-82fa-5fa6bee1c4b7",
   "metadata": {},
   "outputs": [
    {
     "data": {
      "application/vnd.plotly.v1+json": {
       "config": {
        "plotlyServerURL": "https://plot.ly"
       },
       "data": [
        {
         "alignmentgroup": "True",
         "bingroup": "x",
         "histfunc": "sum",
         "hovertemplate": "Country=%{x}<br>sum of Monthly salary+Tax(USD)=%{y}<extra></extra>",
         "legendgroup": "",
         "marker": {
          "color": "#636efa",
          "pattern": {
           "shape": ""
          }
         },
         "name": "",
         "offsetgroup": "",
         "orientation": "v",
         "showlegend": false,
         "type": "histogram",
         "x": [
          "Australia",
          "Austria",
          "Belgium",
          "Canada",
          "Denmark",
          "Estonia",
          "Finland",
          "France",
          "Germany",
          "Ireland",
          "Israel",
          "Italy",
          "Japan",
          "Luxembourg",
          "New Zealand",
          "Norway",
          "Qatar",
          "Saudi Arabia",
          "Singapore",
          "Spain",
          "Sweden",
          "United Arab Emirates",
          "United Kingdom"
         ],
         "xaxis": "x",
         "y": [
          3678.75,
          2579.59,
          2563.22,
          2818.53,
          3596.29,
          1525.26,
          2818.03,
          2486.51,
          2984.93,
          3073.35,
          2703.21,
          1716.62,
          2059.6,
          5686.45,
          2962.58,
          3286.54,
          4086.4,
          2198.45,
          4293.54,
          1851.82,
          2807.55,
          3300.22,
          3105.98
         ],
         "yaxis": "y"
        }
       ],
       "layout": {
        "autosize": true,
        "barmode": "relative",
        "legend": {
         "tracegroupgap": 0
        },
        "margin": {
         "t": 60
        },
        "template": {
         "data": {
          "bar": [
           {
            "error_x": {
             "color": "#2a3f5f"
            },
            "error_y": {
             "color": "#2a3f5f"
            },
            "marker": {
             "line": {
              "color": "#E5ECF6",
              "width": 0.5
             },
             "pattern": {
              "fillmode": "overlay",
              "size": 10,
              "solidity": 0.2
             }
            },
            "type": "bar"
           }
          ],
          "barpolar": [
           {
            "marker": {
             "line": {
              "color": "#E5ECF6",
              "width": 0.5
             },
             "pattern": {
              "fillmode": "overlay",
              "size": 10,
              "solidity": 0.2
             }
            },
            "type": "barpolar"
           }
          ],
          "carpet": [
           {
            "aaxis": {
             "endlinecolor": "#2a3f5f",
             "gridcolor": "white",
             "linecolor": "white",
             "minorgridcolor": "white",
             "startlinecolor": "#2a3f5f"
            },
            "baxis": {
             "endlinecolor": "#2a3f5f",
             "gridcolor": "white",
             "linecolor": "white",
             "minorgridcolor": "white",
             "startlinecolor": "#2a3f5f"
            },
            "type": "carpet"
           }
          ],
          "choropleth": [
           {
            "colorbar": {
             "outlinewidth": 0,
             "ticks": ""
            },
            "type": "choropleth"
           }
          ],
          "contour": [
           {
            "colorbar": {
             "outlinewidth": 0,
             "ticks": ""
            },
            "colorscale": [
             [
              0,
              "#0d0887"
             ],
             [
              0.1111111111111111,
              "#46039f"
             ],
             [
              0.2222222222222222,
              "#7201a8"
             ],
             [
              0.3333333333333333,
              "#9c179e"
             ],
             [
              0.4444444444444444,
              "#bd3786"
             ],
             [
              0.5555555555555556,
              "#d8576b"
             ],
             [
              0.6666666666666666,
              "#ed7953"
             ],
             [
              0.7777777777777778,
              "#fb9f3a"
             ],
             [
              0.8888888888888888,
              "#fdca26"
             ],
             [
              1,
              "#f0f921"
             ]
            ],
            "type": "contour"
           }
          ],
          "contourcarpet": [
           {
            "colorbar": {
             "outlinewidth": 0,
             "ticks": ""
            },
            "type": "contourcarpet"
           }
          ],
          "heatmap": [
           {
            "colorbar": {
             "outlinewidth": 0,
             "ticks": ""
            },
            "colorscale": [
             [
              0,
              "#0d0887"
             ],
             [
              0.1111111111111111,
              "#46039f"
             ],
             [
              0.2222222222222222,
              "#7201a8"
             ],
             [
              0.3333333333333333,
              "#9c179e"
             ],
             [
              0.4444444444444444,
              "#bd3786"
             ],
             [
              0.5555555555555556,
              "#d8576b"
             ],
             [
              0.6666666666666666,
              "#ed7953"
             ],
             [
              0.7777777777777778,
              "#fb9f3a"
             ],
             [
              0.8888888888888888,
              "#fdca26"
             ],
             [
              1,
              "#f0f921"
             ]
            ],
            "type": "heatmap"
           }
          ],
          "heatmapgl": [
           {
            "colorbar": {
             "outlinewidth": 0,
             "ticks": ""
            },
            "colorscale": [
             [
              0,
              "#0d0887"
             ],
             [
              0.1111111111111111,
              "#46039f"
             ],
             [
              0.2222222222222222,
              "#7201a8"
             ],
             [
              0.3333333333333333,
              "#9c179e"
             ],
             [
              0.4444444444444444,
              "#bd3786"
             ],
             [
              0.5555555555555556,
              "#d8576b"
             ],
             [
              0.6666666666666666,
              "#ed7953"
             ],
             [
              0.7777777777777778,
              "#fb9f3a"
             ],
             [
              0.8888888888888888,
              "#fdca26"
             ],
             [
              1,
              "#f0f921"
             ]
            ],
            "type": "heatmapgl"
           }
          ],
          "histogram": [
           {
            "marker": {
             "pattern": {
              "fillmode": "overlay",
              "size": 10,
              "solidity": 0.2
             }
            },
            "type": "histogram"
           }
          ],
          "histogram2d": [
           {
            "colorbar": {
             "outlinewidth": 0,
             "ticks": ""
            },
            "colorscale": [
             [
              0,
              "#0d0887"
             ],
             [
              0.1111111111111111,
              "#46039f"
             ],
             [
              0.2222222222222222,
              "#7201a8"
             ],
             [
              0.3333333333333333,
              "#9c179e"
             ],
             [
              0.4444444444444444,
              "#bd3786"
             ],
             [
              0.5555555555555556,
              "#d8576b"
             ],
             [
              0.6666666666666666,
              "#ed7953"
             ],
             [
              0.7777777777777778,
              "#fb9f3a"
             ],
             [
              0.8888888888888888,
              "#fdca26"
             ],
             [
              1,
              "#f0f921"
             ]
            ],
            "type": "histogram2d"
           }
          ],
          "histogram2dcontour": [
           {
            "colorbar": {
             "outlinewidth": 0,
             "ticks": ""
            },
            "colorscale": [
             [
              0,
              "#0d0887"
             ],
             [
              0.1111111111111111,
              "#46039f"
             ],
             [
              0.2222222222222222,
              "#7201a8"
             ],
             [
              0.3333333333333333,
              "#9c179e"
             ],
             [
              0.4444444444444444,
              "#bd3786"
             ],
             [
              0.5555555555555556,
              "#d8576b"
             ],
             [
              0.6666666666666666,
              "#ed7953"
             ],
             [
              0.7777777777777778,
              "#fb9f3a"
             ],
             [
              0.8888888888888888,
              "#fdca26"
             ],
             [
              1,
              "#f0f921"
             ]
            ],
            "type": "histogram2dcontour"
           }
          ],
          "mesh3d": [
           {
            "colorbar": {
             "outlinewidth": 0,
             "ticks": ""
            },
            "type": "mesh3d"
           }
          ],
          "parcoords": [
           {
            "line": {
             "colorbar": {
              "outlinewidth": 0,
              "ticks": ""
             }
            },
            "type": "parcoords"
           }
          ],
          "pie": [
           {
            "automargin": true,
            "type": "pie"
           }
          ],
          "scatter": [
           {
            "fillpattern": {
             "fillmode": "overlay",
             "size": 10,
             "solidity": 0.2
            },
            "type": "scatter"
           }
          ],
          "scatter3d": [
           {
            "line": {
             "colorbar": {
              "outlinewidth": 0,
              "ticks": ""
             }
            },
            "marker": {
             "colorbar": {
              "outlinewidth": 0,
              "ticks": ""
             }
            },
            "type": "scatter3d"
           }
          ],
          "scattercarpet": [
           {
            "marker": {
             "colorbar": {
              "outlinewidth": 0,
              "ticks": ""
             }
            },
            "type": "scattercarpet"
           }
          ],
          "scattergeo": [
           {
            "marker": {
             "colorbar": {
              "outlinewidth": 0,
              "ticks": ""
             }
            },
            "type": "scattergeo"
           }
          ],
          "scattergl": [
           {
            "marker": {
             "colorbar": {
              "outlinewidth": 0,
              "ticks": ""
             }
            },
            "type": "scattergl"
           }
          ],
          "scattermapbox": [
           {
            "marker": {
             "colorbar": {
              "outlinewidth": 0,
              "ticks": ""
             }
            },
            "type": "scattermapbox"
           }
          ],
          "scatterpolar": [
           {
            "marker": {
             "colorbar": {
              "outlinewidth": 0,
              "ticks": ""
             }
            },
            "type": "scatterpolar"
           }
          ],
          "scatterpolargl": [
           {
            "marker": {
             "colorbar": {
              "outlinewidth": 0,
              "ticks": ""
             }
            },
            "type": "scatterpolargl"
           }
          ],
          "scatterternary": [
           {
            "marker": {
             "colorbar": {
              "outlinewidth": 0,
              "ticks": ""
             }
            },
            "type": "scatterternary"
           }
          ],
          "surface": [
           {
            "colorbar": {
             "outlinewidth": 0,
             "ticks": ""
            },
            "colorscale": [
             [
              0,
              "#0d0887"
             ],
             [
              0.1111111111111111,
              "#46039f"
             ],
             [
              0.2222222222222222,
              "#7201a8"
             ],
             [
              0.3333333333333333,
              "#9c179e"
             ],
             [
              0.4444444444444444,
              "#bd3786"
             ],
             [
              0.5555555555555556,
              "#d8576b"
             ],
             [
              0.6666666666666666,
              "#ed7953"
             ],
             [
              0.7777777777777778,
              "#fb9f3a"
             ],
             [
              0.8888888888888888,
              "#fdca26"
             ],
             [
              1,
              "#f0f921"
             ]
            ],
            "type": "surface"
           }
          ],
          "table": [
           {
            "cells": {
             "fill": {
              "color": "#EBF0F8"
             },
             "line": {
              "color": "white"
             }
            },
            "header": {
             "fill": {
              "color": "#C8D4E3"
             },
             "line": {
              "color": "white"
             }
            },
            "type": "table"
           }
          ]
         },
         "layout": {
          "annotationdefaults": {
           "arrowcolor": "#2a3f5f",
           "arrowhead": 0,
           "arrowwidth": 1
          },
          "autotypenumbers": "strict",
          "coloraxis": {
           "colorbar": {
            "outlinewidth": 0,
            "ticks": ""
           }
          },
          "colorscale": {
           "diverging": [
            [
             0,
             "#8e0152"
            ],
            [
             0.1,
             "#c51b7d"
            ],
            [
             0.2,
             "#de77ae"
            ],
            [
             0.3,
             "#f1b6da"
            ],
            [
             0.4,
             "#fde0ef"
            ],
            [
             0.5,
             "#f7f7f7"
            ],
            [
             0.6,
             "#e6f5d0"
            ],
            [
             0.7,
             "#b8e186"
            ],
            [
             0.8,
             "#7fbc41"
            ],
            [
             0.9,
             "#4d9221"
            ],
            [
             1,
             "#276419"
            ]
           ],
           "sequential": [
            [
             0,
             "#0d0887"
            ],
            [
             0.1111111111111111,
             "#46039f"
            ],
            [
             0.2222222222222222,
             "#7201a8"
            ],
            [
             0.3333333333333333,
             "#9c179e"
            ],
            [
             0.4444444444444444,
             "#bd3786"
            ],
            [
             0.5555555555555556,
             "#d8576b"
            ],
            [
             0.6666666666666666,
             "#ed7953"
            ],
            [
             0.7777777777777778,
             "#fb9f3a"
            ],
            [
             0.8888888888888888,
             "#fdca26"
            ],
            [
             1,
             "#f0f921"
            ]
           ],
           "sequentialminus": [
            [
             0,
             "#0d0887"
            ],
            [
             0.1111111111111111,
             "#46039f"
            ],
            [
             0.2222222222222222,
             "#7201a8"
            ],
            [
             0.3333333333333333,
             "#9c179e"
            ],
            [
             0.4444444444444444,
             "#bd3786"
            ],
            [
             0.5555555555555556,
             "#d8576b"
            ],
            [
             0.6666666666666666,
             "#ed7953"
            ],
            [
             0.7777777777777778,
             "#fb9f3a"
            ],
            [
             0.8888888888888888,
             "#fdca26"
            ],
            [
             1,
             "#f0f921"
            ]
           ]
          },
          "colorway": [
           "#636efa",
           "#EF553B",
           "#00cc96",
           "#ab63fa",
           "#FFA15A",
           "#19d3f3",
           "#FF6692",
           "#B6E880",
           "#FF97FF",
           "#FECB52"
          ],
          "font": {
           "color": "#2a3f5f"
          },
          "geo": {
           "bgcolor": "white",
           "lakecolor": "white",
           "landcolor": "#E5ECF6",
           "showlakes": true,
           "showland": true,
           "subunitcolor": "white"
          },
          "hoverlabel": {
           "align": "left"
          },
          "hovermode": "closest",
          "mapbox": {
           "style": "light"
          },
          "paper_bgcolor": "white",
          "plot_bgcolor": "#E5ECF6",
          "polar": {
           "angularaxis": {
            "gridcolor": "white",
            "linecolor": "white",
            "ticks": ""
           },
           "bgcolor": "#E5ECF6",
           "radialaxis": {
            "gridcolor": "white",
            "linecolor": "white",
            "ticks": ""
           }
          },
          "scene": {
           "xaxis": {
            "backgroundcolor": "#E5ECF6",
            "gridcolor": "white",
            "gridwidth": 2,
            "linecolor": "white",
            "showbackground": true,
            "ticks": "",
            "zerolinecolor": "white"
           },
           "yaxis": {
            "backgroundcolor": "#E5ECF6",
            "gridcolor": "white",
            "gridwidth": 2,
            "linecolor": "white",
            "showbackground": true,
            "ticks": "",
            "zerolinecolor": "white"
           },
           "zaxis": {
            "backgroundcolor": "#E5ECF6",
            "gridcolor": "white",
            "gridwidth": 2,
            "linecolor": "white",
            "showbackground": true,
            "ticks": "",
            "zerolinecolor": "white"
           }
          },
          "shapedefaults": {
           "line": {
            "color": "#2a3f5f"
           }
          },
          "ternary": {
           "aaxis": {
            "gridcolor": "white",
            "linecolor": "white",
            "ticks": ""
           },
           "baxis": {
            "gridcolor": "white",
            "linecolor": "white",
            "ticks": ""
           },
           "bgcolor": "#E5ECF6",
           "caxis": {
            "gridcolor": "white",
            "linecolor": "white",
            "ticks": ""
           }
          },
          "title": {
           "x": 0.05
          },
          "xaxis": {
           "automargin": true,
           "gridcolor": "white",
           "linecolor": "white",
           "ticks": "",
           "title": {
            "standoff": 15
           },
           "zerolinecolor": "white",
           "zerolinewidth": 2
          },
          "yaxis": {
           "automargin": true,
           "gridcolor": "white",
           "linecolor": "white",
           "ticks": "",
           "title": {
            "standoff": 15
           },
           "zerolinecolor": "white",
           "zerolinewidth": 2
          }
         }
        },
        "xaxis": {
         "anchor": "y",
         "autorange": true,
         "domain": [
          0,
          1
         ],
         "range": [
          -0.5,
          22.5
         ],
         "title": {
          "text": "Country"
         },
         "type": "category"
        },
        "yaxis": {
         "anchor": "x",
         "autorange": true,
         "domain": [
          0,
          1
         ],
         "range": [
          0,
          5985.736842105263
         ],
         "title": {
          "text": "sum of Monthly salary+Tax(USD)"
         },
         "type": "linear"
        }
       }
      },
      "text/html": [
       "<div>                            <div id=\"4374fb06-2ddd-4311-b839-fac87d2904d0\" class=\"plotly-graph-div\" style=\"height:525px; width:100%;\"></div>            <script type=\"text/javascript\">                require([\"plotly\"], function(Plotly) {                    window.PLOTLYENV=window.PLOTLYENV || {};                                    if (document.getElementById(\"4374fb06-2ddd-4311-b839-fac87d2904d0\")) {                    Plotly.newPlot(                        \"4374fb06-2ddd-4311-b839-fac87d2904d0\",                        [{\"alignmentgroup\":\"True\",\"bingroup\":\"x\",\"histfunc\":\"sum\",\"hovertemplate\":\"Country=%{x}\\u003cbr\\u003esum of Monthly salary+Tax(USD)=%{y}\\u003cextra\\u003e\\u003c\\u002fextra\\u003e\",\"legendgroup\":\"\",\"marker\":{\"color\":\"#636efa\",\"pattern\":{\"shape\":\"\"}},\"name\":\"\",\"offsetgroup\":\"\",\"orientation\":\"v\",\"showlegend\":false,\"x\":[\"Australia\",\"Austria\",\"Belgium\",\"Canada\",\"Denmark\",\"Estonia\",\"Finland\",\"France\",\"Germany\",\"Ireland\",\"Israel\",\"Italy\",\"Japan\",\"Luxembourg\",\"New Zealand\",\"Norway\",\"Qatar\",\"Saudi Arabia\",\"Singapore\",\"Spain\",\"Sweden\",\"United Arab Emirates\",\"United Kingdom\"],\"xaxis\":\"x\",\"y\":[3678.75,2579.59,2563.22,2818.53,3596.29,1525.26,2818.03,2486.51,2984.93,3073.35,2703.21,1716.62,2059.6,5686.45,2962.58,3286.54,4086.4,2198.45,4293.54,1851.82,2807.55,3300.22,3105.98],\"yaxis\":\"y\",\"type\":\"histogram\"}],                        {\"template\":{\"data\":{\"histogram2dcontour\":[{\"type\":\"histogram2dcontour\",\"colorbar\":{\"outlinewidth\":0,\"ticks\":\"\"},\"colorscale\":[[0.0,\"#0d0887\"],[0.1111111111111111,\"#46039f\"],[0.2222222222222222,\"#7201a8\"],[0.3333333333333333,\"#9c179e\"],[0.4444444444444444,\"#bd3786\"],[0.5555555555555556,\"#d8576b\"],[0.6666666666666666,\"#ed7953\"],[0.7777777777777778,\"#fb9f3a\"],[0.8888888888888888,\"#fdca26\"],[1.0,\"#f0f921\"]]}],\"choropleth\":[{\"type\":\"choropleth\",\"colorbar\":{\"outlinewidth\":0,\"ticks\":\"\"}}],\"histogram2d\":[{\"type\":\"histogram2d\",\"colorbar\":{\"outlinewidth\":0,\"ticks\":\"\"},\"colorscale\":[[0.0,\"#0d0887\"],[0.1111111111111111,\"#46039f\"],[0.2222222222222222,\"#7201a8\"],[0.3333333333333333,\"#9c179e\"],[0.4444444444444444,\"#bd3786\"],[0.5555555555555556,\"#d8576b\"],[0.6666666666666666,\"#ed7953\"],[0.7777777777777778,\"#fb9f3a\"],[0.8888888888888888,\"#fdca26\"],[1.0,\"#f0f921\"]]}],\"heatmap\":[{\"type\":\"heatmap\",\"colorbar\":{\"outlinewidth\":0,\"ticks\":\"\"},\"colorscale\":[[0.0,\"#0d0887\"],[0.1111111111111111,\"#46039f\"],[0.2222222222222222,\"#7201a8\"],[0.3333333333333333,\"#9c179e\"],[0.4444444444444444,\"#bd3786\"],[0.5555555555555556,\"#d8576b\"],[0.6666666666666666,\"#ed7953\"],[0.7777777777777778,\"#fb9f3a\"],[0.8888888888888888,\"#fdca26\"],[1.0,\"#f0f921\"]]}],\"heatmapgl\":[{\"type\":\"heatmapgl\",\"colorbar\":{\"outlinewidth\":0,\"ticks\":\"\"},\"colorscale\":[[0.0,\"#0d0887\"],[0.1111111111111111,\"#46039f\"],[0.2222222222222222,\"#7201a8\"],[0.3333333333333333,\"#9c179e\"],[0.4444444444444444,\"#bd3786\"],[0.5555555555555556,\"#d8576b\"],[0.6666666666666666,\"#ed7953\"],[0.7777777777777778,\"#fb9f3a\"],[0.8888888888888888,\"#fdca26\"],[1.0,\"#f0f921\"]]}],\"contourcarpet\":[{\"type\":\"contourcarpet\",\"colorbar\":{\"outlinewidth\":0,\"ticks\":\"\"}}],\"contour\":[{\"type\":\"contour\",\"colorbar\":{\"outlinewidth\":0,\"ticks\":\"\"},\"colorscale\":[[0.0,\"#0d0887\"],[0.1111111111111111,\"#46039f\"],[0.2222222222222222,\"#7201a8\"],[0.3333333333333333,\"#9c179e\"],[0.4444444444444444,\"#bd3786\"],[0.5555555555555556,\"#d8576b\"],[0.6666666666666666,\"#ed7953\"],[0.7777777777777778,\"#fb9f3a\"],[0.8888888888888888,\"#fdca26\"],[1.0,\"#f0f921\"]]}],\"surface\":[{\"type\":\"surface\",\"colorbar\":{\"outlinewidth\":0,\"ticks\":\"\"},\"colorscale\":[[0.0,\"#0d0887\"],[0.1111111111111111,\"#46039f\"],[0.2222222222222222,\"#7201a8\"],[0.3333333333333333,\"#9c179e\"],[0.4444444444444444,\"#bd3786\"],[0.5555555555555556,\"#d8576b\"],[0.6666666666666666,\"#ed7953\"],[0.7777777777777778,\"#fb9f3a\"],[0.8888888888888888,\"#fdca26\"],[1.0,\"#f0f921\"]]}],\"mesh3d\":[{\"type\":\"mesh3d\",\"colorbar\":{\"outlinewidth\":0,\"ticks\":\"\"}}],\"scatter\":[{\"fillpattern\":{\"fillmode\":\"overlay\",\"size\":10,\"solidity\":0.2},\"type\":\"scatter\"}],\"parcoords\":[{\"type\":\"parcoords\",\"line\":{\"colorbar\":{\"outlinewidth\":0,\"ticks\":\"\"}}}],\"scatterpolargl\":[{\"type\":\"scatterpolargl\",\"marker\":{\"colorbar\":{\"outlinewidth\":0,\"ticks\":\"\"}}}],\"bar\":[{\"error_x\":{\"color\":\"#2a3f5f\"},\"error_y\":{\"color\":\"#2a3f5f\"},\"marker\":{\"line\":{\"color\":\"#E5ECF6\",\"width\":0.5},\"pattern\":{\"fillmode\":\"overlay\",\"size\":10,\"solidity\":0.2}},\"type\":\"bar\"}],\"scattergeo\":[{\"type\":\"scattergeo\",\"marker\":{\"colorbar\":{\"outlinewidth\":0,\"ticks\":\"\"}}}],\"scatterpolar\":[{\"type\":\"scatterpolar\",\"marker\":{\"colorbar\":{\"outlinewidth\":0,\"ticks\":\"\"}}}],\"histogram\":[{\"marker\":{\"pattern\":{\"fillmode\":\"overlay\",\"size\":10,\"solidity\":0.2}},\"type\":\"histogram\"}],\"scattergl\":[{\"type\":\"scattergl\",\"marker\":{\"colorbar\":{\"outlinewidth\":0,\"ticks\":\"\"}}}],\"scatter3d\":[{\"type\":\"scatter3d\",\"line\":{\"colorbar\":{\"outlinewidth\":0,\"ticks\":\"\"}},\"marker\":{\"colorbar\":{\"outlinewidth\":0,\"ticks\":\"\"}}}],\"scattermapbox\":[{\"type\":\"scattermapbox\",\"marker\":{\"colorbar\":{\"outlinewidth\":0,\"ticks\":\"\"}}}],\"scatterternary\":[{\"type\":\"scatterternary\",\"marker\":{\"colorbar\":{\"outlinewidth\":0,\"ticks\":\"\"}}}],\"scattercarpet\":[{\"type\":\"scattercarpet\",\"marker\":{\"colorbar\":{\"outlinewidth\":0,\"ticks\":\"\"}}}],\"carpet\":[{\"aaxis\":{\"endlinecolor\":\"#2a3f5f\",\"gridcolor\":\"white\",\"linecolor\":\"white\",\"minorgridcolor\":\"white\",\"startlinecolor\":\"#2a3f5f\"},\"baxis\":{\"endlinecolor\":\"#2a3f5f\",\"gridcolor\":\"white\",\"linecolor\":\"white\",\"minorgridcolor\":\"white\",\"startlinecolor\":\"#2a3f5f\"},\"type\":\"carpet\"}],\"table\":[{\"cells\":{\"fill\":{\"color\":\"#EBF0F8\"},\"line\":{\"color\":\"white\"}},\"header\":{\"fill\":{\"color\":\"#C8D4E3\"},\"line\":{\"color\":\"white\"}},\"type\":\"table\"}],\"barpolar\":[{\"marker\":{\"line\":{\"color\":\"#E5ECF6\",\"width\":0.5},\"pattern\":{\"fillmode\":\"overlay\",\"size\":10,\"solidity\":0.2}},\"type\":\"barpolar\"}],\"pie\":[{\"automargin\":true,\"type\":\"pie\"}]},\"layout\":{\"autotypenumbers\":\"strict\",\"colorway\":[\"#636efa\",\"#EF553B\",\"#00cc96\",\"#ab63fa\",\"#FFA15A\",\"#19d3f3\",\"#FF6692\",\"#B6E880\",\"#FF97FF\",\"#FECB52\"],\"font\":{\"color\":\"#2a3f5f\"},\"hovermode\":\"closest\",\"hoverlabel\":{\"align\":\"left\"},\"paper_bgcolor\":\"white\",\"plot_bgcolor\":\"#E5ECF6\",\"polar\":{\"bgcolor\":\"#E5ECF6\",\"angularaxis\":{\"gridcolor\":\"white\",\"linecolor\":\"white\",\"ticks\":\"\"},\"radialaxis\":{\"gridcolor\":\"white\",\"linecolor\":\"white\",\"ticks\":\"\"}},\"ternary\":{\"bgcolor\":\"#E5ECF6\",\"aaxis\":{\"gridcolor\":\"white\",\"linecolor\":\"white\",\"ticks\":\"\"},\"baxis\":{\"gridcolor\":\"white\",\"linecolor\":\"white\",\"ticks\":\"\"},\"caxis\":{\"gridcolor\":\"white\",\"linecolor\":\"white\",\"ticks\":\"\"}},\"coloraxis\":{\"colorbar\":{\"outlinewidth\":0,\"ticks\":\"\"}},\"colorscale\":{\"sequential\":[[0.0,\"#0d0887\"],[0.1111111111111111,\"#46039f\"],[0.2222222222222222,\"#7201a8\"],[0.3333333333333333,\"#9c179e\"],[0.4444444444444444,\"#bd3786\"],[0.5555555555555556,\"#d8576b\"],[0.6666666666666666,\"#ed7953\"],[0.7777777777777778,\"#fb9f3a\"],[0.8888888888888888,\"#fdca26\"],[1.0,\"#f0f921\"]],\"sequentialminus\":[[0.0,\"#0d0887\"],[0.1111111111111111,\"#46039f\"],[0.2222222222222222,\"#7201a8\"],[0.3333333333333333,\"#9c179e\"],[0.4444444444444444,\"#bd3786\"],[0.5555555555555556,\"#d8576b\"],[0.6666666666666666,\"#ed7953\"],[0.7777777777777778,\"#fb9f3a\"],[0.8888888888888888,\"#fdca26\"],[1.0,\"#f0f921\"]],\"diverging\":[[0,\"#8e0152\"],[0.1,\"#c51b7d\"],[0.2,\"#de77ae\"],[0.3,\"#f1b6da\"],[0.4,\"#fde0ef\"],[0.5,\"#f7f7f7\"],[0.6,\"#e6f5d0\"],[0.7,\"#b8e186\"],[0.8,\"#7fbc41\"],[0.9,\"#4d9221\"],[1,\"#276419\"]]},\"xaxis\":{\"gridcolor\":\"white\",\"linecolor\":\"white\",\"ticks\":\"\",\"title\":{\"standoff\":15},\"zerolinecolor\":\"white\",\"automargin\":true,\"zerolinewidth\":2},\"yaxis\":{\"gridcolor\":\"white\",\"linecolor\":\"white\",\"ticks\":\"\",\"title\":{\"standoff\":15},\"zerolinecolor\":\"white\",\"automargin\":true,\"zerolinewidth\":2},\"scene\":{\"xaxis\":{\"backgroundcolor\":\"#E5ECF6\",\"gridcolor\":\"white\",\"linecolor\":\"white\",\"showbackground\":true,\"ticks\":\"\",\"zerolinecolor\":\"white\",\"gridwidth\":2},\"yaxis\":{\"backgroundcolor\":\"#E5ECF6\",\"gridcolor\":\"white\",\"linecolor\":\"white\",\"showbackground\":true,\"ticks\":\"\",\"zerolinecolor\":\"white\",\"gridwidth\":2},\"zaxis\":{\"backgroundcolor\":\"#E5ECF6\",\"gridcolor\":\"white\",\"linecolor\":\"white\",\"showbackground\":true,\"ticks\":\"\",\"zerolinecolor\":\"white\",\"gridwidth\":2}},\"shapedefaults\":{\"line\":{\"color\":\"#2a3f5f\"}},\"annotationdefaults\":{\"arrowcolor\":\"#2a3f5f\",\"arrowhead\":0,\"arrowwidth\":1},\"geo\":{\"bgcolor\":\"white\",\"landcolor\":\"#E5ECF6\",\"subunitcolor\":\"white\",\"showland\":true,\"showlakes\":true,\"lakecolor\":\"white\"},\"title\":{\"x\":0.05},\"mapbox\":{\"style\":\"light\"}}},\"xaxis\":{\"anchor\":\"y\",\"domain\":[0.0,1.0],\"title\":{\"text\":\"Country\"}},\"yaxis\":{\"anchor\":\"x\",\"domain\":[0.0,1.0],\"title\":{\"text\":\"sum of Monthly salary+Tax(USD)\"}},\"legend\":{\"tracegroupgap\":0},\"margin\":{\"t\":60},\"barmode\":\"relative\"},                        {\"responsive\": true}                    ).then(function(){\n",
       "                            \n",
       "var gd = document.getElementById('4374fb06-2ddd-4311-b839-fac87d2904d0');\n",
       "var x = new MutationObserver(function (mutations, observer) {{\n",
       "        var display = window.getComputedStyle(gd).display;\n",
       "        if (!display || display === 'none') {{\n",
       "            console.log([gd, 'removed!']);\n",
       "            Plotly.purge(gd);\n",
       "            observer.disconnect();\n",
       "        }}\n",
       "}});\n",
       "\n",
       "// Listen for the removal of the full notebook cells\n",
       "var notebookContainer = gd.closest('#notebook-container');\n",
       "if (notebookContainer) {{\n",
       "    x.observe(notebookContainer, {childList: true});\n",
       "}}\n",
       "\n",
       "// Listen for the clearing of the current output cell\n",
       "var outputEl = gd.closest('.output');\n",
       "if (outputEl) {{\n",
       "    x.observe(outputEl, {childList: true});\n",
       "}}\n",
       "\n",
       "                        })                };                });            </script>        </div>"
      ]
     },
     "metadata": {},
     "output_type": "display_data"
    }
   ],
   "source": [
    "import plotly.express as px\n",
    "fig = px.histogram(new1, x=\"Country\",y=\"Monthly salary+Tax(USD)\")\n",
    "fig.show()"
   ]
  },
  {
   "cell_type": "markdown",
   "id": "965b9c40-abf7-42d0-b95a-90d0c40c6bb7",
   "metadata": {},
   "source": [
    "List top five countries with highest average salary"
   ]
  },
  {
   "cell_type": "code",
   "execution_count": 1398,
   "id": "ee99fb78-fdcb-4bd9-a44e-578275bf1a17",
   "metadata": {},
   "outputs": [],
   "source": [
    "sorted_new=new.sort_values(by=\"Monthly salary+Tax(USD)\",ascending=False)"
   ]
  },
  {
   "cell_type": "code",
   "execution_count": 1399,
   "id": "f130a283-b305-49ba-b583-cccf27019109",
   "metadata": {
    "scrolled": true
   },
   "outputs": [
    {
     "data": {
      "text/html": [
       "<div>\n",
       "<style scoped>\n",
       "    .dataframe tbody tr th:only-of-type {\n",
       "        vertical-align: middle;\n",
       "    }\n",
       "\n",
       "    .dataframe tbody tr th {\n",
       "        vertical-align: top;\n",
       "    }\n",
       "\n",
       "    .dataframe thead th {\n",
       "        text-align: right;\n",
       "    }\n",
       "</style>\n",
       "<table border=\"1\" class=\"dataframe\">\n",
       "  <thead>\n",
       "    <tr style=\"text-align: right;\">\n",
       "      <th></th>\n",
       "      <th>Country</th>\n",
       "      <th>cost of living</th>\n",
       "      <th>cost index</th>\n",
       "      <th>cost of living.Monthly income (USD)</th>\n",
       "      <th>Purchasing Power Index</th>\n",
       "      <th>currency rate</th>\n",
       "      <th>Gdp</th>\n",
       "      <th>population</th>\n",
       "      <th>population.Migrants (net)</th>\n",
       "      <th>Skilled force</th>\n",
       "      <th>technology.2023 rank</th>\n",
       "      <th>Unemployment(%)</th>\n",
       "      <th>Inflation(%)</th>\n",
       "      <th>Monthly salary+Tax(USD)</th>\n",
       "      <th>Literacy rate(%)</th>\n",
       "    </tr>\n",
       "  </thead>\n",
       "  <tbody>\n",
       "    <tr>\n",
       "      <th>36</th>\n",
       "      <td>Luxembourg</td>\n",
       "      <td>16</td>\n",
       "      <td>97.5</td>\n",
       "      <td>7364</td>\n",
       "      <td>112.9</td>\n",
       "      <td>-1.095</td>\n",
       "      <td>128259</td>\n",
       "      <td>673036</td>\n",
       "      <td>5677</td>\n",
       "      <td>351903</td>\n",
       "      <td>18</td>\n",
       "      <td>5.99</td>\n",
       "      <td>1.00</td>\n",
       "      <td>5686.45</td>\n",
       "      <td>100.00</td>\n",
       "    </tr>\n",
       "    <tr>\n",
       "      <th>52</th>\n",
       "      <td>Singapore</td>\n",
       "      <td>30</td>\n",
       "      <td>78.0</td>\n",
       "      <td>5883</td>\n",
       "      <td>112.7</td>\n",
       "      <td>1.075</td>\n",
       "      <td>84734</td>\n",
       "      <td>5832387</td>\n",
       "      <td>20011</td>\n",
       "      <td>3619025</td>\n",
       "      <td>3</td>\n",
       "      <td>1.90</td>\n",
       "      <td>2.00</td>\n",
       "      <td>4293.54</td>\n",
       "      <td>99.90</td>\n",
       "    </tr>\n",
       "    <tr>\n",
       "      <th>48</th>\n",
       "      <td>Qatar</td>\n",
       "      <td>31</td>\n",
       "      <td>76.9</td>\n",
       "      <td>5839</td>\n",
       "      <td>113.5</td>\n",
       "      <td>1.558</td>\n",
       "      <td>87480</td>\n",
       "      <td>3048423</td>\n",
       "      <td>46105</td>\n",
       "      <td>2035269</td>\n",
       "      <td>67</td>\n",
       "      <td>0.30</td>\n",
       "      <td>0.82</td>\n",
       "      <td>4086.40</td>\n",
       "      <td>98.70</td>\n",
       "    </tr>\n",
       "    <tr>\n",
       "      <th>2</th>\n",
       "      <td>Australia</td>\n",
       "      <td>17</td>\n",
       "      <td>96.4</td>\n",
       "      <td>5262</td>\n",
       "      <td>81.6</td>\n",
       "      <td>2.063</td>\n",
       "      <td>64712</td>\n",
       "      <td>26713205</td>\n",
       "      <td>138510</td>\n",
       "      <td>14501414</td>\n",
       "      <td>12</td>\n",
       "      <td>4.21</td>\n",
       "      <td>2.80</td>\n",
       "      <td>3678.75</td>\n",
       "      <td>99.00</td>\n",
       "    </tr>\n",
       "    <tr>\n",
       "      <th>16</th>\n",
       "      <td>Denmark</td>\n",
       "      <td>10</td>\n",
       "      <td>103.9</td>\n",
       "      <td>6113</td>\n",
       "      <td>87.9</td>\n",
       "      <td>1.813</td>\n",
       "      <td>67967</td>\n",
       "      <td>5977412</td>\n",
       "      <td>25639</td>\n",
       "      <td>3179505</td>\n",
       "      <td>16</td>\n",
       "      <td>4.89</td>\n",
       "      <td>1.60</td>\n",
       "      <td>3596.29</td>\n",
       "      <td>99.00</td>\n",
       "    </tr>\n",
       "    <tr>\n",
       "      <th>59</th>\n",
       "      <td>United Arab Emirates</td>\n",
       "      <td>34</td>\n",
       "      <td>72.1</td>\n",
       "      <td>4441</td>\n",
       "      <td>92.1</td>\n",
       "      <td>3.404</td>\n",
       "      <td>52977</td>\n",
       "      <td>11027129</td>\n",
       "      <td>278439</td>\n",
       "      <td>6668172</td>\n",
       "      <td>37</td>\n",
       "      <td>3.40</td>\n",
       "      <td>2.50</td>\n",
       "      <td>3300.22</td>\n",
       "      <td>99.70</td>\n",
       "    </tr>\n",
       "    <tr>\n",
       "      <th>43</th>\n",
       "      <td>Norway</td>\n",
       "      <td>20</td>\n",
       "      <td>90.8</td>\n",
       "      <td>8538</td>\n",
       "      <td>140.6</td>\n",
       "      <td>0.514</td>\n",
       "      <td>87962</td>\n",
       "      <td>5576660</td>\n",
       "      <td>44356</td>\n",
       "      <td>3009339</td>\n",
       "      <td>13</td>\n",
       "      <td>3.80</td>\n",
       "      <td>2.60</td>\n",
       "      <td>3286.54</td>\n",
       "      <td>100.00</td>\n",
       "    </tr>\n",
       "    <tr>\n",
       "      <th>60</th>\n",
       "      <td>United Kingdom</td>\n",
       "      <td>19</td>\n",
       "      <td>92.9</td>\n",
       "      <td>3983</td>\n",
       "      <td>64.1</td>\n",
       "      <td>0.145</td>\n",
       "      <td>48867</td>\n",
       "      <td>69138192</td>\n",
       "      <td>417114</td>\n",
       "      <td>35275169</td>\n",
       "      <td>17</td>\n",
       "      <td>4.15</td>\n",
       "      <td>1.70</td>\n",
       "      <td>3105.98</td>\n",
       "      <td>99.76</td>\n",
       "    </tr>\n",
       "    <tr>\n",
       "      <th>29</th>\n",
       "      <td>Ireland</td>\n",
       "      <td>11</td>\n",
       "      <td>102.7</td>\n",
       "      <td>6699</td>\n",
       "      <td>97.4</td>\n",
       "      <td>-3.199</td>\n",
       "      <td>103685</td>\n",
       "      <td>5255017</td>\n",
       "      <td>39059</td>\n",
       "      <td>2766155</td>\n",
       "      <td>14</td>\n",
       "      <td>4.38</td>\n",
       "      <td>0.70</td>\n",
       "      <td>3073.35</td>\n",
       "      <td>99.00</td>\n",
       "    </tr>\n",
       "    <tr>\n",
       "      <th>23</th>\n",
       "      <td>Germany</td>\n",
       "      <td>29</td>\n",
       "      <td>79.5</td>\n",
       "      <td>4498</td>\n",
       "      <td>84.6</td>\n",
       "      <td>-0.305</td>\n",
       "      <td>52746</td>\n",
       "      <td>84552242</td>\n",
       "      <td>36954</td>\n",
       "      <td>44783712</td>\n",
       "      <td>7</td>\n",
       "      <td>3.29</td>\n",
       "      <td>2.00</td>\n",
       "      <td>2984.93</td>\n",
       "      <td>99.00</td>\n",
       "    </tr>\n",
       "    <tr>\n",
       "      <th>41</th>\n",
       "      <td>New Zealand</td>\n",
       "      <td>18</td>\n",
       "      <td>94.3</td>\n",
       "      <td>4051</td>\n",
       "      <td>64.2</td>\n",
       "      <td>0.633</td>\n",
       "      <td>48528</td>\n",
       "      <td>5213944</td>\n",
       "      <td>18766</td>\n",
       "      <td>3068205</td>\n",
       "      <td>23</td>\n",
       "      <td>5.04</td>\n",
       "      <td>2.20</td>\n",
       "      <td>2962.58</td>\n",
       "      <td>99.00</td>\n",
       "    </tr>\n",
       "    <tr>\n",
       "      <th>10</th>\n",
       "      <td>Canada</td>\n",
       "      <td>21</td>\n",
       "      <td>90.7</td>\n",
       "      <td>4494</td>\n",
       "      <td>74.1</td>\n",
       "      <td>1.066</td>\n",
       "      <td>53372</td>\n",
       "      <td>39742430</td>\n",
       "      <td>368599</td>\n",
       "      <td>22110473</td>\n",
       "      <td>11</td>\n",
       "      <td>6.32</td>\n",
       "      <td>1.60</td>\n",
       "      <td>2818.53</td>\n",
       "      <td>99.00</td>\n",
       "    </tr>\n",
       "    <tr>\n",
       "      <th>20</th>\n",
       "      <td>Finland</td>\n",
       "      <td>22</td>\n",
       "      <td>90.2</td>\n",
       "      <td>4449</td>\n",
       "      <td>73.7</td>\n",
       "      <td>-0.957</td>\n",
       "      <td>53756</td>\n",
       "      <td>5617310</td>\n",
       "      <td>26894</td>\n",
       "      <td>2879817</td>\n",
       "      <td>8</td>\n",
       "      <td>7.60</td>\n",
       "      <td>0.80</td>\n",
       "      <td>2818.03</td>\n",
       "      <td>99.00</td>\n",
       "    </tr>\n",
       "    <tr>\n",
       "      <th>56</th>\n",
       "      <td>Sweden</td>\n",
       "      <td>26</td>\n",
       "      <td>82.4</td>\n",
       "      <td>5138</td>\n",
       "      <td>93.2</td>\n",
       "      <td>-0.196</td>\n",
       "      <td>56305</td>\n",
       "      <td>10606999</td>\n",
       "      <td>50115</td>\n",
       "      <td>5825253</td>\n",
       "      <td>2</td>\n",
       "      <td>8.36</td>\n",
       "      <td>1.60</td>\n",
       "      <td>2807.55</td>\n",
       "      <td>99.00</td>\n",
       "    </tr>\n",
       "    <tr>\n",
       "      <th>30</th>\n",
       "      <td>Israel</td>\n",
       "      <td>8</td>\n",
       "      <td>105.3</td>\n",
       "      <td>4585</td>\n",
       "      <td>65.1</td>\n",
       "      <td>2.003</td>\n",
       "      <td>52262</td>\n",
       "      <td>9387021</td>\n",
       "      <td>10612</td>\n",
       "      <td>4553808</td>\n",
       "      <td>20</td>\n",
       "      <td>3.70</td>\n",
       "      <td>3.50</td>\n",
       "      <td>2703.21</td>\n",
       "      <td>97.10</td>\n",
       "    </tr>\n",
       "    <tr>\n",
       "      <th>3</th>\n",
       "      <td>Austria</td>\n",
       "      <td>27</td>\n",
       "      <td>80.9</td>\n",
       "      <td>4589</td>\n",
       "      <td>84.8</td>\n",
       "      <td>-0.746</td>\n",
       "      <td>56506</td>\n",
       "      <td>9120813</td>\n",
       "      <td>8813</td>\n",
       "      <td>4825387</td>\n",
       "      <td>24</td>\n",
       "      <td>5.40</td>\n",
       "      <td>1.80</td>\n",
       "      <td>2579.59</td>\n",
       "      <td>98.00</td>\n",
       "    </tr>\n",
       "    <tr>\n",
       "      <th>7</th>\n",
       "      <td>Belgium</td>\n",
       "      <td>25</td>\n",
       "      <td>83.7</td>\n",
       "      <td>4544</td>\n",
       "      <td>81.1</td>\n",
       "      <td>1.461</td>\n",
       "      <td>53475</td>\n",
       "      <td>11738763</td>\n",
       "      <td>36243</td>\n",
       "      <td>5432007</td>\n",
       "      <td>10</td>\n",
       "      <td>5.51</td>\n",
       "      <td>3.20</td>\n",
       "      <td>2563.22</td>\n",
       "      <td>99.00</td>\n",
       "    </tr>\n",
       "    <tr>\n",
       "      <th>21</th>\n",
       "      <td>France</td>\n",
       "      <td>28</td>\n",
       "      <td>79.8</td>\n",
       "      <td>3756</td>\n",
       "      <td>70.4</td>\n",
       "      <td>0.869</td>\n",
       "      <td>44461</td>\n",
       "      <td>66548530</td>\n",
       "      <td>90527</td>\n",
       "      <td>31825317</td>\n",
       "      <td>15</td>\n",
       "      <td>7.36</td>\n",
       "      <td>1.20</td>\n",
       "      <td>2486.51</td>\n",
       "      <td>99.00</td>\n",
       "    </tr>\n",
       "    <tr>\n",
       "      <th>50</th>\n",
       "      <td>Saudi Arabia</td>\n",
       "      <td>50</td>\n",
       "      <td>50.8</td>\n",
       "      <td>2391</td>\n",
       "      <td>70.4</td>\n",
       "      <td>-0.755</td>\n",
       "      <td>28895</td>\n",
       "      <td>33962757</td>\n",
       "      <td>122170</td>\n",
       "      <td>16933906</td>\n",
       "      <td>47</td>\n",
       "      <td>4.80</td>\n",
       "      <td>1.70</td>\n",
       "      <td>2198.45</td>\n",
       "      <td>99.50</td>\n",
       "    </tr>\n",
       "    <tr>\n",
       "      <th>32</th>\n",
       "      <td>Japan</td>\n",
       "      <td>33</td>\n",
       "      <td>74.7</td>\n",
       "      <td>3253</td>\n",
       "      <td>65.0</td>\n",
       "      <td>1.923</td>\n",
       "      <td>33834</td>\n",
       "      <td>123753041</td>\n",
       "      <td>153357</td>\n",
       "      <td>69349452</td>\n",
       "      <td>19</td>\n",
       "      <td>2.50</td>\n",
       "      <td>2.50</td>\n",
       "      <td>2059.60</td>\n",
       "      <td>99.00</td>\n",
       "    </tr>\n",
       "    <tr>\n",
       "      <th>54</th>\n",
       "      <td>Spain</td>\n",
       "      <td>38</td>\n",
       "      <td>67.3</td>\n",
       "      <td>2682</td>\n",
       "      <td>59.6</td>\n",
       "      <td>2.501</td>\n",
       "      <td>32677</td>\n",
       "      <td>47910526</td>\n",
       "      <td>111674</td>\n",
       "      <td>24107955</td>\n",
       "      <td>21</td>\n",
       "      <td>12.29</td>\n",
       "      <td>1.80</td>\n",
       "      <td>1851.82</td>\n",
       "      <td>99.60</td>\n",
       "    </tr>\n",
       "    <tr>\n",
       "      <th>31</th>\n",
       "      <td>Italy</td>\n",
       "      <td>35</td>\n",
       "      <td>71.8</td>\n",
       "      <td>3183</td>\n",
       "      <td>66.3</td>\n",
       "      <td>0.921</td>\n",
       "      <td>38373</td>\n",
       "      <td>59342867</td>\n",
       "      <td>95246</td>\n",
       "      <td>25668665</td>\n",
       "      <td>25</td>\n",
       "      <td>7.83</td>\n",
       "      <td>0.90</td>\n",
       "      <td>1716.62</td>\n",
       "      <td>99.90</td>\n",
       "    </tr>\n",
       "    <tr>\n",
       "      <th>19</th>\n",
       "      <td>Estonia</td>\n",
       "      <td>37</td>\n",
       "      <td>71.0</td>\n",
       "      <td>2270</td>\n",
       "      <td>47.8</td>\n",
       "      <td>-3.006</td>\n",
       "      <td>29824</td>\n",
       "      <td>1360546</td>\n",
       "      <td>-7742</td>\n",
       "      <td>752419</td>\n",
       "      <td>29</td>\n",
       "      <td>8.06</td>\n",
       "      <td>4.10</td>\n",
       "      <td>1525.26</td>\n",
       "      <td>100.00</td>\n",
       "    </tr>\n",
       "    <tr>\n",
       "      <th>46</th>\n",
       "      <td>Poland</td>\n",
       "      <td>56</td>\n",
       "      <td>47.8</td>\n",
       "      <td>1644</td>\n",
       "      <td>51.4</td>\n",
       "      <td>0.160</td>\n",
       "      <td>22113</td>\n",
       "      <td>38539201</td>\n",
       "      <td>-238062</td>\n",
       "      <td>18387400</td>\n",
       "      <td>27</td>\n",
       "      <td>2.93</td>\n",
       "      <td>5.00</td>\n",
       "      <td>1439.95</td>\n",
       "      <td>99.90</td>\n",
       "    </tr>\n",
       "    <tr>\n",
       "      <th>53</th>\n",
       "      <td>South Africa</td>\n",
       "      <td>62</td>\n",
       "      <td>41.2</td>\n",
       "      <td>563</td>\n",
       "      <td>20.4</td>\n",
       "      <td>0.602</td>\n",
       "      <td>6253</td>\n",
       "      <td>64007187</td>\n",
       "      <td>166972</td>\n",
       "      <td>25158403</td>\n",
       "      <td>56</td>\n",
       "      <td>33.50</td>\n",
       "      <td>3.80</td>\n",
       "      <td>1387.56</td>\n",
       "      <td>96.70</td>\n",
       "    </tr>\n",
       "    <tr>\n",
       "      <th>15</th>\n",
       "      <td>Croatia</td>\n",
       "      <td>47</td>\n",
       "      <td>55.0</td>\n",
       "      <td>1723</td>\n",
       "      <td>46.8</td>\n",
       "      <td>2.831</td>\n",
       "      <td>21460</td>\n",
       "      <td>3875325</td>\n",
       "      <td>-5186</td>\n",
       "      <td>1744221</td>\n",
       "      <td>42</td>\n",
       "      <td>5.77</td>\n",
       "      <td>2.20</td>\n",
       "      <td>1361.96</td>\n",
       "      <td>99.80</td>\n",
       "    </tr>\n",
       "    <tr>\n",
       "      <th>47</th>\n",
       "      <td>Portugal</td>\n",
       "      <td>42</td>\n",
       "      <td>63.5</td>\n",
       "      <td>2189</td>\n",
       "      <td>51.6</td>\n",
       "      <td>2.280</td>\n",
       "      <td>27275</td>\n",
       "      <td>10425292</td>\n",
       "      <td>20648</td>\n",
       "      <td>5418819</td>\n",
       "      <td>33</td>\n",
       "      <td>6.48</td>\n",
       "      <td>2.30</td>\n",
       "      <td>1105.82</td>\n",
       "      <td>99.70</td>\n",
       "    </tr>\n",
       "    <tr>\n",
       "      <th>24</th>\n",
       "      <td>Greece</td>\n",
       "      <td>43</td>\n",
       "      <td>63.2</td>\n",
       "      <td>1882</td>\n",
       "      <td>44.5</td>\n",
       "      <td>2.011</td>\n",
       "      <td>22990</td>\n",
       "      <td>10047817</td>\n",
       "      <td>-122772</td>\n",
       "      <td>4645359</td>\n",
       "      <td>44</td>\n",
       "      <td>9.36</td>\n",
       "      <td>2.40</td>\n",
       "      <td>1012.20</td>\n",
       "      <td>95.29</td>\n",
       "    </tr>\n",
       "    <tr>\n",
       "      <th>9</th>\n",
       "      <td>Bulgaria</td>\n",
       "      <td>60</td>\n",
       "      <td>43.3</td>\n",
       "      <td>1205</td>\n",
       "      <td>41.6</td>\n",
       "      <td>1.846</td>\n",
       "      <td>15798</td>\n",
       "      <td>6757689</td>\n",
       "      <td>524</td>\n",
       "      <td>3102757</td>\n",
       "      <td>43</td>\n",
       "      <td>4.30</td>\n",
       "      <td>1.20</td>\n",
       "      <td>1011.33</td>\n",
       "      <td>98.10</td>\n",
       "    </tr>\n",
       "    <tr>\n",
       "      <th>14</th>\n",
       "      <td>Costa Rica</td>\n",
       "      <td>39</td>\n",
       "      <td>67.2</td>\n",
       "      <td>1154</td>\n",
       "      <td>25.7</td>\n",
       "      <td>5.112</td>\n",
       "      <td>16595</td>\n",
       "      <td>5129910</td>\n",
       "      <td>967</td>\n",
       "      <td>2407610</td>\n",
       "      <td>57</td>\n",
       "      <td>8.29</td>\n",
       "      <td>-0.79</td>\n",
       "      <td>964.67</td>\n",
       "      <td>99.50</td>\n",
       "    </tr>\n",
       "    <tr>\n",
       "      <th>25</th>\n",
       "      <td>Hungary</td>\n",
       "      <td>48</td>\n",
       "      <td>54.9</td>\n",
       "      <td>1652</td>\n",
       "      <td>44.9</td>\n",
       "      <td>-0.908</td>\n",
       "      <td>22147</td>\n",
       "      <td>9676135</td>\n",
       "      <td>16223</td>\n",
       "      <td>5005562</td>\n",
       "      <td>36</td>\n",
       "      <td>4.40</td>\n",
       "      <td>3.20</td>\n",
       "      <td>961.67</td>\n",
       "      <td>98.70</td>\n",
       "    </tr>\n",
       "    <tr>\n",
       "      <th>12</th>\n",
       "      <td>China</td>\n",
       "      <td>49</td>\n",
       "      <td>51.5</td>\n",
       "      <td>1117</td>\n",
       "      <td>32.4</td>\n",
       "      <td>5.240</td>\n",
       "      <td>12614</td>\n",
       "      <td>1419321278</td>\n",
       "      <td>-318992</td>\n",
       "      <td>779245529</td>\n",
       "      <td>35</td>\n",
       "      <td>5.10</td>\n",
       "      <td>0.30</td>\n",
       "      <td>938.91</td>\n",
       "      <td>99.80</td>\n",
       "    </tr>\n",
       "    <tr>\n",
       "      <th>37</th>\n",
       "      <td>Malaysia</td>\n",
       "      <td>82</td>\n",
       "      <td>32.2</td>\n",
       "      <td>998</td>\n",
       "      <td>46.4</td>\n",
       "      <td>3.680</td>\n",
       "      <td>11649</td>\n",
       "      <td>35557673</td>\n",
       "      <td>174770</td>\n",
       "      <td>17307639</td>\n",
       "      <td>32</td>\n",
       "      <td>3.52</td>\n",
       "      <td>1.80</td>\n",
       "      <td>922.50</td>\n",
       "      <td>96.00</td>\n",
       "    </tr>\n",
       "    <tr>\n",
       "      <th>49</th>\n",
       "      <td>Romania</td>\n",
       "      <td>59</td>\n",
       "      <td>43.6</td>\n",
       "      <td>1389</td>\n",
       "      <td>47.6</td>\n",
       "      <td>2.110</td>\n",
       "      <td>18419</td>\n",
       "      <td>19015088</td>\n",
       "      <td>-28466</td>\n",
       "      <td>8282417</td>\n",
       "      <td>45</td>\n",
       "      <td>5.60</td>\n",
       "      <td>4.70</td>\n",
       "      <td>919.76</td>\n",
       "      <td>99.90</td>\n",
       "    </tr>\n",
       "    <tr>\n",
       "      <th>51</th>\n",
       "      <td>Serbia</td>\n",
       "      <td>53</td>\n",
       "      <td>49.1</td>\n",
       "      <td>836</td>\n",
       "      <td>25.5</td>\n",
       "      <td>2.528</td>\n",
       "      <td>11361</td>\n",
       "      <td>6736216</td>\n",
       "      <td>-8132</td>\n",
       "      <td>3333428</td>\n",
       "      <td>50</td>\n",
       "      <td>9.40</td>\n",
       "      <td>4.50</td>\n",
       "      <td>776.48</td>\n",
       "      <td>100.00</td>\n",
       "    </tr>\n",
       "    <tr>\n",
       "      <th>11</th>\n",
       "      <td>Chile</td>\n",
       "      <td>46</td>\n",
       "      <td>58.5</td>\n",
       "      <td>1318</td>\n",
       "      <td>33.7</td>\n",
       "      <td>0.219</td>\n",
       "      <td>17093</td>\n",
       "      <td>19764771</td>\n",
       "      <td>58316</td>\n",
       "      <td>9847754</td>\n",
       "      <td>48</td>\n",
       "      <td>8.71</td>\n",
       "      <td>4.70</td>\n",
       "      <td>670.31</td>\n",
       "      <td>99.30</td>\n",
       "    </tr>\n",
       "    <tr>\n",
       "      <th>38</th>\n",
       "      <td>Mexico</td>\n",
       "      <td>45</td>\n",
       "      <td>60.7</td>\n",
       "      <td>1008</td>\n",
       "      <td>24.8</td>\n",
       "      <td>3.229</td>\n",
       "      <td>13926</td>\n",
       "      <td>130861007</td>\n",
       "      <td>-104581</td>\n",
       "      <td>60042318</td>\n",
       "      <td>61</td>\n",
       "      <td>2.80</td>\n",
       "      <td>4.76</td>\n",
       "      <td>653.23</td>\n",
       "      <td>98.90</td>\n",
       "    </tr>\n",
       "    <tr>\n",
       "      <th>0</th>\n",
       "      <td>Albania</td>\n",
       "      <td>55</td>\n",
       "      <td>47.9</td>\n",
       "      <td>631</td>\n",
       "      <td>19.7</td>\n",
       "      <td>3.297</td>\n",
       "      <td>8368</td>\n",
       "      <td>2791765</td>\n",
       "      <td>-24472</td>\n",
       "      <td>1387831</td>\n",
       "      <td>88</td>\n",
       "      <td>11.00</td>\n",
       "      <td>1.90</td>\n",
       "      <td>634.13</td>\n",
       "      <td>99.50</td>\n",
       "    </tr>\n",
       "    <tr>\n",
       "      <th>26</th>\n",
       "      <td>India</td>\n",
       "      <td>106</td>\n",
       "      <td>23.6</td>\n",
       "      <td>212</td>\n",
       "      <td>13.4</td>\n",
       "      <td>7.827</td>\n",
       "      <td>2485</td>\n",
       "      <td>1450935791</td>\n",
       "      <td>-630830</td>\n",
       "      <td>593729164</td>\n",
       "      <td>46</td>\n",
       "      <td>7.80</td>\n",
       "      <td>6.21</td>\n",
       "      <td>608.55</td>\n",
       "      <td>96.50</td>\n",
       "    </tr>\n",
       "    <tr>\n",
       "      <th>57</th>\n",
       "      <td>Thailand</td>\n",
       "      <td>81</td>\n",
       "      <td>32.2</td>\n",
       "      <td>598</td>\n",
       "      <td>27.8</td>\n",
       "      <td>1.872</td>\n",
       "      <td>7172</td>\n",
       "      <td>71668011</td>\n",
       "      <td>23321</td>\n",
       "      <td>40813511</td>\n",
       "      <td>49</td>\n",
       "      <td>1.10</td>\n",
       "      <td>0.83</td>\n",
       "      <td>584.14</td>\n",
       "      <td>98.80</td>\n",
       "    </tr>\n",
       "    <tr>\n",
       "      <th>33</th>\n",
       "      <td>Kazakhstan</td>\n",
       "      <td>70</td>\n",
       "      <td>36.6</td>\n",
       "      <td>912</td>\n",
       "      <td>37.2</td>\n",
       "      <td>5.101</td>\n",
       "      <td>13137</td>\n",
       "      <td>20592571</td>\n",
       "      <td>-7368</td>\n",
       "      <td>9587167</td>\n",
       "      <td>68</td>\n",
       "      <td>4.78</td>\n",
       "      <td>8.50</td>\n",
       "      <td>568.13</td>\n",
       "      <td>99.90</td>\n",
       "    </tr>\n",
       "    <tr>\n",
       "      <th>28</th>\n",
       "      <td>Iraq</td>\n",
       "      <td>64</td>\n",
       "      <td>40.5</td>\n",
       "      <td>467</td>\n",
       "      <td>17.2</td>\n",
       "      <td>-2.176</td>\n",
       "      <td>5512</td>\n",
       "      <td>46042015</td>\n",
       "      <td>-17735</td>\n",
       "      <td>11811525</td>\n",
       "      <td>107</td>\n",
       "      <td>14.20</td>\n",
       "      <td>3.10</td>\n",
       "      <td>529.19</td>\n",
       "      <td>93.50</td>\n",
       "    </tr>\n",
       "    <tr>\n",
       "      <th>6</th>\n",
       "      <td>Belarus</td>\n",
       "      <td>94</td>\n",
       "      <td>29.3</td>\n",
       "      <td>648</td>\n",
       "      <td>33.0</td>\n",
       "      <td>3.882</td>\n",
       "      <td>7829</td>\n",
       "      <td>9056696</td>\n",
       "      <td>-3119</td>\n",
       "      <td>4956149</td>\n",
       "      <td>55</td>\n",
       "      <td>3.04</td>\n",
       "      <td>6.00</td>\n",
       "      <td>522.44</td>\n",
       "      <td>99.90</td>\n",
       "    </tr>\n",
       "    <tr>\n",
       "      <th>22</th>\n",
       "      <td>Georgia</td>\n",
       "      <td>90</td>\n",
       "      <td>30.4</td>\n",
       "      <td>557</td>\n",
       "      <td>27.3</td>\n",
       "      <td>7.474</td>\n",
       "      <td>8120</td>\n",
       "      <td>3807670</td>\n",
       "      <td>1745</td>\n",
       "      <td>1853143</td>\n",
       "      <td>79</td>\n",
       "      <td>15.70</td>\n",
       "      <td>0.30</td>\n",
       "      <td>505.05</td>\n",
       "      <td>99.70</td>\n",
       "    </tr>\n",
       "    <tr>\n",
       "      <th>18</th>\n",
       "      <td>El Salvador</td>\n",
       "      <td>54</td>\n",
       "      <td>49.0</td>\n",
       "      <td>410</td>\n",
       "      <td>12.5</td>\n",
       "      <td>3.498</td>\n",
       "      <td>5344</td>\n",
       "      <td>6338193</td>\n",
       "      <td>-23102</td>\n",
       "      <td>2870401</td>\n",
       "      <td>102</td>\n",
       "      <td>5.50</td>\n",
       "      <td>-0.07</td>\n",
       "      <td>501.07</td>\n",
       "      <td>98.30</td>\n",
       "    </tr>\n",
       "    <tr>\n",
       "      <th>17</th>\n",
       "      <td>Ecuador</td>\n",
       "      <td>57</td>\n",
       "      <td>45.6</td>\n",
       "      <td>543</td>\n",
       "      <td>17.8</td>\n",
       "      <td>2.284</td>\n",
       "      <td>6533</td>\n",
       "      <td>18135478</td>\n",
       "      <td>-19704</td>\n",
       "      <td>8893065</td>\n",
       "      <td>90</td>\n",
       "      <td>4.20</td>\n",
       "      <td>1.36</td>\n",
       "      <td>495.25</td>\n",
       "      <td>96.40</td>\n",
       "    </tr>\n",
       "    <tr>\n",
       "      <th>4</th>\n",
       "      <td>Azerbaijan</td>\n",
       "      <td>84</td>\n",
       "      <td>31.3</td>\n",
       "      <td>557</td>\n",
       "      <td>26.6</td>\n",
       "      <td>1.100</td>\n",
       "      <td>7155</td>\n",
       "      <td>10336577</td>\n",
       "      <td>10864</td>\n",
       "      <td>5473196</td>\n",
       "      <td>96</td>\n",
       "      <td>5.52</td>\n",
       "      <td>3.50</td>\n",
       "      <td>456.50</td>\n",
       "      <td>99.90</td>\n",
       "    </tr>\n",
       "    <tr>\n",
       "      <th>39</th>\n",
       "      <td>Morocco</td>\n",
       "      <td>63</td>\n",
       "      <td>40.6</td>\n",
       "      <td>308</td>\n",
       "      <td>11.3</td>\n",
       "      <td>3.017</td>\n",
       "      <td>3672</td>\n",
       "      <td>38081173</td>\n",
       "      <td>-46802</td>\n",
       "      <td>12284010</td>\n",
       "      <td>70</td>\n",
       "      <td>12.00</td>\n",
       "      <td>0.80</td>\n",
       "      <td>418.32</td>\n",
       "      <td>98.50</td>\n",
       "    </tr>\n",
       "    <tr>\n",
       "      <th>8</th>\n",
       "      <td>Brazil</td>\n",
       "      <td>51</td>\n",
       "      <td>49.8</td>\n",
       "      <td>756</td>\n",
       "      <td>22.7</td>\n",
       "      <td>2.908</td>\n",
       "      <td>10044</td>\n",
       "      <td>211998573</td>\n",
       "      <td>-225510</td>\n",
       "      <td>108695239</td>\n",
       "      <td>40</td>\n",
       "      <td>7.50</td>\n",
       "      <td>4.76</td>\n",
       "      <td>414.62</td>\n",
       "      <td>99.30</td>\n",
       "    </tr>\n",
       "    <tr>\n",
       "      <th>45</th>\n",
       "      <td>Philippines</td>\n",
       "      <td>67</td>\n",
       "      <td>37.2</td>\n",
       "      <td>353</td>\n",
       "      <td>14.2</td>\n",
       "      <td>5.568</td>\n",
       "      <td>3726</td>\n",
       "      <td>115843670</td>\n",
       "      <td>-160373</td>\n",
       "      <td>49477060</td>\n",
       "      <td>54</td>\n",
       "      <td>4.50</td>\n",
       "      <td>2.30</td>\n",
       "      <td>378.58</td>\n",
       "      <td>99.20</td>\n",
       "    </tr>\n",
       "    <tr>\n",
       "      <th>34</th>\n",
       "      <td>Kenya</td>\n",
       "      <td>83</td>\n",
       "      <td>31.4</td>\n",
       "      <td>176</td>\n",
       "      <td>8.4</td>\n",
       "      <td>5.507</td>\n",
       "      <td>1950</td>\n",
       "      <td>56432944</td>\n",
       "      <td>-19781</td>\n",
       "      <td>25501846</td>\n",
       "      <td>117</td>\n",
       "      <td>5.70</td>\n",
       "      <td>2.70</td>\n",
       "      <td>360.47</td>\n",
       "      <td>89.00</td>\n",
       "    </tr>\n",
       "    <tr>\n",
       "      <th>13</th>\n",
       "      <td>Colombia</td>\n",
       "      <td>68</td>\n",
       "      <td>36.9</td>\n",
       "      <td>573</td>\n",
       "      <td>23.2</td>\n",
       "      <td>0.612</td>\n",
       "      <td>6980</td>\n",
       "      <td>52886363</td>\n",
       "      <td>141643</td>\n",
       "      <td>26003385</td>\n",
       "      <td>72</td>\n",
       "      <td>9.87</td>\n",
       "      <td>5.41</td>\n",
       "      <td>350.64</td>\n",
       "      <td>98.90</td>\n",
       "    </tr>\n",
       "    <tr>\n",
       "      <th>35</th>\n",
       "      <td>Libya</td>\n",
       "      <td>104</td>\n",
       "      <td>24.4</td>\n",
       "      <td>631</td>\n",
       "      <td>38.7</td>\n",
       "      <td>10.156</td>\n",
       "      <td>7330</td>\n",
       "      <td>7381023</td>\n",
       "      <td>3448</td>\n",
       "      <td>2397855</td>\n",
       "      <td>122</td>\n",
       "      <td>19.60</td>\n",
       "      <td>2.70</td>\n",
       "      <td>326.36</td>\n",
       "      <td>91.12</td>\n",
       "    </tr>\n",
       "    <tr>\n",
       "      <th>27</th>\n",
       "      <td>Indonesia</td>\n",
       "      <td>72</td>\n",
       "      <td>33.7</td>\n",
       "      <td>406</td>\n",
       "      <td>18.0</td>\n",
       "      <td>5.048</td>\n",
       "      <td>4940</td>\n",
       "      <td>283487931</td>\n",
       "      <td>-38469</td>\n",
       "      <td>140931083</td>\n",
       "      <td>85</td>\n",
       "      <td>5.20</td>\n",
       "      <td>1.71</td>\n",
       "      <td>315.65</td>\n",
       "      <td>99.80</td>\n",
       "    </tr>\n",
       "    <tr>\n",
       "      <th>58</th>\n",
       "      <td>Tunisia</td>\n",
       "      <td>93</td>\n",
       "      <td>29.6</td>\n",
       "      <td>314</td>\n",
       "      <td>15.8</td>\n",
       "      <td>0.425</td>\n",
       "      <td>3895</td>\n",
       "      <td>12277109</td>\n",
       "      <td>-15221</td>\n",
       "      <td>4445313</td>\n",
       "      <td>66</td>\n",
       "      <td>16.10</td>\n",
       "      <td>6.70</td>\n",
       "      <td>291.18</td>\n",
       "      <td>96.80</td>\n",
       "    </tr>\n",
       "    <tr>\n",
       "      <th>5</th>\n",
       "      <td>Bangladesh</td>\n",
       "      <td>95</td>\n",
       "      <td>28.5</td>\n",
       "      <td>238</td>\n",
       "      <td>12.5</td>\n",
       "      <td>6.025</td>\n",
       "      <td>2529</td>\n",
       "      <td>173562364</td>\n",
       "      <td>-473362</td>\n",
       "      <td>74913612</td>\n",
       "      <td>126</td>\n",
       "      <td>5.20</td>\n",
       "      <td>9.92</td>\n",
       "      <td>239.43</td>\n",
       "      <td>94.80</td>\n",
       "    </tr>\n",
       "    <tr>\n",
       "      <th>1</th>\n",
       "      <td>Algeria</td>\n",
       "      <td>89</td>\n",
       "      <td>30.7</td>\n",
       "      <td>413</td>\n",
       "      <td>20.1</td>\n",
       "      <td>4.184</td>\n",
       "      <td>5260</td>\n",
       "      <td>46814308</td>\n",
       "      <td>-31240</td>\n",
       "      <td>13425064</td>\n",
       "      <td>97</td>\n",
       "      <td>12.70</td>\n",
       "      <td>4.56</td>\n",
       "      <td>228.37</td>\n",
       "      <td>74.00</td>\n",
       "    </tr>\n",
       "    <tr>\n",
       "      <th>40</th>\n",
       "      <td>Nepal</td>\n",
       "      <td>99</td>\n",
       "      <td>26.3</td>\n",
       "      <td>114</td>\n",
       "      <td>6.5</td>\n",
       "      <td>0.832</td>\n",
       "      <td>1324</td>\n",
       "      <td>29651054</td>\n",
       "      <td>-401282</td>\n",
       "      <td>8937228</td>\n",
       "      <td>106</td>\n",
       "      <td>5.10</td>\n",
       "      <td>3.85</td>\n",
       "      <td>215.71</td>\n",
       "      <td>94.20</td>\n",
       "    </tr>\n",
       "    <tr>\n",
       "      <th>55</th>\n",
       "      <td>Sri Lanka</td>\n",
       "      <td>97</td>\n",
       "      <td>27.5</td>\n",
       "      <td>295</td>\n",
       "      <td>16.0</td>\n",
       "      <td>12.100</td>\n",
       "      <td>3828</td>\n",
       "      <td>23103565</td>\n",
       "      <td>-27245</td>\n",
       "      <td>8707414</td>\n",
       "      <td>89</td>\n",
       "      <td>4.30</td>\n",
       "      <td>-0.80</td>\n",
       "      <td>206.76</td>\n",
       "      <td>98.80</td>\n",
       "    </tr>\n",
       "    <tr>\n",
       "      <th>44</th>\n",
       "      <td>Pakistan</td>\n",
       "      <td>108</td>\n",
       "      <td>21.3</td>\n",
       "      <td>125</td>\n",
       "      <td>8.8</td>\n",
       "      <td>-0.166</td>\n",
       "      <td>1407</td>\n",
       "      <td>251269164</td>\n",
       "      <td>-1401173</td>\n",
       "      <td>80989797</td>\n",
       "      <td>125</td>\n",
       "      <td>8.00</td>\n",
       "      <td>7.20</td>\n",
       "      <td>182.06</td>\n",
       "      <td>72.70</td>\n",
       "    </tr>\n",
       "    <tr>\n",
       "      <th>42</th>\n",
       "      <td>Nigeria</td>\n",
       "      <td>79</td>\n",
       "      <td>32.4</td>\n",
       "      <td>161</td>\n",
       "      <td>7.4</td>\n",
       "      <td>2.860</td>\n",
       "      <td>1621</td>\n",
       "      <td>232679478</td>\n",
       "      <td>-35202</td>\n",
       "      <td>75721345</td>\n",
       "      <td>119</td>\n",
       "      <td>4.10</td>\n",
       "      <td>32.70</td>\n",
       "      <td>148.16</td>\n",
       "      <td>75.00</td>\n",
       "    </tr>\n",
       "  </tbody>\n",
       "</table>\n",
       "</div>"
      ],
      "text/plain": [
       "                 Country  cost of living  cost index  \\\n",
       "36            Luxembourg              16        97.5   \n",
       "52             Singapore              30        78.0   \n",
       "48                 Qatar              31        76.9   \n",
       "2              Australia              17        96.4   \n",
       "16               Denmark              10       103.9   \n",
       "59  United Arab Emirates              34        72.1   \n",
       "43                Norway              20        90.8   \n",
       "60        United Kingdom              19        92.9   \n",
       "29               Ireland              11       102.7   \n",
       "23               Germany              29        79.5   \n",
       "41           New Zealand              18        94.3   \n",
       "10                Canada              21        90.7   \n",
       "20               Finland              22        90.2   \n",
       "56                Sweden              26        82.4   \n",
       "30                Israel               8       105.3   \n",
       "3                Austria              27        80.9   \n",
       "7                Belgium              25        83.7   \n",
       "21                France              28        79.8   \n",
       "50          Saudi Arabia              50        50.8   \n",
       "32                 Japan              33        74.7   \n",
       "54                 Spain              38        67.3   \n",
       "31                 Italy              35        71.8   \n",
       "19               Estonia              37        71.0   \n",
       "46                Poland              56        47.8   \n",
       "53          South Africa              62        41.2   \n",
       "15               Croatia              47        55.0   \n",
       "47              Portugal              42        63.5   \n",
       "24                Greece              43        63.2   \n",
       "9               Bulgaria              60        43.3   \n",
       "14            Costa Rica              39        67.2   \n",
       "25               Hungary              48        54.9   \n",
       "12                 China              49        51.5   \n",
       "37              Malaysia              82        32.2   \n",
       "49               Romania              59        43.6   \n",
       "51                Serbia              53        49.1   \n",
       "11                 Chile              46        58.5   \n",
       "38                Mexico              45        60.7   \n",
       "0                Albania              55        47.9   \n",
       "26                 India             106        23.6   \n",
       "57              Thailand              81        32.2   \n",
       "33            Kazakhstan              70        36.6   \n",
       "28                  Iraq              64        40.5   \n",
       "6                Belarus              94        29.3   \n",
       "22               Georgia              90        30.4   \n",
       "18           El Salvador              54        49.0   \n",
       "17               Ecuador              57        45.6   \n",
       "4             Azerbaijan              84        31.3   \n",
       "39               Morocco              63        40.6   \n",
       "8                 Brazil              51        49.8   \n",
       "45           Philippines              67        37.2   \n",
       "34                 Kenya              83        31.4   \n",
       "13              Colombia              68        36.9   \n",
       "35                 Libya             104        24.4   \n",
       "27             Indonesia              72        33.7   \n",
       "58               Tunisia              93        29.6   \n",
       "5             Bangladesh              95        28.5   \n",
       "1                Algeria              89        30.7   \n",
       "40                 Nepal              99        26.3   \n",
       "55             Sri Lanka              97        27.5   \n",
       "44              Pakistan             108        21.3   \n",
       "42               Nigeria              79        32.4   \n",
       "\n",
       "    cost of living.Monthly income (USD)  Purchasing Power Index  \\\n",
       "36                                 7364                   112.9   \n",
       "52                                 5883                   112.7   \n",
       "48                                 5839                   113.5   \n",
       "2                                  5262                    81.6   \n",
       "16                                 6113                    87.9   \n",
       "59                                 4441                    92.1   \n",
       "43                                 8538                   140.6   \n",
       "60                                 3983                    64.1   \n",
       "29                                 6699                    97.4   \n",
       "23                                 4498                    84.6   \n",
       "41                                 4051                    64.2   \n",
       "10                                 4494                    74.1   \n",
       "20                                 4449                    73.7   \n",
       "56                                 5138                    93.2   \n",
       "30                                 4585                    65.1   \n",
       "3                                  4589                    84.8   \n",
       "7                                  4544                    81.1   \n",
       "21                                 3756                    70.4   \n",
       "50                                 2391                    70.4   \n",
       "32                                 3253                    65.0   \n",
       "54                                 2682                    59.6   \n",
       "31                                 3183                    66.3   \n",
       "19                                 2270                    47.8   \n",
       "46                                 1644                    51.4   \n",
       "53                                  563                    20.4   \n",
       "15                                 1723                    46.8   \n",
       "47                                 2189                    51.6   \n",
       "24                                 1882                    44.5   \n",
       "9                                  1205                    41.6   \n",
       "14                                 1154                    25.7   \n",
       "25                                 1652                    44.9   \n",
       "12                                 1117                    32.4   \n",
       "37                                  998                    46.4   \n",
       "49                                 1389                    47.6   \n",
       "51                                  836                    25.5   \n",
       "11                                 1318                    33.7   \n",
       "38                                 1008                    24.8   \n",
       "0                                   631                    19.7   \n",
       "26                                  212                    13.4   \n",
       "57                                  598                    27.8   \n",
       "33                                  912                    37.2   \n",
       "28                                  467                    17.2   \n",
       "6                                   648                    33.0   \n",
       "22                                  557                    27.3   \n",
       "18                                  410                    12.5   \n",
       "17                                  543                    17.8   \n",
       "4                                   557                    26.6   \n",
       "39                                  308                    11.3   \n",
       "8                                   756                    22.7   \n",
       "45                                  353                    14.2   \n",
       "34                                  176                     8.4   \n",
       "13                                  573                    23.2   \n",
       "35                                  631                    38.7   \n",
       "27                                  406                    18.0   \n",
       "58                                  314                    15.8   \n",
       "5                                   238                    12.5   \n",
       "1                                   413                    20.1   \n",
       "40                                  114                     6.5   \n",
       "55                                  295                    16.0   \n",
       "44                                  125                     8.8   \n",
       "42                                  161                     7.4   \n",
       "\n",
       "    currency rate     Gdp  population  population.Migrants (net)  \\\n",
       "36         -1.095  128259      673036                       5677   \n",
       "52          1.075   84734     5832387                      20011   \n",
       "48          1.558   87480     3048423                      46105   \n",
       "2           2.063   64712    26713205                     138510   \n",
       "16          1.813   67967     5977412                      25639   \n",
       "59          3.404   52977    11027129                     278439   \n",
       "43          0.514   87962     5576660                      44356   \n",
       "60          0.145   48867    69138192                     417114   \n",
       "29         -3.199  103685     5255017                      39059   \n",
       "23         -0.305   52746    84552242                      36954   \n",
       "41          0.633   48528     5213944                      18766   \n",
       "10          1.066   53372    39742430                     368599   \n",
       "20         -0.957   53756     5617310                      26894   \n",
       "56         -0.196   56305    10606999                      50115   \n",
       "30          2.003   52262     9387021                      10612   \n",
       "3          -0.746   56506     9120813                       8813   \n",
       "7           1.461   53475    11738763                      36243   \n",
       "21          0.869   44461    66548530                      90527   \n",
       "50         -0.755   28895    33962757                     122170   \n",
       "32          1.923   33834   123753041                     153357   \n",
       "54          2.501   32677    47910526                     111674   \n",
       "31          0.921   38373    59342867                      95246   \n",
       "19         -3.006   29824     1360546                      -7742   \n",
       "46          0.160   22113    38539201                    -238062   \n",
       "53          0.602    6253    64007187                     166972   \n",
       "15          2.831   21460     3875325                      -5186   \n",
       "47          2.280   27275    10425292                      20648   \n",
       "24          2.011   22990    10047817                    -122772   \n",
       "9           1.846   15798     6757689                        524   \n",
       "14          5.112   16595     5129910                        967   \n",
       "25         -0.908   22147     9676135                      16223   \n",
       "12          5.240   12614  1419321278                    -318992   \n",
       "37          3.680   11649    35557673                     174770   \n",
       "49          2.110   18419    19015088                     -28466   \n",
       "51          2.528   11361     6736216                      -8132   \n",
       "11          0.219   17093    19764771                      58316   \n",
       "38          3.229   13926   130861007                    -104581   \n",
       "0           3.297    8368     2791765                     -24472   \n",
       "26          7.827    2485  1450935791                    -630830   \n",
       "57          1.872    7172    71668011                      23321   \n",
       "33          5.101   13137    20592571                      -7368   \n",
       "28         -2.176    5512    46042015                     -17735   \n",
       "6           3.882    7829     9056696                      -3119   \n",
       "22          7.474    8120     3807670                       1745   \n",
       "18          3.498    5344     6338193                     -23102   \n",
       "17          2.284    6533    18135478                     -19704   \n",
       "4           1.100    7155    10336577                      10864   \n",
       "39          3.017    3672    38081173                     -46802   \n",
       "8           2.908   10044   211998573                    -225510   \n",
       "45          5.568    3726   115843670                    -160373   \n",
       "34          5.507    1950    56432944                     -19781   \n",
       "13          0.612    6980    52886363                     141643   \n",
       "35         10.156    7330     7381023                       3448   \n",
       "27          5.048    4940   283487931                     -38469   \n",
       "58          0.425    3895    12277109                     -15221   \n",
       "5           6.025    2529   173562364                    -473362   \n",
       "1           4.184    5260    46814308                     -31240   \n",
       "40          0.832    1324    29651054                    -401282   \n",
       "55         12.100    3828    23103565                     -27245   \n",
       "44         -0.166    1407   251269164                   -1401173   \n",
       "42          2.860    1621   232679478                     -35202   \n",
       "\n",
       "    Skilled force  technology.2023 rank  Unemployment(%)  Inflation(%)  \\\n",
       "36         351903                    18             5.99          1.00   \n",
       "52        3619025                     3             1.90          2.00   \n",
       "48        2035269                    67             0.30          0.82   \n",
       "2        14501414                    12             4.21          2.80   \n",
       "16        3179505                    16             4.89          1.60   \n",
       "59        6668172                    37             3.40          2.50   \n",
       "43        3009339                    13             3.80          2.60   \n",
       "60       35275169                    17             4.15          1.70   \n",
       "29        2766155                    14             4.38          0.70   \n",
       "23       44783712                     7             3.29          2.00   \n",
       "41        3068205                    23             5.04          2.20   \n",
       "10       22110473                    11             6.32          1.60   \n",
       "20        2879817                     8             7.60          0.80   \n",
       "56        5825253                     2             8.36          1.60   \n",
       "30        4553808                    20             3.70          3.50   \n",
       "3         4825387                    24             5.40          1.80   \n",
       "7         5432007                    10             5.51          3.20   \n",
       "21       31825317                    15             7.36          1.20   \n",
       "50       16933906                    47             4.80          1.70   \n",
       "32       69349452                    19             2.50          2.50   \n",
       "54       24107955                    21            12.29          1.80   \n",
       "31       25668665                    25             7.83          0.90   \n",
       "19         752419                    29             8.06          4.10   \n",
       "46       18387400                    27             2.93          5.00   \n",
       "53       25158403                    56            33.50          3.80   \n",
       "15        1744221                    42             5.77          2.20   \n",
       "47        5418819                    33             6.48          2.30   \n",
       "24        4645359                    44             9.36          2.40   \n",
       "9         3102757                    43             4.30          1.20   \n",
       "14        2407610                    57             8.29         -0.79   \n",
       "25        5005562                    36             4.40          3.20   \n",
       "12      779245529                    35             5.10          0.30   \n",
       "37       17307639                    32             3.52          1.80   \n",
       "49        8282417                    45             5.60          4.70   \n",
       "51        3333428                    50             9.40          4.50   \n",
       "11        9847754                    48             8.71          4.70   \n",
       "38       60042318                    61             2.80          4.76   \n",
       "0         1387831                    88            11.00          1.90   \n",
       "26      593729164                    46             7.80          6.21   \n",
       "57       40813511                    49             1.10          0.83   \n",
       "33        9587167                    68             4.78          8.50   \n",
       "28       11811525                   107            14.20          3.10   \n",
       "6         4956149                    55             3.04          6.00   \n",
       "22        1853143                    79            15.70          0.30   \n",
       "18        2870401                   102             5.50         -0.07   \n",
       "17        8893065                    90             4.20          1.36   \n",
       "4         5473196                    96             5.52          3.50   \n",
       "39       12284010                    70            12.00          0.80   \n",
       "8       108695239                    40             7.50          4.76   \n",
       "45       49477060                    54             4.50          2.30   \n",
       "34       25501846                   117             5.70          2.70   \n",
       "13       26003385                    72             9.87          5.41   \n",
       "35        2397855                   122            19.60          2.70   \n",
       "27      140931083                    85             5.20          1.71   \n",
       "58        4445313                    66            16.10          6.70   \n",
       "5        74913612                   126             5.20          9.92   \n",
       "1        13425064                    97            12.70          4.56   \n",
       "40        8937228                   106             5.10          3.85   \n",
       "55        8707414                    89             4.30         -0.80   \n",
       "44       80989797                   125             8.00          7.20   \n",
       "42       75721345                   119             4.10         32.70   \n",
       "\n",
       "    Monthly salary+Tax(USD)  Literacy rate(%)  \n",
       "36                  5686.45            100.00  \n",
       "52                  4293.54             99.90  \n",
       "48                  4086.40             98.70  \n",
       "2                   3678.75             99.00  \n",
       "16                  3596.29             99.00  \n",
       "59                  3300.22             99.70  \n",
       "43                  3286.54            100.00  \n",
       "60                  3105.98             99.76  \n",
       "29                  3073.35             99.00  \n",
       "23                  2984.93             99.00  \n",
       "41                  2962.58             99.00  \n",
       "10                  2818.53             99.00  \n",
       "20                  2818.03             99.00  \n",
       "56                  2807.55             99.00  \n",
       "30                  2703.21             97.10  \n",
       "3                   2579.59             98.00  \n",
       "7                   2563.22             99.00  \n",
       "21                  2486.51             99.00  \n",
       "50                  2198.45             99.50  \n",
       "32                  2059.60             99.00  \n",
       "54                  1851.82             99.60  \n",
       "31                  1716.62             99.90  \n",
       "19                  1525.26            100.00  \n",
       "46                  1439.95             99.90  \n",
       "53                  1387.56             96.70  \n",
       "15                  1361.96             99.80  \n",
       "47                  1105.82             99.70  \n",
       "24                  1012.20             95.29  \n",
       "9                   1011.33             98.10  \n",
       "14                   964.67             99.50  \n",
       "25                   961.67             98.70  \n",
       "12                   938.91             99.80  \n",
       "37                   922.50             96.00  \n",
       "49                   919.76             99.90  \n",
       "51                   776.48            100.00  \n",
       "11                   670.31             99.30  \n",
       "38                   653.23             98.90  \n",
       "0                    634.13             99.50  \n",
       "26                   608.55             96.50  \n",
       "57                   584.14             98.80  \n",
       "33                   568.13             99.90  \n",
       "28                   529.19             93.50  \n",
       "6                    522.44             99.90  \n",
       "22                   505.05             99.70  \n",
       "18                   501.07             98.30  \n",
       "17                   495.25             96.40  \n",
       "4                    456.50             99.90  \n",
       "39                   418.32             98.50  \n",
       "8                    414.62             99.30  \n",
       "45                   378.58             99.20  \n",
       "34                   360.47             89.00  \n",
       "13                   350.64             98.90  \n",
       "35                   326.36             91.12  \n",
       "27                   315.65             99.80  \n",
       "58                   291.18             96.80  \n",
       "5                    239.43             94.80  \n",
       "1                    228.37             74.00  \n",
       "40                   215.71             94.20  \n",
       "55                   206.76             98.80  \n",
       "44                   182.06             72.70  \n",
       "42                   148.16             75.00  "
      ]
     },
     "execution_count": 1399,
     "metadata": {},
     "output_type": "execute_result"
    }
   ],
   "source": [
    "sorted_new"
   ]
  },
  {
   "cell_type": "code",
   "execution_count": null,
   "id": "ac356787-e1b2-4e91-bc88-50bba9a68fa4",
   "metadata": {},
   "outputs": [],
   "source": []
  },
  {
   "cell_type": "code",
   "execution_count": 1400,
   "id": "30efd732-6a91-4d50-9998-09998c34c719",
   "metadata": {},
   "outputs": [],
   "source": [
    "p=sorted_new.head(10)"
   ]
  },
  {
   "cell_type": "code",
   "execution_count": 1401,
   "id": "5cf5b80c-220e-4776-9958-e677e81451e9",
   "metadata": {},
   "outputs": [
    {
     "name": "stdout",
     "output_type": "stream",
     "text": [
      "                 Country  cost of living  cost index  \\\n",
      "36            Luxembourg              16        97.5   \n",
      "52             Singapore              30        78.0   \n",
      "48                 Qatar              31        76.9   \n",
      "2              Australia              17        96.4   \n",
      "16               Denmark              10       103.9   \n",
      "59  United Arab Emirates              34        72.1   \n",
      "43                Norway              20        90.8   \n",
      "60        United Kingdom              19        92.9   \n",
      "29               Ireland              11       102.7   \n",
      "23               Germany              29        79.5   \n",
      "\n",
      "    cost of living.Monthly income (USD)  Purchasing Power Index  \\\n",
      "36                                 7364                   112.9   \n",
      "52                                 5883                   112.7   \n",
      "48                                 5839                   113.5   \n",
      "2                                  5262                    81.6   \n",
      "16                                 6113                    87.9   \n",
      "59                                 4441                    92.1   \n",
      "43                                 8538                   140.6   \n",
      "60                                 3983                    64.1   \n",
      "29                                 6699                    97.4   \n",
      "23                                 4498                    84.6   \n",
      "\n",
      "    currency rate     Gdp  population  population.Migrants (net)  \\\n",
      "36         -1.095  128259      673036                       5677   \n",
      "52          1.075   84734     5832387                      20011   \n",
      "48          1.558   87480     3048423                      46105   \n",
      "2           2.063   64712    26713205                     138510   \n",
      "16          1.813   67967     5977412                      25639   \n",
      "59          3.404   52977    11027129                     278439   \n",
      "43          0.514   87962     5576660                      44356   \n",
      "60          0.145   48867    69138192                     417114   \n",
      "29         -3.199  103685     5255017                      39059   \n",
      "23         -0.305   52746    84552242                      36954   \n",
      "\n",
      "    Skilled force  technology.2023 rank  Unemployment(%)  Inflation(%)  \\\n",
      "36         351903                    18             5.99          1.00   \n",
      "52        3619025                     3             1.90          2.00   \n",
      "48        2035269                    67             0.30          0.82   \n",
      "2        14501414                    12             4.21          2.80   \n",
      "16        3179505                    16             4.89          1.60   \n",
      "59        6668172                    37             3.40          2.50   \n",
      "43        3009339                    13             3.80          2.60   \n",
      "60       35275169                    17             4.15          1.70   \n",
      "29        2766155                    14             4.38          0.70   \n",
      "23       44783712                     7             3.29          2.00   \n",
      "\n",
      "    Monthly salary+Tax(USD)  Literacy rate(%)  \n",
      "36                  5686.45            100.00  \n",
      "52                  4293.54             99.90  \n",
      "48                  4086.40             98.70  \n",
      "2                   3678.75             99.00  \n",
      "16                  3596.29             99.00  \n",
      "59                  3300.22             99.70  \n",
      "43                  3286.54            100.00  \n",
      "60                  3105.98             99.76  \n",
      "29                  3073.35             99.00  \n",
      "23                  2984.93             99.00  \n"
     ]
    }
   ],
   "source": [
    "print(p)"
   ]
  },
  {
   "cell_type": "code",
   "execution_count": 1402,
   "id": "ec8aeb0f-736a-430b-850d-e7473ce373aa",
   "metadata": {
    "scrolled": true
   },
   "outputs": [
    {
     "data": {
      "application/vnd.plotly.v1+json": {
       "config": {
        "plotlyServerURL": "https://plot.ly"
       },
       "data": [
        {
         "alignmentgroup": "True",
         "bingroup": "x",
         "histfunc": "sum",
         "hovertemplate": "Country=%{x}<br>sum of Monthly salary+Tax(USD)=%{y}<extra></extra>",
         "legendgroup": "",
         "marker": {
          "color": "#636efa",
          "pattern": {
           "shape": ""
          }
         },
         "name": "",
         "offsetgroup": "",
         "orientation": "v",
         "showlegend": false,
         "type": "histogram",
         "x": [
          "Luxembourg",
          "Singapore",
          "Qatar",
          "Australia",
          "Denmark",
          "United Arab Emirates",
          "Norway",
          "United Kingdom",
          "Ireland",
          "Germany"
         ],
         "xaxis": "x",
         "y": [
          5686.45,
          4293.54,
          4086.4,
          3678.75,
          3596.29,
          3300.22,
          3286.54,
          3105.98,
          3073.35,
          2984.93
         ],
         "yaxis": "y"
        }
       ],
       "layout": {
        "autosize": true,
        "barmode": "relative",
        "legend": {
         "tracegroupgap": 0
        },
        "margin": {
         "t": 60
        },
        "template": {
         "data": {
          "bar": [
           {
            "error_x": {
             "color": "#2a3f5f"
            },
            "error_y": {
             "color": "#2a3f5f"
            },
            "marker": {
             "line": {
              "color": "#E5ECF6",
              "width": 0.5
             },
             "pattern": {
              "fillmode": "overlay",
              "size": 10,
              "solidity": 0.2
             }
            },
            "type": "bar"
           }
          ],
          "barpolar": [
           {
            "marker": {
             "line": {
              "color": "#E5ECF6",
              "width": 0.5
             },
             "pattern": {
              "fillmode": "overlay",
              "size": 10,
              "solidity": 0.2
             }
            },
            "type": "barpolar"
           }
          ],
          "carpet": [
           {
            "aaxis": {
             "endlinecolor": "#2a3f5f",
             "gridcolor": "white",
             "linecolor": "white",
             "minorgridcolor": "white",
             "startlinecolor": "#2a3f5f"
            },
            "baxis": {
             "endlinecolor": "#2a3f5f",
             "gridcolor": "white",
             "linecolor": "white",
             "minorgridcolor": "white",
             "startlinecolor": "#2a3f5f"
            },
            "type": "carpet"
           }
          ],
          "choropleth": [
           {
            "colorbar": {
             "outlinewidth": 0,
             "ticks": ""
            },
            "type": "choropleth"
           }
          ],
          "contour": [
           {
            "colorbar": {
             "outlinewidth": 0,
             "ticks": ""
            },
            "colorscale": [
             [
              0,
              "#0d0887"
             ],
             [
              0.1111111111111111,
              "#46039f"
             ],
             [
              0.2222222222222222,
              "#7201a8"
             ],
             [
              0.3333333333333333,
              "#9c179e"
             ],
             [
              0.4444444444444444,
              "#bd3786"
             ],
             [
              0.5555555555555556,
              "#d8576b"
             ],
             [
              0.6666666666666666,
              "#ed7953"
             ],
             [
              0.7777777777777778,
              "#fb9f3a"
             ],
             [
              0.8888888888888888,
              "#fdca26"
             ],
             [
              1,
              "#f0f921"
             ]
            ],
            "type": "contour"
           }
          ],
          "contourcarpet": [
           {
            "colorbar": {
             "outlinewidth": 0,
             "ticks": ""
            },
            "type": "contourcarpet"
           }
          ],
          "heatmap": [
           {
            "colorbar": {
             "outlinewidth": 0,
             "ticks": ""
            },
            "colorscale": [
             [
              0,
              "#0d0887"
             ],
             [
              0.1111111111111111,
              "#46039f"
             ],
             [
              0.2222222222222222,
              "#7201a8"
             ],
             [
              0.3333333333333333,
              "#9c179e"
             ],
             [
              0.4444444444444444,
              "#bd3786"
             ],
             [
              0.5555555555555556,
              "#d8576b"
             ],
             [
              0.6666666666666666,
              "#ed7953"
             ],
             [
              0.7777777777777778,
              "#fb9f3a"
             ],
             [
              0.8888888888888888,
              "#fdca26"
             ],
             [
              1,
              "#f0f921"
             ]
            ],
            "type": "heatmap"
           }
          ],
          "heatmapgl": [
           {
            "colorbar": {
             "outlinewidth": 0,
             "ticks": ""
            },
            "colorscale": [
             [
              0,
              "#0d0887"
             ],
             [
              0.1111111111111111,
              "#46039f"
             ],
             [
              0.2222222222222222,
              "#7201a8"
             ],
             [
              0.3333333333333333,
              "#9c179e"
             ],
             [
              0.4444444444444444,
              "#bd3786"
             ],
             [
              0.5555555555555556,
              "#d8576b"
             ],
             [
              0.6666666666666666,
              "#ed7953"
             ],
             [
              0.7777777777777778,
              "#fb9f3a"
             ],
             [
              0.8888888888888888,
              "#fdca26"
             ],
             [
              1,
              "#f0f921"
             ]
            ],
            "type": "heatmapgl"
           }
          ],
          "histogram": [
           {
            "marker": {
             "pattern": {
              "fillmode": "overlay",
              "size": 10,
              "solidity": 0.2
             }
            },
            "type": "histogram"
           }
          ],
          "histogram2d": [
           {
            "colorbar": {
             "outlinewidth": 0,
             "ticks": ""
            },
            "colorscale": [
             [
              0,
              "#0d0887"
             ],
             [
              0.1111111111111111,
              "#46039f"
             ],
             [
              0.2222222222222222,
              "#7201a8"
             ],
             [
              0.3333333333333333,
              "#9c179e"
             ],
             [
              0.4444444444444444,
              "#bd3786"
             ],
             [
              0.5555555555555556,
              "#d8576b"
             ],
             [
              0.6666666666666666,
              "#ed7953"
             ],
             [
              0.7777777777777778,
              "#fb9f3a"
             ],
             [
              0.8888888888888888,
              "#fdca26"
             ],
             [
              1,
              "#f0f921"
             ]
            ],
            "type": "histogram2d"
           }
          ],
          "histogram2dcontour": [
           {
            "colorbar": {
             "outlinewidth": 0,
             "ticks": ""
            },
            "colorscale": [
             [
              0,
              "#0d0887"
             ],
             [
              0.1111111111111111,
              "#46039f"
             ],
             [
              0.2222222222222222,
              "#7201a8"
             ],
             [
              0.3333333333333333,
              "#9c179e"
             ],
             [
              0.4444444444444444,
              "#bd3786"
             ],
             [
              0.5555555555555556,
              "#d8576b"
             ],
             [
              0.6666666666666666,
              "#ed7953"
             ],
             [
              0.7777777777777778,
              "#fb9f3a"
             ],
             [
              0.8888888888888888,
              "#fdca26"
             ],
             [
              1,
              "#f0f921"
             ]
            ],
            "type": "histogram2dcontour"
           }
          ],
          "mesh3d": [
           {
            "colorbar": {
             "outlinewidth": 0,
             "ticks": ""
            },
            "type": "mesh3d"
           }
          ],
          "parcoords": [
           {
            "line": {
             "colorbar": {
              "outlinewidth": 0,
              "ticks": ""
             }
            },
            "type": "parcoords"
           }
          ],
          "pie": [
           {
            "automargin": true,
            "type": "pie"
           }
          ],
          "scatter": [
           {
            "fillpattern": {
             "fillmode": "overlay",
             "size": 10,
             "solidity": 0.2
            },
            "type": "scatter"
           }
          ],
          "scatter3d": [
           {
            "line": {
             "colorbar": {
              "outlinewidth": 0,
              "ticks": ""
             }
            },
            "marker": {
             "colorbar": {
              "outlinewidth": 0,
              "ticks": ""
             }
            },
            "type": "scatter3d"
           }
          ],
          "scattercarpet": [
           {
            "marker": {
             "colorbar": {
              "outlinewidth": 0,
              "ticks": ""
             }
            },
            "type": "scattercarpet"
           }
          ],
          "scattergeo": [
           {
            "marker": {
             "colorbar": {
              "outlinewidth": 0,
              "ticks": ""
             }
            },
            "type": "scattergeo"
           }
          ],
          "scattergl": [
           {
            "marker": {
             "colorbar": {
              "outlinewidth": 0,
              "ticks": ""
             }
            },
            "type": "scattergl"
           }
          ],
          "scattermapbox": [
           {
            "marker": {
             "colorbar": {
              "outlinewidth": 0,
              "ticks": ""
             }
            },
            "type": "scattermapbox"
           }
          ],
          "scatterpolar": [
           {
            "marker": {
             "colorbar": {
              "outlinewidth": 0,
              "ticks": ""
             }
            },
            "type": "scatterpolar"
           }
          ],
          "scatterpolargl": [
           {
            "marker": {
             "colorbar": {
              "outlinewidth": 0,
              "ticks": ""
             }
            },
            "type": "scatterpolargl"
           }
          ],
          "scatterternary": [
           {
            "marker": {
             "colorbar": {
              "outlinewidth": 0,
              "ticks": ""
             }
            },
            "type": "scatterternary"
           }
          ],
          "surface": [
           {
            "colorbar": {
             "outlinewidth": 0,
             "ticks": ""
            },
            "colorscale": [
             [
              0,
              "#0d0887"
             ],
             [
              0.1111111111111111,
              "#46039f"
             ],
             [
              0.2222222222222222,
              "#7201a8"
             ],
             [
              0.3333333333333333,
              "#9c179e"
             ],
             [
              0.4444444444444444,
              "#bd3786"
             ],
             [
              0.5555555555555556,
              "#d8576b"
             ],
             [
              0.6666666666666666,
              "#ed7953"
             ],
             [
              0.7777777777777778,
              "#fb9f3a"
             ],
             [
              0.8888888888888888,
              "#fdca26"
             ],
             [
              1,
              "#f0f921"
             ]
            ],
            "type": "surface"
           }
          ],
          "table": [
           {
            "cells": {
             "fill": {
              "color": "#EBF0F8"
             },
             "line": {
              "color": "white"
             }
            },
            "header": {
             "fill": {
              "color": "#C8D4E3"
             },
             "line": {
              "color": "white"
             }
            },
            "type": "table"
           }
          ]
         },
         "layout": {
          "annotationdefaults": {
           "arrowcolor": "#2a3f5f",
           "arrowhead": 0,
           "arrowwidth": 1
          },
          "autotypenumbers": "strict",
          "coloraxis": {
           "colorbar": {
            "outlinewidth": 0,
            "ticks": ""
           }
          },
          "colorscale": {
           "diverging": [
            [
             0,
             "#8e0152"
            ],
            [
             0.1,
             "#c51b7d"
            ],
            [
             0.2,
             "#de77ae"
            ],
            [
             0.3,
             "#f1b6da"
            ],
            [
             0.4,
             "#fde0ef"
            ],
            [
             0.5,
             "#f7f7f7"
            ],
            [
             0.6,
             "#e6f5d0"
            ],
            [
             0.7,
             "#b8e186"
            ],
            [
             0.8,
             "#7fbc41"
            ],
            [
             0.9,
             "#4d9221"
            ],
            [
             1,
             "#276419"
            ]
           ],
           "sequential": [
            [
             0,
             "#0d0887"
            ],
            [
             0.1111111111111111,
             "#46039f"
            ],
            [
             0.2222222222222222,
             "#7201a8"
            ],
            [
             0.3333333333333333,
             "#9c179e"
            ],
            [
             0.4444444444444444,
             "#bd3786"
            ],
            [
             0.5555555555555556,
             "#d8576b"
            ],
            [
             0.6666666666666666,
             "#ed7953"
            ],
            [
             0.7777777777777778,
             "#fb9f3a"
            ],
            [
             0.8888888888888888,
             "#fdca26"
            ],
            [
             1,
             "#f0f921"
            ]
           ],
           "sequentialminus": [
            [
             0,
             "#0d0887"
            ],
            [
             0.1111111111111111,
             "#46039f"
            ],
            [
             0.2222222222222222,
             "#7201a8"
            ],
            [
             0.3333333333333333,
             "#9c179e"
            ],
            [
             0.4444444444444444,
             "#bd3786"
            ],
            [
             0.5555555555555556,
             "#d8576b"
            ],
            [
             0.6666666666666666,
             "#ed7953"
            ],
            [
             0.7777777777777778,
             "#fb9f3a"
            ],
            [
             0.8888888888888888,
             "#fdca26"
            ],
            [
             1,
             "#f0f921"
            ]
           ]
          },
          "colorway": [
           "#636efa",
           "#EF553B",
           "#00cc96",
           "#ab63fa",
           "#FFA15A",
           "#19d3f3",
           "#FF6692",
           "#B6E880",
           "#FF97FF",
           "#FECB52"
          ],
          "font": {
           "color": "#2a3f5f"
          },
          "geo": {
           "bgcolor": "white",
           "lakecolor": "white",
           "landcolor": "#E5ECF6",
           "showlakes": true,
           "showland": true,
           "subunitcolor": "white"
          },
          "hoverlabel": {
           "align": "left"
          },
          "hovermode": "closest",
          "mapbox": {
           "style": "light"
          },
          "paper_bgcolor": "white",
          "plot_bgcolor": "#E5ECF6",
          "polar": {
           "angularaxis": {
            "gridcolor": "white",
            "linecolor": "white",
            "ticks": ""
           },
           "bgcolor": "#E5ECF6",
           "radialaxis": {
            "gridcolor": "white",
            "linecolor": "white",
            "ticks": ""
           }
          },
          "scene": {
           "xaxis": {
            "backgroundcolor": "#E5ECF6",
            "gridcolor": "white",
            "gridwidth": 2,
            "linecolor": "white",
            "showbackground": true,
            "ticks": "",
            "zerolinecolor": "white"
           },
           "yaxis": {
            "backgroundcolor": "#E5ECF6",
            "gridcolor": "white",
            "gridwidth": 2,
            "linecolor": "white",
            "showbackground": true,
            "ticks": "",
            "zerolinecolor": "white"
           },
           "zaxis": {
            "backgroundcolor": "#E5ECF6",
            "gridcolor": "white",
            "gridwidth": 2,
            "linecolor": "white",
            "showbackground": true,
            "ticks": "",
            "zerolinecolor": "white"
           }
          },
          "shapedefaults": {
           "line": {
            "color": "#2a3f5f"
           }
          },
          "ternary": {
           "aaxis": {
            "gridcolor": "white",
            "linecolor": "white",
            "ticks": ""
           },
           "baxis": {
            "gridcolor": "white",
            "linecolor": "white",
            "ticks": ""
           },
           "bgcolor": "#E5ECF6",
           "caxis": {
            "gridcolor": "white",
            "linecolor": "white",
            "ticks": ""
           }
          },
          "title": {
           "x": 0.05
          },
          "xaxis": {
           "automargin": true,
           "gridcolor": "white",
           "linecolor": "white",
           "ticks": "",
           "title": {
            "standoff": 15
           },
           "zerolinecolor": "white",
           "zerolinewidth": 2
          },
          "yaxis": {
           "automargin": true,
           "gridcolor": "white",
           "linecolor": "white",
           "ticks": "",
           "title": {
            "standoff": 15
           },
           "zerolinecolor": "white",
           "zerolinewidth": 2
          }
         }
        },
        "xaxis": {
         "anchor": "y",
         "autorange": true,
         "domain": [
          0,
          1
         ],
         "range": [
          -0.5,
          9.5
         ],
         "title": {
          "text": "Country"
         },
         "type": "category"
        },
        "yaxis": {
         "anchor": "x",
         "autorange": true,
         "domain": [
          0,
          1
         ],
         "range": [
          0,
          5985.736842105263
         ],
         "title": {
          "text": "sum of Monthly salary+Tax(USD)"
         },
         "type": "linear"
        }
       }
      },
      "text/html": [
       "<div>                            <div id=\"42627159-c500-4fef-97b0-44f168f45821\" class=\"plotly-graph-div\" style=\"height:525px; width:100%;\"></div>            <script type=\"text/javascript\">                require([\"plotly\"], function(Plotly) {                    window.PLOTLYENV=window.PLOTLYENV || {};                                    if (document.getElementById(\"42627159-c500-4fef-97b0-44f168f45821\")) {                    Plotly.newPlot(                        \"42627159-c500-4fef-97b0-44f168f45821\",                        [{\"alignmentgroup\":\"True\",\"bingroup\":\"x\",\"histfunc\":\"sum\",\"hovertemplate\":\"Country=%{x}\\u003cbr\\u003esum of Monthly salary+Tax(USD)=%{y}\\u003cextra\\u003e\\u003c\\u002fextra\\u003e\",\"legendgroup\":\"\",\"marker\":{\"color\":\"#636efa\",\"pattern\":{\"shape\":\"\"}},\"name\":\"\",\"offsetgroup\":\"\",\"orientation\":\"v\",\"showlegend\":false,\"x\":[\"Luxembourg\",\"Singapore\",\"Qatar\",\"Australia\",\"Denmark\",\"United Arab Emirates\",\"Norway\",\"United Kingdom\",\"Ireland\",\"Germany\"],\"xaxis\":\"x\",\"y\":[5686.45,4293.54,4086.4,3678.75,3596.29,3300.22,3286.54,3105.98,3073.35,2984.93],\"yaxis\":\"y\",\"type\":\"histogram\"}],                        {\"template\":{\"data\":{\"histogram2dcontour\":[{\"type\":\"histogram2dcontour\",\"colorbar\":{\"outlinewidth\":0,\"ticks\":\"\"},\"colorscale\":[[0.0,\"#0d0887\"],[0.1111111111111111,\"#46039f\"],[0.2222222222222222,\"#7201a8\"],[0.3333333333333333,\"#9c179e\"],[0.4444444444444444,\"#bd3786\"],[0.5555555555555556,\"#d8576b\"],[0.6666666666666666,\"#ed7953\"],[0.7777777777777778,\"#fb9f3a\"],[0.8888888888888888,\"#fdca26\"],[1.0,\"#f0f921\"]]}],\"choropleth\":[{\"type\":\"choropleth\",\"colorbar\":{\"outlinewidth\":0,\"ticks\":\"\"}}],\"histogram2d\":[{\"type\":\"histogram2d\",\"colorbar\":{\"outlinewidth\":0,\"ticks\":\"\"},\"colorscale\":[[0.0,\"#0d0887\"],[0.1111111111111111,\"#46039f\"],[0.2222222222222222,\"#7201a8\"],[0.3333333333333333,\"#9c179e\"],[0.4444444444444444,\"#bd3786\"],[0.5555555555555556,\"#d8576b\"],[0.6666666666666666,\"#ed7953\"],[0.7777777777777778,\"#fb9f3a\"],[0.8888888888888888,\"#fdca26\"],[1.0,\"#f0f921\"]]}],\"heatmap\":[{\"type\":\"heatmap\",\"colorbar\":{\"outlinewidth\":0,\"ticks\":\"\"},\"colorscale\":[[0.0,\"#0d0887\"],[0.1111111111111111,\"#46039f\"],[0.2222222222222222,\"#7201a8\"],[0.3333333333333333,\"#9c179e\"],[0.4444444444444444,\"#bd3786\"],[0.5555555555555556,\"#d8576b\"],[0.6666666666666666,\"#ed7953\"],[0.7777777777777778,\"#fb9f3a\"],[0.8888888888888888,\"#fdca26\"],[1.0,\"#f0f921\"]]}],\"heatmapgl\":[{\"type\":\"heatmapgl\",\"colorbar\":{\"outlinewidth\":0,\"ticks\":\"\"},\"colorscale\":[[0.0,\"#0d0887\"],[0.1111111111111111,\"#46039f\"],[0.2222222222222222,\"#7201a8\"],[0.3333333333333333,\"#9c179e\"],[0.4444444444444444,\"#bd3786\"],[0.5555555555555556,\"#d8576b\"],[0.6666666666666666,\"#ed7953\"],[0.7777777777777778,\"#fb9f3a\"],[0.8888888888888888,\"#fdca26\"],[1.0,\"#f0f921\"]]}],\"contourcarpet\":[{\"type\":\"contourcarpet\",\"colorbar\":{\"outlinewidth\":0,\"ticks\":\"\"}}],\"contour\":[{\"type\":\"contour\",\"colorbar\":{\"outlinewidth\":0,\"ticks\":\"\"},\"colorscale\":[[0.0,\"#0d0887\"],[0.1111111111111111,\"#46039f\"],[0.2222222222222222,\"#7201a8\"],[0.3333333333333333,\"#9c179e\"],[0.4444444444444444,\"#bd3786\"],[0.5555555555555556,\"#d8576b\"],[0.6666666666666666,\"#ed7953\"],[0.7777777777777778,\"#fb9f3a\"],[0.8888888888888888,\"#fdca26\"],[1.0,\"#f0f921\"]]}],\"surface\":[{\"type\":\"surface\",\"colorbar\":{\"outlinewidth\":0,\"ticks\":\"\"},\"colorscale\":[[0.0,\"#0d0887\"],[0.1111111111111111,\"#46039f\"],[0.2222222222222222,\"#7201a8\"],[0.3333333333333333,\"#9c179e\"],[0.4444444444444444,\"#bd3786\"],[0.5555555555555556,\"#d8576b\"],[0.6666666666666666,\"#ed7953\"],[0.7777777777777778,\"#fb9f3a\"],[0.8888888888888888,\"#fdca26\"],[1.0,\"#f0f921\"]]}],\"mesh3d\":[{\"type\":\"mesh3d\",\"colorbar\":{\"outlinewidth\":0,\"ticks\":\"\"}}],\"scatter\":[{\"fillpattern\":{\"fillmode\":\"overlay\",\"size\":10,\"solidity\":0.2},\"type\":\"scatter\"}],\"parcoords\":[{\"type\":\"parcoords\",\"line\":{\"colorbar\":{\"outlinewidth\":0,\"ticks\":\"\"}}}],\"scatterpolargl\":[{\"type\":\"scatterpolargl\",\"marker\":{\"colorbar\":{\"outlinewidth\":0,\"ticks\":\"\"}}}],\"bar\":[{\"error_x\":{\"color\":\"#2a3f5f\"},\"error_y\":{\"color\":\"#2a3f5f\"},\"marker\":{\"line\":{\"color\":\"#E5ECF6\",\"width\":0.5},\"pattern\":{\"fillmode\":\"overlay\",\"size\":10,\"solidity\":0.2}},\"type\":\"bar\"}],\"scattergeo\":[{\"type\":\"scattergeo\",\"marker\":{\"colorbar\":{\"outlinewidth\":0,\"ticks\":\"\"}}}],\"scatterpolar\":[{\"type\":\"scatterpolar\",\"marker\":{\"colorbar\":{\"outlinewidth\":0,\"ticks\":\"\"}}}],\"histogram\":[{\"marker\":{\"pattern\":{\"fillmode\":\"overlay\",\"size\":10,\"solidity\":0.2}},\"type\":\"histogram\"}],\"scattergl\":[{\"type\":\"scattergl\",\"marker\":{\"colorbar\":{\"outlinewidth\":0,\"ticks\":\"\"}}}],\"scatter3d\":[{\"type\":\"scatter3d\",\"line\":{\"colorbar\":{\"outlinewidth\":0,\"ticks\":\"\"}},\"marker\":{\"colorbar\":{\"outlinewidth\":0,\"ticks\":\"\"}}}],\"scattermapbox\":[{\"type\":\"scattermapbox\",\"marker\":{\"colorbar\":{\"outlinewidth\":0,\"ticks\":\"\"}}}],\"scatterternary\":[{\"type\":\"scatterternary\",\"marker\":{\"colorbar\":{\"outlinewidth\":0,\"ticks\":\"\"}}}],\"scattercarpet\":[{\"type\":\"scattercarpet\",\"marker\":{\"colorbar\":{\"outlinewidth\":0,\"ticks\":\"\"}}}],\"carpet\":[{\"aaxis\":{\"endlinecolor\":\"#2a3f5f\",\"gridcolor\":\"white\",\"linecolor\":\"white\",\"minorgridcolor\":\"white\",\"startlinecolor\":\"#2a3f5f\"},\"baxis\":{\"endlinecolor\":\"#2a3f5f\",\"gridcolor\":\"white\",\"linecolor\":\"white\",\"minorgridcolor\":\"white\",\"startlinecolor\":\"#2a3f5f\"},\"type\":\"carpet\"}],\"table\":[{\"cells\":{\"fill\":{\"color\":\"#EBF0F8\"},\"line\":{\"color\":\"white\"}},\"header\":{\"fill\":{\"color\":\"#C8D4E3\"},\"line\":{\"color\":\"white\"}},\"type\":\"table\"}],\"barpolar\":[{\"marker\":{\"line\":{\"color\":\"#E5ECF6\",\"width\":0.5},\"pattern\":{\"fillmode\":\"overlay\",\"size\":10,\"solidity\":0.2}},\"type\":\"barpolar\"}],\"pie\":[{\"automargin\":true,\"type\":\"pie\"}]},\"layout\":{\"autotypenumbers\":\"strict\",\"colorway\":[\"#636efa\",\"#EF553B\",\"#00cc96\",\"#ab63fa\",\"#FFA15A\",\"#19d3f3\",\"#FF6692\",\"#B6E880\",\"#FF97FF\",\"#FECB52\"],\"font\":{\"color\":\"#2a3f5f\"},\"hovermode\":\"closest\",\"hoverlabel\":{\"align\":\"left\"},\"paper_bgcolor\":\"white\",\"plot_bgcolor\":\"#E5ECF6\",\"polar\":{\"bgcolor\":\"#E5ECF6\",\"angularaxis\":{\"gridcolor\":\"white\",\"linecolor\":\"white\",\"ticks\":\"\"},\"radialaxis\":{\"gridcolor\":\"white\",\"linecolor\":\"white\",\"ticks\":\"\"}},\"ternary\":{\"bgcolor\":\"#E5ECF6\",\"aaxis\":{\"gridcolor\":\"white\",\"linecolor\":\"white\",\"ticks\":\"\"},\"baxis\":{\"gridcolor\":\"white\",\"linecolor\":\"white\",\"ticks\":\"\"},\"caxis\":{\"gridcolor\":\"white\",\"linecolor\":\"white\",\"ticks\":\"\"}},\"coloraxis\":{\"colorbar\":{\"outlinewidth\":0,\"ticks\":\"\"}},\"colorscale\":{\"sequential\":[[0.0,\"#0d0887\"],[0.1111111111111111,\"#46039f\"],[0.2222222222222222,\"#7201a8\"],[0.3333333333333333,\"#9c179e\"],[0.4444444444444444,\"#bd3786\"],[0.5555555555555556,\"#d8576b\"],[0.6666666666666666,\"#ed7953\"],[0.7777777777777778,\"#fb9f3a\"],[0.8888888888888888,\"#fdca26\"],[1.0,\"#f0f921\"]],\"sequentialminus\":[[0.0,\"#0d0887\"],[0.1111111111111111,\"#46039f\"],[0.2222222222222222,\"#7201a8\"],[0.3333333333333333,\"#9c179e\"],[0.4444444444444444,\"#bd3786\"],[0.5555555555555556,\"#d8576b\"],[0.6666666666666666,\"#ed7953\"],[0.7777777777777778,\"#fb9f3a\"],[0.8888888888888888,\"#fdca26\"],[1.0,\"#f0f921\"]],\"diverging\":[[0,\"#8e0152\"],[0.1,\"#c51b7d\"],[0.2,\"#de77ae\"],[0.3,\"#f1b6da\"],[0.4,\"#fde0ef\"],[0.5,\"#f7f7f7\"],[0.6,\"#e6f5d0\"],[0.7,\"#b8e186\"],[0.8,\"#7fbc41\"],[0.9,\"#4d9221\"],[1,\"#276419\"]]},\"xaxis\":{\"gridcolor\":\"white\",\"linecolor\":\"white\",\"ticks\":\"\",\"title\":{\"standoff\":15},\"zerolinecolor\":\"white\",\"automargin\":true,\"zerolinewidth\":2},\"yaxis\":{\"gridcolor\":\"white\",\"linecolor\":\"white\",\"ticks\":\"\",\"title\":{\"standoff\":15},\"zerolinecolor\":\"white\",\"automargin\":true,\"zerolinewidth\":2},\"scene\":{\"xaxis\":{\"backgroundcolor\":\"#E5ECF6\",\"gridcolor\":\"white\",\"linecolor\":\"white\",\"showbackground\":true,\"ticks\":\"\",\"zerolinecolor\":\"white\",\"gridwidth\":2},\"yaxis\":{\"backgroundcolor\":\"#E5ECF6\",\"gridcolor\":\"white\",\"linecolor\":\"white\",\"showbackground\":true,\"ticks\":\"\",\"zerolinecolor\":\"white\",\"gridwidth\":2},\"zaxis\":{\"backgroundcolor\":\"#E5ECF6\",\"gridcolor\":\"white\",\"linecolor\":\"white\",\"showbackground\":true,\"ticks\":\"\",\"zerolinecolor\":\"white\",\"gridwidth\":2}},\"shapedefaults\":{\"line\":{\"color\":\"#2a3f5f\"}},\"annotationdefaults\":{\"arrowcolor\":\"#2a3f5f\",\"arrowhead\":0,\"arrowwidth\":1},\"geo\":{\"bgcolor\":\"white\",\"landcolor\":\"#E5ECF6\",\"subunitcolor\":\"white\",\"showland\":true,\"showlakes\":true,\"lakecolor\":\"white\"},\"title\":{\"x\":0.05},\"mapbox\":{\"style\":\"light\"}}},\"xaxis\":{\"anchor\":\"y\",\"domain\":[0.0,1.0],\"title\":{\"text\":\"Country\"}},\"yaxis\":{\"anchor\":\"x\",\"domain\":[0.0,1.0],\"title\":{\"text\":\"sum of Monthly salary+Tax(USD)\"}},\"legend\":{\"tracegroupgap\":0},\"margin\":{\"t\":60},\"barmode\":\"relative\"},                        {\"responsive\": true}                    ).then(function(){\n",
       "                            \n",
       "var gd = document.getElementById('42627159-c500-4fef-97b0-44f168f45821');\n",
       "var x = new MutationObserver(function (mutations, observer) {{\n",
       "        var display = window.getComputedStyle(gd).display;\n",
       "        if (!display || display === 'none') {{\n",
       "            console.log([gd, 'removed!']);\n",
       "            Plotly.purge(gd);\n",
       "            observer.disconnect();\n",
       "        }}\n",
       "}});\n",
       "\n",
       "// Listen for the removal of the full notebook cells\n",
       "var notebookContainer = gd.closest('#notebook-container');\n",
       "if (notebookContainer) {{\n",
       "    x.observe(notebookContainer, {childList: true});\n",
       "}}\n",
       "\n",
       "// Listen for the clearing of the current output cell\n",
       "var outputEl = gd.closest('.output');\n",
       "if (outputEl) {{\n",
       "    x.observe(outputEl, {childList: true});\n",
       "}}\n",
       "\n",
       "                        })                };                });            </script>        </div>"
      ]
     },
     "metadata": {},
     "output_type": "display_data"
    }
   ],
   "source": [
    "import plotly.express as px\n",
    "fig = px.histogram(p, x=\"Country\",y=\"Monthly salary+Tax(USD)\")\n",
    "fig.show()"
   ]
  },
  {
   "cell_type": "markdown",
   "id": "ee4346b0-6586-49cc-af25-074aafaa0bad",
   "metadata": {},
   "source": [
    "How average Salary differs with education?"
   ]
  },
  {
   "cell_type": "code",
   "execution_count": 1403,
   "id": "2a24f1f0-6062-4303-84ee-78a643451340",
   "metadata": {},
   "outputs": [
    {
     "name": "stdout",
     "output_type": "stream",
     "text": [
      "                         Literacy rate(%)  Monthly salary+Tax(USD)\n",
      "Literacy rate(%)                 1.000000                 0.334096\n",
      "Monthly salary+Tax(USD)          0.334096                 1.000000\n"
     ]
    }
   ],
   "source": [
    "correlation = new[['Literacy rate(%)', 'Monthly salary+Tax(USD)']].corr()\n",
    "print(correlation)"
   ]
  },
  {
   "cell_type": "code",
   "execution_count": 1404,
   "id": "f628666b-ec0f-4deb-8afe-05ba7ada56ca",
   "metadata": {},
   "outputs": [
    {
     "name": "stdout",
     "output_type": "stream",
     "text": [
      "<class 'pandas.core.frame.DataFrame'>\n",
      "RangeIndex: 61 entries, 0 to 60\n",
      "Data columns (total 15 columns):\n",
      " #   Column                               Non-Null Count  Dtype  \n",
      "---  ------                               --------------  -----  \n",
      " 0   Country                              61 non-null     object \n",
      " 1   cost of living                       61 non-null     int64  \n",
      " 2   cost index                           61 non-null     float64\n",
      " 3   cost of living.Monthly income (USD)  61 non-null     int64  \n",
      " 4   Purchasing Power Index               61 non-null     float64\n",
      " 5   currency rate                        61 non-null     float64\n",
      " 6   Gdp                                  61 non-null     int64  \n",
      " 7   population                           61 non-null     int64  \n",
      " 8   population.Migrants (net)            61 non-null     int64  \n",
      " 9   Skilled force                        61 non-null     int64  \n",
      " 10  technology.2023 rank                 61 non-null     int64  \n",
      " 11  Unemployment(%)                      61 non-null     float64\n",
      " 12  Inflation(%)                         61 non-null     float64\n",
      " 13  Monthly salary+Tax(USD)              61 non-null     float64\n",
      " 14  Literacy rate(%)                     61 non-null     float64\n",
      "dtypes: float64(7), int64(7), object(1)\n",
      "memory usage: 7.3+ KB\n"
     ]
    }
   ],
   "source": [
    "new.info()"
   ]
  },
  {
   "cell_type": "markdown",
   "id": "58378d5a-d170-41a9-a26b-0c0721bbf6e3",
   "metadata": {},
   "source": [
    "Top 10 countries with cost of living less"
   ]
  },
  {
   "cell_type": "code",
   "execution_count": 1405,
   "id": "efc9c159-a9e2-4281-8c60-af9d82f9e526",
   "metadata": {},
   "outputs": [
    {
     "data": {
      "text/plain": [
       "(23, 15)"
      ]
     },
     "execution_count": 1405,
     "metadata": {},
     "output_type": "execute_result"
    }
   ],
   "source": [
    "new1.shape"
   ]
  },
  {
   "cell_type": "code",
   "execution_count": 1406,
   "id": "ad8526dc-b46d-4a2a-834b-114ef3b1dd41",
   "metadata": {},
   "outputs": [],
   "source": [
    "cl=new.sort_values(by=\"cost of living\",ascending=True).head(10)"
   ]
  },
  {
   "cell_type": "code",
   "execution_count": 1407,
   "id": "c435f63b-39dd-4262-8e4e-c894de40aaae",
   "metadata": {},
   "outputs": [
    {
     "data": {
      "text/html": [
       "<div>\n",
       "<style scoped>\n",
       "    .dataframe tbody tr th:only-of-type {\n",
       "        vertical-align: middle;\n",
       "    }\n",
       "\n",
       "    .dataframe tbody tr th {\n",
       "        vertical-align: top;\n",
       "    }\n",
       "\n",
       "    .dataframe thead th {\n",
       "        text-align: right;\n",
       "    }\n",
       "</style>\n",
       "<table border=\"1\" class=\"dataframe\">\n",
       "  <thead>\n",
       "    <tr style=\"text-align: right;\">\n",
       "      <th></th>\n",
       "      <th>Country</th>\n",
       "      <th>cost of living</th>\n",
       "      <th>cost index</th>\n",
       "      <th>cost of living.Monthly income (USD)</th>\n",
       "      <th>Purchasing Power Index</th>\n",
       "      <th>currency rate</th>\n",
       "      <th>Gdp</th>\n",
       "      <th>population</th>\n",
       "      <th>population.Migrants (net)</th>\n",
       "      <th>Skilled force</th>\n",
       "      <th>technology.2023 rank</th>\n",
       "      <th>Unemployment(%)</th>\n",
       "      <th>Inflation(%)</th>\n",
       "      <th>Monthly salary+Tax(USD)</th>\n",
       "      <th>Literacy rate(%)</th>\n",
       "    </tr>\n",
       "  </thead>\n",
       "  <tbody>\n",
       "    <tr>\n",
       "      <th>30</th>\n",
       "      <td>Israel</td>\n",
       "      <td>8</td>\n",
       "      <td>105.3</td>\n",
       "      <td>4585</td>\n",
       "      <td>65.1</td>\n",
       "      <td>2.003</td>\n",
       "      <td>52262</td>\n",
       "      <td>9387021</td>\n",
       "      <td>10612</td>\n",
       "      <td>4553808</td>\n",
       "      <td>20</td>\n",
       "      <td>3.70</td>\n",
       "      <td>3.5</td>\n",
       "      <td>2703.21</td>\n",
       "      <td>97.10</td>\n",
       "    </tr>\n",
       "    <tr>\n",
       "      <th>16</th>\n",
       "      <td>Denmark</td>\n",
       "      <td>10</td>\n",
       "      <td>103.9</td>\n",
       "      <td>6113</td>\n",
       "      <td>87.9</td>\n",
       "      <td>1.813</td>\n",
       "      <td>67967</td>\n",
       "      <td>5977412</td>\n",
       "      <td>25639</td>\n",
       "      <td>3179505</td>\n",
       "      <td>16</td>\n",
       "      <td>4.89</td>\n",
       "      <td>1.6</td>\n",
       "      <td>3596.29</td>\n",
       "      <td>99.00</td>\n",
       "    </tr>\n",
       "    <tr>\n",
       "      <th>29</th>\n",
       "      <td>Ireland</td>\n",
       "      <td>11</td>\n",
       "      <td>102.7</td>\n",
       "      <td>6699</td>\n",
       "      <td>97.4</td>\n",
       "      <td>-3.199</td>\n",
       "      <td>103685</td>\n",
       "      <td>5255017</td>\n",
       "      <td>39059</td>\n",
       "      <td>2766155</td>\n",
       "      <td>14</td>\n",
       "      <td>4.38</td>\n",
       "      <td>0.7</td>\n",
       "      <td>3073.35</td>\n",
       "      <td>99.00</td>\n",
       "    </tr>\n",
       "    <tr>\n",
       "      <th>36</th>\n",
       "      <td>Luxembourg</td>\n",
       "      <td>16</td>\n",
       "      <td>97.5</td>\n",
       "      <td>7364</td>\n",
       "      <td>112.9</td>\n",
       "      <td>-1.095</td>\n",
       "      <td>128259</td>\n",
       "      <td>673036</td>\n",
       "      <td>5677</td>\n",
       "      <td>351903</td>\n",
       "      <td>18</td>\n",
       "      <td>5.99</td>\n",
       "      <td>1.0</td>\n",
       "      <td>5686.45</td>\n",
       "      <td>100.00</td>\n",
       "    </tr>\n",
       "    <tr>\n",
       "      <th>2</th>\n",
       "      <td>Australia</td>\n",
       "      <td>17</td>\n",
       "      <td>96.4</td>\n",
       "      <td>5262</td>\n",
       "      <td>81.6</td>\n",
       "      <td>2.063</td>\n",
       "      <td>64712</td>\n",
       "      <td>26713205</td>\n",
       "      <td>138510</td>\n",
       "      <td>14501414</td>\n",
       "      <td>12</td>\n",
       "      <td>4.21</td>\n",
       "      <td>2.8</td>\n",
       "      <td>3678.75</td>\n",
       "      <td>99.00</td>\n",
       "    </tr>\n",
       "    <tr>\n",
       "      <th>41</th>\n",
       "      <td>New Zealand</td>\n",
       "      <td>18</td>\n",
       "      <td>94.3</td>\n",
       "      <td>4051</td>\n",
       "      <td>64.2</td>\n",
       "      <td>0.633</td>\n",
       "      <td>48528</td>\n",
       "      <td>5213944</td>\n",
       "      <td>18766</td>\n",
       "      <td>3068205</td>\n",
       "      <td>23</td>\n",
       "      <td>5.04</td>\n",
       "      <td>2.2</td>\n",
       "      <td>2962.58</td>\n",
       "      <td>99.00</td>\n",
       "    </tr>\n",
       "    <tr>\n",
       "      <th>60</th>\n",
       "      <td>United Kingdom</td>\n",
       "      <td>19</td>\n",
       "      <td>92.9</td>\n",
       "      <td>3983</td>\n",
       "      <td>64.1</td>\n",
       "      <td>0.145</td>\n",
       "      <td>48867</td>\n",
       "      <td>69138192</td>\n",
       "      <td>417114</td>\n",
       "      <td>35275169</td>\n",
       "      <td>17</td>\n",
       "      <td>4.15</td>\n",
       "      <td>1.7</td>\n",
       "      <td>3105.98</td>\n",
       "      <td>99.76</td>\n",
       "    </tr>\n",
       "    <tr>\n",
       "      <th>43</th>\n",
       "      <td>Norway</td>\n",
       "      <td>20</td>\n",
       "      <td>90.8</td>\n",
       "      <td>8538</td>\n",
       "      <td>140.6</td>\n",
       "      <td>0.514</td>\n",
       "      <td>87962</td>\n",
       "      <td>5576660</td>\n",
       "      <td>44356</td>\n",
       "      <td>3009339</td>\n",
       "      <td>13</td>\n",
       "      <td>3.80</td>\n",
       "      <td>2.6</td>\n",
       "      <td>3286.54</td>\n",
       "      <td>100.00</td>\n",
       "    </tr>\n",
       "    <tr>\n",
       "      <th>10</th>\n",
       "      <td>Canada</td>\n",
       "      <td>21</td>\n",
       "      <td>90.7</td>\n",
       "      <td>4494</td>\n",
       "      <td>74.1</td>\n",
       "      <td>1.066</td>\n",
       "      <td>53372</td>\n",
       "      <td>39742430</td>\n",
       "      <td>368599</td>\n",
       "      <td>22110473</td>\n",
       "      <td>11</td>\n",
       "      <td>6.32</td>\n",
       "      <td>1.6</td>\n",
       "      <td>2818.53</td>\n",
       "      <td>99.00</td>\n",
       "    </tr>\n",
       "    <tr>\n",
       "      <th>20</th>\n",
       "      <td>Finland</td>\n",
       "      <td>22</td>\n",
       "      <td>90.2</td>\n",
       "      <td>4449</td>\n",
       "      <td>73.7</td>\n",
       "      <td>-0.957</td>\n",
       "      <td>53756</td>\n",
       "      <td>5617310</td>\n",
       "      <td>26894</td>\n",
       "      <td>2879817</td>\n",
       "      <td>8</td>\n",
       "      <td>7.60</td>\n",
       "      <td>0.8</td>\n",
       "      <td>2818.03</td>\n",
       "      <td>99.00</td>\n",
       "    </tr>\n",
       "  </tbody>\n",
       "</table>\n",
       "</div>"
      ],
      "text/plain": [
       "           Country  cost of living  cost index  \\\n",
       "30          Israel               8       105.3   \n",
       "16         Denmark              10       103.9   \n",
       "29         Ireland              11       102.7   \n",
       "36      Luxembourg              16        97.5   \n",
       "2        Australia              17        96.4   \n",
       "41     New Zealand              18        94.3   \n",
       "60  United Kingdom              19        92.9   \n",
       "43          Norway              20        90.8   \n",
       "10          Canada              21        90.7   \n",
       "20         Finland              22        90.2   \n",
       "\n",
       "    cost of living.Monthly income (USD)  Purchasing Power Index  \\\n",
       "30                                 4585                    65.1   \n",
       "16                                 6113                    87.9   \n",
       "29                                 6699                    97.4   \n",
       "36                                 7364                   112.9   \n",
       "2                                  5262                    81.6   \n",
       "41                                 4051                    64.2   \n",
       "60                                 3983                    64.1   \n",
       "43                                 8538                   140.6   \n",
       "10                                 4494                    74.1   \n",
       "20                                 4449                    73.7   \n",
       "\n",
       "    currency rate     Gdp  population  population.Migrants (net)  \\\n",
       "30          2.003   52262     9387021                      10612   \n",
       "16          1.813   67967     5977412                      25639   \n",
       "29         -3.199  103685     5255017                      39059   \n",
       "36         -1.095  128259      673036                       5677   \n",
       "2           2.063   64712    26713205                     138510   \n",
       "41          0.633   48528     5213944                      18766   \n",
       "60          0.145   48867    69138192                     417114   \n",
       "43          0.514   87962     5576660                      44356   \n",
       "10          1.066   53372    39742430                     368599   \n",
       "20         -0.957   53756     5617310                      26894   \n",
       "\n",
       "    Skilled force  technology.2023 rank  Unemployment(%)  Inflation(%)  \\\n",
       "30        4553808                    20             3.70           3.5   \n",
       "16        3179505                    16             4.89           1.6   \n",
       "29        2766155                    14             4.38           0.7   \n",
       "36         351903                    18             5.99           1.0   \n",
       "2        14501414                    12             4.21           2.8   \n",
       "41        3068205                    23             5.04           2.2   \n",
       "60       35275169                    17             4.15           1.7   \n",
       "43        3009339                    13             3.80           2.6   \n",
       "10       22110473                    11             6.32           1.6   \n",
       "20        2879817                     8             7.60           0.8   \n",
       "\n",
       "    Monthly salary+Tax(USD)  Literacy rate(%)  \n",
       "30                  2703.21             97.10  \n",
       "16                  3596.29             99.00  \n",
       "29                  3073.35             99.00  \n",
       "36                  5686.45            100.00  \n",
       "2                   3678.75             99.00  \n",
       "41                  2962.58             99.00  \n",
       "60                  3105.98             99.76  \n",
       "43                  3286.54            100.00  \n",
       "10                  2818.53             99.00  \n",
       "20                  2818.03             99.00  "
      ]
     },
     "execution_count": 1407,
     "metadata": {},
     "output_type": "execute_result"
    }
   ],
   "source": [
    "cl"
   ]
  },
  {
   "cell_type": "code",
   "execution_count": 1408,
   "id": "94d011d0-4c8f-45d7-b1a5-5e0d6b1aca03",
   "metadata": {
    "scrolled": true
   },
   "outputs": [
    {
     "data": {
      "application/vnd.plotly.v1+json": {
       "config": {
        "plotlyServerURL": "https://plot.ly"
       },
       "data": [
        {
         "alignmentgroup": "True",
         "bingroup": "x",
         "histfunc": "sum",
         "hovertemplate": "Country=%{x}<br>sum of cost of living=%{y}<extra></extra>",
         "legendgroup": "",
         "marker": {
          "color": "#636efa",
          "pattern": {
           "shape": ""
          }
         },
         "name": "",
         "offsetgroup": "",
         "orientation": "v",
         "showlegend": false,
         "type": "histogram",
         "x": [
          "Israel",
          "Denmark",
          "Ireland",
          "Luxembourg",
          "Australia",
          "New Zealand",
          "United Kingdom",
          "Norway",
          "Canada",
          "Finland"
         ],
         "xaxis": "x",
         "y": [
          8,
          10,
          11,
          16,
          17,
          18,
          19,
          20,
          21,
          22
         ],
         "yaxis": "y"
        }
       ],
       "layout": {
        "autosize": true,
        "barmode": "relative",
        "legend": {
         "tracegroupgap": 0
        },
        "margin": {
         "t": 60
        },
        "template": {
         "data": {
          "bar": [
           {
            "error_x": {
             "color": "#2a3f5f"
            },
            "error_y": {
             "color": "#2a3f5f"
            },
            "marker": {
             "line": {
              "color": "#E5ECF6",
              "width": 0.5
             },
             "pattern": {
              "fillmode": "overlay",
              "size": 10,
              "solidity": 0.2
             }
            },
            "type": "bar"
           }
          ],
          "barpolar": [
           {
            "marker": {
             "line": {
              "color": "#E5ECF6",
              "width": 0.5
             },
             "pattern": {
              "fillmode": "overlay",
              "size": 10,
              "solidity": 0.2
             }
            },
            "type": "barpolar"
           }
          ],
          "carpet": [
           {
            "aaxis": {
             "endlinecolor": "#2a3f5f",
             "gridcolor": "white",
             "linecolor": "white",
             "minorgridcolor": "white",
             "startlinecolor": "#2a3f5f"
            },
            "baxis": {
             "endlinecolor": "#2a3f5f",
             "gridcolor": "white",
             "linecolor": "white",
             "minorgridcolor": "white",
             "startlinecolor": "#2a3f5f"
            },
            "type": "carpet"
           }
          ],
          "choropleth": [
           {
            "colorbar": {
             "outlinewidth": 0,
             "ticks": ""
            },
            "type": "choropleth"
           }
          ],
          "contour": [
           {
            "colorbar": {
             "outlinewidth": 0,
             "ticks": ""
            },
            "colorscale": [
             [
              0,
              "#0d0887"
             ],
             [
              0.1111111111111111,
              "#46039f"
             ],
             [
              0.2222222222222222,
              "#7201a8"
             ],
             [
              0.3333333333333333,
              "#9c179e"
             ],
             [
              0.4444444444444444,
              "#bd3786"
             ],
             [
              0.5555555555555556,
              "#d8576b"
             ],
             [
              0.6666666666666666,
              "#ed7953"
             ],
             [
              0.7777777777777778,
              "#fb9f3a"
             ],
             [
              0.8888888888888888,
              "#fdca26"
             ],
             [
              1,
              "#f0f921"
             ]
            ],
            "type": "contour"
           }
          ],
          "contourcarpet": [
           {
            "colorbar": {
             "outlinewidth": 0,
             "ticks": ""
            },
            "type": "contourcarpet"
           }
          ],
          "heatmap": [
           {
            "colorbar": {
             "outlinewidth": 0,
             "ticks": ""
            },
            "colorscale": [
             [
              0,
              "#0d0887"
             ],
             [
              0.1111111111111111,
              "#46039f"
             ],
             [
              0.2222222222222222,
              "#7201a8"
             ],
             [
              0.3333333333333333,
              "#9c179e"
             ],
             [
              0.4444444444444444,
              "#bd3786"
             ],
             [
              0.5555555555555556,
              "#d8576b"
             ],
             [
              0.6666666666666666,
              "#ed7953"
             ],
             [
              0.7777777777777778,
              "#fb9f3a"
             ],
             [
              0.8888888888888888,
              "#fdca26"
             ],
             [
              1,
              "#f0f921"
             ]
            ],
            "type": "heatmap"
           }
          ],
          "heatmapgl": [
           {
            "colorbar": {
             "outlinewidth": 0,
             "ticks": ""
            },
            "colorscale": [
             [
              0,
              "#0d0887"
             ],
             [
              0.1111111111111111,
              "#46039f"
             ],
             [
              0.2222222222222222,
              "#7201a8"
             ],
             [
              0.3333333333333333,
              "#9c179e"
             ],
             [
              0.4444444444444444,
              "#bd3786"
             ],
             [
              0.5555555555555556,
              "#d8576b"
             ],
             [
              0.6666666666666666,
              "#ed7953"
             ],
             [
              0.7777777777777778,
              "#fb9f3a"
             ],
             [
              0.8888888888888888,
              "#fdca26"
             ],
             [
              1,
              "#f0f921"
             ]
            ],
            "type": "heatmapgl"
           }
          ],
          "histogram": [
           {
            "marker": {
             "pattern": {
              "fillmode": "overlay",
              "size": 10,
              "solidity": 0.2
             }
            },
            "type": "histogram"
           }
          ],
          "histogram2d": [
           {
            "colorbar": {
             "outlinewidth": 0,
             "ticks": ""
            },
            "colorscale": [
             [
              0,
              "#0d0887"
             ],
             [
              0.1111111111111111,
              "#46039f"
             ],
             [
              0.2222222222222222,
              "#7201a8"
             ],
             [
              0.3333333333333333,
              "#9c179e"
             ],
             [
              0.4444444444444444,
              "#bd3786"
             ],
             [
              0.5555555555555556,
              "#d8576b"
             ],
             [
              0.6666666666666666,
              "#ed7953"
             ],
             [
              0.7777777777777778,
              "#fb9f3a"
             ],
             [
              0.8888888888888888,
              "#fdca26"
             ],
             [
              1,
              "#f0f921"
             ]
            ],
            "type": "histogram2d"
           }
          ],
          "histogram2dcontour": [
           {
            "colorbar": {
             "outlinewidth": 0,
             "ticks": ""
            },
            "colorscale": [
             [
              0,
              "#0d0887"
             ],
             [
              0.1111111111111111,
              "#46039f"
             ],
             [
              0.2222222222222222,
              "#7201a8"
             ],
             [
              0.3333333333333333,
              "#9c179e"
             ],
             [
              0.4444444444444444,
              "#bd3786"
             ],
             [
              0.5555555555555556,
              "#d8576b"
             ],
             [
              0.6666666666666666,
              "#ed7953"
             ],
             [
              0.7777777777777778,
              "#fb9f3a"
             ],
             [
              0.8888888888888888,
              "#fdca26"
             ],
             [
              1,
              "#f0f921"
             ]
            ],
            "type": "histogram2dcontour"
           }
          ],
          "mesh3d": [
           {
            "colorbar": {
             "outlinewidth": 0,
             "ticks": ""
            },
            "type": "mesh3d"
           }
          ],
          "parcoords": [
           {
            "line": {
             "colorbar": {
              "outlinewidth": 0,
              "ticks": ""
             }
            },
            "type": "parcoords"
           }
          ],
          "pie": [
           {
            "automargin": true,
            "type": "pie"
           }
          ],
          "scatter": [
           {
            "fillpattern": {
             "fillmode": "overlay",
             "size": 10,
             "solidity": 0.2
            },
            "type": "scatter"
           }
          ],
          "scatter3d": [
           {
            "line": {
             "colorbar": {
              "outlinewidth": 0,
              "ticks": ""
             }
            },
            "marker": {
             "colorbar": {
              "outlinewidth": 0,
              "ticks": ""
             }
            },
            "type": "scatter3d"
           }
          ],
          "scattercarpet": [
           {
            "marker": {
             "colorbar": {
              "outlinewidth": 0,
              "ticks": ""
             }
            },
            "type": "scattercarpet"
           }
          ],
          "scattergeo": [
           {
            "marker": {
             "colorbar": {
              "outlinewidth": 0,
              "ticks": ""
             }
            },
            "type": "scattergeo"
           }
          ],
          "scattergl": [
           {
            "marker": {
             "colorbar": {
              "outlinewidth": 0,
              "ticks": ""
             }
            },
            "type": "scattergl"
           }
          ],
          "scattermapbox": [
           {
            "marker": {
             "colorbar": {
              "outlinewidth": 0,
              "ticks": ""
             }
            },
            "type": "scattermapbox"
           }
          ],
          "scatterpolar": [
           {
            "marker": {
             "colorbar": {
              "outlinewidth": 0,
              "ticks": ""
             }
            },
            "type": "scatterpolar"
           }
          ],
          "scatterpolargl": [
           {
            "marker": {
             "colorbar": {
              "outlinewidth": 0,
              "ticks": ""
             }
            },
            "type": "scatterpolargl"
           }
          ],
          "scatterternary": [
           {
            "marker": {
             "colorbar": {
              "outlinewidth": 0,
              "ticks": ""
             }
            },
            "type": "scatterternary"
           }
          ],
          "surface": [
           {
            "colorbar": {
             "outlinewidth": 0,
             "ticks": ""
            },
            "colorscale": [
             [
              0,
              "#0d0887"
             ],
             [
              0.1111111111111111,
              "#46039f"
             ],
             [
              0.2222222222222222,
              "#7201a8"
             ],
             [
              0.3333333333333333,
              "#9c179e"
             ],
             [
              0.4444444444444444,
              "#bd3786"
             ],
             [
              0.5555555555555556,
              "#d8576b"
             ],
             [
              0.6666666666666666,
              "#ed7953"
             ],
             [
              0.7777777777777778,
              "#fb9f3a"
             ],
             [
              0.8888888888888888,
              "#fdca26"
             ],
             [
              1,
              "#f0f921"
             ]
            ],
            "type": "surface"
           }
          ],
          "table": [
           {
            "cells": {
             "fill": {
              "color": "#EBF0F8"
             },
             "line": {
              "color": "white"
             }
            },
            "header": {
             "fill": {
              "color": "#C8D4E3"
             },
             "line": {
              "color": "white"
             }
            },
            "type": "table"
           }
          ]
         },
         "layout": {
          "annotationdefaults": {
           "arrowcolor": "#2a3f5f",
           "arrowhead": 0,
           "arrowwidth": 1
          },
          "autotypenumbers": "strict",
          "coloraxis": {
           "colorbar": {
            "outlinewidth": 0,
            "ticks": ""
           }
          },
          "colorscale": {
           "diverging": [
            [
             0,
             "#8e0152"
            ],
            [
             0.1,
             "#c51b7d"
            ],
            [
             0.2,
             "#de77ae"
            ],
            [
             0.3,
             "#f1b6da"
            ],
            [
             0.4,
             "#fde0ef"
            ],
            [
             0.5,
             "#f7f7f7"
            ],
            [
             0.6,
             "#e6f5d0"
            ],
            [
             0.7,
             "#b8e186"
            ],
            [
             0.8,
             "#7fbc41"
            ],
            [
             0.9,
             "#4d9221"
            ],
            [
             1,
             "#276419"
            ]
           ],
           "sequential": [
            [
             0,
             "#0d0887"
            ],
            [
             0.1111111111111111,
             "#46039f"
            ],
            [
             0.2222222222222222,
             "#7201a8"
            ],
            [
             0.3333333333333333,
             "#9c179e"
            ],
            [
             0.4444444444444444,
             "#bd3786"
            ],
            [
             0.5555555555555556,
             "#d8576b"
            ],
            [
             0.6666666666666666,
             "#ed7953"
            ],
            [
             0.7777777777777778,
             "#fb9f3a"
            ],
            [
             0.8888888888888888,
             "#fdca26"
            ],
            [
             1,
             "#f0f921"
            ]
           ],
           "sequentialminus": [
            [
             0,
             "#0d0887"
            ],
            [
             0.1111111111111111,
             "#46039f"
            ],
            [
             0.2222222222222222,
             "#7201a8"
            ],
            [
             0.3333333333333333,
             "#9c179e"
            ],
            [
             0.4444444444444444,
             "#bd3786"
            ],
            [
             0.5555555555555556,
             "#d8576b"
            ],
            [
             0.6666666666666666,
             "#ed7953"
            ],
            [
             0.7777777777777778,
             "#fb9f3a"
            ],
            [
             0.8888888888888888,
             "#fdca26"
            ],
            [
             1,
             "#f0f921"
            ]
           ]
          },
          "colorway": [
           "#636efa",
           "#EF553B",
           "#00cc96",
           "#ab63fa",
           "#FFA15A",
           "#19d3f3",
           "#FF6692",
           "#B6E880",
           "#FF97FF",
           "#FECB52"
          ],
          "font": {
           "color": "#2a3f5f"
          },
          "geo": {
           "bgcolor": "white",
           "lakecolor": "white",
           "landcolor": "#E5ECF6",
           "showlakes": true,
           "showland": true,
           "subunitcolor": "white"
          },
          "hoverlabel": {
           "align": "left"
          },
          "hovermode": "closest",
          "mapbox": {
           "style": "light"
          },
          "paper_bgcolor": "white",
          "plot_bgcolor": "#E5ECF6",
          "polar": {
           "angularaxis": {
            "gridcolor": "white",
            "linecolor": "white",
            "ticks": ""
           },
           "bgcolor": "#E5ECF6",
           "radialaxis": {
            "gridcolor": "white",
            "linecolor": "white",
            "ticks": ""
           }
          },
          "scene": {
           "xaxis": {
            "backgroundcolor": "#E5ECF6",
            "gridcolor": "white",
            "gridwidth": 2,
            "linecolor": "white",
            "showbackground": true,
            "ticks": "",
            "zerolinecolor": "white"
           },
           "yaxis": {
            "backgroundcolor": "#E5ECF6",
            "gridcolor": "white",
            "gridwidth": 2,
            "linecolor": "white",
            "showbackground": true,
            "ticks": "",
            "zerolinecolor": "white"
           },
           "zaxis": {
            "backgroundcolor": "#E5ECF6",
            "gridcolor": "white",
            "gridwidth": 2,
            "linecolor": "white",
            "showbackground": true,
            "ticks": "",
            "zerolinecolor": "white"
           }
          },
          "shapedefaults": {
           "line": {
            "color": "#2a3f5f"
           }
          },
          "ternary": {
           "aaxis": {
            "gridcolor": "white",
            "linecolor": "white",
            "ticks": ""
           },
           "baxis": {
            "gridcolor": "white",
            "linecolor": "white",
            "ticks": ""
           },
           "bgcolor": "#E5ECF6",
           "caxis": {
            "gridcolor": "white",
            "linecolor": "white",
            "ticks": ""
           }
          },
          "title": {
           "x": 0.05
          },
          "xaxis": {
           "automargin": true,
           "gridcolor": "white",
           "linecolor": "white",
           "ticks": "",
           "title": {
            "standoff": 15
           },
           "zerolinecolor": "white",
           "zerolinewidth": 2
          },
          "yaxis": {
           "automargin": true,
           "gridcolor": "white",
           "linecolor": "white",
           "ticks": "",
           "title": {
            "standoff": 15
           },
           "zerolinecolor": "white",
           "zerolinewidth": 2
          }
         }
        },
        "xaxis": {
         "anchor": "y",
         "autorange": true,
         "domain": [
          0,
          1
         ],
         "range": [
          -0.5,
          9.5
         ],
         "title": {
          "text": "Country"
         },
         "type": "category"
        },
        "yaxis": {
         "anchor": "x",
         "autorange": true,
         "domain": [
          0,
          1
         ],
         "range": [
          0,
          23.157894736842106
         ],
         "title": {
          "text": "sum of cost of living"
         },
         "type": "linear"
        }
       }
      },
      "text/html": [
       "<div>                            <div id=\"f3868d63-34bf-46f2-821b-10fcfe0889ec\" class=\"plotly-graph-div\" style=\"height:525px; width:100%;\"></div>            <script type=\"text/javascript\">                require([\"plotly\"], function(Plotly) {                    window.PLOTLYENV=window.PLOTLYENV || {};                                    if (document.getElementById(\"f3868d63-34bf-46f2-821b-10fcfe0889ec\")) {                    Plotly.newPlot(                        \"f3868d63-34bf-46f2-821b-10fcfe0889ec\",                        [{\"alignmentgroup\":\"True\",\"bingroup\":\"x\",\"histfunc\":\"sum\",\"hovertemplate\":\"Country=%{x}\\u003cbr\\u003esum of cost of living=%{y}\\u003cextra\\u003e\\u003c\\u002fextra\\u003e\",\"legendgroup\":\"\",\"marker\":{\"color\":\"#636efa\",\"pattern\":{\"shape\":\"\"}},\"name\":\"\",\"offsetgroup\":\"\",\"orientation\":\"v\",\"showlegend\":false,\"x\":[\"Israel\",\"Denmark\",\"Ireland\",\"Luxembourg\",\"Australia\",\"New Zealand\",\"United Kingdom\",\"Norway\",\"Canada\",\"Finland\"],\"xaxis\":\"x\",\"y\":[8,10,11,16,17,18,19,20,21,22],\"yaxis\":\"y\",\"type\":\"histogram\"}],                        {\"template\":{\"data\":{\"histogram2dcontour\":[{\"type\":\"histogram2dcontour\",\"colorbar\":{\"outlinewidth\":0,\"ticks\":\"\"},\"colorscale\":[[0.0,\"#0d0887\"],[0.1111111111111111,\"#46039f\"],[0.2222222222222222,\"#7201a8\"],[0.3333333333333333,\"#9c179e\"],[0.4444444444444444,\"#bd3786\"],[0.5555555555555556,\"#d8576b\"],[0.6666666666666666,\"#ed7953\"],[0.7777777777777778,\"#fb9f3a\"],[0.8888888888888888,\"#fdca26\"],[1.0,\"#f0f921\"]]}],\"choropleth\":[{\"type\":\"choropleth\",\"colorbar\":{\"outlinewidth\":0,\"ticks\":\"\"}}],\"histogram2d\":[{\"type\":\"histogram2d\",\"colorbar\":{\"outlinewidth\":0,\"ticks\":\"\"},\"colorscale\":[[0.0,\"#0d0887\"],[0.1111111111111111,\"#46039f\"],[0.2222222222222222,\"#7201a8\"],[0.3333333333333333,\"#9c179e\"],[0.4444444444444444,\"#bd3786\"],[0.5555555555555556,\"#d8576b\"],[0.6666666666666666,\"#ed7953\"],[0.7777777777777778,\"#fb9f3a\"],[0.8888888888888888,\"#fdca26\"],[1.0,\"#f0f921\"]]}],\"heatmap\":[{\"type\":\"heatmap\",\"colorbar\":{\"outlinewidth\":0,\"ticks\":\"\"},\"colorscale\":[[0.0,\"#0d0887\"],[0.1111111111111111,\"#46039f\"],[0.2222222222222222,\"#7201a8\"],[0.3333333333333333,\"#9c179e\"],[0.4444444444444444,\"#bd3786\"],[0.5555555555555556,\"#d8576b\"],[0.6666666666666666,\"#ed7953\"],[0.7777777777777778,\"#fb9f3a\"],[0.8888888888888888,\"#fdca26\"],[1.0,\"#f0f921\"]]}],\"heatmapgl\":[{\"type\":\"heatmapgl\",\"colorbar\":{\"outlinewidth\":0,\"ticks\":\"\"},\"colorscale\":[[0.0,\"#0d0887\"],[0.1111111111111111,\"#46039f\"],[0.2222222222222222,\"#7201a8\"],[0.3333333333333333,\"#9c179e\"],[0.4444444444444444,\"#bd3786\"],[0.5555555555555556,\"#d8576b\"],[0.6666666666666666,\"#ed7953\"],[0.7777777777777778,\"#fb9f3a\"],[0.8888888888888888,\"#fdca26\"],[1.0,\"#f0f921\"]]}],\"contourcarpet\":[{\"type\":\"contourcarpet\",\"colorbar\":{\"outlinewidth\":0,\"ticks\":\"\"}}],\"contour\":[{\"type\":\"contour\",\"colorbar\":{\"outlinewidth\":0,\"ticks\":\"\"},\"colorscale\":[[0.0,\"#0d0887\"],[0.1111111111111111,\"#46039f\"],[0.2222222222222222,\"#7201a8\"],[0.3333333333333333,\"#9c179e\"],[0.4444444444444444,\"#bd3786\"],[0.5555555555555556,\"#d8576b\"],[0.6666666666666666,\"#ed7953\"],[0.7777777777777778,\"#fb9f3a\"],[0.8888888888888888,\"#fdca26\"],[1.0,\"#f0f921\"]]}],\"surface\":[{\"type\":\"surface\",\"colorbar\":{\"outlinewidth\":0,\"ticks\":\"\"},\"colorscale\":[[0.0,\"#0d0887\"],[0.1111111111111111,\"#46039f\"],[0.2222222222222222,\"#7201a8\"],[0.3333333333333333,\"#9c179e\"],[0.4444444444444444,\"#bd3786\"],[0.5555555555555556,\"#d8576b\"],[0.6666666666666666,\"#ed7953\"],[0.7777777777777778,\"#fb9f3a\"],[0.8888888888888888,\"#fdca26\"],[1.0,\"#f0f921\"]]}],\"mesh3d\":[{\"type\":\"mesh3d\",\"colorbar\":{\"outlinewidth\":0,\"ticks\":\"\"}}],\"scatter\":[{\"fillpattern\":{\"fillmode\":\"overlay\",\"size\":10,\"solidity\":0.2},\"type\":\"scatter\"}],\"parcoords\":[{\"type\":\"parcoords\",\"line\":{\"colorbar\":{\"outlinewidth\":0,\"ticks\":\"\"}}}],\"scatterpolargl\":[{\"type\":\"scatterpolargl\",\"marker\":{\"colorbar\":{\"outlinewidth\":0,\"ticks\":\"\"}}}],\"bar\":[{\"error_x\":{\"color\":\"#2a3f5f\"},\"error_y\":{\"color\":\"#2a3f5f\"},\"marker\":{\"line\":{\"color\":\"#E5ECF6\",\"width\":0.5},\"pattern\":{\"fillmode\":\"overlay\",\"size\":10,\"solidity\":0.2}},\"type\":\"bar\"}],\"scattergeo\":[{\"type\":\"scattergeo\",\"marker\":{\"colorbar\":{\"outlinewidth\":0,\"ticks\":\"\"}}}],\"scatterpolar\":[{\"type\":\"scatterpolar\",\"marker\":{\"colorbar\":{\"outlinewidth\":0,\"ticks\":\"\"}}}],\"histogram\":[{\"marker\":{\"pattern\":{\"fillmode\":\"overlay\",\"size\":10,\"solidity\":0.2}},\"type\":\"histogram\"}],\"scattergl\":[{\"type\":\"scattergl\",\"marker\":{\"colorbar\":{\"outlinewidth\":0,\"ticks\":\"\"}}}],\"scatter3d\":[{\"type\":\"scatter3d\",\"line\":{\"colorbar\":{\"outlinewidth\":0,\"ticks\":\"\"}},\"marker\":{\"colorbar\":{\"outlinewidth\":0,\"ticks\":\"\"}}}],\"scattermapbox\":[{\"type\":\"scattermapbox\",\"marker\":{\"colorbar\":{\"outlinewidth\":0,\"ticks\":\"\"}}}],\"scatterternary\":[{\"type\":\"scatterternary\",\"marker\":{\"colorbar\":{\"outlinewidth\":0,\"ticks\":\"\"}}}],\"scattercarpet\":[{\"type\":\"scattercarpet\",\"marker\":{\"colorbar\":{\"outlinewidth\":0,\"ticks\":\"\"}}}],\"carpet\":[{\"aaxis\":{\"endlinecolor\":\"#2a3f5f\",\"gridcolor\":\"white\",\"linecolor\":\"white\",\"minorgridcolor\":\"white\",\"startlinecolor\":\"#2a3f5f\"},\"baxis\":{\"endlinecolor\":\"#2a3f5f\",\"gridcolor\":\"white\",\"linecolor\":\"white\",\"minorgridcolor\":\"white\",\"startlinecolor\":\"#2a3f5f\"},\"type\":\"carpet\"}],\"table\":[{\"cells\":{\"fill\":{\"color\":\"#EBF0F8\"},\"line\":{\"color\":\"white\"}},\"header\":{\"fill\":{\"color\":\"#C8D4E3\"},\"line\":{\"color\":\"white\"}},\"type\":\"table\"}],\"barpolar\":[{\"marker\":{\"line\":{\"color\":\"#E5ECF6\",\"width\":0.5},\"pattern\":{\"fillmode\":\"overlay\",\"size\":10,\"solidity\":0.2}},\"type\":\"barpolar\"}],\"pie\":[{\"automargin\":true,\"type\":\"pie\"}]},\"layout\":{\"autotypenumbers\":\"strict\",\"colorway\":[\"#636efa\",\"#EF553B\",\"#00cc96\",\"#ab63fa\",\"#FFA15A\",\"#19d3f3\",\"#FF6692\",\"#B6E880\",\"#FF97FF\",\"#FECB52\"],\"font\":{\"color\":\"#2a3f5f\"},\"hovermode\":\"closest\",\"hoverlabel\":{\"align\":\"left\"},\"paper_bgcolor\":\"white\",\"plot_bgcolor\":\"#E5ECF6\",\"polar\":{\"bgcolor\":\"#E5ECF6\",\"angularaxis\":{\"gridcolor\":\"white\",\"linecolor\":\"white\",\"ticks\":\"\"},\"radialaxis\":{\"gridcolor\":\"white\",\"linecolor\":\"white\",\"ticks\":\"\"}},\"ternary\":{\"bgcolor\":\"#E5ECF6\",\"aaxis\":{\"gridcolor\":\"white\",\"linecolor\":\"white\",\"ticks\":\"\"},\"baxis\":{\"gridcolor\":\"white\",\"linecolor\":\"white\",\"ticks\":\"\"},\"caxis\":{\"gridcolor\":\"white\",\"linecolor\":\"white\",\"ticks\":\"\"}},\"coloraxis\":{\"colorbar\":{\"outlinewidth\":0,\"ticks\":\"\"}},\"colorscale\":{\"sequential\":[[0.0,\"#0d0887\"],[0.1111111111111111,\"#46039f\"],[0.2222222222222222,\"#7201a8\"],[0.3333333333333333,\"#9c179e\"],[0.4444444444444444,\"#bd3786\"],[0.5555555555555556,\"#d8576b\"],[0.6666666666666666,\"#ed7953\"],[0.7777777777777778,\"#fb9f3a\"],[0.8888888888888888,\"#fdca26\"],[1.0,\"#f0f921\"]],\"sequentialminus\":[[0.0,\"#0d0887\"],[0.1111111111111111,\"#46039f\"],[0.2222222222222222,\"#7201a8\"],[0.3333333333333333,\"#9c179e\"],[0.4444444444444444,\"#bd3786\"],[0.5555555555555556,\"#d8576b\"],[0.6666666666666666,\"#ed7953\"],[0.7777777777777778,\"#fb9f3a\"],[0.8888888888888888,\"#fdca26\"],[1.0,\"#f0f921\"]],\"diverging\":[[0,\"#8e0152\"],[0.1,\"#c51b7d\"],[0.2,\"#de77ae\"],[0.3,\"#f1b6da\"],[0.4,\"#fde0ef\"],[0.5,\"#f7f7f7\"],[0.6,\"#e6f5d0\"],[0.7,\"#b8e186\"],[0.8,\"#7fbc41\"],[0.9,\"#4d9221\"],[1,\"#276419\"]]},\"xaxis\":{\"gridcolor\":\"white\",\"linecolor\":\"white\",\"ticks\":\"\",\"title\":{\"standoff\":15},\"zerolinecolor\":\"white\",\"automargin\":true,\"zerolinewidth\":2},\"yaxis\":{\"gridcolor\":\"white\",\"linecolor\":\"white\",\"ticks\":\"\",\"title\":{\"standoff\":15},\"zerolinecolor\":\"white\",\"automargin\":true,\"zerolinewidth\":2},\"scene\":{\"xaxis\":{\"backgroundcolor\":\"#E5ECF6\",\"gridcolor\":\"white\",\"linecolor\":\"white\",\"showbackground\":true,\"ticks\":\"\",\"zerolinecolor\":\"white\",\"gridwidth\":2},\"yaxis\":{\"backgroundcolor\":\"#E5ECF6\",\"gridcolor\":\"white\",\"linecolor\":\"white\",\"showbackground\":true,\"ticks\":\"\",\"zerolinecolor\":\"white\",\"gridwidth\":2},\"zaxis\":{\"backgroundcolor\":\"#E5ECF6\",\"gridcolor\":\"white\",\"linecolor\":\"white\",\"showbackground\":true,\"ticks\":\"\",\"zerolinecolor\":\"white\",\"gridwidth\":2}},\"shapedefaults\":{\"line\":{\"color\":\"#2a3f5f\"}},\"annotationdefaults\":{\"arrowcolor\":\"#2a3f5f\",\"arrowhead\":0,\"arrowwidth\":1},\"geo\":{\"bgcolor\":\"white\",\"landcolor\":\"#E5ECF6\",\"subunitcolor\":\"white\",\"showland\":true,\"showlakes\":true,\"lakecolor\":\"white\"},\"title\":{\"x\":0.05},\"mapbox\":{\"style\":\"light\"}}},\"xaxis\":{\"anchor\":\"y\",\"domain\":[0.0,1.0],\"title\":{\"text\":\"Country\"}},\"yaxis\":{\"anchor\":\"x\",\"domain\":[0.0,1.0],\"title\":{\"text\":\"sum of cost of living\"}},\"legend\":{\"tracegroupgap\":0},\"margin\":{\"t\":60},\"barmode\":\"relative\"},                        {\"responsive\": true}                    ).then(function(){\n",
       "                            \n",
       "var gd = document.getElementById('f3868d63-34bf-46f2-821b-10fcfe0889ec');\n",
       "var x = new MutationObserver(function (mutations, observer) {{\n",
       "        var display = window.getComputedStyle(gd).display;\n",
       "        if (!display || display === 'none') {{\n",
       "            console.log([gd, 'removed!']);\n",
       "            Plotly.purge(gd);\n",
       "            observer.disconnect();\n",
       "        }}\n",
       "}});\n",
       "\n",
       "// Listen for the removal of the full notebook cells\n",
       "var notebookContainer = gd.closest('#notebook-container');\n",
       "if (notebookContainer) {{\n",
       "    x.observe(notebookContainer, {childList: true});\n",
       "}}\n",
       "\n",
       "// Listen for the clearing of the current output cell\n",
       "var outputEl = gd.closest('.output');\n",
       "if (outputEl) {{\n",
       "    x.observe(outputEl, {childList: true});\n",
       "}}\n",
       "\n",
       "                        })                };                });            </script>        </div>"
      ]
     },
     "metadata": {},
     "output_type": "display_data"
    }
   ],
   "source": [
    "import plotly.express as px\n",
    "fig = px.histogram(cl, x=\"Country\",y=\"cost of living\")\n",
    "fig.show()"
   ]
  },
  {
   "cell_type": "code",
   "execution_count": 1409,
   "id": "f633134c-ea6a-4752-a33f-95a09b465d36",
   "metadata": {},
   "outputs": [],
   "source": [
    "pp=new.sort_values(by=\"Purchasing Power Index\",ascending=True).head(10)"
   ]
  },
  {
   "cell_type": "code",
   "execution_count": 1410,
   "id": "d78c48bd-2e80-4363-b0eb-81a44cc1b762",
   "metadata": {},
   "outputs": [
    {
     "data": {
      "text/html": [
       "<div>\n",
       "<style scoped>\n",
       "    .dataframe tbody tr th:only-of-type {\n",
       "        vertical-align: middle;\n",
       "    }\n",
       "\n",
       "    .dataframe tbody tr th {\n",
       "        vertical-align: top;\n",
       "    }\n",
       "\n",
       "    .dataframe thead th {\n",
       "        text-align: right;\n",
       "    }\n",
       "</style>\n",
       "<table border=\"1\" class=\"dataframe\">\n",
       "  <thead>\n",
       "    <tr style=\"text-align: right;\">\n",
       "      <th></th>\n",
       "      <th>Country</th>\n",
       "      <th>cost of living</th>\n",
       "      <th>cost index</th>\n",
       "      <th>cost of living.Monthly income (USD)</th>\n",
       "      <th>Purchasing Power Index</th>\n",
       "      <th>currency rate</th>\n",
       "      <th>Gdp</th>\n",
       "      <th>population</th>\n",
       "      <th>population.Migrants (net)</th>\n",
       "      <th>Skilled force</th>\n",
       "      <th>technology.2023 rank</th>\n",
       "      <th>Unemployment(%)</th>\n",
       "      <th>Inflation(%)</th>\n",
       "      <th>Monthly salary+Tax(USD)</th>\n",
       "      <th>Literacy rate(%)</th>\n",
       "    </tr>\n",
       "  </thead>\n",
       "  <tbody>\n",
       "    <tr>\n",
       "      <th>40</th>\n",
       "      <td>Nepal</td>\n",
       "      <td>99</td>\n",
       "      <td>26.3</td>\n",
       "      <td>114</td>\n",
       "      <td>6.5</td>\n",
       "      <td>0.832</td>\n",
       "      <td>1324</td>\n",
       "      <td>29651054</td>\n",
       "      <td>-401282</td>\n",
       "      <td>8937228</td>\n",
       "      <td>106</td>\n",
       "      <td>5.1</td>\n",
       "      <td>3.85</td>\n",
       "      <td>215.71</td>\n",
       "      <td>94.2</td>\n",
       "    </tr>\n",
       "    <tr>\n",
       "      <th>42</th>\n",
       "      <td>Nigeria</td>\n",
       "      <td>79</td>\n",
       "      <td>32.4</td>\n",
       "      <td>161</td>\n",
       "      <td>7.4</td>\n",
       "      <td>2.860</td>\n",
       "      <td>1621</td>\n",
       "      <td>232679478</td>\n",
       "      <td>-35202</td>\n",
       "      <td>75721345</td>\n",
       "      <td>119</td>\n",
       "      <td>4.1</td>\n",
       "      <td>32.70</td>\n",
       "      <td>148.16</td>\n",
       "      <td>75.0</td>\n",
       "    </tr>\n",
       "    <tr>\n",
       "      <th>34</th>\n",
       "      <td>Kenya</td>\n",
       "      <td>83</td>\n",
       "      <td>31.4</td>\n",
       "      <td>176</td>\n",
       "      <td>8.4</td>\n",
       "      <td>5.507</td>\n",
       "      <td>1950</td>\n",
       "      <td>56432944</td>\n",
       "      <td>-19781</td>\n",
       "      <td>25501846</td>\n",
       "      <td>117</td>\n",
       "      <td>5.7</td>\n",
       "      <td>2.70</td>\n",
       "      <td>360.47</td>\n",
       "      <td>89.0</td>\n",
       "    </tr>\n",
       "    <tr>\n",
       "      <th>44</th>\n",
       "      <td>Pakistan</td>\n",
       "      <td>108</td>\n",
       "      <td>21.3</td>\n",
       "      <td>125</td>\n",
       "      <td>8.8</td>\n",
       "      <td>-0.166</td>\n",
       "      <td>1407</td>\n",
       "      <td>251269164</td>\n",
       "      <td>-1401173</td>\n",
       "      <td>80989797</td>\n",
       "      <td>125</td>\n",
       "      <td>8.0</td>\n",
       "      <td>7.20</td>\n",
       "      <td>182.06</td>\n",
       "      <td>72.7</td>\n",
       "    </tr>\n",
       "    <tr>\n",
       "      <th>39</th>\n",
       "      <td>Morocco</td>\n",
       "      <td>63</td>\n",
       "      <td>40.6</td>\n",
       "      <td>308</td>\n",
       "      <td>11.3</td>\n",
       "      <td>3.017</td>\n",
       "      <td>3672</td>\n",
       "      <td>38081173</td>\n",
       "      <td>-46802</td>\n",
       "      <td>12284010</td>\n",
       "      <td>70</td>\n",
       "      <td>12.0</td>\n",
       "      <td>0.80</td>\n",
       "      <td>418.32</td>\n",
       "      <td>98.5</td>\n",
       "    </tr>\n",
       "    <tr>\n",
       "      <th>5</th>\n",
       "      <td>Bangladesh</td>\n",
       "      <td>95</td>\n",
       "      <td>28.5</td>\n",
       "      <td>238</td>\n",
       "      <td>12.5</td>\n",
       "      <td>6.025</td>\n",
       "      <td>2529</td>\n",
       "      <td>173562364</td>\n",
       "      <td>-473362</td>\n",
       "      <td>74913612</td>\n",
       "      <td>126</td>\n",
       "      <td>5.2</td>\n",
       "      <td>9.92</td>\n",
       "      <td>239.43</td>\n",
       "      <td>94.8</td>\n",
       "    </tr>\n",
       "    <tr>\n",
       "      <th>18</th>\n",
       "      <td>El Salvador</td>\n",
       "      <td>54</td>\n",
       "      <td>49.0</td>\n",
       "      <td>410</td>\n",
       "      <td>12.5</td>\n",
       "      <td>3.498</td>\n",
       "      <td>5344</td>\n",
       "      <td>6338193</td>\n",
       "      <td>-23102</td>\n",
       "      <td>2870401</td>\n",
       "      <td>102</td>\n",
       "      <td>5.5</td>\n",
       "      <td>-0.07</td>\n",
       "      <td>501.07</td>\n",
       "      <td>98.3</td>\n",
       "    </tr>\n",
       "    <tr>\n",
       "      <th>26</th>\n",
       "      <td>India</td>\n",
       "      <td>106</td>\n",
       "      <td>23.6</td>\n",
       "      <td>212</td>\n",
       "      <td>13.4</td>\n",
       "      <td>7.827</td>\n",
       "      <td>2485</td>\n",
       "      <td>1450935791</td>\n",
       "      <td>-630830</td>\n",
       "      <td>593729164</td>\n",
       "      <td>46</td>\n",
       "      <td>7.8</td>\n",
       "      <td>6.21</td>\n",
       "      <td>608.55</td>\n",
       "      <td>96.5</td>\n",
       "    </tr>\n",
       "    <tr>\n",
       "      <th>45</th>\n",
       "      <td>Philippines</td>\n",
       "      <td>67</td>\n",
       "      <td>37.2</td>\n",
       "      <td>353</td>\n",
       "      <td>14.2</td>\n",
       "      <td>5.568</td>\n",
       "      <td>3726</td>\n",
       "      <td>115843670</td>\n",
       "      <td>-160373</td>\n",
       "      <td>49477060</td>\n",
       "      <td>54</td>\n",
       "      <td>4.5</td>\n",
       "      <td>2.30</td>\n",
       "      <td>378.58</td>\n",
       "      <td>99.2</td>\n",
       "    </tr>\n",
       "    <tr>\n",
       "      <th>58</th>\n",
       "      <td>Tunisia</td>\n",
       "      <td>93</td>\n",
       "      <td>29.6</td>\n",
       "      <td>314</td>\n",
       "      <td>15.8</td>\n",
       "      <td>0.425</td>\n",
       "      <td>3895</td>\n",
       "      <td>12277109</td>\n",
       "      <td>-15221</td>\n",
       "      <td>4445313</td>\n",
       "      <td>66</td>\n",
       "      <td>16.1</td>\n",
       "      <td>6.70</td>\n",
       "      <td>291.18</td>\n",
       "      <td>96.8</td>\n",
       "    </tr>\n",
       "  </tbody>\n",
       "</table>\n",
       "</div>"
      ],
      "text/plain": [
       "        Country  cost of living  cost index  \\\n",
       "40        Nepal              99        26.3   \n",
       "42      Nigeria              79        32.4   \n",
       "34        Kenya              83        31.4   \n",
       "44     Pakistan             108        21.3   \n",
       "39      Morocco              63        40.6   \n",
       "5    Bangladesh              95        28.5   \n",
       "18  El Salvador              54        49.0   \n",
       "26        India             106        23.6   \n",
       "45  Philippines              67        37.2   \n",
       "58      Tunisia              93        29.6   \n",
       "\n",
       "    cost of living.Monthly income (USD)  Purchasing Power Index  \\\n",
       "40                                  114                     6.5   \n",
       "42                                  161                     7.4   \n",
       "34                                  176                     8.4   \n",
       "44                                  125                     8.8   \n",
       "39                                  308                    11.3   \n",
       "5                                   238                    12.5   \n",
       "18                                  410                    12.5   \n",
       "26                                  212                    13.4   \n",
       "45                                  353                    14.2   \n",
       "58                                  314                    15.8   \n",
       "\n",
       "    currency rate   Gdp  population  population.Migrants (net)  Skilled force  \\\n",
       "40          0.832  1324    29651054                    -401282        8937228   \n",
       "42          2.860  1621   232679478                     -35202       75721345   \n",
       "34          5.507  1950    56432944                     -19781       25501846   \n",
       "44         -0.166  1407   251269164                   -1401173       80989797   \n",
       "39          3.017  3672    38081173                     -46802       12284010   \n",
       "5           6.025  2529   173562364                    -473362       74913612   \n",
       "18          3.498  5344     6338193                     -23102        2870401   \n",
       "26          7.827  2485  1450935791                    -630830      593729164   \n",
       "45          5.568  3726   115843670                    -160373       49477060   \n",
       "58          0.425  3895    12277109                     -15221        4445313   \n",
       "\n",
       "    technology.2023 rank  Unemployment(%)  Inflation(%)  \\\n",
       "40                   106              5.1          3.85   \n",
       "42                   119              4.1         32.70   \n",
       "34                   117              5.7          2.70   \n",
       "44                   125              8.0          7.20   \n",
       "39                    70             12.0          0.80   \n",
       "5                    126              5.2          9.92   \n",
       "18                   102              5.5         -0.07   \n",
       "26                    46              7.8          6.21   \n",
       "45                    54              4.5          2.30   \n",
       "58                    66             16.1          6.70   \n",
       "\n",
       "    Monthly salary+Tax(USD)  Literacy rate(%)  \n",
       "40                   215.71              94.2  \n",
       "42                   148.16              75.0  \n",
       "34                   360.47              89.0  \n",
       "44                   182.06              72.7  \n",
       "39                   418.32              98.5  \n",
       "5                    239.43              94.8  \n",
       "18                   501.07              98.3  \n",
       "26                   608.55              96.5  \n",
       "45                   378.58              99.2  \n",
       "58                   291.18              96.8  "
      ]
     },
     "execution_count": 1410,
     "metadata": {},
     "output_type": "execute_result"
    }
   ],
   "source": [
    "pp"
   ]
  },
  {
   "cell_type": "code",
   "execution_count": 1411,
   "id": "cf7f5ab9-33cf-4830-bb53-4c0fc3897479",
   "metadata": {},
   "outputs": [
    {
     "data": {
      "application/vnd.plotly.v1+json": {
       "config": {
        "plotlyServerURL": "https://plot.ly"
       },
       "data": [
        {
         "alignmentgroup": "True",
         "bingroup": "x",
         "histfunc": "sum",
         "hovertemplate": "Country=%{x}<br>sum of Purchasing Power Index=%{y}<extra></extra>",
         "legendgroup": "",
         "marker": {
          "color": "#636efa",
          "pattern": {
           "shape": ""
          }
         },
         "name": "",
         "offsetgroup": "",
         "orientation": "v",
         "showlegend": false,
         "type": "histogram",
         "x": [
          "Nepal",
          "Nigeria",
          "Kenya",
          "Pakistan",
          "Morocco",
          "Bangladesh",
          "El Salvador",
          "India",
          "Philippines",
          "Tunisia"
         ],
         "xaxis": "x",
         "y": [
          6.5,
          7.4,
          8.4,
          8.8,
          11.3,
          12.5,
          12.5,
          13.4,
          14.2,
          15.8
         ],
         "yaxis": "y"
        }
       ],
       "layout": {
        "autosize": true,
        "barmode": "relative",
        "legend": {
         "tracegroupgap": 0
        },
        "margin": {
         "t": 60
        },
        "template": {
         "data": {
          "bar": [
           {
            "error_x": {
             "color": "#2a3f5f"
            },
            "error_y": {
             "color": "#2a3f5f"
            },
            "marker": {
             "line": {
              "color": "#E5ECF6",
              "width": 0.5
             },
             "pattern": {
              "fillmode": "overlay",
              "size": 10,
              "solidity": 0.2
             }
            },
            "type": "bar"
           }
          ],
          "barpolar": [
           {
            "marker": {
             "line": {
              "color": "#E5ECF6",
              "width": 0.5
             },
             "pattern": {
              "fillmode": "overlay",
              "size": 10,
              "solidity": 0.2
             }
            },
            "type": "barpolar"
           }
          ],
          "carpet": [
           {
            "aaxis": {
             "endlinecolor": "#2a3f5f",
             "gridcolor": "white",
             "linecolor": "white",
             "minorgridcolor": "white",
             "startlinecolor": "#2a3f5f"
            },
            "baxis": {
             "endlinecolor": "#2a3f5f",
             "gridcolor": "white",
             "linecolor": "white",
             "minorgridcolor": "white",
             "startlinecolor": "#2a3f5f"
            },
            "type": "carpet"
           }
          ],
          "choropleth": [
           {
            "colorbar": {
             "outlinewidth": 0,
             "ticks": ""
            },
            "type": "choropleth"
           }
          ],
          "contour": [
           {
            "colorbar": {
             "outlinewidth": 0,
             "ticks": ""
            },
            "colorscale": [
             [
              0,
              "#0d0887"
             ],
             [
              0.1111111111111111,
              "#46039f"
             ],
             [
              0.2222222222222222,
              "#7201a8"
             ],
             [
              0.3333333333333333,
              "#9c179e"
             ],
             [
              0.4444444444444444,
              "#bd3786"
             ],
             [
              0.5555555555555556,
              "#d8576b"
             ],
             [
              0.6666666666666666,
              "#ed7953"
             ],
             [
              0.7777777777777778,
              "#fb9f3a"
             ],
             [
              0.8888888888888888,
              "#fdca26"
             ],
             [
              1,
              "#f0f921"
             ]
            ],
            "type": "contour"
           }
          ],
          "contourcarpet": [
           {
            "colorbar": {
             "outlinewidth": 0,
             "ticks": ""
            },
            "type": "contourcarpet"
           }
          ],
          "heatmap": [
           {
            "colorbar": {
             "outlinewidth": 0,
             "ticks": ""
            },
            "colorscale": [
             [
              0,
              "#0d0887"
             ],
             [
              0.1111111111111111,
              "#46039f"
             ],
             [
              0.2222222222222222,
              "#7201a8"
             ],
             [
              0.3333333333333333,
              "#9c179e"
             ],
             [
              0.4444444444444444,
              "#bd3786"
             ],
             [
              0.5555555555555556,
              "#d8576b"
             ],
             [
              0.6666666666666666,
              "#ed7953"
             ],
             [
              0.7777777777777778,
              "#fb9f3a"
             ],
             [
              0.8888888888888888,
              "#fdca26"
             ],
             [
              1,
              "#f0f921"
             ]
            ],
            "type": "heatmap"
           }
          ],
          "heatmapgl": [
           {
            "colorbar": {
             "outlinewidth": 0,
             "ticks": ""
            },
            "colorscale": [
             [
              0,
              "#0d0887"
             ],
             [
              0.1111111111111111,
              "#46039f"
             ],
             [
              0.2222222222222222,
              "#7201a8"
             ],
             [
              0.3333333333333333,
              "#9c179e"
             ],
             [
              0.4444444444444444,
              "#bd3786"
             ],
             [
              0.5555555555555556,
              "#d8576b"
             ],
             [
              0.6666666666666666,
              "#ed7953"
             ],
             [
              0.7777777777777778,
              "#fb9f3a"
             ],
             [
              0.8888888888888888,
              "#fdca26"
             ],
             [
              1,
              "#f0f921"
             ]
            ],
            "type": "heatmapgl"
           }
          ],
          "histogram": [
           {
            "marker": {
             "pattern": {
              "fillmode": "overlay",
              "size": 10,
              "solidity": 0.2
             }
            },
            "type": "histogram"
           }
          ],
          "histogram2d": [
           {
            "colorbar": {
             "outlinewidth": 0,
             "ticks": ""
            },
            "colorscale": [
             [
              0,
              "#0d0887"
             ],
             [
              0.1111111111111111,
              "#46039f"
             ],
             [
              0.2222222222222222,
              "#7201a8"
             ],
             [
              0.3333333333333333,
              "#9c179e"
             ],
             [
              0.4444444444444444,
              "#bd3786"
             ],
             [
              0.5555555555555556,
              "#d8576b"
             ],
             [
              0.6666666666666666,
              "#ed7953"
             ],
             [
              0.7777777777777778,
              "#fb9f3a"
             ],
             [
              0.8888888888888888,
              "#fdca26"
             ],
             [
              1,
              "#f0f921"
             ]
            ],
            "type": "histogram2d"
           }
          ],
          "histogram2dcontour": [
           {
            "colorbar": {
             "outlinewidth": 0,
             "ticks": ""
            },
            "colorscale": [
             [
              0,
              "#0d0887"
             ],
             [
              0.1111111111111111,
              "#46039f"
             ],
             [
              0.2222222222222222,
              "#7201a8"
             ],
             [
              0.3333333333333333,
              "#9c179e"
             ],
             [
              0.4444444444444444,
              "#bd3786"
             ],
             [
              0.5555555555555556,
              "#d8576b"
             ],
             [
              0.6666666666666666,
              "#ed7953"
             ],
             [
              0.7777777777777778,
              "#fb9f3a"
             ],
             [
              0.8888888888888888,
              "#fdca26"
             ],
             [
              1,
              "#f0f921"
             ]
            ],
            "type": "histogram2dcontour"
           }
          ],
          "mesh3d": [
           {
            "colorbar": {
             "outlinewidth": 0,
             "ticks": ""
            },
            "type": "mesh3d"
           }
          ],
          "parcoords": [
           {
            "line": {
             "colorbar": {
              "outlinewidth": 0,
              "ticks": ""
             }
            },
            "type": "parcoords"
           }
          ],
          "pie": [
           {
            "automargin": true,
            "type": "pie"
           }
          ],
          "scatter": [
           {
            "fillpattern": {
             "fillmode": "overlay",
             "size": 10,
             "solidity": 0.2
            },
            "type": "scatter"
           }
          ],
          "scatter3d": [
           {
            "line": {
             "colorbar": {
              "outlinewidth": 0,
              "ticks": ""
             }
            },
            "marker": {
             "colorbar": {
              "outlinewidth": 0,
              "ticks": ""
             }
            },
            "type": "scatter3d"
           }
          ],
          "scattercarpet": [
           {
            "marker": {
             "colorbar": {
              "outlinewidth": 0,
              "ticks": ""
             }
            },
            "type": "scattercarpet"
           }
          ],
          "scattergeo": [
           {
            "marker": {
             "colorbar": {
              "outlinewidth": 0,
              "ticks": ""
             }
            },
            "type": "scattergeo"
           }
          ],
          "scattergl": [
           {
            "marker": {
             "colorbar": {
              "outlinewidth": 0,
              "ticks": ""
             }
            },
            "type": "scattergl"
           }
          ],
          "scattermapbox": [
           {
            "marker": {
             "colorbar": {
              "outlinewidth": 0,
              "ticks": ""
             }
            },
            "type": "scattermapbox"
           }
          ],
          "scatterpolar": [
           {
            "marker": {
             "colorbar": {
              "outlinewidth": 0,
              "ticks": ""
             }
            },
            "type": "scatterpolar"
           }
          ],
          "scatterpolargl": [
           {
            "marker": {
             "colorbar": {
              "outlinewidth": 0,
              "ticks": ""
             }
            },
            "type": "scatterpolargl"
           }
          ],
          "scatterternary": [
           {
            "marker": {
             "colorbar": {
              "outlinewidth": 0,
              "ticks": ""
             }
            },
            "type": "scatterternary"
           }
          ],
          "surface": [
           {
            "colorbar": {
             "outlinewidth": 0,
             "ticks": ""
            },
            "colorscale": [
             [
              0,
              "#0d0887"
             ],
             [
              0.1111111111111111,
              "#46039f"
             ],
             [
              0.2222222222222222,
              "#7201a8"
             ],
             [
              0.3333333333333333,
              "#9c179e"
             ],
             [
              0.4444444444444444,
              "#bd3786"
             ],
             [
              0.5555555555555556,
              "#d8576b"
             ],
             [
              0.6666666666666666,
              "#ed7953"
             ],
             [
              0.7777777777777778,
              "#fb9f3a"
             ],
             [
              0.8888888888888888,
              "#fdca26"
             ],
             [
              1,
              "#f0f921"
             ]
            ],
            "type": "surface"
           }
          ],
          "table": [
           {
            "cells": {
             "fill": {
              "color": "#EBF0F8"
             },
             "line": {
              "color": "white"
             }
            },
            "header": {
             "fill": {
              "color": "#C8D4E3"
             },
             "line": {
              "color": "white"
             }
            },
            "type": "table"
           }
          ]
         },
         "layout": {
          "annotationdefaults": {
           "arrowcolor": "#2a3f5f",
           "arrowhead": 0,
           "arrowwidth": 1
          },
          "autotypenumbers": "strict",
          "coloraxis": {
           "colorbar": {
            "outlinewidth": 0,
            "ticks": ""
           }
          },
          "colorscale": {
           "diverging": [
            [
             0,
             "#8e0152"
            ],
            [
             0.1,
             "#c51b7d"
            ],
            [
             0.2,
             "#de77ae"
            ],
            [
             0.3,
             "#f1b6da"
            ],
            [
             0.4,
             "#fde0ef"
            ],
            [
             0.5,
             "#f7f7f7"
            ],
            [
             0.6,
             "#e6f5d0"
            ],
            [
             0.7,
             "#b8e186"
            ],
            [
             0.8,
             "#7fbc41"
            ],
            [
             0.9,
             "#4d9221"
            ],
            [
             1,
             "#276419"
            ]
           ],
           "sequential": [
            [
             0,
             "#0d0887"
            ],
            [
             0.1111111111111111,
             "#46039f"
            ],
            [
             0.2222222222222222,
             "#7201a8"
            ],
            [
             0.3333333333333333,
             "#9c179e"
            ],
            [
             0.4444444444444444,
             "#bd3786"
            ],
            [
             0.5555555555555556,
             "#d8576b"
            ],
            [
             0.6666666666666666,
             "#ed7953"
            ],
            [
             0.7777777777777778,
             "#fb9f3a"
            ],
            [
             0.8888888888888888,
             "#fdca26"
            ],
            [
             1,
             "#f0f921"
            ]
           ],
           "sequentialminus": [
            [
             0,
             "#0d0887"
            ],
            [
             0.1111111111111111,
             "#46039f"
            ],
            [
             0.2222222222222222,
             "#7201a8"
            ],
            [
             0.3333333333333333,
             "#9c179e"
            ],
            [
             0.4444444444444444,
             "#bd3786"
            ],
            [
             0.5555555555555556,
             "#d8576b"
            ],
            [
             0.6666666666666666,
             "#ed7953"
            ],
            [
             0.7777777777777778,
             "#fb9f3a"
            ],
            [
             0.8888888888888888,
             "#fdca26"
            ],
            [
             1,
             "#f0f921"
            ]
           ]
          },
          "colorway": [
           "#636efa",
           "#EF553B",
           "#00cc96",
           "#ab63fa",
           "#FFA15A",
           "#19d3f3",
           "#FF6692",
           "#B6E880",
           "#FF97FF",
           "#FECB52"
          ],
          "font": {
           "color": "#2a3f5f"
          },
          "geo": {
           "bgcolor": "white",
           "lakecolor": "white",
           "landcolor": "#E5ECF6",
           "showlakes": true,
           "showland": true,
           "subunitcolor": "white"
          },
          "hoverlabel": {
           "align": "left"
          },
          "hovermode": "closest",
          "mapbox": {
           "style": "light"
          },
          "paper_bgcolor": "white",
          "plot_bgcolor": "#E5ECF6",
          "polar": {
           "angularaxis": {
            "gridcolor": "white",
            "linecolor": "white",
            "ticks": ""
           },
           "bgcolor": "#E5ECF6",
           "radialaxis": {
            "gridcolor": "white",
            "linecolor": "white",
            "ticks": ""
           }
          },
          "scene": {
           "xaxis": {
            "backgroundcolor": "#E5ECF6",
            "gridcolor": "white",
            "gridwidth": 2,
            "linecolor": "white",
            "showbackground": true,
            "ticks": "",
            "zerolinecolor": "white"
           },
           "yaxis": {
            "backgroundcolor": "#E5ECF6",
            "gridcolor": "white",
            "gridwidth": 2,
            "linecolor": "white",
            "showbackground": true,
            "ticks": "",
            "zerolinecolor": "white"
           },
           "zaxis": {
            "backgroundcolor": "#E5ECF6",
            "gridcolor": "white",
            "gridwidth": 2,
            "linecolor": "white",
            "showbackground": true,
            "ticks": "",
            "zerolinecolor": "white"
           }
          },
          "shapedefaults": {
           "line": {
            "color": "#2a3f5f"
           }
          },
          "ternary": {
           "aaxis": {
            "gridcolor": "white",
            "linecolor": "white",
            "ticks": ""
           },
           "baxis": {
            "gridcolor": "white",
            "linecolor": "white",
            "ticks": ""
           },
           "bgcolor": "#E5ECF6",
           "caxis": {
            "gridcolor": "white",
            "linecolor": "white",
            "ticks": ""
           }
          },
          "title": {
           "x": 0.05
          },
          "xaxis": {
           "automargin": true,
           "gridcolor": "white",
           "linecolor": "white",
           "ticks": "",
           "title": {
            "standoff": 15
           },
           "zerolinecolor": "white",
           "zerolinewidth": 2
          },
          "yaxis": {
           "automargin": true,
           "gridcolor": "white",
           "linecolor": "white",
           "ticks": "",
           "title": {
            "standoff": 15
           },
           "zerolinecolor": "white",
           "zerolinewidth": 2
          }
         }
        },
        "xaxis": {
         "anchor": "y",
         "autorange": true,
         "domain": [
          0,
          1
         ],
         "range": [
          -0.5,
          9.5
         ],
         "title": {
          "text": "Country"
         },
         "type": "category"
        },
        "yaxis": {
         "anchor": "x",
         "autorange": true,
         "domain": [
          0,
          1
         ],
         "range": [
          0,
          16.63157894736842
         ],
         "title": {
          "text": "sum of Purchasing Power Index"
         },
         "type": "linear"
        }
       }
      },
      "text/html": [
       "<div>                            <div id=\"88e4e6fd-0cc4-454b-a452-081f7f275649\" class=\"plotly-graph-div\" style=\"height:525px; width:100%;\"></div>            <script type=\"text/javascript\">                require([\"plotly\"], function(Plotly) {                    window.PLOTLYENV=window.PLOTLYENV || {};                                    if (document.getElementById(\"88e4e6fd-0cc4-454b-a452-081f7f275649\")) {                    Plotly.newPlot(                        \"88e4e6fd-0cc4-454b-a452-081f7f275649\",                        [{\"alignmentgroup\":\"True\",\"bingroup\":\"x\",\"histfunc\":\"sum\",\"hovertemplate\":\"Country=%{x}\\u003cbr\\u003esum of Purchasing Power Index=%{y}\\u003cextra\\u003e\\u003c\\u002fextra\\u003e\",\"legendgroup\":\"\",\"marker\":{\"color\":\"#636efa\",\"pattern\":{\"shape\":\"\"}},\"name\":\"\",\"offsetgroup\":\"\",\"orientation\":\"v\",\"showlegend\":false,\"x\":[\"Nepal\",\"Nigeria\",\"Kenya\",\"Pakistan\",\"Morocco\",\"Bangladesh\",\"El Salvador\",\"India\",\"Philippines\",\"Tunisia\"],\"xaxis\":\"x\",\"y\":[6.5,7.4,8.4,8.8,11.3,12.5,12.5,13.4,14.2,15.8],\"yaxis\":\"y\",\"type\":\"histogram\"}],                        {\"template\":{\"data\":{\"histogram2dcontour\":[{\"type\":\"histogram2dcontour\",\"colorbar\":{\"outlinewidth\":0,\"ticks\":\"\"},\"colorscale\":[[0.0,\"#0d0887\"],[0.1111111111111111,\"#46039f\"],[0.2222222222222222,\"#7201a8\"],[0.3333333333333333,\"#9c179e\"],[0.4444444444444444,\"#bd3786\"],[0.5555555555555556,\"#d8576b\"],[0.6666666666666666,\"#ed7953\"],[0.7777777777777778,\"#fb9f3a\"],[0.8888888888888888,\"#fdca26\"],[1.0,\"#f0f921\"]]}],\"choropleth\":[{\"type\":\"choropleth\",\"colorbar\":{\"outlinewidth\":0,\"ticks\":\"\"}}],\"histogram2d\":[{\"type\":\"histogram2d\",\"colorbar\":{\"outlinewidth\":0,\"ticks\":\"\"},\"colorscale\":[[0.0,\"#0d0887\"],[0.1111111111111111,\"#46039f\"],[0.2222222222222222,\"#7201a8\"],[0.3333333333333333,\"#9c179e\"],[0.4444444444444444,\"#bd3786\"],[0.5555555555555556,\"#d8576b\"],[0.6666666666666666,\"#ed7953\"],[0.7777777777777778,\"#fb9f3a\"],[0.8888888888888888,\"#fdca26\"],[1.0,\"#f0f921\"]]}],\"heatmap\":[{\"type\":\"heatmap\",\"colorbar\":{\"outlinewidth\":0,\"ticks\":\"\"},\"colorscale\":[[0.0,\"#0d0887\"],[0.1111111111111111,\"#46039f\"],[0.2222222222222222,\"#7201a8\"],[0.3333333333333333,\"#9c179e\"],[0.4444444444444444,\"#bd3786\"],[0.5555555555555556,\"#d8576b\"],[0.6666666666666666,\"#ed7953\"],[0.7777777777777778,\"#fb9f3a\"],[0.8888888888888888,\"#fdca26\"],[1.0,\"#f0f921\"]]}],\"heatmapgl\":[{\"type\":\"heatmapgl\",\"colorbar\":{\"outlinewidth\":0,\"ticks\":\"\"},\"colorscale\":[[0.0,\"#0d0887\"],[0.1111111111111111,\"#46039f\"],[0.2222222222222222,\"#7201a8\"],[0.3333333333333333,\"#9c179e\"],[0.4444444444444444,\"#bd3786\"],[0.5555555555555556,\"#d8576b\"],[0.6666666666666666,\"#ed7953\"],[0.7777777777777778,\"#fb9f3a\"],[0.8888888888888888,\"#fdca26\"],[1.0,\"#f0f921\"]]}],\"contourcarpet\":[{\"type\":\"contourcarpet\",\"colorbar\":{\"outlinewidth\":0,\"ticks\":\"\"}}],\"contour\":[{\"type\":\"contour\",\"colorbar\":{\"outlinewidth\":0,\"ticks\":\"\"},\"colorscale\":[[0.0,\"#0d0887\"],[0.1111111111111111,\"#46039f\"],[0.2222222222222222,\"#7201a8\"],[0.3333333333333333,\"#9c179e\"],[0.4444444444444444,\"#bd3786\"],[0.5555555555555556,\"#d8576b\"],[0.6666666666666666,\"#ed7953\"],[0.7777777777777778,\"#fb9f3a\"],[0.8888888888888888,\"#fdca26\"],[1.0,\"#f0f921\"]]}],\"surface\":[{\"type\":\"surface\",\"colorbar\":{\"outlinewidth\":0,\"ticks\":\"\"},\"colorscale\":[[0.0,\"#0d0887\"],[0.1111111111111111,\"#46039f\"],[0.2222222222222222,\"#7201a8\"],[0.3333333333333333,\"#9c179e\"],[0.4444444444444444,\"#bd3786\"],[0.5555555555555556,\"#d8576b\"],[0.6666666666666666,\"#ed7953\"],[0.7777777777777778,\"#fb9f3a\"],[0.8888888888888888,\"#fdca26\"],[1.0,\"#f0f921\"]]}],\"mesh3d\":[{\"type\":\"mesh3d\",\"colorbar\":{\"outlinewidth\":0,\"ticks\":\"\"}}],\"scatter\":[{\"fillpattern\":{\"fillmode\":\"overlay\",\"size\":10,\"solidity\":0.2},\"type\":\"scatter\"}],\"parcoords\":[{\"type\":\"parcoords\",\"line\":{\"colorbar\":{\"outlinewidth\":0,\"ticks\":\"\"}}}],\"scatterpolargl\":[{\"type\":\"scatterpolargl\",\"marker\":{\"colorbar\":{\"outlinewidth\":0,\"ticks\":\"\"}}}],\"bar\":[{\"error_x\":{\"color\":\"#2a3f5f\"},\"error_y\":{\"color\":\"#2a3f5f\"},\"marker\":{\"line\":{\"color\":\"#E5ECF6\",\"width\":0.5},\"pattern\":{\"fillmode\":\"overlay\",\"size\":10,\"solidity\":0.2}},\"type\":\"bar\"}],\"scattergeo\":[{\"type\":\"scattergeo\",\"marker\":{\"colorbar\":{\"outlinewidth\":0,\"ticks\":\"\"}}}],\"scatterpolar\":[{\"type\":\"scatterpolar\",\"marker\":{\"colorbar\":{\"outlinewidth\":0,\"ticks\":\"\"}}}],\"histogram\":[{\"marker\":{\"pattern\":{\"fillmode\":\"overlay\",\"size\":10,\"solidity\":0.2}},\"type\":\"histogram\"}],\"scattergl\":[{\"type\":\"scattergl\",\"marker\":{\"colorbar\":{\"outlinewidth\":0,\"ticks\":\"\"}}}],\"scatter3d\":[{\"type\":\"scatter3d\",\"line\":{\"colorbar\":{\"outlinewidth\":0,\"ticks\":\"\"}},\"marker\":{\"colorbar\":{\"outlinewidth\":0,\"ticks\":\"\"}}}],\"scattermapbox\":[{\"type\":\"scattermapbox\",\"marker\":{\"colorbar\":{\"outlinewidth\":0,\"ticks\":\"\"}}}],\"scatterternary\":[{\"type\":\"scatterternary\",\"marker\":{\"colorbar\":{\"outlinewidth\":0,\"ticks\":\"\"}}}],\"scattercarpet\":[{\"type\":\"scattercarpet\",\"marker\":{\"colorbar\":{\"outlinewidth\":0,\"ticks\":\"\"}}}],\"carpet\":[{\"aaxis\":{\"endlinecolor\":\"#2a3f5f\",\"gridcolor\":\"white\",\"linecolor\":\"white\",\"minorgridcolor\":\"white\",\"startlinecolor\":\"#2a3f5f\"},\"baxis\":{\"endlinecolor\":\"#2a3f5f\",\"gridcolor\":\"white\",\"linecolor\":\"white\",\"minorgridcolor\":\"white\",\"startlinecolor\":\"#2a3f5f\"},\"type\":\"carpet\"}],\"table\":[{\"cells\":{\"fill\":{\"color\":\"#EBF0F8\"},\"line\":{\"color\":\"white\"}},\"header\":{\"fill\":{\"color\":\"#C8D4E3\"},\"line\":{\"color\":\"white\"}},\"type\":\"table\"}],\"barpolar\":[{\"marker\":{\"line\":{\"color\":\"#E5ECF6\",\"width\":0.5},\"pattern\":{\"fillmode\":\"overlay\",\"size\":10,\"solidity\":0.2}},\"type\":\"barpolar\"}],\"pie\":[{\"automargin\":true,\"type\":\"pie\"}]},\"layout\":{\"autotypenumbers\":\"strict\",\"colorway\":[\"#636efa\",\"#EF553B\",\"#00cc96\",\"#ab63fa\",\"#FFA15A\",\"#19d3f3\",\"#FF6692\",\"#B6E880\",\"#FF97FF\",\"#FECB52\"],\"font\":{\"color\":\"#2a3f5f\"},\"hovermode\":\"closest\",\"hoverlabel\":{\"align\":\"left\"},\"paper_bgcolor\":\"white\",\"plot_bgcolor\":\"#E5ECF6\",\"polar\":{\"bgcolor\":\"#E5ECF6\",\"angularaxis\":{\"gridcolor\":\"white\",\"linecolor\":\"white\",\"ticks\":\"\"},\"radialaxis\":{\"gridcolor\":\"white\",\"linecolor\":\"white\",\"ticks\":\"\"}},\"ternary\":{\"bgcolor\":\"#E5ECF6\",\"aaxis\":{\"gridcolor\":\"white\",\"linecolor\":\"white\",\"ticks\":\"\"},\"baxis\":{\"gridcolor\":\"white\",\"linecolor\":\"white\",\"ticks\":\"\"},\"caxis\":{\"gridcolor\":\"white\",\"linecolor\":\"white\",\"ticks\":\"\"}},\"coloraxis\":{\"colorbar\":{\"outlinewidth\":0,\"ticks\":\"\"}},\"colorscale\":{\"sequential\":[[0.0,\"#0d0887\"],[0.1111111111111111,\"#46039f\"],[0.2222222222222222,\"#7201a8\"],[0.3333333333333333,\"#9c179e\"],[0.4444444444444444,\"#bd3786\"],[0.5555555555555556,\"#d8576b\"],[0.6666666666666666,\"#ed7953\"],[0.7777777777777778,\"#fb9f3a\"],[0.8888888888888888,\"#fdca26\"],[1.0,\"#f0f921\"]],\"sequentialminus\":[[0.0,\"#0d0887\"],[0.1111111111111111,\"#46039f\"],[0.2222222222222222,\"#7201a8\"],[0.3333333333333333,\"#9c179e\"],[0.4444444444444444,\"#bd3786\"],[0.5555555555555556,\"#d8576b\"],[0.6666666666666666,\"#ed7953\"],[0.7777777777777778,\"#fb9f3a\"],[0.8888888888888888,\"#fdca26\"],[1.0,\"#f0f921\"]],\"diverging\":[[0,\"#8e0152\"],[0.1,\"#c51b7d\"],[0.2,\"#de77ae\"],[0.3,\"#f1b6da\"],[0.4,\"#fde0ef\"],[0.5,\"#f7f7f7\"],[0.6,\"#e6f5d0\"],[0.7,\"#b8e186\"],[0.8,\"#7fbc41\"],[0.9,\"#4d9221\"],[1,\"#276419\"]]},\"xaxis\":{\"gridcolor\":\"white\",\"linecolor\":\"white\",\"ticks\":\"\",\"title\":{\"standoff\":15},\"zerolinecolor\":\"white\",\"automargin\":true,\"zerolinewidth\":2},\"yaxis\":{\"gridcolor\":\"white\",\"linecolor\":\"white\",\"ticks\":\"\",\"title\":{\"standoff\":15},\"zerolinecolor\":\"white\",\"automargin\":true,\"zerolinewidth\":2},\"scene\":{\"xaxis\":{\"backgroundcolor\":\"#E5ECF6\",\"gridcolor\":\"white\",\"linecolor\":\"white\",\"showbackground\":true,\"ticks\":\"\",\"zerolinecolor\":\"white\",\"gridwidth\":2},\"yaxis\":{\"backgroundcolor\":\"#E5ECF6\",\"gridcolor\":\"white\",\"linecolor\":\"white\",\"showbackground\":true,\"ticks\":\"\",\"zerolinecolor\":\"white\",\"gridwidth\":2},\"zaxis\":{\"backgroundcolor\":\"#E5ECF6\",\"gridcolor\":\"white\",\"linecolor\":\"white\",\"showbackground\":true,\"ticks\":\"\",\"zerolinecolor\":\"white\",\"gridwidth\":2}},\"shapedefaults\":{\"line\":{\"color\":\"#2a3f5f\"}},\"annotationdefaults\":{\"arrowcolor\":\"#2a3f5f\",\"arrowhead\":0,\"arrowwidth\":1},\"geo\":{\"bgcolor\":\"white\",\"landcolor\":\"#E5ECF6\",\"subunitcolor\":\"white\",\"showland\":true,\"showlakes\":true,\"lakecolor\":\"white\"},\"title\":{\"x\":0.05},\"mapbox\":{\"style\":\"light\"}}},\"xaxis\":{\"anchor\":\"y\",\"domain\":[0.0,1.0],\"title\":{\"text\":\"Country\"}},\"yaxis\":{\"anchor\":\"x\",\"domain\":[0.0,1.0],\"title\":{\"text\":\"sum of Purchasing Power Index\"}},\"legend\":{\"tracegroupgap\":0},\"margin\":{\"t\":60},\"barmode\":\"relative\"},                        {\"responsive\": true}                    ).then(function(){\n",
       "                            \n",
       "var gd = document.getElementById('88e4e6fd-0cc4-454b-a452-081f7f275649');\n",
       "var x = new MutationObserver(function (mutations, observer) {{\n",
       "        var display = window.getComputedStyle(gd).display;\n",
       "        if (!display || display === 'none') {{\n",
       "            console.log([gd, 'removed!']);\n",
       "            Plotly.purge(gd);\n",
       "            observer.disconnect();\n",
       "        }}\n",
       "}});\n",
       "\n",
       "// Listen for the removal of the full notebook cells\n",
       "var notebookContainer = gd.closest('#notebook-container');\n",
       "if (notebookContainer) {{\n",
       "    x.observe(notebookContainer, {childList: true});\n",
       "}}\n",
       "\n",
       "// Listen for the clearing of the current output cell\n",
       "var outputEl = gd.closest('.output');\n",
       "if (outputEl) {{\n",
       "    x.observe(outputEl, {childList: true});\n",
       "}}\n",
       "\n",
       "                        })                };                });            </script>        </div>"
      ]
     },
     "metadata": {},
     "output_type": "display_data"
    }
   ],
   "source": [
    "import plotly.express as px\n",
    "fig = px.histogram(pp, x=\"Country\",y=\"Purchasing Power Index\")\n",
    "fig.show()"
   ]
  },
  {
   "cell_type": "code",
   "execution_count": 1412,
   "id": "f6a9663f-e772-4d51-a6ed-285c9d933fd1",
   "metadata": {},
   "outputs": [],
   "source": [
    "\n",
    "cc=new.sort_values(by=\"currency rate\",ascending=False).head(10)"
   ]
  },
  {
   "cell_type": "code",
   "execution_count": 1413,
   "id": "697e1bad-d461-4509-9dbd-8635e272ba75",
   "metadata": {
    "scrolled": true
   },
   "outputs": [
    {
     "data": {
      "text/html": [
       "<div>\n",
       "<style scoped>\n",
       "    .dataframe tbody tr th:only-of-type {\n",
       "        vertical-align: middle;\n",
       "    }\n",
       "\n",
       "    .dataframe tbody tr th {\n",
       "        vertical-align: top;\n",
       "    }\n",
       "\n",
       "    .dataframe thead th {\n",
       "        text-align: right;\n",
       "    }\n",
       "</style>\n",
       "<table border=\"1\" class=\"dataframe\">\n",
       "  <thead>\n",
       "    <tr style=\"text-align: right;\">\n",
       "      <th></th>\n",
       "      <th>Country</th>\n",
       "      <th>cost of living</th>\n",
       "      <th>cost index</th>\n",
       "      <th>cost of living.Monthly income (USD)</th>\n",
       "      <th>Purchasing Power Index</th>\n",
       "      <th>currency rate</th>\n",
       "      <th>Gdp</th>\n",
       "      <th>population</th>\n",
       "      <th>population.Migrants (net)</th>\n",
       "      <th>Skilled force</th>\n",
       "      <th>technology.2023 rank</th>\n",
       "      <th>Unemployment(%)</th>\n",
       "      <th>Inflation(%)</th>\n",
       "      <th>Monthly salary+Tax(USD)</th>\n",
       "      <th>Literacy rate(%)</th>\n",
       "    </tr>\n",
       "  </thead>\n",
       "  <tbody>\n",
       "    <tr>\n",
       "      <th>55</th>\n",
       "      <td>Sri Lanka</td>\n",
       "      <td>97</td>\n",
       "      <td>27.5</td>\n",
       "      <td>295</td>\n",
       "      <td>16.0</td>\n",
       "      <td>12.100</td>\n",
       "      <td>3828</td>\n",
       "      <td>23103565</td>\n",
       "      <td>-27245</td>\n",
       "      <td>8707414</td>\n",
       "      <td>89</td>\n",
       "      <td>4.30</td>\n",
       "      <td>-0.80</td>\n",
       "      <td>206.76</td>\n",
       "      <td>98.80</td>\n",
       "    </tr>\n",
       "    <tr>\n",
       "      <th>35</th>\n",
       "      <td>Libya</td>\n",
       "      <td>104</td>\n",
       "      <td>24.4</td>\n",
       "      <td>631</td>\n",
       "      <td>38.7</td>\n",
       "      <td>10.156</td>\n",
       "      <td>7330</td>\n",
       "      <td>7381023</td>\n",
       "      <td>3448</td>\n",
       "      <td>2397855</td>\n",
       "      <td>122</td>\n",
       "      <td>19.60</td>\n",
       "      <td>2.70</td>\n",
       "      <td>326.36</td>\n",
       "      <td>91.12</td>\n",
       "    </tr>\n",
       "    <tr>\n",
       "      <th>26</th>\n",
       "      <td>India</td>\n",
       "      <td>106</td>\n",
       "      <td>23.6</td>\n",
       "      <td>212</td>\n",
       "      <td>13.4</td>\n",
       "      <td>7.827</td>\n",
       "      <td>2485</td>\n",
       "      <td>1450935791</td>\n",
       "      <td>-630830</td>\n",
       "      <td>593729164</td>\n",
       "      <td>46</td>\n",
       "      <td>7.80</td>\n",
       "      <td>6.21</td>\n",
       "      <td>608.55</td>\n",
       "      <td>96.50</td>\n",
       "    </tr>\n",
       "    <tr>\n",
       "      <th>22</th>\n",
       "      <td>Georgia</td>\n",
       "      <td>90</td>\n",
       "      <td>30.4</td>\n",
       "      <td>557</td>\n",
       "      <td>27.3</td>\n",
       "      <td>7.474</td>\n",
       "      <td>8120</td>\n",
       "      <td>3807670</td>\n",
       "      <td>1745</td>\n",
       "      <td>1853143</td>\n",
       "      <td>79</td>\n",
       "      <td>15.70</td>\n",
       "      <td>0.30</td>\n",
       "      <td>505.05</td>\n",
       "      <td>99.70</td>\n",
       "    </tr>\n",
       "    <tr>\n",
       "      <th>5</th>\n",
       "      <td>Bangladesh</td>\n",
       "      <td>95</td>\n",
       "      <td>28.5</td>\n",
       "      <td>238</td>\n",
       "      <td>12.5</td>\n",
       "      <td>6.025</td>\n",
       "      <td>2529</td>\n",
       "      <td>173562364</td>\n",
       "      <td>-473362</td>\n",
       "      <td>74913612</td>\n",
       "      <td>126</td>\n",
       "      <td>5.20</td>\n",
       "      <td>9.92</td>\n",
       "      <td>239.43</td>\n",
       "      <td>94.80</td>\n",
       "    </tr>\n",
       "    <tr>\n",
       "      <th>45</th>\n",
       "      <td>Philippines</td>\n",
       "      <td>67</td>\n",
       "      <td>37.2</td>\n",
       "      <td>353</td>\n",
       "      <td>14.2</td>\n",
       "      <td>5.568</td>\n",
       "      <td>3726</td>\n",
       "      <td>115843670</td>\n",
       "      <td>-160373</td>\n",
       "      <td>49477060</td>\n",
       "      <td>54</td>\n",
       "      <td>4.50</td>\n",
       "      <td>2.30</td>\n",
       "      <td>378.58</td>\n",
       "      <td>99.20</td>\n",
       "    </tr>\n",
       "    <tr>\n",
       "      <th>34</th>\n",
       "      <td>Kenya</td>\n",
       "      <td>83</td>\n",
       "      <td>31.4</td>\n",
       "      <td>176</td>\n",
       "      <td>8.4</td>\n",
       "      <td>5.507</td>\n",
       "      <td>1950</td>\n",
       "      <td>56432944</td>\n",
       "      <td>-19781</td>\n",
       "      <td>25501846</td>\n",
       "      <td>117</td>\n",
       "      <td>5.70</td>\n",
       "      <td>2.70</td>\n",
       "      <td>360.47</td>\n",
       "      <td>89.00</td>\n",
       "    </tr>\n",
       "    <tr>\n",
       "      <th>12</th>\n",
       "      <td>China</td>\n",
       "      <td>49</td>\n",
       "      <td>51.5</td>\n",
       "      <td>1117</td>\n",
       "      <td>32.4</td>\n",
       "      <td>5.240</td>\n",
       "      <td>12614</td>\n",
       "      <td>1419321278</td>\n",
       "      <td>-318992</td>\n",
       "      <td>779245529</td>\n",
       "      <td>35</td>\n",
       "      <td>5.10</td>\n",
       "      <td>0.30</td>\n",
       "      <td>938.91</td>\n",
       "      <td>99.80</td>\n",
       "    </tr>\n",
       "    <tr>\n",
       "      <th>14</th>\n",
       "      <td>Costa Rica</td>\n",
       "      <td>39</td>\n",
       "      <td>67.2</td>\n",
       "      <td>1154</td>\n",
       "      <td>25.7</td>\n",
       "      <td>5.112</td>\n",
       "      <td>16595</td>\n",
       "      <td>5129910</td>\n",
       "      <td>967</td>\n",
       "      <td>2407610</td>\n",
       "      <td>57</td>\n",
       "      <td>8.29</td>\n",
       "      <td>-0.79</td>\n",
       "      <td>964.67</td>\n",
       "      <td>99.50</td>\n",
       "    </tr>\n",
       "    <tr>\n",
       "      <th>33</th>\n",
       "      <td>Kazakhstan</td>\n",
       "      <td>70</td>\n",
       "      <td>36.6</td>\n",
       "      <td>912</td>\n",
       "      <td>37.2</td>\n",
       "      <td>5.101</td>\n",
       "      <td>13137</td>\n",
       "      <td>20592571</td>\n",
       "      <td>-7368</td>\n",
       "      <td>9587167</td>\n",
       "      <td>68</td>\n",
       "      <td>4.78</td>\n",
       "      <td>8.50</td>\n",
       "      <td>568.13</td>\n",
       "      <td>99.90</td>\n",
       "    </tr>\n",
       "  </tbody>\n",
       "</table>\n",
       "</div>"
      ],
      "text/plain": [
       "        Country  cost of living  cost index  \\\n",
       "55    Sri Lanka              97        27.5   \n",
       "35        Libya             104        24.4   \n",
       "26        India             106        23.6   \n",
       "22      Georgia              90        30.4   \n",
       "5    Bangladesh              95        28.5   \n",
       "45  Philippines              67        37.2   \n",
       "34        Kenya              83        31.4   \n",
       "12        China              49        51.5   \n",
       "14   Costa Rica              39        67.2   \n",
       "33   Kazakhstan              70        36.6   \n",
       "\n",
       "    cost of living.Monthly income (USD)  Purchasing Power Index  \\\n",
       "55                                  295                    16.0   \n",
       "35                                  631                    38.7   \n",
       "26                                  212                    13.4   \n",
       "22                                  557                    27.3   \n",
       "5                                   238                    12.5   \n",
       "45                                  353                    14.2   \n",
       "34                                  176                     8.4   \n",
       "12                                 1117                    32.4   \n",
       "14                                 1154                    25.7   \n",
       "33                                  912                    37.2   \n",
       "\n",
       "    currency rate    Gdp  population  population.Migrants (net)  \\\n",
       "55         12.100   3828    23103565                     -27245   \n",
       "35         10.156   7330     7381023                       3448   \n",
       "26          7.827   2485  1450935791                    -630830   \n",
       "22          7.474   8120     3807670                       1745   \n",
       "5           6.025   2529   173562364                    -473362   \n",
       "45          5.568   3726   115843670                    -160373   \n",
       "34          5.507   1950    56432944                     -19781   \n",
       "12          5.240  12614  1419321278                    -318992   \n",
       "14          5.112  16595     5129910                        967   \n",
       "33          5.101  13137    20592571                      -7368   \n",
       "\n",
       "    Skilled force  technology.2023 rank  Unemployment(%)  Inflation(%)  \\\n",
       "55        8707414                    89             4.30         -0.80   \n",
       "35        2397855                   122            19.60          2.70   \n",
       "26      593729164                    46             7.80          6.21   \n",
       "22        1853143                    79            15.70          0.30   \n",
       "5        74913612                   126             5.20          9.92   \n",
       "45       49477060                    54             4.50          2.30   \n",
       "34       25501846                   117             5.70          2.70   \n",
       "12      779245529                    35             5.10          0.30   \n",
       "14        2407610                    57             8.29         -0.79   \n",
       "33        9587167                    68             4.78          8.50   \n",
       "\n",
       "    Monthly salary+Tax(USD)  Literacy rate(%)  \n",
       "55                   206.76             98.80  \n",
       "35                   326.36             91.12  \n",
       "26                   608.55             96.50  \n",
       "22                   505.05             99.70  \n",
       "5                    239.43             94.80  \n",
       "45                   378.58             99.20  \n",
       "34                   360.47             89.00  \n",
       "12                   938.91             99.80  \n",
       "14                   964.67             99.50  \n",
       "33                   568.13             99.90  "
      ]
     },
     "execution_count": 1413,
     "metadata": {},
     "output_type": "execute_result"
    }
   ],
   "source": [
    "cc"
   ]
  },
  {
   "cell_type": "code",
   "execution_count": 1414,
   "id": "f4e75999-bcfe-4614-9100-63863bb9053f",
   "metadata": {},
   "outputs": [
    {
     "data": {
      "application/vnd.plotly.v1+json": {
       "config": {
        "plotlyServerURL": "https://plot.ly"
       },
       "data": [
        {
         "alignmentgroup": "True",
         "bingroup": "x",
         "histfunc": "sum",
         "hovertemplate": "Country=%{x}<br>sum of currency rate=%{y}<extra></extra>",
         "legendgroup": "",
         "marker": {
          "color": "#636efa",
          "pattern": {
           "shape": ""
          }
         },
         "name": "",
         "offsetgroup": "",
         "orientation": "v",
         "showlegend": false,
         "type": "histogram",
         "x": [
          "Sri Lanka",
          "Libya",
          "India",
          "Georgia",
          "Bangladesh",
          "Philippines",
          "Kenya",
          "China",
          "Costa Rica",
          "Kazakhstan"
         ],
         "xaxis": "x",
         "y": [
          12.1,
          10.156,
          7.827,
          7.474,
          6.025,
          5.568,
          5.507,
          5.24,
          5.112,
          5.101
         ],
         "yaxis": "y"
        }
       ],
       "layout": {
        "autosize": true,
        "barmode": "relative",
        "legend": {
         "tracegroupgap": 0
        },
        "margin": {
         "t": 60
        },
        "template": {
         "data": {
          "bar": [
           {
            "error_x": {
             "color": "#2a3f5f"
            },
            "error_y": {
             "color": "#2a3f5f"
            },
            "marker": {
             "line": {
              "color": "#E5ECF6",
              "width": 0.5
             },
             "pattern": {
              "fillmode": "overlay",
              "size": 10,
              "solidity": 0.2
             }
            },
            "type": "bar"
           }
          ],
          "barpolar": [
           {
            "marker": {
             "line": {
              "color": "#E5ECF6",
              "width": 0.5
             },
             "pattern": {
              "fillmode": "overlay",
              "size": 10,
              "solidity": 0.2
             }
            },
            "type": "barpolar"
           }
          ],
          "carpet": [
           {
            "aaxis": {
             "endlinecolor": "#2a3f5f",
             "gridcolor": "white",
             "linecolor": "white",
             "minorgridcolor": "white",
             "startlinecolor": "#2a3f5f"
            },
            "baxis": {
             "endlinecolor": "#2a3f5f",
             "gridcolor": "white",
             "linecolor": "white",
             "minorgridcolor": "white",
             "startlinecolor": "#2a3f5f"
            },
            "type": "carpet"
           }
          ],
          "choropleth": [
           {
            "colorbar": {
             "outlinewidth": 0,
             "ticks": ""
            },
            "type": "choropleth"
           }
          ],
          "contour": [
           {
            "colorbar": {
             "outlinewidth": 0,
             "ticks": ""
            },
            "colorscale": [
             [
              0,
              "#0d0887"
             ],
             [
              0.1111111111111111,
              "#46039f"
             ],
             [
              0.2222222222222222,
              "#7201a8"
             ],
             [
              0.3333333333333333,
              "#9c179e"
             ],
             [
              0.4444444444444444,
              "#bd3786"
             ],
             [
              0.5555555555555556,
              "#d8576b"
             ],
             [
              0.6666666666666666,
              "#ed7953"
             ],
             [
              0.7777777777777778,
              "#fb9f3a"
             ],
             [
              0.8888888888888888,
              "#fdca26"
             ],
             [
              1,
              "#f0f921"
             ]
            ],
            "type": "contour"
           }
          ],
          "contourcarpet": [
           {
            "colorbar": {
             "outlinewidth": 0,
             "ticks": ""
            },
            "type": "contourcarpet"
           }
          ],
          "heatmap": [
           {
            "colorbar": {
             "outlinewidth": 0,
             "ticks": ""
            },
            "colorscale": [
             [
              0,
              "#0d0887"
             ],
             [
              0.1111111111111111,
              "#46039f"
             ],
             [
              0.2222222222222222,
              "#7201a8"
             ],
             [
              0.3333333333333333,
              "#9c179e"
             ],
             [
              0.4444444444444444,
              "#bd3786"
             ],
             [
              0.5555555555555556,
              "#d8576b"
             ],
             [
              0.6666666666666666,
              "#ed7953"
             ],
             [
              0.7777777777777778,
              "#fb9f3a"
             ],
             [
              0.8888888888888888,
              "#fdca26"
             ],
             [
              1,
              "#f0f921"
             ]
            ],
            "type": "heatmap"
           }
          ],
          "heatmapgl": [
           {
            "colorbar": {
             "outlinewidth": 0,
             "ticks": ""
            },
            "colorscale": [
             [
              0,
              "#0d0887"
             ],
             [
              0.1111111111111111,
              "#46039f"
             ],
             [
              0.2222222222222222,
              "#7201a8"
             ],
             [
              0.3333333333333333,
              "#9c179e"
             ],
             [
              0.4444444444444444,
              "#bd3786"
             ],
             [
              0.5555555555555556,
              "#d8576b"
             ],
             [
              0.6666666666666666,
              "#ed7953"
             ],
             [
              0.7777777777777778,
              "#fb9f3a"
             ],
             [
              0.8888888888888888,
              "#fdca26"
             ],
             [
              1,
              "#f0f921"
             ]
            ],
            "type": "heatmapgl"
           }
          ],
          "histogram": [
           {
            "marker": {
             "pattern": {
              "fillmode": "overlay",
              "size": 10,
              "solidity": 0.2
             }
            },
            "type": "histogram"
           }
          ],
          "histogram2d": [
           {
            "colorbar": {
             "outlinewidth": 0,
             "ticks": ""
            },
            "colorscale": [
             [
              0,
              "#0d0887"
             ],
             [
              0.1111111111111111,
              "#46039f"
             ],
             [
              0.2222222222222222,
              "#7201a8"
             ],
             [
              0.3333333333333333,
              "#9c179e"
             ],
             [
              0.4444444444444444,
              "#bd3786"
             ],
             [
              0.5555555555555556,
              "#d8576b"
             ],
             [
              0.6666666666666666,
              "#ed7953"
             ],
             [
              0.7777777777777778,
              "#fb9f3a"
             ],
             [
              0.8888888888888888,
              "#fdca26"
             ],
             [
              1,
              "#f0f921"
             ]
            ],
            "type": "histogram2d"
           }
          ],
          "histogram2dcontour": [
           {
            "colorbar": {
             "outlinewidth": 0,
             "ticks": ""
            },
            "colorscale": [
             [
              0,
              "#0d0887"
             ],
             [
              0.1111111111111111,
              "#46039f"
             ],
             [
              0.2222222222222222,
              "#7201a8"
             ],
             [
              0.3333333333333333,
              "#9c179e"
             ],
             [
              0.4444444444444444,
              "#bd3786"
             ],
             [
              0.5555555555555556,
              "#d8576b"
             ],
             [
              0.6666666666666666,
              "#ed7953"
             ],
             [
              0.7777777777777778,
              "#fb9f3a"
             ],
             [
              0.8888888888888888,
              "#fdca26"
             ],
             [
              1,
              "#f0f921"
             ]
            ],
            "type": "histogram2dcontour"
           }
          ],
          "mesh3d": [
           {
            "colorbar": {
             "outlinewidth": 0,
             "ticks": ""
            },
            "type": "mesh3d"
           }
          ],
          "parcoords": [
           {
            "line": {
             "colorbar": {
              "outlinewidth": 0,
              "ticks": ""
             }
            },
            "type": "parcoords"
           }
          ],
          "pie": [
           {
            "automargin": true,
            "type": "pie"
           }
          ],
          "scatter": [
           {
            "fillpattern": {
             "fillmode": "overlay",
             "size": 10,
             "solidity": 0.2
            },
            "type": "scatter"
           }
          ],
          "scatter3d": [
           {
            "line": {
             "colorbar": {
              "outlinewidth": 0,
              "ticks": ""
             }
            },
            "marker": {
             "colorbar": {
              "outlinewidth": 0,
              "ticks": ""
             }
            },
            "type": "scatter3d"
           }
          ],
          "scattercarpet": [
           {
            "marker": {
             "colorbar": {
              "outlinewidth": 0,
              "ticks": ""
             }
            },
            "type": "scattercarpet"
           }
          ],
          "scattergeo": [
           {
            "marker": {
             "colorbar": {
              "outlinewidth": 0,
              "ticks": ""
             }
            },
            "type": "scattergeo"
           }
          ],
          "scattergl": [
           {
            "marker": {
             "colorbar": {
              "outlinewidth": 0,
              "ticks": ""
             }
            },
            "type": "scattergl"
           }
          ],
          "scattermapbox": [
           {
            "marker": {
             "colorbar": {
              "outlinewidth": 0,
              "ticks": ""
             }
            },
            "type": "scattermapbox"
           }
          ],
          "scatterpolar": [
           {
            "marker": {
             "colorbar": {
              "outlinewidth": 0,
              "ticks": ""
             }
            },
            "type": "scatterpolar"
           }
          ],
          "scatterpolargl": [
           {
            "marker": {
             "colorbar": {
              "outlinewidth": 0,
              "ticks": ""
             }
            },
            "type": "scatterpolargl"
           }
          ],
          "scatterternary": [
           {
            "marker": {
             "colorbar": {
              "outlinewidth": 0,
              "ticks": ""
             }
            },
            "type": "scatterternary"
           }
          ],
          "surface": [
           {
            "colorbar": {
             "outlinewidth": 0,
             "ticks": ""
            },
            "colorscale": [
             [
              0,
              "#0d0887"
             ],
             [
              0.1111111111111111,
              "#46039f"
             ],
             [
              0.2222222222222222,
              "#7201a8"
             ],
             [
              0.3333333333333333,
              "#9c179e"
             ],
             [
              0.4444444444444444,
              "#bd3786"
             ],
             [
              0.5555555555555556,
              "#d8576b"
             ],
             [
              0.6666666666666666,
              "#ed7953"
             ],
             [
              0.7777777777777778,
              "#fb9f3a"
             ],
             [
              0.8888888888888888,
              "#fdca26"
             ],
             [
              1,
              "#f0f921"
             ]
            ],
            "type": "surface"
           }
          ],
          "table": [
           {
            "cells": {
             "fill": {
              "color": "#EBF0F8"
             },
             "line": {
              "color": "white"
             }
            },
            "header": {
             "fill": {
              "color": "#C8D4E3"
             },
             "line": {
              "color": "white"
             }
            },
            "type": "table"
           }
          ]
         },
         "layout": {
          "annotationdefaults": {
           "arrowcolor": "#2a3f5f",
           "arrowhead": 0,
           "arrowwidth": 1
          },
          "autotypenumbers": "strict",
          "coloraxis": {
           "colorbar": {
            "outlinewidth": 0,
            "ticks": ""
           }
          },
          "colorscale": {
           "diverging": [
            [
             0,
             "#8e0152"
            ],
            [
             0.1,
             "#c51b7d"
            ],
            [
             0.2,
             "#de77ae"
            ],
            [
             0.3,
             "#f1b6da"
            ],
            [
             0.4,
             "#fde0ef"
            ],
            [
             0.5,
             "#f7f7f7"
            ],
            [
             0.6,
             "#e6f5d0"
            ],
            [
             0.7,
             "#b8e186"
            ],
            [
             0.8,
             "#7fbc41"
            ],
            [
             0.9,
             "#4d9221"
            ],
            [
             1,
             "#276419"
            ]
           ],
           "sequential": [
            [
             0,
             "#0d0887"
            ],
            [
             0.1111111111111111,
             "#46039f"
            ],
            [
             0.2222222222222222,
             "#7201a8"
            ],
            [
             0.3333333333333333,
             "#9c179e"
            ],
            [
             0.4444444444444444,
             "#bd3786"
            ],
            [
             0.5555555555555556,
             "#d8576b"
            ],
            [
             0.6666666666666666,
             "#ed7953"
            ],
            [
             0.7777777777777778,
             "#fb9f3a"
            ],
            [
             0.8888888888888888,
             "#fdca26"
            ],
            [
             1,
             "#f0f921"
            ]
           ],
           "sequentialminus": [
            [
             0,
             "#0d0887"
            ],
            [
             0.1111111111111111,
             "#46039f"
            ],
            [
             0.2222222222222222,
             "#7201a8"
            ],
            [
             0.3333333333333333,
             "#9c179e"
            ],
            [
             0.4444444444444444,
             "#bd3786"
            ],
            [
             0.5555555555555556,
             "#d8576b"
            ],
            [
             0.6666666666666666,
             "#ed7953"
            ],
            [
             0.7777777777777778,
             "#fb9f3a"
            ],
            [
             0.8888888888888888,
             "#fdca26"
            ],
            [
             1,
             "#f0f921"
            ]
           ]
          },
          "colorway": [
           "#636efa",
           "#EF553B",
           "#00cc96",
           "#ab63fa",
           "#FFA15A",
           "#19d3f3",
           "#FF6692",
           "#B6E880",
           "#FF97FF",
           "#FECB52"
          ],
          "font": {
           "color": "#2a3f5f"
          },
          "geo": {
           "bgcolor": "white",
           "lakecolor": "white",
           "landcolor": "#E5ECF6",
           "showlakes": true,
           "showland": true,
           "subunitcolor": "white"
          },
          "hoverlabel": {
           "align": "left"
          },
          "hovermode": "closest",
          "mapbox": {
           "style": "light"
          },
          "paper_bgcolor": "white",
          "plot_bgcolor": "#E5ECF6",
          "polar": {
           "angularaxis": {
            "gridcolor": "white",
            "linecolor": "white",
            "ticks": ""
           },
           "bgcolor": "#E5ECF6",
           "radialaxis": {
            "gridcolor": "white",
            "linecolor": "white",
            "ticks": ""
           }
          },
          "scene": {
           "xaxis": {
            "backgroundcolor": "#E5ECF6",
            "gridcolor": "white",
            "gridwidth": 2,
            "linecolor": "white",
            "showbackground": true,
            "ticks": "",
            "zerolinecolor": "white"
           },
           "yaxis": {
            "backgroundcolor": "#E5ECF6",
            "gridcolor": "white",
            "gridwidth": 2,
            "linecolor": "white",
            "showbackground": true,
            "ticks": "",
            "zerolinecolor": "white"
           },
           "zaxis": {
            "backgroundcolor": "#E5ECF6",
            "gridcolor": "white",
            "gridwidth": 2,
            "linecolor": "white",
            "showbackground": true,
            "ticks": "",
            "zerolinecolor": "white"
           }
          },
          "shapedefaults": {
           "line": {
            "color": "#2a3f5f"
           }
          },
          "ternary": {
           "aaxis": {
            "gridcolor": "white",
            "linecolor": "white",
            "ticks": ""
           },
           "baxis": {
            "gridcolor": "white",
            "linecolor": "white",
            "ticks": ""
           },
           "bgcolor": "#E5ECF6",
           "caxis": {
            "gridcolor": "white",
            "linecolor": "white",
            "ticks": ""
           }
          },
          "title": {
           "x": 0.05
          },
          "xaxis": {
           "automargin": true,
           "gridcolor": "white",
           "linecolor": "white",
           "ticks": "",
           "title": {
            "standoff": 15
           },
           "zerolinecolor": "white",
           "zerolinewidth": 2
          },
          "yaxis": {
           "automargin": true,
           "gridcolor": "white",
           "linecolor": "white",
           "ticks": "",
           "title": {
            "standoff": 15
           },
           "zerolinecolor": "white",
           "zerolinewidth": 2
          }
         }
        },
        "xaxis": {
         "anchor": "y",
         "autorange": true,
         "domain": [
          0,
          1
         ],
         "range": [
          -0.5,
          9.5
         ],
         "title": {
          "text": "Country"
         },
         "type": "category"
        },
        "yaxis": {
         "anchor": "x",
         "autorange": true,
         "domain": [
          0,
          1
         ],
         "range": [
          0,
          12.736842105263158
         ],
         "title": {
          "text": "sum of currency rate"
         },
         "type": "linear"
        }
       }
      },
      "text/html": [
       "<div>                            <div id=\"74ad3b62-58a5-4322-844d-02898b9edaa4\" class=\"plotly-graph-div\" style=\"height:525px; width:100%;\"></div>            <script type=\"text/javascript\">                require([\"plotly\"], function(Plotly) {                    window.PLOTLYENV=window.PLOTLYENV || {};                                    if (document.getElementById(\"74ad3b62-58a5-4322-844d-02898b9edaa4\")) {                    Plotly.newPlot(                        \"74ad3b62-58a5-4322-844d-02898b9edaa4\",                        [{\"alignmentgroup\":\"True\",\"bingroup\":\"x\",\"histfunc\":\"sum\",\"hovertemplate\":\"Country=%{x}\\u003cbr\\u003esum of currency rate=%{y}\\u003cextra\\u003e\\u003c\\u002fextra\\u003e\",\"legendgroup\":\"\",\"marker\":{\"color\":\"#636efa\",\"pattern\":{\"shape\":\"\"}},\"name\":\"\",\"offsetgroup\":\"\",\"orientation\":\"v\",\"showlegend\":false,\"x\":[\"Sri Lanka\",\"Libya\",\"India\",\"Georgia\",\"Bangladesh\",\"Philippines\",\"Kenya\",\"China\",\"Costa Rica\",\"Kazakhstan\"],\"xaxis\":\"x\",\"y\":[12.1,10.156,7.827,7.474,6.025,5.568,5.507,5.24,5.112,5.101],\"yaxis\":\"y\",\"type\":\"histogram\"}],                        {\"template\":{\"data\":{\"histogram2dcontour\":[{\"type\":\"histogram2dcontour\",\"colorbar\":{\"outlinewidth\":0,\"ticks\":\"\"},\"colorscale\":[[0.0,\"#0d0887\"],[0.1111111111111111,\"#46039f\"],[0.2222222222222222,\"#7201a8\"],[0.3333333333333333,\"#9c179e\"],[0.4444444444444444,\"#bd3786\"],[0.5555555555555556,\"#d8576b\"],[0.6666666666666666,\"#ed7953\"],[0.7777777777777778,\"#fb9f3a\"],[0.8888888888888888,\"#fdca26\"],[1.0,\"#f0f921\"]]}],\"choropleth\":[{\"type\":\"choropleth\",\"colorbar\":{\"outlinewidth\":0,\"ticks\":\"\"}}],\"histogram2d\":[{\"type\":\"histogram2d\",\"colorbar\":{\"outlinewidth\":0,\"ticks\":\"\"},\"colorscale\":[[0.0,\"#0d0887\"],[0.1111111111111111,\"#46039f\"],[0.2222222222222222,\"#7201a8\"],[0.3333333333333333,\"#9c179e\"],[0.4444444444444444,\"#bd3786\"],[0.5555555555555556,\"#d8576b\"],[0.6666666666666666,\"#ed7953\"],[0.7777777777777778,\"#fb9f3a\"],[0.8888888888888888,\"#fdca26\"],[1.0,\"#f0f921\"]]}],\"heatmap\":[{\"type\":\"heatmap\",\"colorbar\":{\"outlinewidth\":0,\"ticks\":\"\"},\"colorscale\":[[0.0,\"#0d0887\"],[0.1111111111111111,\"#46039f\"],[0.2222222222222222,\"#7201a8\"],[0.3333333333333333,\"#9c179e\"],[0.4444444444444444,\"#bd3786\"],[0.5555555555555556,\"#d8576b\"],[0.6666666666666666,\"#ed7953\"],[0.7777777777777778,\"#fb9f3a\"],[0.8888888888888888,\"#fdca26\"],[1.0,\"#f0f921\"]]}],\"heatmapgl\":[{\"type\":\"heatmapgl\",\"colorbar\":{\"outlinewidth\":0,\"ticks\":\"\"},\"colorscale\":[[0.0,\"#0d0887\"],[0.1111111111111111,\"#46039f\"],[0.2222222222222222,\"#7201a8\"],[0.3333333333333333,\"#9c179e\"],[0.4444444444444444,\"#bd3786\"],[0.5555555555555556,\"#d8576b\"],[0.6666666666666666,\"#ed7953\"],[0.7777777777777778,\"#fb9f3a\"],[0.8888888888888888,\"#fdca26\"],[1.0,\"#f0f921\"]]}],\"contourcarpet\":[{\"type\":\"contourcarpet\",\"colorbar\":{\"outlinewidth\":0,\"ticks\":\"\"}}],\"contour\":[{\"type\":\"contour\",\"colorbar\":{\"outlinewidth\":0,\"ticks\":\"\"},\"colorscale\":[[0.0,\"#0d0887\"],[0.1111111111111111,\"#46039f\"],[0.2222222222222222,\"#7201a8\"],[0.3333333333333333,\"#9c179e\"],[0.4444444444444444,\"#bd3786\"],[0.5555555555555556,\"#d8576b\"],[0.6666666666666666,\"#ed7953\"],[0.7777777777777778,\"#fb9f3a\"],[0.8888888888888888,\"#fdca26\"],[1.0,\"#f0f921\"]]}],\"surface\":[{\"type\":\"surface\",\"colorbar\":{\"outlinewidth\":0,\"ticks\":\"\"},\"colorscale\":[[0.0,\"#0d0887\"],[0.1111111111111111,\"#46039f\"],[0.2222222222222222,\"#7201a8\"],[0.3333333333333333,\"#9c179e\"],[0.4444444444444444,\"#bd3786\"],[0.5555555555555556,\"#d8576b\"],[0.6666666666666666,\"#ed7953\"],[0.7777777777777778,\"#fb9f3a\"],[0.8888888888888888,\"#fdca26\"],[1.0,\"#f0f921\"]]}],\"mesh3d\":[{\"type\":\"mesh3d\",\"colorbar\":{\"outlinewidth\":0,\"ticks\":\"\"}}],\"scatter\":[{\"fillpattern\":{\"fillmode\":\"overlay\",\"size\":10,\"solidity\":0.2},\"type\":\"scatter\"}],\"parcoords\":[{\"type\":\"parcoords\",\"line\":{\"colorbar\":{\"outlinewidth\":0,\"ticks\":\"\"}}}],\"scatterpolargl\":[{\"type\":\"scatterpolargl\",\"marker\":{\"colorbar\":{\"outlinewidth\":0,\"ticks\":\"\"}}}],\"bar\":[{\"error_x\":{\"color\":\"#2a3f5f\"},\"error_y\":{\"color\":\"#2a3f5f\"},\"marker\":{\"line\":{\"color\":\"#E5ECF6\",\"width\":0.5},\"pattern\":{\"fillmode\":\"overlay\",\"size\":10,\"solidity\":0.2}},\"type\":\"bar\"}],\"scattergeo\":[{\"type\":\"scattergeo\",\"marker\":{\"colorbar\":{\"outlinewidth\":0,\"ticks\":\"\"}}}],\"scatterpolar\":[{\"type\":\"scatterpolar\",\"marker\":{\"colorbar\":{\"outlinewidth\":0,\"ticks\":\"\"}}}],\"histogram\":[{\"marker\":{\"pattern\":{\"fillmode\":\"overlay\",\"size\":10,\"solidity\":0.2}},\"type\":\"histogram\"}],\"scattergl\":[{\"type\":\"scattergl\",\"marker\":{\"colorbar\":{\"outlinewidth\":0,\"ticks\":\"\"}}}],\"scatter3d\":[{\"type\":\"scatter3d\",\"line\":{\"colorbar\":{\"outlinewidth\":0,\"ticks\":\"\"}},\"marker\":{\"colorbar\":{\"outlinewidth\":0,\"ticks\":\"\"}}}],\"scattermapbox\":[{\"type\":\"scattermapbox\",\"marker\":{\"colorbar\":{\"outlinewidth\":0,\"ticks\":\"\"}}}],\"scatterternary\":[{\"type\":\"scatterternary\",\"marker\":{\"colorbar\":{\"outlinewidth\":0,\"ticks\":\"\"}}}],\"scattercarpet\":[{\"type\":\"scattercarpet\",\"marker\":{\"colorbar\":{\"outlinewidth\":0,\"ticks\":\"\"}}}],\"carpet\":[{\"aaxis\":{\"endlinecolor\":\"#2a3f5f\",\"gridcolor\":\"white\",\"linecolor\":\"white\",\"minorgridcolor\":\"white\",\"startlinecolor\":\"#2a3f5f\"},\"baxis\":{\"endlinecolor\":\"#2a3f5f\",\"gridcolor\":\"white\",\"linecolor\":\"white\",\"minorgridcolor\":\"white\",\"startlinecolor\":\"#2a3f5f\"},\"type\":\"carpet\"}],\"table\":[{\"cells\":{\"fill\":{\"color\":\"#EBF0F8\"},\"line\":{\"color\":\"white\"}},\"header\":{\"fill\":{\"color\":\"#C8D4E3\"},\"line\":{\"color\":\"white\"}},\"type\":\"table\"}],\"barpolar\":[{\"marker\":{\"line\":{\"color\":\"#E5ECF6\",\"width\":0.5},\"pattern\":{\"fillmode\":\"overlay\",\"size\":10,\"solidity\":0.2}},\"type\":\"barpolar\"}],\"pie\":[{\"automargin\":true,\"type\":\"pie\"}]},\"layout\":{\"autotypenumbers\":\"strict\",\"colorway\":[\"#636efa\",\"#EF553B\",\"#00cc96\",\"#ab63fa\",\"#FFA15A\",\"#19d3f3\",\"#FF6692\",\"#B6E880\",\"#FF97FF\",\"#FECB52\"],\"font\":{\"color\":\"#2a3f5f\"},\"hovermode\":\"closest\",\"hoverlabel\":{\"align\":\"left\"},\"paper_bgcolor\":\"white\",\"plot_bgcolor\":\"#E5ECF6\",\"polar\":{\"bgcolor\":\"#E5ECF6\",\"angularaxis\":{\"gridcolor\":\"white\",\"linecolor\":\"white\",\"ticks\":\"\"},\"radialaxis\":{\"gridcolor\":\"white\",\"linecolor\":\"white\",\"ticks\":\"\"}},\"ternary\":{\"bgcolor\":\"#E5ECF6\",\"aaxis\":{\"gridcolor\":\"white\",\"linecolor\":\"white\",\"ticks\":\"\"},\"baxis\":{\"gridcolor\":\"white\",\"linecolor\":\"white\",\"ticks\":\"\"},\"caxis\":{\"gridcolor\":\"white\",\"linecolor\":\"white\",\"ticks\":\"\"}},\"coloraxis\":{\"colorbar\":{\"outlinewidth\":0,\"ticks\":\"\"}},\"colorscale\":{\"sequential\":[[0.0,\"#0d0887\"],[0.1111111111111111,\"#46039f\"],[0.2222222222222222,\"#7201a8\"],[0.3333333333333333,\"#9c179e\"],[0.4444444444444444,\"#bd3786\"],[0.5555555555555556,\"#d8576b\"],[0.6666666666666666,\"#ed7953\"],[0.7777777777777778,\"#fb9f3a\"],[0.8888888888888888,\"#fdca26\"],[1.0,\"#f0f921\"]],\"sequentialminus\":[[0.0,\"#0d0887\"],[0.1111111111111111,\"#46039f\"],[0.2222222222222222,\"#7201a8\"],[0.3333333333333333,\"#9c179e\"],[0.4444444444444444,\"#bd3786\"],[0.5555555555555556,\"#d8576b\"],[0.6666666666666666,\"#ed7953\"],[0.7777777777777778,\"#fb9f3a\"],[0.8888888888888888,\"#fdca26\"],[1.0,\"#f0f921\"]],\"diverging\":[[0,\"#8e0152\"],[0.1,\"#c51b7d\"],[0.2,\"#de77ae\"],[0.3,\"#f1b6da\"],[0.4,\"#fde0ef\"],[0.5,\"#f7f7f7\"],[0.6,\"#e6f5d0\"],[0.7,\"#b8e186\"],[0.8,\"#7fbc41\"],[0.9,\"#4d9221\"],[1,\"#276419\"]]},\"xaxis\":{\"gridcolor\":\"white\",\"linecolor\":\"white\",\"ticks\":\"\",\"title\":{\"standoff\":15},\"zerolinecolor\":\"white\",\"automargin\":true,\"zerolinewidth\":2},\"yaxis\":{\"gridcolor\":\"white\",\"linecolor\":\"white\",\"ticks\":\"\",\"title\":{\"standoff\":15},\"zerolinecolor\":\"white\",\"automargin\":true,\"zerolinewidth\":2},\"scene\":{\"xaxis\":{\"backgroundcolor\":\"#E5ECF6\",\"gridcolor\":\"white\",\"linecolor\":\"white\",\"showbackground\":true,\"ticks\":\"\",\"zerolinecolor\":\"white\",\"gridwidth\":2},\"yaxis\":{\"backgroundcolor\":\"#E5ECF6\",\"gridcolor\":\"white\",\"linecolor\":\"white\",\"showbackground\":true,\"ticks\":\"\",\"zerolinecolor\":\"white\",\"gridwidth\":2},\"zaxis\":{\"backgroundcolor\":\"#E5ECF6\",\"gridcolor\":\"white\",\"linecolor\":\"white\",\"showbackground\":true,\"ticks\":\"\",\"zerolinecolor\":\"white\",\"gridwidth\":2}},\"shapedefaults\":{\"line\":{\"color\":\"#2a3f5f\"}},\"annotationdefaults\":{\"arrowcolor\":\"#2a3f5f\",\"arrowhead\":0,\"arrowwidth\":1},\"geo\":{\"bgcolor\":\"white\",\"landcolor\":\"#E5ECF6\",\"subunitcolor\":\"white\",\"showland\":true,\"showlakes\":true,\"lakecolor\":\"white\"},\"title\":{\"x\":0.05},\"mapbox\":{\"style\":\"light\"}}},\"xaxis\":{\"anchor\":\"y\",\"domain\":[0.0,1.0],\"title\":{\"text\":\"Country\"}},\"yaxis\":{\"anchor\":\"x\",\"domain\":[0.0,1.0],\"title\":{\"text\":\"sum of currency rate\"}},\"legend\":{\"tracegroupgap\":0},\"margin\":{\"t\":60},\"barmode\":\"relative\"},                        {\"responsive\": true}                    ).then(function(){\n",
       "                            \n",
       "var gd = document.getElementById('74ad3b62-58a5-4322-844d-02898b9edaa4');\n",
       "var x = new MutationObserver(function (mutations, observer) {{\n",
       "        var display = window.getComputedStyle(gd).display;\n",
       "        if (!display || display === 'none') {{\n",
       "            console.log([gd, 'removed!']);\n",
       "            Plotly.purge(gd);\n",
       "            observer.disconnect();\n",
       "        }}\n",
       "}});\n",
       "\n",
       "// Listen for the removal of the full notebook cells\n",
       "var notebookContainer = gd.closest('#notebook-container');\n",
       "if (notebookContainer) {{\n",
       "    x.observe(notebookContainer, {childList: true});\n",
       "}}\n",
       "\n",
       "// Listen for the clearing of the current output cell\n",
       "var outputEl = gd.closest('.output');\n",
       "if (outputEl) {{\n",
       "    x.observe(outputEl, {childList: true});\n",
       "}}\n",
       "\n",
       "                        })                };                });            </script>        </div>"
      ]
     },
     "metadata": {},
     "output_type": "display_data"
    }
   ],
   "source": [
    "import plotly.express as px\n",
    "fig = px.histogram(cc, x=\"Country\",y=\"currency rate\")\n",
    "fig.show()"
   ]
  },
  {
   "cell_type": "code",
   "execution_count": 1415,
   "id": "5a074cf3-9b1a-48d4-be04-8c29d4d88dbf",
   "metadata": {},
   "outputs": [],
   "source": [
    "gdp=new.sort_values(by=\"Gdp\",ascending=False).head(10)"
   ]
  },
  {
   "cell_type": "code",
   "execution_count": 1416,
   "id": "73c4c1b1-6046-4a37-90ad-cf24f3ebc08d",
   "metadata": {},
   "outputs": [
    {
     "data": {
      "text/html": [
       "<div>\n",
       "<style scoped>\n",
       "    .dataframe tbody tr th:only-of-type {\n",
       "        vertical-align: middle;\n",
       "    }\n",
       "\n",
       "    .dataframe tbody tr th {\n",
       "        vertical-align: top;\n",
       "    }\n",
       "\n",
       "    .dataframe thead th {\n",
       "        text-align: right;\n",
       "    }\n",
       "</style>\n",
       "<table border=\"1\" class=\"dataframe\">\n",
       "  <thead>\n",
       "    <tr style=\"text-align: right;\">\n",
       "      <th></th>\n",
       "      <th>Country</th>\n",
       "      <th>cost of living</th>\n",
       "      <th>cost index</th>\n",
       "      <th>cost of living.Monthly income (USD)</th>\n",
       "      <th>Purchasing Power Index</th>\n",
       "      <th>currency rate</th>\n",
       "      <th>Gdp</th>\n",
       "      <th>population</th>\n",
       "      <th>population.Migrants (net)</th>\n",
       "      <th>Skilled force</th>\n",
       "      <th>technology.2023 rank</th>\n",
       "      <th>Unemployment(%)</th>\n",
       "      <th>Inflation(%)</th>\n",
       "      <th>Monthly salary+Tax(USD)</th>\n",
       "      <th>Literacy rate(%)</th>\n",
       "    </tr>\n",
       "  </thead>\n",
       "  <tbody>\n",
       "    <tr>\n",
       "      <th>36</th>\n",
       "      <td>Luxembourg</td>\n",
       "      <td>16</td>\n",
       "      <td>97.5</td>\n",
       "      <td>7364</td>\n",
       "      <td>112.9</td>\n",
       "      <td>-1.095</td>\n",
       "      <td>128259</td>\n",
       "      <td>673036</td>\n",
       "      <td>5677</td>\n",
       "      <td>351903</td>\n",
       "      <td>18</td>\n",
       "      <td>5.99</td>\n",
       "      <td>1.00</td>\n",
       "      <td>5686.45</td>\n",
       "      <td>100.0</td>\n",
       "    </tr>\n",
       "    <tr>\n",
       "      <th>29</th>\n",
       "      <td>Ireland</td>\n",
       "      <td>11</td>\n",
       "      <td>102.7</td>\n",
       "      <td>6699</td>\n",
       "      <td>97.4</td>\n",
       "      <td>-3.199</td>\n",
       "      <td>103685</td>\n",
       "      <td>5255017</td>\n",
       "      <td>39059</td>\n",
       "      <td>2766155</td>\n",
       "      <td>14</td>\n",
       "      <td>4.38</td>\n",
       "      <td>0.70</td>\n",
       "      <td>3073.35</td>\n",
       "      <td>99.0</td>\n",
       "    </tr>\n",
       "    <tr>\n",
       "      <th>43</th>\n",
       "      <td>Norway</td>\n",
       "      <td>20</td>\n",
       "      <td>90.8</td>\n",
       "      <td>8538</td>\n",
       "      <td>140.6</td>\n",
       "      <td>0.514</td>\n",
       "      <td>87962</td>\n",
       "      <td>5576660</td>\n",
       "      <td>44356</td>\n",
       "      <td>3009339</td>\n",
       "      <td>13</td>\n",
       "      <td>3.80</td>\n",
       "      <td>2.60</td>\n",
       "      <td>3286.54</td>\n",
       "      <td>100.0</td>\n",
       "    </tr>\n",
       "    <tr>\n",
       "      <th>48</th>\n",
       "      <td>Qatar</td>\n",
       "      <td>31</td>\n",
       "      <td>76.9</td>\n",
       "      <td>5839</td>\n",
       "      <td>113.5</td>\n",
       "      <td>1.558</td>\n",
       "      <td>87480</td>\n",
       "      <td>3048423</td>\n",
       "      <td>46105</td>\n",
       "      <td>2035269</td>\n",
       "      <td>67</td>\n",
       "      <td>0.30</td>\n",
       "      <td>0.82</td>\n",
       "      <td>4086.40</td>\n",
       "      <td>98.7</td>\n",
       "    </tr>\n",
       "    <tr>\n",
       "      <th>52</th>\n",
       "      <td>Singapore</td>\n",
       "      <td>30</td>\n",
       "      <td>78.0</td>\n",
       "      <td>5883</td>\n",
       "      <td>112.7</td>\n",
       "      <td>1.075</td>\n",
       "      <td>84734</td>\n",
       "      <td>5832387</td>\n",
       "      <td>20011</td>\n",
       "      <td>3619025</td>\n",
       "      <td>3</td>\n",
       "      <td>1.90</td>\n",
       "      <td>2.00</td>\n",
       "      <td>4293.54</td>\n",
       "      <td>99.9</td>\n",
       "    </tr>\n",
       "    <tr>\n",
       "      <th>16</th>\n",
       "      <td>Denmark</td>\n",
       "      <td>10</td>\n",
       "      <td>103.9</td>\n",
       "      <td>6113</td>\n",
       "      <td>87.9</td>\n",
       "      <td>1.813</td>\n",
       "      <td>67967</td>\n",
       "      <td>5977412</td>\n",
       "      <td>25639</td>\n",
       "      <td>3179505</td>\n",
       "      <td>16</td>\n",
       "      <td>4.89</td>\n",
       "      <td>1.60</td>\n",
       "      <td>3596.29</td>\n",
       "      <td>99.0</td>\n",
       "    </tr>\n",
       "    <tr>\n",
       "      <th>2</th>\n",
       "      <td>Australia</td>\n",
       "      <td>17</td>\n",
       "      <td>96.4</td>\n",
       "      <td>5262</td>\n",
       "      <td>81.6</td>\n",
       "      <td>2.063</td>\n",
       "      <td>64712</td>\n",
       "      <td>26713205</td>\n",
       "      <td>138510</td>\n",
       "      <td>14501414</td>\n",
       "      <td>12</td>\n",
       "      <td>4.21</td>\n",
       "      <td>2.80</td>\n",
       "      <td>3678.75</td>\n",
       "      <td>99.0</td>\n",
       "    </tr>\n",
       "    <tr>\n",
       "      <th>3</th>\n",
       "      <td>Austria</td>\n",
       "      <td>27</td>\n",
       "      <td>80.9</td>\n",
       "      <td>4589</td>\n",
       "      <td>84.8</td>\n",
       "      <td>-0.746</td>\n",
       "      <td>56506</td>\n",
       "      <td>9120813</td>\n",
       "      <td>8813</td>\n",
       "      <td>4825387</td>\n",
       "      <td>24</td>\n",
       "      <td>5.40</td>\n",
       "      <td>1.80</td>\n",
       "      <td>2579.59</td>\n",
       "      <td>98.0</td>\n",
       "    </tr>\n",
       "    <tr>\n",
       "      <th>56</th>\n",
       "      <td>Sweden</td>\n",
       "      <td>26</td>\n",
       "      <td>82.4</td>\n",
       "      <td>5138</td>\n",
       "      <td>93.2</td>\n",
       "      <td>-0.196</td>\n",
       "      <td>56305</td>\n",
       "      <td>10606999</td>\n",
       "      <td>50115</td>\n",
       "      <td>5825253</td>\n",
       "      <td>2</td>\n",
       "      <td>8.36</td>\n",
       "      <td>1.60</td>\n",
       "      <td>2807.55</td>\n",
       "      <td>99.0</td>\n",
       "    </tr>\n",
       "    <tr>\n",
       "      <th>20</th>\n",
       "      <td>Finland</td>\n",
       "      <td>22</td>\n",
       "      <td>90.2</td>\n",
       "      <td>4449</td>\n",
       "      <td>73.7</td>\n",
       "      <td>-0.957</td>\n",
       "      <td>53756</td>\n",
       "      <td>5617310</td>\n",
       "      <td>26894</td>\n",
       "      <td>2879817</td>\n",
       "      <td>8</td>\n",
       "      <td>7.60</td>\n",
       "      <td>0.80</td>\n",
       "      <td>2818.03</td>\n",
       "      <td>99.0</td>\n",
       "    </tr>\n",
       "  </tbody>\n",
       "</table>\n",
       "</div>"
      ],
      "text/plain": [
       "       Country  cost of living  cost index  \\\n",
       "36  Luxembourg              16        97.5   \n",
       "29     Ireland              11       102.7   \n",
       "43      Norway              20        90.8   \n",
       "48       Qatar              31        76.9   \n",
       "52   Singapore              30        78.0   \n",
       "16     Denmark              10       103.9   \n",
       "2    Australia              17        96.4   \n",
       "3      Austria              27        80.9   \n",
       "56      Sweden              26        82.4   \n",
       "20     Finland              22        90.2   \n",
       "\n",
       "    cost of living.Monthly income (USD)  Purchasing Power Index  \\\n",
       "36                                 7364                   112.9   \n",
       "29                                 6699                    97.4   \n",
       "43                                 8538                   140.6   \n",
       "48                                 5839                   113.5   \n",
       "52                                 5883                   112.7   \n",
       "16                                 6113                    87.9   \n",
       "2                                  5262                    81.6   \n",
       "3                                  4589                    84.8   \n",
       "56                                 5138                    93.2   \n",
       "20                                 4449                    73.7   \n",
       "\n",
       "    currency rate     Gdp  population  population.Migrants (net)  \\\n",
       "36         -1.095  128259      673036                       5677   \n",
       "29         -3.199  103685     5255017                      39059   \n",
       "43          0.514   87962     5576660                      44356   \n",
       "48          1.558   87480     3048423                      46105   \n",
       "52          1.075   84734     5832387                      20011   \n",
       "16          1.813   67967     5977412                      25639   \n",
       "2           2.063   64712    26713205                     138510   \n",
       "3          -0.746   56506     9120813                       8813   \n",
       "56         -0.196   56305    10606999                      50115   \n",
       "20         -0.957   53756     5617310                      26894   \n",
       "\n",
       "    Skilled force  technology.2023 rank  Unemployment(%)  Inflation(%)  \\\n",
       "36         351903                    18             5.99          1.00   \n",
       "29        2766155                    14             4.38          0.70   \n",
       "43        3009339                    13             3.80          2.60   \n",
       "48        2035269                    67             0.30          0.82   \n",
       "52        3619025                     3             1.90          2.00   \n",
       "16        3179505                    16             4.89          1.60   \n",
       "2        14501414                    12             4.21          2.80   \n",
       "3         4825387                    24             5.40          1.80   \n",
       "56        5825253                     2             8.36          1.60   \n",
       "20        2879817                     8             7.60          0.80   \n",
       "\n",
       "    Monthly salary+Tax(USD)  Literacy rate(%)  \n",
       "36                  5686.45             100.0  \n",
       "29                  3073.35              99.0  \n",
       "43                  3286.54             100.0  \n",
       "48                  4086.40              98.7  \n",
       "52                  4293.54              99.9  \n",
       "16                  3596.29              99.0  \n",
       "2                   3678.75              99.0  \n",
       "3                   2579.59              98.0  \n",
       "56                  2807.55              99.0  \n",
       "20                  2818.03              99.0  "
      ]
     },
     "execution_count": 1416,
     "metadata": {},
     "output_type": "execute_result"
    }
   ],
   "source": [
    "gdp"
   ]
  },
  {
   "cell_type": "code",
   "execution_count": 1417,
   "id": "c38bb86a-b005-4927-a640-dd67b81fdf17",
   "metadata": {},
   "outputs": [
    {
     "data": {
      "application/vnd.plotly.v1+json": {
       "config": {
        "plotlyServerURL": "https://plot.ly"
       },
       "data": [
        {
         "alignmentgroup": "True",
         "bingroup": "x",
         "histfunc": "sum",
         "hovertemplate": "Country=%{x}<br>sum of Gdp=%{y}<extra></extra>",
         "legendgroup": "",
         "marker": {
          "color": "#636efa",
          "pattern": {
           "shape": ""
          }
         },
         "name": "",
         "offsetgroup": "",
         "orientation": "v",
         "showlegend": false,
         "type": "histogram",
         "x": [
          "Luxembourg",
          "Ireland",
          "Norway",
          "Qatar",
          "Singapore",
          "Denmark",
          "Australia",
          "Austria",
          "Sweden",
          "Finland"
         ],
         "xaxis": "x",
         "y": [
          128259,
          103685,
          87962,
          87480,
          84734,
          67967,
          64712,
          56506,
          56305,
          53756
         ],
         "yaxis": "y"
        }
       ],
       "layout": {
        "autosize": true,
        "barmode": "relative",
        "legend": {
         "tracegroupgap": 0
        },
        "margin": {
         "t": 60
        },
        "template": {
         "data": {
          "bar": [
           {
            "error_x": {
             "color": "#2a3f5f"
            },
            "error_y": {
             "color": "#2a3f5f"
            },
            "marker": {
             "line": {
              "color": "#E5ECF6",
              "width": 0.5
             },
             "pattern": {
              "fillmode": "overlay",
              "size": 10,
              "solidity": 0.2
             }
            },
            "type": "bar"
           }
          ],
          "barpolar": [
           {
            "marker": {
             "line": {
              "color": "#E5ECF6",
              "width": 0.5
             },
             "pattern": {
              "fillmode": "overlay",
              "size": 10,
              "solidity": 0.2
             }
            },
            "type": "barpolar"
           }
          ],
          "carpet": [
           {
            "aaxis": {
             "endlinecolor": "#2a3f5f",
             "gridcolor": "white",
             "linecolor": "white",
             "minorgridcolor": "white",
             "startlinecolor": "#2a3f5f"
            },
            "baxis": {
             "endlinecolor": "#2a3f5f",
             "gridcolor": "white",
             "linecolor": "white",
             "minorgridcolor": "white",
             "startlinecolor": "#2a3f5f"
            },
            "type": "carpet"
           }
          ],
          "choropleth": [
           {
            "colorbar": {
             "outlinewidth": 0,
             "ticks": ""
            },
            "type": "choropleth"
           }
          ],
          "contour": [
           {
            "colorbar": {
             "outlinewidth": 0,
             "ticks": ""
            },
            "colorscale": [
             [
              0,
              "#0d0887"
             ],
             [
              0.1111111111111111,
              "#46039f"
             ],
             [
              0.2222222222222222,
              "#7201a8"
             ],
             [
              0.3333333333333333,
              "#9c179e"
             ],
             [
              0.4444444444444444,
              "#bd3786"
             ],
             [
              0.5555555555555556,
              "#d8576b"
             ],
             [
              0.6666666666666666,
              "#ed7953"
             ],
             [
              0.7777777777777778,
              "#fb9f3a"
             ],
             [
              0.8888888888888888,
              "#fdca26"
             ],
             [
              1,
              "#f0f921"
             ]
            ],
            "type": "contour"
           }
          ],
          "contourcarpet": [
           {
            "colorbar": {
             "outlinewidth": 0,
             "ticks": ""
            },
            "type": "contourcarpet"
           }
          ],
          "heatmap": [
           {
            "colorbar": {
             "outlinewidth": 0,
             "ticks": ""
            },
            "colorscale": [
             [
              0,
              "#0d0887"
             ],
             [
              0.1111111111111111,
              "#46039f"
             ],
             [
              0.2222222222222222,
              "#7201a8"
             ],
             [
              0.3333333333333333,
              "#9c179e"
             ],
             [
              0.4444444444444444,
              "#bd3786"
             ],
             [
              0.5555555555555556,
              "#d8576b"
             ],
             [
              0.6666666666666666,
              "#ed7953"
             ],
             [
              0.7777777777777778,
              "#fb9f3a"
             ],
             [
              0.8888888888888888,
              "#fdca26"
             ],
             [
              1,
              "#f0f921"
             ]
            ],
            "type": "heatmap"
           }
          ],
          "heatmapgl": [
           {
            "colorbar": {
             "outlinewidth": 0,
             "ticks": ""
            },
            "colorscale": [
             [
              0,
              "#0d0887"
             ],
             [
              0.1111111111111111,
              "#46039f"
             ],
             [
              0.2222222222222222,
              "#7201a8"
             ],
             [
              0.3333333333333333,
              "#9c179e"
             ],
             [
              0.4444444444444444,
              "#bd3786"
             ],
             [
              0.5555555555555556,
              "#d8576b"
             ],
             [
              0.6666666666666666,
              "#ed7953"
             ],
             [
              0.7777777777777778,
              "#fb9f3a"
             ],
             [
              0.8888888888888888,
              "#fdca26"
             ],
             [
              1,
              "#f0f921"
             ]
            ],
            "type": "heatmapgl"
           }
          ],
          "histogram": [
           {
            "marker": {
             "pattern": {
              "fillmode": "overlay",
              "size": 10,
              "solidity": 0.2
             }
            },
            "type": "histogram"
           }
          ],
          "histogram2d": [
           {
            "colorbar": {
             "outlinewidth": 0,
             "ticks": ""
            },
            "colorscale": [
             [
              0,
              "#0d0887"
             ],
             [
              0.1111111111111111,
              "#46039f"
             ],
             [
              0.2222222222222222,
              "#7201a8"
             ],
             [
              0.3333333333333333,
              "#9c179e"
             ],
             [
              0.4444444444444444,
              "#bd3786"
             ],
             [
              0.5555555555555556,
              "#d8576b"
             ],
             [
              0.6666666666666666,
              "#ed7953"
             ],
             [
              0.7777777777777778,
              "#fb9f3a"
             ],
             [
              0.8888888888888888,
              "#fdca26"
             ],
             [
              1,
              "#f0f921"
             ]
            ],
            "type": "histogram2d"
           }
          ],
          "histogram2dcontour": [
           {
            "colorbar": {
             "outlinewidth": 0,
             "ticks": ""
            },
            "colorscale": [
             [
              0,
              "#0d0887"
             ],
             [
              0.1111111111111111,
              "#46039f"
             ],
             [
              0.2222222222222222,
              "#7201a8"
             ],
             [
              0.3333333333333333,
              "#9c179e"
             ],
             [
              0.4444444444444444,
              "#bd3786"
             ],
             [
              0.5555555555555556,
              "#d8576b"
             ],
             [
              0.6666666666666666,
              "#ed7953"
             ],
             [
              0.7777777777777778,
              "#fb9f3a"
             ],
             [
              0.8888888888888888,
              "#fdca26"
             ],
             [
              1,
              "#f0f921"
             ]
            ],
            "type": "histogram2dcontour"
           }
          ],
          "mesh3d": [
           {
            "colorbar": {
             "outlinewidth": 0,
             "ticks": ""
            },
            "type": "mesh3d"
           }
          ],
          "parcoords": [
           {
            "line": {
             "colorbar": {
              "outlinewidth": 0,
              "ticks": ""
             }
            },
            "type": "parcoords"
           }
          ],
          "pie": [
           {
            "automargin": true,
            "type": "pie"
           }
          ],
          "scatter": [
           {
            "fillpattern": {
             "fillmode": "overlay",
             "size": 10,
             "solidity": 0.2
            },
            "type": "scatter"
           }
          ],
          "scatter3d": [
           {
            "line": {
             "colorbar": {
              "outlinewidth": 0,
              "ticks": ""
             }
            },
            "marker": {
             "colorbar": {
              "outlinewidth": 0,
              "ticks": ""
             }
            },
            "type": "scatter3d"
           }
          ],
          "scattercarpet": [
           {
            "marker": {
             "colorbar": {
              "outlinewidth": 0,
              "ticks": ""
             }
            },
            "type": "scattercarpet"
           }
          ],
          "scattergeo": [
           {
            "marker": {
             "colorbar": {
              "outlinewidth": 0,
              "ticks": ""
             }
            },
            "type": "scattergeo"
           }
          ],
          "scattergl": [
           {
            "marker": {
             "colorbar": {
              "outlinewidth": 0,
              "ticks": ""
             }
            },
            "type": "scattergl"
           }
          ],
          "scattermapbox": [
           {
            "marker": {
             "colorbar": {
              "outlinewidth": 0,
              "ticks": ""
             }
            },
            "type": "scattermapbox"
           }
          ],
          "scatterpolar": [
           {
            "marker": {
             "colorbar": {
              "outlinewidth": 0,
              "ticks": ""
             }
            },
            "type": "scatterpolar"
           }
          ],
          "scatterpolargl": [
           {
            "marker": {
             "colorbar": {
              "outlinewidth": 0,
              "ticks": ""
             }
            },
            "type": "scatterpolargl"
           }
          ],
          "scatterternary": [
           {
            "marker": {
             "colorbar": {
              "outlinewidth": 0,
              "ticks": ""
             }
            },
            "type": "scatterternary"
           }
          ],
          "surface": [
           {
            "colorbar": {
             "outlinewidth": 0,
             "ticks": ""
            },
            "colorscale": [
             [
              0,
              "#0d0887"
             ],
             [
              0.1111111111111111,
              "#46039f"
             ],
             [
              0.2222222222222222,
              "#7201a8"
             ],
             [
              0.3333333333333333,
              "#9c179e"
             ],
             [
              0.4444444444444444,
              "#bd3786"
             ],
             [
              0.5555555555555556,
              "#d8576b"
             ],
             [
              0.6666666666666666,
              "#ed7953"
             ],
             [
              0.7777777777777778,
              "#fb9f3a"
             ],
             [
              0.8888888888888888,
              "#fdca26"
             ],
             [
              1,
              "#f0f921"
             ]
            ],
            "type": "surface"
           }
          ],
          "table": [
           {
            "cells": {
             "fill": {
              "color": "#EBF0F8"
             },
             "line": {
              "color": "white"
             }
            },
            "header": {
             "fill": {
              "color": "#C8D4E3"
             },
             "line": {
              "color": "white"
             }
            },
            "type": "table"
           }
          ]
         },
         "layout": {
          "annotationdefaults": {
           "arrowcolor": "#2a3f5f",
           "arrowhead": 0,
           "arrowwidth": 1
          },
          "autotypenumbers": "strict",
          "coloraxis": {
           "colorbar": {
            "outlinewidth": 0,
            "ticks": ""
           }
          },
          "colorscale": {
           "diverging": [
            [
             0,
             "#8e0152"
            ],
            [
             0.1,
             "#c51b7d"
            ],
            [
             0.2,
             "#de77ae"
            ],
            [
             0.3,
             "#f1b6da"
            ],
            [
             0.4,
             "#fde0ef"
            ],
            [
             0.5,
             "#f7f7f7"
            ],
            [
             0.6,
             "#e6f5d0"
            ],
            [
             0.7,
             "#b8e186"
            ],
            [
             0.8,
             "#7fbc41"
            ],
            [
             0.9,
             "#4d9221"
            ],
            [
             1,
             "#276419"
            ]
           ],
           "sequential": [
            [
             0,
             "#0d0887"
            ],
            [
             0.1111111111111111,
             "#46039f"
            ],
            [
             0.2222222222222222,
             "#7201a8"
            ],
            [
             0.3333333333333333,
             "#9c179e"
            ],
            [
             0.4444444444444444,
             "#bd3786"
            ],
            [
             0.5555555555555556,
             "#d8576b"
            ],
            [
             0.6666666666666666,
             "#ed7953"
            ],
            [
             0.7777777777777778,
             "#fb9f3a"
            ],
            [
             0.8888888888888888,
             "#fdca26"
            ],
            [
             1,
             "#f0f921"
            ]
           ],
           "sequentialminus": [
            [
             0,
             "#0d0887"
            ],
            [
             0.1111111111111111,
             "#46039f"
            ],
            [
             0.2222222222222222,
             "#7201a8"
            ],
            [
             0.3333333333333333,
             "#9c179e"
            ],
            [
             0.4444444444444444,
             "#bd3786"
            ],
            [
             0.5555555555555556,
             "#d8576b"
            ],
            [
             0.6666666666666666,
             "#ed7953"
            ],
            [
             0.7777777777777778,
             "#fb9f3a"
            ],
            [
             0.8888888888888888,
             "#fdca26"
            ],
            [
             1,
             "#f0f921"
            ]
           ]
          },
          "colorway": [
           "#636efa",
           "#EF553B",
           "#00cc96",
           "#ab63fa",
           "#FFA15A",
           "#19d3f3",
           "#FF6692",
           "#B6E880",
           "#FF97FF",
           "#FECB52"
          ],
          "font": {
           "color": "#2a3f5f"
          },
          "geo": {
           "bgcolor": "white",
           "lakecolor": "white",
           "landcolor": "#E5ECF6",
           "showlakes": true,
           "showland": true,
           "subunitcolor": "white"
          },
          "hoverlabel": {
           "align": "left"
          },
          "hovermode": "closest",
          "mapbox": {
           "style": "light"
          },
          "paper_bgcolor": "white",
          "plot_bgcolor": "#E5ECF6",
          "polar": {
           "angularaxis": {
            "gridcolor": "white",
            "linecolor": "white",
            "ticks": ""
           },
           "bgcolor": "#E5ECF6",
           "radialaxis": {
            "gridcolor": "white",
            "linecolor": "white",
            "ticks": ""
           }
          },
          "scene": {
           "xaxis": {
            "backgroundcolor": "#E5ECF6",
            "gridcolor": "white",
            "gridwidth": 2,
            "linecolor": "white",
            "showbackground": true,
            "ticks": "",
            "zerolinecolor": "white"
           },
           "yaxis": {
            "backgroundcolor": "#E5ECF6",
            "gridcolor": "white",
            "gridwidth": 2,
            "linecolor": "white",
            "showbackground": true,
            "ticks": "",
            "zerolinecolor": "white"
           },
           "zaxis": {
            "backgroundcolor": "#E5ECF6",
            "gridcolor": "white",
            "gridwidth": 2,
            "linecolor": "white",
            "showbackground": true,
            "ticks": "",
            "zerolinecolor": "white"
           }
          },
          "shapedefaults": {
           "line": {
            "color": "#2a3f5f"
           }
          },
          "ternary": {
           "aaxis": {
            "gridcolor": "white",
            "linecolor": "white",
            "ticks": ""
           },
           "baxis": {
            "gridcolor": "white",
            "linecolor": "white",
            "ticks": ""
           },
           "bgcolor": "#E5ECF6",
           "caxis": {
            "gridcolor": "white",
            "linecolor": "white",
            "ticks": ""
           }
          },
          "title": {
           "x": 0.05
          },
          "xaxis": {
           "automargin": true,
           "gridcolor": "white",
           "linecolor": "white",
           "ticks": "",
           "title": {
            "standoff": 15
           },
           "zerolinecolor": "white",
           "zerolinewidth": 2
          },
          "yaxis": {
           "automargin": true,
           "gridcolor": "white",
           "linecolor": "white",
           "ticks": "",
           "title": {
            "standoff": 15
           },
           "zerolinecolor": "white",
           "zerolinewidth": 2
          }
         }
        },
        "xaxis": {
         "anchor": "y",
         "autorange": true,
         "domain": [
          0,
          1
         ],
         "range": [
          -0.5,
          9.5
         ],
         "title": {
          "text": "Country"
         },
         "type": "category"
        },
        "yaxis": {
         "anchor": "x",
         "autorange": true,
         "domain": [
          0,
          1
         ],
         "range": [
          0,
          135009.47368421053
         ],
         "title": {
          "text": "sum of Gdp"
         },
         "type": "linear"
        }
       }
      },
      "text/html": [
       "<div>                            <div id=\"d059aae9-3f0f-450b-bec2-c7c64ea97f80\" class=\"plotly-graph-div\" style=\"height:525px; width:100%;\"></div>            <script type=\"text/javascript\">                require([\"plotly\"], function(Plotly) {                    window.PLOTLYENV=window.PLOTLYENV || {};                                    if (document.getElementById(\"d059aae9-3f0f-450b-bec2-c7c64ea97f80\")) {                    Plotly.newPlot(                        \"d059aae9-3f0f-450b-bec2-c7c64ea97f80\",                        [{\"alignmentgroup\":\"True\",\"bingroup\":\"x\",\"histfunc\":\"sum\",\"hovertemplate\":\"Country=%{x}\\u003cbr\\u003esum of Gdp=%{y}\\u003cextra\\u003e\\u003c\\u002fextra\\u003e\",\"legendgroup\":\"\",\"marker\":{\"color\":\"#636efa\",\"pattern\":{\"shape\":\"\"}},\"name\":\"\",\"offsetgroup\":\"\",\"orientation\":\"v\",\"showlegend\":false,\"x\":[\"Luxembourg\",\"Ireland\",\"Norway\",\"Qatar\",\"Singapore\",\"Denmark\",\"Australia\",\"Austria\",\"Sweden\",\"Finland\"],\"xaxis\":\"x\",\"y\":[128259,103685,87962,87480,84734,67967,64712,56506,56305,53756],\"yaxis\":\"y\",\"type\":\"histogram\"}],                        {\"template\":{\"data\":{\"histogram2dcontour\":[{\"type\":\"histogram2dcontour\",\"colorbar\":{\"outlinewidth\":0,\"ticks\":\"\"},\"colorscale\":[[0.0,\"#0d0887\"],[0.1111111111111111,\"#46039f\"],[0.2222222222222222,\"#7201a8\"],[0.3333333333333333,\"#9c179e\"],[0.4444444444444444,\"#bd3786\"],[0.5555555555555556,\"#d8576b\"],[0.6666666666666666,\"#ed7953\"],[0.7777777777777778,\"#fb9f3a\"],[0.8888888888888888,\"#fdca26\"],[1.0,\"#f0f921\"]]}],\"choropleth\":[{\"type\":\"choropleth\",\"colorbar\":{\"outlinewidth\":0,\"ticks\":\"\"}}],\"histogram2d\":[{\"type\":\"histogram2d\",\"colorbar\":{\"outlinewidth\":0,\"ticks\":\"\"},\"colorscale\":[[0.0,\"#0d0887\"],[0.1111111111111111,\"#46039f\"],[0.2222222222222222,\"#7201a8\"],[0.3333333333333333,\"#9c179e\"],[0.4444444444444444,\"#bd3786\"],[0.5555555555555556,\"#d8576b\"],[0.6666666666666666,\"#ed7953\"],[0.7777777777777778,\"#fb9f3a\"],[0.8888888888888888,\"#fdca26\"],[1.0,\"#f0f921\"]]}],\"heatmap\":[{\"type\":\"heatmap\",\"colorbar\":{\"outlinewidth\":0,\"ticks\":\"\"},\"colorscale\":[[0.0,\"#0d0887\"],[0.1111111111111111,\"#46039f\"],[0.2222222222222222,\"#7201a8\"],[0.3333333333333333,\"#9c179e\"],[0.4444444444444444,\"#bd3786\"],[0.5555555555555556,\"#d8576b\"],[0.6666666666666666,\"#ed7953\"],[0.7777777777777778,\"#fb9f3a\"],[0.8888888888888888,\"#fdca26\"],[1.0,\"#f0f921\"]]}],\"heatmapgl\":[{\"type\":\"heatmapgl\",\"colorbar\":{\"outlinewidth\":0,\"ticks\":\"\"},\"colorscale\":[[0.0,\"#0d0887\"],[0.1111111111111111,\"#46039f\"],[0.2222222222222222,\"#7201a8\"],[0.3333333333333333,\"#9c179e\"],[0.4444444444444444,\"#bd3786\"],[0.5555555555555556,\"#d8576b\"],[0.6666666666666666,\"#ed7953\"],[0.7777777777777778,\"#fb9f3a\"],[0.8888888888888888,\"#fdca26\"],[1.0,\"#f0f921\"]]}],\"contourcarpet\":[{\"type\":\"contourcarpet\",\"colorbar\":{\"outlinewidth\":0,\"ticks\":\"\"}}],\"contour\":[{\"type\":\"contour\",\"colorbar\":{\"outlinewidth\":0,\"ticks\":\"\"},\"colorscale\":[[0.0,\"#0d0887\"],[0.1111111111111111,\"#46039f\"],[0.2222222222222222,\"#7201a8\"],[0.3333333333333333,\"#9c179e\"],[0.4444444444444444,\"#bd3786\"],[0.5555555555555556,\"#d8576b\"],[0.6666666666666666,\"#ed7953\"],[0.7777777777777778,\"#fb9f3a\"],[0.8888888888888888,\"#fdca26\"],[1.0,\"#f0f921\"]]}],\"surface\":[{\"type\":\"surface\",\"colorbar\":{\"outlinewidth\":0,\"ticks\":\"\"},\"colorscale\":[[0.0,\"#0d0887\"],[0.1111111111111111,\"#46039f\"],[0.2222222222222222,\"#7201a8\"],[0.3333333333333333,\"#9c179e\"],[0.4444444444444444,\"#bd3786\"],[0.5555555555555556,\"#d8576b\"],[0.6666666666666666,\"#ed7953\"],[0.7777777777777778,\"#fb9f3a\"],[0.8888888888888888,\"#fdca26\"],[1.0,\"#f0f921\"]]}],\"mesh3d\":[{\"type\":\"mesh3d\",\"colorbar\":{\"outlinewidth\":0,\"ticks\":\"\"}}],\"scatter\":[{\"fillpattern\":{\"fillmode\":\"overlay\",\"size\":10,\"solidity\":0.2},\"type\":\"scatter\"}],\"parcoords\":[{\"type\":\"parcoords\",\"line\":{\"colorbar\":{\"outlinewidth\":0,\"ticks\":\"\"}}}],\"scatterpolargl\":[{\"type\":\"scatterpolargl\",\"marker\":{\"colorbar\":{\"outlinewidth\":0,\"ticks\":\"\"}}}],\"bar\":[{\"error_x\":{\"color\":\"#2a3f5f\"},\"error_y\":{\"color\":\"#2a3f5f\"},\"marker\":{\"line\":{\"color\":\"#E5ECF6\",\"width\":0.5},\"pattern\":{\"fillmode\":\"overlay\",\"size\":10,\"solidity\":0.2}},\"type\":\"bar\"}],\"scattergeo\":[{\"type\":\"scattergeo\",\"marker\":{\"colorbar\":{\"outlinewidth\":0,\"ticks\":\"\"}}}],\"scatterpolar\":[{\"type\":\"scatterpolar\",\"marker\":{\"colorbar\":{\"outlinewidth\":0,\"ticks\":\"\"}}}],\"histogram\":[{\"marker\":{\"pattern\":{\"fillmode\":\"overlay\",\"size\":10,\"solidity\":0.2}},\"type\":\"histogram\"}],\"scattergl\":[{\"type\":\"scattergl\",\"marker\":{\"colorbar\":{\"outlinewidth\":0,\"ticks\":\"\"}}}],\"scatter3d\":[{\"type\":\"scatter3d\",\"line\":{\"colorbar\":{\"outlinewidth\":0,\"ticks\":\"\"}},\"marker\":{\"colorbar\":{\"outlinewidth\":0,\"ticks\":\"\"}}}],\"scattermapbox\":[{\"type\":\"scattermapbox\",\"marker\":{\"colorbar\":{\"outlinewidth\":0,\"ticks\":\"\"}}}],\"scatterternary\":[{\"type\":\"scatterternary\",\"marker\":{\"colorbar\":{\"outlinewidth\":0,\"ticks\":\"\"}}}],\"scattercarpet\":[{\"type\":\"scattercarpet\",\"marker\":{\"colorbar\":{\"outlinewidth\":0,\"ticks\":\"\"}}}],\"carpet\":[{\"aaxis\":{\"endlinecolor\":\"#2a3f5f\",\"gridcolor\":\"white\",\"linecolor\":\"white\",\"minorgridcolor\":\"white\",\"startlinecolor\":\"#2a3f5f\"},\"baxis\":{\"endlinecolor\":\"#2a3f5f\",\"gridcolor\":\"white\",\"linecolor\":\"white\",\"minorgridcolor\":\"white\",\"startlinecolor\":\"#2a3f5f\"},\"type\":\"carpet\"}],\"table\":[{\"cells\":{\"fill\":{\"color\":\"#EBF0F8\"},\"line\":{\"color\":\"white\"}},\"header\":{\"fill\":{\"color\":\"#C8D4E3\"},\"line\":{\"color\":\"white\"}},\"type\":\"table\"}],\"barpolar\":[{\"marker\":{\"line\":{\"color\":\"#E5ECF6\",\"width\":0.5},\"pattern\":{\"fillmode\":\"overlay\",\"size\":10,\"solidity\":0.2}},\"type\":\"barpolar\"}],\"pie\":[{\"automargin\":true,\"type\":\"pie\"}]},\"layout\":{\"autotypenumbers\":\"strict\",\"colorway\":[\"#636efa\",\"#EF553B\",\"#00cc96\",\"#ab63fa\",\"#FFA15A\",\"#19d3f3\",\"#FF6692\",\"#B6E880\",\"#FF97FF\",\"#FECB52\"],\"font\":{\"color\":\"#2a3f5f\"},\"hovermode\":\"closest\",\"hoverlabel\":{\"align\":\"left\"},\"paper_bgcolor\":\"white\",\"plot_bgcolor\":\"#E5ECF6\",\"polar\":{\"bgcolor\":\"#E5ECF6\",\"angularaxis\":{\"gridcolor\":\"white\",\"linecolor\":\"white\",\"ticks\":\"\"},\"radialaxis\":{\"gridcolor\":\"white\",\"linecolor\":\"white\",\"ticks\":\"\"}},\"ternary\":{\"bgcolor\":\"#E5ECF6\",\"aaxis\":{\"gridcolor\":\"white\",\"linecolor\":\"white\",\"ticks\":\"\"},\"baxis\":{\"gridcolor\":\"white\",\"linecolor\":\"white\",\"ticks\":\"\"},\"caxis\":{\"gridcolor\":\"white\",\"linecolor\":\"white\",\"ticks\":\"\"}},\"coloraxis\":{\"colorbar\":{\"outlinewidth\":0,\"ticks\":\"\"}},\"colorscale\":{\"sequential\":[[0.0,\"#0d0887\"],[0.1111111111111111,\"#46039f\"],[0.2222222222222222,\"#7201a8\"],[0.3333333333333333,\"#9c179e\"],[0.4444444444444444,\"#bd3786\"],[0.5555555555555556,\"#d8576b\"],[0.6666666666666666,\"#ed7953\"],[0.7777777777777778,\"#fb9f3a\"],[0.8888888888888888,\"#fdca26\"],[1.0,\"#f0f921\"]],\"sequentialminus\":[[0.0,\"#0d0887\"],[0.1111111111111111,\"#46039f\"],[0.2222222222222222,\"#7201a8\"],[0.3333333333333333,\"#9c179e\"],[0.4444444444444444,\"#bd3786\"],[0.5555555555555556,\"#d8576b\"],[0.6666666666666666,\"#ed7953\"],[0.7777777777777778,\"#fb9f3a\"],[0.8888888888888888,\"#fdca26\"],[1.0,\"#f0f921\"]],\"diverging\":[[0,\"#8e0152\"],[0.1,\"#c51b7d\"],[0.2,\"#de77ae\"],[0.3,\"#f1b6da\"],[0.4,\"#fde0ef\"],[0.5,\"#f7f7f7\"],[0.6,\"#e6f5d0\"],[0.7,\"#b8e186\"],[0.8,\"#7fbc41\"],[0.9,\"#4d9221\"],[1,\"#276419\"]]},\"xaxis\":{\"gridcolor\":\"white\",\"linecolor\":\"white\",\"ticks\":\"\",\"title\":{\"standoff\":15},\"zerolinecolor\":\"white\",\"automargin\":true,\"zerolinewidth\":2},\"yaxis\":{\"gridcolor\":\"white\",\"linecolor\":\"white\",\"ticks\":\"\",\"title\":{\"standoff\":15},\"zerolinecolor\":\"white\",\"automargin\":true,\"zerolinewidth\":2},\"scene\":{\"xaxis\":{\"backgroundcolor\":\"#E5ECF6\",\"gridcolor\":\"white\",\"linecolor\":\"white\",\"showbackground\":true,\"ticks\":\"\",\"zerolinecolor\":\"white\",\"gridwidth\":2},\"yaxis\":{\"backgroundcolor\":\"#E5ECF6\",\"gridcolor\":\"white\",\"linecolor\":\"white\",\"showbackground\":true,\"ticks\":\"\",\"zerolinecolor\":\"white\",\"gridwidth\":2},\"zaxis\":{\"backgroundcolor\":\"#E5ECF6\",\"gridcolor\":\"white\",\"linecolor\":\"white\",\"showbackground\":true,\"ticks\":\"\",\"zerolinecolor\":\"white\",\"gridwidth\":2}},\"shapedefaults\":{\"line\":{\"color\":\"#2a3f5f\"}},\"annotationdefaults\":{\"arrowcolor\":\"#2a3f5f\",\"arrowhead\":0,\"arrowwidth\":1},\"geo\":{\"bgcolor\":\"white\",\"landcolor\":\"#E5ECF6\",\"subunitcolor\":\"white\",\"showland\":true,\"showlakes\":true,\"lakecolor\":\"white\"},\"title\":{\"x\":0.05},\"mapbox\":{\"style\":\"light\"}}},\"xaxis\":{\"anchor\":\"y\",\"domain\":[0.0,1.0],\"title\":{\"text\":\"Country\"}},\"yaxis\":{\"anchor\":\"x\",\"domain\":[0.0,1.0],\"title\":{\"text\":\"sum of Gdp\"}},\"legend\":{\"tracegroupgap\":0},\"margin\":{\"t\":60},\"barmode\":\"relative\"},                        {\"responsive\": true}                    ).then(function(){\n",
       "                            \n",
       "var gd = document.getElementById('d059aae9-3f0f-450b-bec2-c7c64ea97f80');\n",
       "var x = new MutationObserver(function (mutations, observer) {{\n",
       "        var display = window.getComputedStyle(gd).display;\n",
       "        if (!display || display === 'none') {{\n",
       "            console.log([gd, 'removed!']);\n",
       "            Plotly.purge(gd);\n",
       "            observer.disconnect();\n",
       "        }}\n",
       "}});\n",
       "\n",
       "// Listen for the removal of the full notebook cells\n",
       "var notebookContainer = gd.closest('#notebook-container');\n",
       "if (notebookContainer) {{\n",
       "    x.observe(notebookContainer, {childList: true});\n",
       "}}\n",
       "\n",
       "// Listen for the clearing of the current output cell\n",
       "var outputEl = gd.closest('.output');\n",
       "if (outputEl) {{\n",
       "    x.observe(outputEl, {childList: true});\n",
       "}}\n",
       "\n",
       "                        })                };                });            </script>        </div>"
      ]
     },
     "metadata": {},
     "output_type": "display_data"
    }
   ],
   "source": [
    "import plotly.express as px\n",
    "fig = px.histogram(gdp, x=\"Country\",y=\"Gdp\")\n",
    "fig.show()"
   ]
  },
  {
   "cell_type": "code",
   "execution_count": 1418,
   "id": "03e427e7-b89e-403a-8e29-c1889de63460",
   "metadata": {},
   "outputs": [],
   "source": [
    "sf=new.sort_values(by=\"Skilled force\",ascending=True).head(10)"
   ]
  },
  {
   "cell_type": "code",
   "execution_count": 1419,
   "id": "a243adfc-e7a7-4088-9728-d3d86c68db2a",
   "metadata": {},
   "outputs": [
    {
     "data": {
      "text/html": [
       "<div>\n",
       "<style scoped>\n",
       "    .dataframe tbody tr th:only-of-type {\n",
       "        vertical-align: middle;\n",
       "    }\n",
       "\n",
       "    .dataframe tbody tr th {\n",
       "        vertical-align: top;\n",
       "    }\n",
       "\n",
       "    .dataframe thead th {\n",
       "        text-align: right;\n",
       "    }\n",
       "</style>\n",
       "<table border=\"1\" class=\"dataframe\">\n",
       "  <thead>\n",
       "    <tr style=\"text-align: right;\">\n",
       "      <th></th>\n",
       "      <th>Country</th>\n",
       "      <th>cost of living</th>\n",
       "      <th>cost index</th>\n",
       "      <th>cost of living.Monthly income (USD)</th>\n",
       "      <th>Purchasing Power Index</th>\n",
       "      <th>currency rate</th>\n",
       "      <th>Gdp</th>\n",
       "      <th>population</th>\n",
       "      <th>population.Migrants (net)</th>\n",
       "      <th>Skilled force</th>\n",
       "      <th>technology.2023 rank</th>\n",
       "      <th>Unemployment(%)</th>\n",
       "      <th>Inflation(%)</th>\n",
       "      <th>Monthly salary+Tax(USD)</th>\n",
       "      <th>Literacy rate(%)</th>\n",
       "    </tr>\n",
       "  </thead>\n",
       "  <tbody>\n",
       "    <tr>\n",
       "      <th>36</th>\n",
       "      <td>Luxembourg</td>\n",
       "      <td>16</td>\n",
       "      <td>97.5</td>\n",
       "      <td>7364</td>\n",
       "      <td>112.9</td>\n",
       "      <td>-1.095</td>\n",
       "      <td>128259</td>\n",
       "      <td>673036</td>\n",
       "      <td>5677</td>\n",
       "      <td>351903</td>\n",
       "      <td>18</td>\n",
       "      <td>5.99</td>\n",
       "      <td>1.00</td>\n",
       "      <td>5686.45</td>\n",
       "      <td>100.00</td>\n",
       "    </tr>\n",
       "    <tr>\n",
       "      <th>19</th>\n",
       "      <td>Estonia</td>\n",
       "      <td>37</td>\n",
       "      <td>71.0</td>\n",
       "      <td>2270</td>\n",
       "      <td>47.8</td>\n",
       "      <td>-3.006</td>\n",
       "      <td>29824</td>\n",
       "      <td>1360546</td>\n",
       "      <td>-7742</td>\n",
       "      <td>752419</td>\n",
       "      <td>29</td>\n",
       "      <td>8.06</td>\n",
       "      <td>4.10</td>\n",
       "      <td>1525.26</td>\n",
       "      <td>100.00</td>\n",
       "    </tr>\n",
       "    <tr>\n",
       "      <th>0</th>\n",
       "      <td>Albania</td>\n",
       "      <td>55</td>\n",
       "      <td>47.9</td>\n",
       "      <td>631</td>\n",
       "      <td>19.7</td>\n",
       "      <td>3.297</td>\n",
       "      <td>8368</td>\n",
       "      <td>2791765</td>\n",
       "      <td>-24472</td>\n",
       "      <td>1387831</td>\n",
       "      <td>88</td>\n",
       "      <td>11.00</td>\n",
       "      <td>1.90</td>\n",
       "      <td>634.13</td>\n",
       "      <td>99.50</td>\n",
       "    </tr>\n",
       "    <tr>\n",
       "      <th>15</th>\n",
       "      <td>Croatia</td>\n",
       "      <td>47</td>\n",
       "      <td>55.0</td>\n",
       "      <td>1723</td>\n",
       "      <td>46.8</td>\n",
       "      <td>2.831</td>\n",
       "      <td>21460</td>\n",
       "      <td>3875325</td>\n",
       "      <td>-5186</td>\n",
       "      <td>1744221</td>\n",
       "      <td>42</td>\n",
       "      <td>5.77</td>\n",
       "      <td>2.20</td>\n",
       "      <td>1361.96</td>\n",
       "      <td>99.80</td>\n",
       "    </tr>\n",
       "    <tr>\n",
       "      <th>22</th>\n",
       "      <td>Georgia</td>\n",
       "      <td>90</td>\n",
       "      <td>30.4</td>\n",
       "      <td>557</td>\n",
       "      <td>27.3</td>\n",
       "      <td>7.474</td>\n",
       "      <td>8120</td>\n",
       "      <td>3807670</td>\n",
       "      <td>1745</td>\n",
       "      <td>1853143</td>\n",
       "      <td>79</td>\n",
       "      <td>15.70</td>\n",
       "      <td>0.30</td>\n",
       "      <td>505.05</td>\n",
       "      <td>99.70</td>\n",
       "    </tr>\n",
       "    <tr>\n",
       "      <th>48</th>\n",
       "      <td>Qatar</td>\n",
       "      <td>31</td>\n",
       "      <td>76.9</td>\n",
       "      <td>5839</td>\n",
       "      <td>113.5</td>\n",
       "      <td>1.558</td>\n",
       "      <td>87480</td>\n",
       "      <td>3048423</td>\n",
       "      <td>46105</td>\n",
       "      <td>2035269</td>\n",
       "      <td>67</td>\n",
       "      <td>0.30</td>\n",
       "      <td>0.82</td>\n",
       "      <td>4086.40</td>\n",
       "      <td>98.70</td>\n",
       "    </tr>\n",
       "    <tr>\n",
       "      <th>35</th>\n",
       "      <td>Libya</td>\n",
       "      <td>104</td>\n",
       "      <td>24.4</td>\n",
       "      <td>631</td>\n",
       "      <td>38.7</td>\n",
       "      <td>10.156</td>\n",
       "      <td>7330</td>\n",
       "      <td>7381023</td>\n",
       "      <td>3448</td>\n",
       "      <td>2397855</td>\n",
       "      <td>122</td>\n",
       "      <td>19.60</td>\n",
       "      <td>2.70</td>\n",
       "      <td>326.36</td>\n",
       "      <td>91.12</td>\n",
       "    </tr>\n",
       "    <tr>\n",
       "      <th>14</th>\n",
       "      <td>Costa Rica</td>\n",
       "      <td>39</td>\n",
       "      <td>67.2</td>\n",
       "      <td>1154</td>\n",
       "      <td>25.7</td>\n",
       "      <td>5.112</td>\n",
       "      <td>16595</td>\n",
       "      <td>5129910</td>\n",
       "      <td>967</td>\n",
       "      <td>2407610</td>\n",
       "      <td>57</td>\n",
       "      <td>8.29</td>\n",
       "      <td>-0.79</td>\n",
       "      <td>964.67</td>\n",
       "      <td>99.50</td>\n",
       "    </tr>\n",
       "    <tr>\n",
       "      <th>29</th>\n",
       "      <td>Ireland</td>\n",
       "      <td>11</td>\n",
       "      <td>102.7</td>\n",
       "      <td>6699</td>\n",
       "      <td>97.4</td>\n",
       "      <td>-3.199</td>\n",
       "      <td>103685</td>\n",
       "      <td>5255017</td>\n",
       "      <td>39059</td>\n",
       "      <td>2766155</td>\n",
       "      <td>14</td>\n",
       "      <td>4.38</td>\n",
       "      <td>0.70</td>\n",
       "      <td>3073.35</td>\n",
       "      <td>99.00</td>\n",
       "    </tr>\n",
       "    <tr>\n",
       "      <th>18</th>\n",
       "      <td>El Salvador</td>\n",
       "      <td>54</td>\n",
       "      <td>49.0</td>\n",
       "      <td>410</td>\n",
       "      <td>12.5</td>\n",
       "      <td>3.498</td>\n",
       "      <td>5344</td>\n",
       "      <td>6338193</td>\n",
       "      <td>-23102</td>\n",
       "      <td>2870401</td>\n",
       "      <td>102</td>\n",
       "      <td>5.50</td>\n",
       "      <td>-0.07</td>\n",
       "      <td>501.07</td>\n",
       "      <td>98.30</td>\n",
       "    </tr>\n",
       "  </tbody>\n",
       "</table>\n",
       "</div>"
      ],
      "text/plain": [
       "        Country  cost of living  cost index  \\\n",
       "36   Luxembourg              16        97.5   \n",
       "19      Estonia              37        71.0   \n",
       "0       Albania              55        47.9   \n",
       "15      Croatia              47        55.0   \n",
       "22      Georgia              90        30.4   \n",
       "48        Qatar              31        76.9   \n",
       "35        Libya             104        24.4   \n",
       "14   Costa Rica              39        67.2   \n",
       "29      Ireland              11       102.7   \n",
       "18  El Salvador              54        49.0   \n",
       "\n",
       "    cost of living.Monthly income (USD)  Purchasing Power Index  \\\n",
       "36                                 7364                   112.9   \n",
       "19                                 2270                    47.8   \n",
       "0                                   631                    19.7   \n",
       "15                                 1723                    46.8   \n",
       "22                                  557                    27.3   \n",
       "48                                 5839                   113.5   \n",
       "35                                  631                    38.7   \n",
       "14                                 1154                    25.7   \n",
       "29                                 6699                    97.4   \n",
       "18                                  410                    12.5   \n",
       "\n",
       "    currency rate     Gdp  population  population.Migrants (net)  \\\n",
       "36         -1.095  128259      673036                       5677   \n",
       "19         -3.006   29824     1360546                      -7742   \n",
       "0           3.297    8368     2791765                     -24472   \n",
       "15          2.831   21460     3875325                      -5186   \n",
       "22          7.474    8120     3807670                       1745   \n",
       "48          1.558   87480     3048423                      46105   \n",
       "35         10.156    7330     7381023                       3448   \n",
       "14          5.112   16595     5129910                        967   \n",
       "29         -3.199  103685     5255017                      39059   \n",
       "18          3.498    5344     6338193                     -23102   \n",
       "\n",
       "    Skilled force  technology.2023 rank  Unemployment(%)  Inflation(%)  \\\n",
       "36         351903                    18             5.99          1.00   \n",
       "19         752419                    29             8.06          4.10   \n",
       "0         1387831                    88            11.00          1.90   \n",
       "15        1744221                    42             5.77          2.20   \n",
       "22        1853143                    79            15.70          0.30   \n",
       "48        2035269                    67             0.30          0.82   \n",
       "35        2397855                   122            19.60          2.70   \n",
       "14        2407610                    57             8.29         -0.79   \n",
       "29        2766155                    14             4.38          0.70   \n",
       "18        2870401                   102             5.50         -0.07   \n",
       "\n",
       "    Monthly salary+Tax(USD)  Literacy rate(%)  \n",
       "36                  5686.45            100.00  \n",
       "19                  1525.26            100.00  \n",
       "0                    634.13             99.50  \n",
       "15                  1361.96             99.80  \n",
       "22                   505.05             99.70  \n",
       "48                  4086.40             98.70  \n",
       "35                   326.36             91.12  \n",
       "14                   964.67             99.50  \n",
       "29                  3073.35             99.00  \n",
       "18                   501.07             98.30  "
      ]
     },
     "execution_count": 1419,
     "metadata": {},
     "output_type": "execute_result"
    }
   ],
   "source": [
    "sf"
   ]
  },
  {
   "cell_type": "code",
   "execution_count": 1420,
   "id": "410cb5cd-e170-4123-a1e7-839db7c5882c",
   "metadata": {},
   "outputs": [
    {
     "data": {
      "application/vnd.plotly.v1+json": {
       "config": {
        "plotlyServerURL": "https://plot.ly"
       },
       "data": [
        {
         "alignmentgroup": "True",
         "bingroup": "x",
         "histfunc": "sum",
         "hovertemplate": "Country=%{x}<br>sum of Skilled force=%{y}<extra></extra>",
         "legendgroup": "",
         "marker": {
          "color": "#636efa",
          "pattern": {
           "shape": ""
          }
         },
         "name": "",
         "offsetgroup": "",
         "orientation": "v",
         "showlegend": false,
         "type": "histogram",
         "x": [
          "Luxembourg",
          "Estonia",
          "Albania",
          "Croatia",
          "Georgia",
          "Qatar",
          "Libya",
          "Costa Rica",
          "Ireland",
          "El Salvador"
         ],
         "xaxis": "x",
         "y": [
          351903,
          752419,
          1387831,
          1744221,
          1853143,
          2035269,
          2397855,
          2407610,
          2766155,
          2870401
         ],
         "yaxis": "y"
        }
       ],
       "layout": {
        "autosize": true,
        "barmode": "relative",
        "legend": {
         "tracegroupgap": 0
        },
        "margin": {
         "t": 60
        },
        "template": {
         "data": {
          "bar": [
           {
            "error_x": {
             "color": "#2a3f5f"
            },
            "error_y": {
             "color": "#2a3f5f"
            },
            "marker": {
             "line": {
              "color": "#E5ECF6",
              "width": 0.5
             },
             "pattern": {
              "fillmode": "overlay",
              "size": 10,
              "solidity": 0.2
             }
            },
            "type": "bar"
           }
          ],
          "barpolar": [
           {
            "marker": {
             "line": {
              "color": "#E5ECF6",
              "width": 0.5
             },
             "pattern": {
              "fillmode": "overlay",
              "size": 10,
              "solidity": 0.2
             }
            },
            "type": "barpolar"
           }
          ],
          "carpet": [
           {
            "aaxis": {
             "endlinecolor": "#2a3f5f",
             "gridcolor": "white",
             "linecolor": "white",
             "minorgridcolor": "white",
             "startlinecolor": "#2a3f5f"
            },
            "baxis": {
             "endlinecolor": "#2a3f5f",
             "gridcolor": "white",
             "linecolor": "white",
             "minorgridcolor": "white",
             "startlinecolor": "#2a3f5f"
            },
            "type": "carpet"
           }
          ],
          "choropleth": [
           {
            "colorbar": {
             "outlinewidth": 0,
             "ticks": ""
            },
            "type": "choropleth"
           }
          ],
          "contour": [
           {
            "colorbar": {
             "outlinewidth": 0,
             "ticks": ""
            },
            "colorscale": [
             [
              0,
              "#0d0887"
             ],
             [
              0.1111111111111111,
              "#46039f"
             ],
             [
              0.2222222222222222,
              "#7201a8"
             ],
             [
              0.3333333333333333,
              "#9c179e"
             ],
             [
              0.4444444444444444,
              "#bd3786"
             ],
             [
              0.5555555555555556,
              "#d8576b"
             ],
             [
              0.6666666666666666,
              "#ed7953"
             ],
             [
              0.7777777777777778,
              "#fb9f3a"
             ],
             [
              0.8888888888888888,
              "#fdca26"
             ],
             [
              1,
              "#f0f921"
             ]
            ],
            "type": "contour"
           }
          ],
          "contourcarpet": [
           {
            "colorbar": {
             "outlinewidth": 0,
             "ticks": ""
            },
            "type": "contourcarpet"
           }
          ],
          "heatmap": [
           {
            "colorbar": {
             "outlinewidth": 0,
             "ticks": ""
            },
            "colorscale": [
             [
              0,
              "#0d0887"
             ],
             [
              0.1111111111111111,
              "#46039f"
             ],
             [
              0.2222222222222222,
              "#7201a8"
             ],
             [
              0.3333333333333333,
              "#9c179e"
             ],
             [
              0.4444444444444444,
              "#bd3786"
             ],
             [
              0.5555555555555556,
              "#d8576b"
             ],
             [
              0.6666666666666666,
              "#ed7953"
             ],
             [
              0.7777777777777778,
              "#fb9f3a"
             ],
             [
              0.8888888888888888,
              "#fdca26"
             ],
             [
              1,
              "#f0f921"
             ]
            ],
            "type": "heatmap"
           }
          ],
          "heatmapgl": [
           {
            "colorbar": {
             "outlinewidth": 0,
             "ticks": ""
            },
            "colorscale": [
             [
              0,
              "#0d0887"
             ],
             [
              0.1111111111111111,
              "#46039f"
             ],
             [
              0.2222222222222222,
              "#7201a8"
             ],
             [
              0.3333333333333333,
              "#9c179e"
             ],
             [
              0.4444444444444444,
              "#bd3786"
             ],
             [
              0.5555555555555556,
              "#d8576b"
             ],
             [
              0.6666666666666666,
              "#ed7953"
             ],
             [
              0.7777777777777778,
              "#fb9f3a"
             ],
             [
              0.8888888888888888,
              "#fdca26"
             ],
             [
              1,
              "#f0f921"
             ]
            ],
            "type": "heatmapgl"
           }
          ],
          "histogram": [
           {
            "marker": {
             "pattern": {
              "fillmode": "overlay",
              "size": 10,
              "solidity": 0.2
             }
            },
            "type": "histogram"
           }
          ],
          "histogram2d": [
           {
            "colorbar": {
             "outlinewidth": 0,
             "ticks": ""
            },
            "colorscale": [
             [
              0,
              "#0d0887"
             ],
             [
              0.1111111111111111,
              "#46039f"
             ],
             [
              0.2222222222222222,
              "#7201a8"
             ],
             [
              0.3333333333333333,
              "#9c179e"
             ],
             [
              0.4444444444444444,
              "#bd3786"
             ],
             [
              0.5555555555555556,
              "#d8576b"
             ],
             [
              0.6666666666666666,
              "#ed7953"
             ],
             [
              0.7777777777777778,
              "#fb9f3a"
             ],
             [
              0.8888888888888888,
              "#fdca26"
             ],
             [
              1,
              "#f0f921"
             ]
            ],
            "type": "histogram2d"
           }
          ],
          "histogram2dcontour": [
           {
            "colorbar": {
             "outlinewidth": 0,
             "ticks": ""
            },
            "colorscale": [
             [
              0,
              "#0d0887"
             ],
             [
              0.1111111111111111,
              "#46039f"
             ],
             [
              0.2222222222222222,
              "#7201a8"
             ],
             [
              0.3333333333333333,
              "#9c179e"
             ],
             [
              0.4444444444444444,
              "#bd3786"
             ],
             [
              0.5555555555555556,
              "#d8576b"
             ],
             [
              0.6666666666666666,
              "#ed7953"
             ],
             [
              0.7777777777777778,
              "#fb9f3a"
             ],
             [
              0.8888888888888888,
              "#fdca26"
             ],
             [
              1,
              "#f0f921"
             ]
            ],
            "type": "histogram2dcontour"
           }
          ],
          "mesh3d": [
           {
            "colorbar": {
             "outlinewidth": 0,
             "ticks": ""
            },
            "type": "mesh3d"
           }
          ],
          "parcoords": [
           {
            "line": {
             "colorbar": {
              "outlinewidth": 0,
              "ticks": ""
             }
            },
            "type": "parcoords"
           }
          ],
          "pie": [
           {
            "automargin": true,
            "type": "pie"
           }
          ],
          "scatter": [
           {
            "fillpattern": {
             "fillmode": "overlay",
             "size": 10,
             "solidity": 0.2
            },
            "type": "scatter"
           }
          ],
          "scatter3d": [
           {
            "line": {
             "colorbar": {
              "outlinewidth": 0,
              "ticks": ""
             }
            },
            "marker": {
             "colorbar": {
              "outlinewidth": 0,
              "ticks": ""
             }
            },
            "type": "scatter3d"
           }
          ],
          "scattercarpet": [
           {
            "marker": {
             "colorbar": {
              "outlinewidth": 0,
              "ticks": ""
             }
            },
            "type": "scattercarpet"
           }
          ],
          "scattergeo": [
           {
            "marker": {
             "colorbar": {
              "outlinewidth": 0,
              "ticks": ""
             }
            },
            "type": "scattergeo"
           }
          ],
          "scattergl": [
           {
            "marker": {
             "colorbar": {
              "outlinewidth": 0,
              "ticks": ""
             }
            },
            "type": "scattergl"
           }
          ],
          "scattermapbox": [
           {
            "marker": {
             "colorbar": {
              "outlinewidth": 0,
              "ticks": ""
             }
            },
            "type": "scattermapbox"
           }
          ],
          "scatterpolar": [
           {
            "marker": {
             "colorbar": {
              "outlinewidth": 0,
              "ticks": ""
             }
            },
            "type": "scatterpolar"
           }
          ],
          "scatterpolargl": [
           {
            "marker": {
             "colorbar": {
              "outlinewidth": 0,
              "ticks": ""
             }
            },
            "type": "scatterpolargl"
           }
          ],
          "scatterternary": [
           {
            "marker": {
             "colorbar": {
              "outlinewidth": 0,
              "ticks": ""
             }
            },
            "type": "scatterternary"
           }
          ],
          "surface": [
           {
            "colorbar": {
             "outlinewidth": 0,
             "ticks": ""
            },
            "colorscale": [
             [
              0,
              "#0d0887"
             ],
             [
              0.1111111111111111,
              "#46039f"
             ],
             [
              0.2222222222222222,
              "#7201a8"
             ],
             [
              0.3333333333333333,
              "#9c179e"
             ],
             [
              0.4444444444444444,
              "#bd3786"
             ],
             [
              0.5555555555555556,
              "#d8576b"
             ],
             [
              0.6666666666666666,
              "#ed7953"
             ],
             [
              0.7777777777777778,
              "#fb9f3a"
             ],
             [
              0.8888888888888888,
              "#fdca26"
             ],
             [
              1,
              "#f0f921"
             ]
            ],
            "type": "surface"
           }
          ],
          "table": [
           {
            "cells": {
             "fill": {
              "color": "#EBF0F8"
             },
             "line": {
              "color": "white"
             }
            },
            "header": {
             "fill": {
              "color": "#C8D4E3"
             },
             "line": {
              "color": "white"
             }
            },
            "type": "table"
           }
          ]
         },
         "layout": {
          "annotationdefaults": {
           "arrowcolor": "#2a3f5f",
           "arrowhead": 0,
           "arrowwidth": 1
          },
          "autotypenumbers": "strict",
          "coloraxis": {
           "colorbar": {
            "outlinewidth": 0,
            "ticks": ""
           }
          },
          "colorscale": {
           "diverging": [
            [
             0,
             "#8e0152"
            ],
            [
             0.1,
             "#c51b7d"
            ],
            [
             0.2,
             "#de77ae"
            ],
            [
             0.3,
             "#f1b6da"
            ],
            [
             0.4,
             "#fde0ef"
            ],
            [
             0.5,
             "#f7f7f7"
            ],
            [
             0.6,
             "#e6f5d0"
            ],
            [
             0.7,
             "#b8e186"
            ],
            [
             0.8,
             "#7fbc41"
            ],
            [
             0.9,
             "#4d9221"
            ],
            [
             1,
             "#276419"
            ]
           ],
           "sequential": [
            [
             0,
             "#0d0887"
            ],
            [
             0.1111111111111111,
             "#46039f"
            ],
            [
             0.2222222222222222,
             "#7201a8"
            ],
            [
             0.3333333333333333,
             "#9c179e"
            ],
            [
             0.4444444444444444,
             "#bd3786"
            ],
            [
             0.5555555555555556,
             "#d8576b"
            ],
            [
             0.6666666666666666,
             "#ed7953"
            ],
            [
             0.7777777777777778,
             "#fb9f3a"
            ],
            [
             0.8888888888888888,
             "#fdca26"
            ],
            [
             1,
             "#f0f921"
            ]
           ],
           "sequentialminus": [
            [
             0,
             "#0d0887"
            ],
            [
             0.1111111111111111,
             "#46039f"
            ],
            [
             0.2222222222222222,
             "#7201a8"
            ],
            [
             0.3333333333333333,
             "#9c179e"
            ],
            [
             0.4444444444444444,
             "#bd3786"
            ],
            [
             0.5555555555555556,
             "#d8576b"
            ],
            [
             0.6666666666666666,
             "#ed7953"
            ],
            [
             0.7777777777777778,
             "#fb9f3a"
            ],
            [
             0.8888888888888888,
             "#fdca26"
            ],
            [
             1,
             "#f0f921"
            ]
           ]
          },
          "colorway": [
           "#636efa",
           "#EF553B",
           "#00cc96",
           "#ab63fa",
           "#FFA15A",
           "#19d3f3",
           "#FF6692",
           "#B6E880",
           "#FF97FF",
           "#FECB52"
          ],
          "font": {
           "color": "#2a3f5f"
          },
          "geo": {
           "bgcolor": "white",
           "lakecolor": "white",
           "landcolor": "#E5ECF6",
           "showlakes": true,
           "showland": true,
           "subunitcolor": "white"
          },
          "hoverlabel": {
           "align": "left"
          },
          "hovermode": "closest",
          "mapbox": {
           "style": "light"
          },
          "paper_bgcolor": "white",
          "plot_bgcolor": "#E5ECF6",
          "polar": {
           "angularaxis": {
            "gridcolor": "white",
            "linecolor": "white",
            "ticks": ""
           },
           "bgcolor": "#E5ECF6",
           "radialaxis": {
            "gridcolor": "white",
            "linecolor": "white",
            "ticks": ""
           }
          },
          "scene": {
           "xaxis": {
            "backgroundcolor": "#E5ECF6",
            "gridcolor": "white",
            "gridwidth": 2,
            "linecolor": "white",
            "showbackground": true,
            "ticks": "",
            "zerolinecolor": "white"
           },
           "yaxis": {
            "backgroundcolor": "#E5ECF6",
            "gridcolor": "white",
            "gridwidth": 2,
            "linecolor": "white",
            "showbackground": true,
            "ticks": "",
            "zerolinecolor": "white"
           },
           "zaxis": {
            "backgroundcolor": "#E5ECF6",
            "gridcolor": "white",
            "gridwidth": 2,
            "linecolor": "white",
            "showbackground": true,
            "ticks": "",
            "zerolinecolor": "white"
           }
          },
          "shapedefaults": {
           "line": {
            "color": "#2a3f5f"
           }
          },
          "ternary": {
           "aaxis": {
            "gridcolor": "white",
            "linecolor": "white",
            "ticks": ""
           },
           "baxis": {
            "gridcolor": "white",
            "linecolor": "white",
            "ticks": ""
           },
           "bgcolor": "#E5ECF6",
           "caxis": {
            "gridcolor": "white",
            "linecolor": "white",
            "ticks": ""
           }
          },
          "title": {
           "x": 0.05
          },
          "xaxis": {
           "automargin": true,
           "gridcolor": "white",
           "linecolor": "white",
           "ticks": "",
           "title": {
            "standoff": 15
           },
           "zerolinecolor": "white",
           "zerolinewidth": 2
          },
          "yaxis": {
           "automargin": true,
           "gridcolor": "white",
           "linecolor": "white",
           "ticks": "",
           "title": {
            "standoff": 15
           },
           "zerolinecolor": "white",
           "zerolinewidth": 2
          }
         }
        },
        "xaxis": {
         "anchor": "y",
         "autorange": true,
         "domain": [
          0,
          1
         ],
         "range": [
          -0.5,
          9.5
         ],
         "title": {
          "text": "Country"
         },
         "type": "category"
        },
        "yaxis": {
         "anchor": "x",
         "autorange": true,
         "domain": [
          0,
          1
         ],
         "range": [
          0,
          3021474.736842105
         ],
         "title": {
          "text": "sum of Skilled force"
         },
         "type": "linear"
        }
       }
      },
      "text/html": [
       "<div>                            <div id=\"68064160-af8c-4e01-a106-b7b92fd95961\" class=\"plotly-graph-div\" style=\"height:525px; width:100%;\"></div>            <script type=\"text/javascript\">                require([\"plotly\"], function(Plotly) {                    window.PLOTLYENV=window.PLOTLYENV || {};                                    if (document.getElementById(\"68064160-af8c-4e01-a106-b7b92fd95961\")) {                    Plotly.newPlot(                        \"68064160-af8c-4e01-a106-b7b92fd95961\",                        [{\"alignmentgroup\":\"True\",\"bingroup\":\"x\",\"histfunc\":\"sum\",\"hovertemplate\":\"Country=%{x}\\u003cbr\\u003esum of Skilled force=%{y}\\u003cextra\\u003e\\u003c\\u002fextra\\u003e\",\"legendgroup\":\"\",\"marker\":{\"color\":\"#636efa\",\"pattern\":{\"shape\":\"\"}},\"name\":\"\",\"offsetgroup\":\"\",\"orientation\":\"v\",\"showlegend\":false,\"x\":[\"Luxembourg\",\"Estonia\",\"Albania\",\"Croatia\",\"Georgia\",\"Qatar\",\"Libya\",\"Costa Rica\",\"Ireland\",\"El Salvador\"],\"xaxis\":\"x\",\"y\":[351903,752419,1387831,1744221,1853143,2035269,2397855,2407610,2766155,2870401],\"yaxis\":\"y\",\"type\":\"histogram\"}],                        {\"template\":{\"data\":{\"histogram2dcontour\":[{\"type\":\"histogram2dcontour\",\"colorbar\":{\"outlinewidth\":0,\"ticks\":\"\"},\"colorscale\":[[0.0,\"#0d0887\"],[0.1111111111111111,\"#46039f\"],[0.2222222222222222,\"#7201a8\"],[0.3333333333333333,\"#9c179e\"],[0.4444444444444444,\"#bd3786\"],[0.5555555555555556,\"#d8576b\"],[0.6666666666666666,\"#ed7953\"],[0.7777777777777778,\"#fb9f3a\"],[0.8888888888888888,\"#fdca26\"],[1.0,\"#f0f921\"]]}],\"choropleth\":[{\"type\":\"choropleth\",\"colorbar\":{\"outlinewidth\":0,\"ticks\":\"\"}}],\"histogram2d\":[{\"type\":\"histogram2d\",\"colorbar\":{\"outlinewidth\":0,\"ticks\":\"\"},\"colorscale\":[[0.0,\"#0d0887\"],[0.1111111111111111,\"#46039f\"],[0.2222222222222222,\"#7201a8\"],[0.3333333333333333,\"#9c179e\"],[0.4444444444444444,\"#bd3786\"],[0.5555555555555556,\"#d8576b\"],[0.6666666666666666,\"#ed7953\"],[0.7777777777777778,\"#fb9f3a\"],[0.8888888888888888,\"#fdca26\"],[1.0,\"#f0f921\"]]}],\"heatmap\":[{\"type\":\"heatmap\",\"colorbar\":{\"outlinewidth\":0,\"ticks\":\"\"},\"colorscale\":[[0.0,\"#0d0887\"],[0.1111111111111111,\"#46039f\"],[0.2222222222222222,\"#7201a8\"],[0.3333333333333333,\"#9c179e\"],[0.4444444444444444,\"#bd3786\"],[0.5555555555555556,\"#d8576b\"],[0.6666666666666666,\"#ed7953\"],[0.7777777777777778,\"#fb9f3a\"],[0.8888888888888888,\"#fdca26\"],[1.0,\"#f0f921\"]]}],\"heatmapgl\":[{\"type\":\"heatmapgl\",\"colorbar\":{\"outlinewidth\":0,\"ticks\":\"\"},\"colorscale\":[[0.0,\"#0d0887\"],[0.1111111111111111,\"#46039f\"],[0.2222222222222222,\"#7201a8\"],[0.3333333333333333,\"#9c179e\"],[0.4444444444444444,\"#bd3786\"],[0.5555555555555556,\"#d8576b\"],[0.6666666666666666,\"#ed7953\"],[0.7777777777777778,\"#fb9f3a\"],[0.8888888888888888,\"#fdca26\"],[1.0,\"#f0f921\"]]}],\"contourcarpet\":[{\"type\":\"contourcarpet\",\"colorbar\":{\"outlinewidth\":0,\"ticks\":\"\"}}],\"contour\":[{\"type\":\"contour\",\"colorbar\":{\"outlinewidth\":0,\"ticks\":\"\"},\"colorscale\":[[0.0,\"#0d0887\"],[0.1111111111111111,\"#46039f\"],[0.2222222222222222,\"#7201a8\"],[0.3333333333333333,\"#9c179e\"],[0.4444444444444444,\"#bd3786\"],[0.5555555555555556,\"#d8576b\"],[0.6666666666666666,\"#ed7953\"],[0.7777777777777778,\"#fb9f3a\"],[0.8888888888888888,\"#fdca26\"],[1.0,\"#f0f921\"]]}],\"surface\":[{\"type\":\"surface\",\"colorbar\":{\"outlinewidth\":0,\"ticks\":\"\"},\"colorscale\":[[0.0,\"#0d0887\"],[0.1111111111111111,\"#46039f\"],[0.2222222222222222,\"#7201a8\"],[0.3333333333333333,\"#9c179e\"],[0.4444444444444444,\"#bd3786\"],[0.5555555555555556,\"#d8576b\"],[0.6666666666666666,\"#ed7953\"],[0.7777777777777778,\"#fb9f3a\"],[0.8888888888888888,\"#fdca26\"],[1.0,\"#f0f921\"]]}],\"mesh3d\":[{\"type\":\"mesh3d\",\"colorbar\":{\"outlinewidth\":0,\"ticks\":\"\"}}],\"scatter\":[{\"fillpattern\":{\"fillmode\":\"overlay\",\"size\":10,\"solidity\":0.2},\"type\":\"scatter\"}],\"parcoords\":[{\"type\":\"parcoords\",\"line\":{\"colorbar\":{\"outlinewidth\":0,\"ticks\":\"\"}}}],\"scatterpolargl\":[{\"type\":\"scatterpolargl\",\"marker\":{\"colorbar\":{\"outlinewidth\":0,\"ticks\":\"\"}}}],\"bar\":[{\"error_x\":{\"color\":\"#2a3f5f\"},\"error_y\":{\"color\":\"#2a3f5f\"},\"marker\":{\"line\":{\"color\":\"#E5ECF6\",\"width\":0.5},\"pattern\":{\"fillmode\":\"overlay\",\"size\":10,\"solidity\":0.2}},\"type\":\"bar\"}],\"scattergeo\":[{\"type\":\"scattergeo\",\"marker\":{\"colorbar\":{\"outlinewidth\":0,\"ticks\":\"\"}}}],\"scatterpolar\":[{\"type\":\"scatterpolar\",\"marker\":{\"colorbar\":{\"outlinewidth\":0,\"ticks\":\"\"}}}],\"histogram\":[{\"marker\":{\"pattern\":{\"fillmode\":\"overlay\",\"size\":10,\"solidity\":0.2}},\"type\":\"histogram\"}],\"scattergl\":[{\"type\":\"scattergl\",\"marker\":{\"colorbar\":{\"outlinewidth\":0,\"ticks\":\"\"}}}],\"scatter3d\":[{\"type\":\"scatter3d\",\"line\":{\"colorbar\":{\"outlinewidth\":0,\"ticks\":\"\"}},\"marker\":{\"colorbar\":{\"outlinewidth\":0,\"ticks\":\"\"}}}],\"scattermapbox\":[{\"type\":\"scattermapbox\",\"marker\":{\"colorbar\":{\"outlinewidth\":0,\"ticks\":\"\"}}}],\"scatterternary\":[{\"type\":\"scatterternary\",\"marker\":{\"colorbar\":{\"outlinewidth\":0,\"ticks\":\"\"}}}],\"scattercarpet\":[{\"type\":\"scattercarpet\",\"marker\":{\"colorbar\":{\"outlinewidth\":0,\"ticks\":\"\"}}}],\"carpet\":[{\"aaxis\":{\"endlinecolor\":\"#2a3f5f\",\"gridcolor\":\"white\",\"linecolor\":\"white\",\"minorgridcolor\":\"white\",\"startlinecolor\":\"#2a3f5f\"},\"baxis\":{\"endlinecolor\":\"#2a3f5f\",\"gridcolor\":\"white\",\"linecolor\":\"white\",\"minorgridcolor\":\"white\",\"startlinecolor\":\"#2a3f5f\"},\"type\":\"carpet\"}],\"table\":[{\"cells\":{\"fill\":{\"color\":\"#EBF0F8\"},\"line\":{\"color\":\"white\"}},\"header\":{\"fill\":{\"color\":\"#C8D4E3\"},\"line\":{\"color\":\"white\"}},\"type\":\"table\"}],\"barpolar\":[{\"marker\":{\"line\":{\"color\":\"#E5ECF6\",\"width\":0.5},\"pattern\":{\"fillmode\":\"overlay\",\"size\":10,\"solidity\":0.2}},\"type\":\"barpolar\"}],\"pie\":[{\"automargin\":true,\"type\":\"pie\"}]},\"layout\":{\"autotypenumbers\":\"strict\",\"colorway\":[\"#636efa\",\"#EF553B\",\"#00cc96\",\"#ab63fa\",\"#FFA15A\",\"#19d3f3\",\"#FF6692\",\"#B6E880\",\"#FF97FF\",\"#FECB52\"],\"font\":{\"color\":\"#2a3f5f\"},\"hovermode\":\"closest\",\"hoverlabel\":{\"align\":\"left\"},\"paper_bgcolor\":\"white\",\"plot_bgcolor\":\"#E5ECF6\",\"polar\":{\"bgcolor\":\"#E5ECF6\",\"angularaxis\":{\"gridcolor\":\"white\",\"linecolor\":\"white\",\"ticks\":\"\"},\"radialaxis\":{\"gridcolor\":\"white\",\"linecolor\":\"white\",\"ticks\":\"\"}},\"ternary\":{\"bgcolor\":\"#E5ECF6\",\"aaxis\":{\"gridcolor\":\"white\",\"linecolor\":\"white\",\"ticks\":\"\"},\"baxis\":{\"gridcolor\":\"white\",\"linecolor\":\"white\",\"ticks\":\"\"},\"caxis\":{\"gridcolor\":\"white\",\"linecolor\":\"white\",\"ticks\":\"\"}},\"coloraxis\":{\"colorbar\":{\"outlinewidth\":0,\"ticks\":\"\"}},\"colorscale\":{\"sequential\":[[0.0,\"#0d0887\"],[0.1111111111111111,\"#46039f\"],[0.2222222222222222,\"#7201a8\"],[0.3333333333333333,\"#9c179e\"],[0.4444444444444444,\"#bd3786\"],[0.5555555555555556,\"#d8576b\"],[0.6666666666666666,\"#ed7953\"],[0.7777777777777778,\"#fb9f3a\"],[0.8888888888888888,\"#fdca26\"],[1.0,\"#f0f921\"]],\"sequentialminus\":[[0.0,\"#0d0887\"],[0.1111111111111111,\"#46039f\"],[0.2222222222222222,\"#7201a8\"],[0.3333333333333333,\"#9c179e\"],[0.4444444444444444,\"#bd3786\"],[0.5555555555555556,\"#d8576b\"],[0.6666666666666666,\"#ed7953\"],[0.7777777777777778,\"#fb9f3a\"],[0.8888888888888888,\"#fdca26\"],[1.0,\"#f0f921\"]],\"diverging\":[[0,\"#8e0152\"],[0.1,\"#c51b7d\"],[0.2,\"#de77ae\"],[0.3,\"#f1b6da\"],[0.4,\"#fde0ef\"],[0.5,\"#f7f7f7\"],[0.6,\"#e6f5d0\"],[0.7,\"#b8e186\"],[0.8,\"#7fbc41\"],[0.9,\"#4d9221\"],[1,\"#276419\"]]},\"xaxis\":{\"gridcolor\":\"white\",\"linecolor\":\"white\",\"ticks\":\"\",\"title\":{\"standoff\":15},\"zerolinecolor\":\"white\",\"automargin\":true,\"zerolinewidth\":2},\"yaxis\":{\"gridcolor\":\"white\",\"linecolor\":\"white\",\"ticks\":\"\",\"title\":{\"standoff\":15},\"zerolinecolor\":\"white\",\"automargin\":true,\"zerolinewidth\":2},\"scene\":{\"xaxis\":{\"backgroundcolor\":\"#E5ECF6\",\"gridcolor\":\"white\",\"linecolor\":\"white\",\"showbackground\":true,\"ticks\":\"\",\"zerolinecolor\":\"white\",\"gridwidth\":2},\"yaxis\":{\"backgroundcolor\":\"#E5ECF6\",\"gridcolor\":\"white\",\"linecolor\":\"white\",\"showbackground\":true,\"ticks\":\"\",\"zerolinecolor\":\"white\",\"gridwidth\":2},\"zaxis\":{\"backgroundcolor\":\"#E5ECF6\",\"gridcolor\":\"white\",\"linecolor\":\"white\",\"showbackground\":true,\"ticks\":\"\",\"zerolinecolor\":\"white\",\"gridwidth\":2}},\"shapedefaults\":{\"line\":{\"color\":\"#2a3f5f\"}},\"annotationdefaults\":{\"arrowcolor\":\"#2a3f5f\",\"arrowhead\":0,\"arrowwidth\":1},\"geo\":{\"bgcolor\":\"white\",\"landcolor\":\"#E5ECF6\",\"subunitcolor\":\"white\",\"showland\":true,\"showlakes\":true,\"lakecolor\":\"white\"},\"title\":{\"x\":0.05},\"mapbox\":{\"style\":\"light\"}}},\"xaxis\":{\"anchor\":\"y\",\"domain\":[0.0,1.0],\"title\":{\"text\":\"Country\"}},\"yaxis\":{\"anchor\":\"x\",\"domain\":[0.0,1.0],\"title\":{\"text\":\"sum of Skilled force\"}},\"legend\":{\"tracegroupgap\":0},\"margin\":{\"t\":60},\"barmode\":\"relative\"},                        {\"responsive\": true}                    ).then(function(){\n",
       "                            \n",
       "var gd = document.getElementById('68064160-af8c-4e01-a106-b7b92fd95961');\n",
       "var x = new MutationObserver(function (mutations, observer) {{\n",
       "        var display = window.getComputedStyle(gd).display;\n",
       "        if (!display || display === 'none') {{\n",
       "            console.log([gd, 'removed!']);\n",
       "            Plotly.purge(gd);\n",
       "            observer.disconnect();\n",
       "        }}\n",
       "}});\n",
       "\n",
       "// Listen for the removal of the full notebook cells\n",
       "var notebookContainer = gd.closest('#notebook-container');\n",
       "if (notebookContainer) {{\n",
       "    x.observe(notebookContainer, {childList: true});\n",
       "}}\n",
       "\n",
       "// Listen for the clearing of the current output cell\n",
       "var outputEl = gd.closest('.output');\n",
       "if (outputEl) {{\n",
       "    x.observe(outputEl, {childList: true});\n",
       "}}\n",
       "\n",
       "                        })                };                });            </script>        </div>"
      ]
     },
     "metadata": {},
     "output_type": "display_data"
    }
   ],
   "source": [
    "import plotly.express as px\n",
    "fig = px.histogram(sf, x=\"Country\",y=\"Skilled force\")\n",
    "fig.show()"
   ]
  },
  {
   "cell_type": "code",
   "execution_count": 1421,
   "id": "8307a85e-a7be-418e-a38f-44dbd28809a5",
   "metadata": {
    "jupyter": {
     "source_hidden": true
    }
   },
   "outputs": [],
   "source": [
    "tec=new.sort_values(by=\"technology.2023 rank\",ascending=True).head(10)"
   ]
  },
  {
   "cell_type": "code",
   "execution_count": 1422,
   "id": "90e6d615-48ea-4387-bb7f-2a707e40c302",
   "metadata": {},
   "outputs": [
    {
     "data": {
      "text/html": [
       "<div>\n",
       "<style scoped>\n",
       "    .dataframe tbody tr th:only-of-type {\n",
       "        vertical-align: middle;\n",
       "    }\n",
       "\n",
       "    .dataframe tbody tr th {\n",
       "        vertical-align: top;\n",
       "    }\n",
       "\n",
       "    .dataframe thead th {\n",
       "        text-align: right;\n",
       "    }\n",
       "</style>\n",
       "<table border=\"1\" class=\"dataframe\">\n",
       "  <thead>\n",
       "    <tr style=\"text-align: right;\">\n",
       "      <th></th>\n",
       "      <th>Country</th>\n",
       "      <th>cost of living</th>\n",
       "      <th>cost index</th>\n",
       "      <th>cost of living.Monthly income (USD)</th>\n",
       "      <th>Purchasing Power Index</th>\n",
       "      <th>currency rate</th>\n",
       "      <th>Gdp</th>\n",
       "      <th>population</th>\n",
       "      <th>population.Migrants (net)</th>\n",
       "      <th>Skilled force</th>\n",
       "      <th>technology.2023 rank</th>\n",
       "      <th>Unemployment(%)</th>\n",
       "      <th>Inflation(%)</th>\n",
       "      <th>Monthly salary+Tax(USD)</th>\n",
       "      <th>Literacy rate(%)</th>\n",
       "    </tr>\n",
       "  </thead>\n",
       "  <tbody>\n",
       "    <tr>\n",
       "      <th>56</th>\n",
       "      <td>Sweden</td>\n",
       "      <td>26</td>\n",
       "      <td>82.4</td>\n",
       "      <td>5138</td>\n",
       "      <td>93.2</td>\n",
       "      <td>-0.196</td>\n",
       "      <td>56305</td>\n",
       "      <td>10606999</td>\n",
       "      <td>50115</td>\n",
       "      <td>5825253</td>\n",
       "      <td>2</td>\n",
       "      <td>8.36</td>\n",
       "      <td>1.6</td>\n",
       "      <td>2807.55</td>\n",
       "      <td>99.0</td>\n",
       "    </tr>\n",
       "    <tr>\n",
       "      <th>52</th>\n",
       "      <td>Singapore</td>\n",
       "      <td>30</td>\n",
       "      <td>78.0</td>\n",
       "      <td>5883</td>\n",
       "      <td>112.7</td>\n",
       "      <td>1.075</td>\n",
       "      <td>84734</td>\n",
       "      <td>5832387</td>\n",
       "      <td>20011</td>\n",
       "      <td>3619025</td>\n",
       "      <td>3</td>\n",
       "      <td>1.90</td>\n",
       "      <td>2.0</td>\n",
       "      <td>4293.54</td>\n",
       "      <td>99.9</td>\n",
       "    </tr>\n",
       "    <tr>\n",
       "      <th>23</th>\n",
       "      <td>Germany</td>\n",
       "      <td>29</td>\n",
       "      <td>79.5</td>\n",
       "      <td>4498</td>\n",
       "      <td>84.6</td>\n",
       "      <td>-0.305</td>\n",
       "      <td>52746</td>\n",
       "      <td>84552242</td>\n",
       "      <td>36954</td>\n",
       "      <td>44783712</td>\n",
       "      <td>7</td>\n",
       "      <td>3.29</td>\n",
       "      <td>2.0</td>\n",
       "      <td>2984.93</td>\n",
       "      <td>99.0</td>\n",
       "    </tr>\n",
       "    <tr>\n",
       "      <th>20</th>\n",
       "      <td>Finland</td>\n",
       "      <td>22</td>\n",
       "      <td>90.2</td>\n",
       "      <td>4449</td>\n",
       "      <td>73.7</td>\n",
       "      <td>-0.957</td>\n",
       "      <td>53756</td>\n",
       "      <td>5617310</td>\n",
       "      <td>26894</td>\n",
       "      <td>2879817</td>\n",
       "      <td>8</td>\n",
       "      <td>7.60</td>\n",
       "      <td>0.8</td>\n",
       "      <td>2818.03</td>\n",
       "      <td>99.0</td>\n",
       "    </tr>\n",
       "    <tr>\n",
       "      <th>7</th>\n",
       "      <td>Belgium</td>\n",
       "      <td>25</td>\n",
       "      <td>83.7</td>\n",
       "      <td>4544</td>\n",
       "      <td>81.1</td>\n",
       "      <td>1.461</td>\n",
       "      <td>53475</td>\n",
       "      <td>11738763</td>\n",
       "      <td>36243</td>\n",
       "      <td>5432007</td>\n",
       "      <td>10</td>\n",
       "      <td>5.51</td>\n",
       "      <td>3.2</td>\n",
       "      <td>2563.22</td>\n",
       "      <td>99.0</td>\n",
       "    </tr>\n",
       "    <tr>\n",
       "      <th>10</th>\n",
       "      <td>Canada</td>\n",
       "      <td>21</td>\n",
       "      <td>90.7</td>\n",
       "      <td>4494</td>\n",
       "      <td>74.1</td>\n",
       "      <td>1.066</td>\n",
       "      <td>53372</td>\n",
       "      <td>39742430</td>\n",
       "      <td>368599</td>\n",
       "      <td>22110473</td>\n",
       "      <td>11</td>\n",
       "      <td>6.32</td>\n",
       "      <td>1.6</td>\n",
       "      <td>2818.53</td>\n",
       "      <td>99.0</td>\n",
       "    </tr>\n",
       "    <tr>\n",
       "      <th>2</th>\n",
       "      <td>Australia</td>\n",
       "      <td>17</td>\n",
       "      <td>96.4</td>\n",
       "      <td>5262</td>\n",
       "      <td>81.6</td>\n",
       "      <td>2.063</td>\n",
       "      <td>64712</td>\n",
       "      <td>26713205</td>\n",
       "      <td>138510</td>\n",
       "      <td>14501414</td>\n",
       "      <td>12</td>\n",
       "      <td>4.21</td>\n",
       "      <td>2.8</td>\n",
       "      <td>3678.75</td>\n",
       "      <td>99.0</td>\n",
       "    </tr>\n",
       "    <tr>\n",
       "      <th>43</th>\n",
       "      <td>Norway</td>\n",
       "      <td>20</td>\n",
       "      <td>90.8</td>\n",
       "      <td>8538</td>\n",
       "      <td>140.6</td>\n",
       "      <td>0.514</td>\n",
       "      <td>87962</td>\n",
       "      <td>5576660</td>\n",
       "      <td>44356</td>\n",
       "      <td>3009339</td>\n",
       "      <td>13</td>\n",
       "      <td>3.80</td>\n",
       "      <td>2.6</td>\n",
       "      <td>3286.54</td>\n",
       "      <td>100.0</td>\n",
       "    </tr>\n",
       "    <tr>\n",
       "      <th>29</th>\n",
       "      <td>Ireland</td>\n",
       "      <td>11</td>\n",
       "      <td>102.7</td>\n",
       "      <td>6699</td>\n",
       "      <td>97.4</td>\n",
       "      <td>-3.199</td>\n",
       "      <td>103685</td>\n",
       "      <td>5255017</td>\n",
       "      <td>39059</td>\n",
       "      <td>2766155</td>\n",
       "      <td>14</td>\n",
       "      <td>4.38</td>\n",
       "      <td>0.7</td>\n",
       "      <td>3073.35</td>\n",
       "      <td>99.0</td>\n",
       "    </tr>\n",
       "    <tr>\n",
       "      <th>21</th>\n",
       "      <td>France</td>\n",
       "      <td>28</td>\n",
       "      <td>79.8</td>\n",
       "      <td>3756</td>\n",
       "      <td>70.4</td>\n",
       "      <td>0.869</td>\n",
       "      <td>44461</td>\n",
       "      <td>66548530</td>\n",
       "      <td>90527</td>\n",
       "      <td>31825317</td>\n",
       "      <td>15</td>\n",
       "      <td>7.36</td>\n",
       "      <td>1.2</td>\n",
       "      <td>2486.51</td>\n",
       "      <td>99.0</td>\n",
       "    </tr>\n",
       "  </tbody>\n",
       "</table>\n",
       "</div>"
      ],
      "text/plain": [
       "      Country  cost of living  cost index  \\\n",
       "56     Sweden              26        82.4   \n",
       "52  Singapore              30        78.0   \n",
       "23    Germany              29        79.5   \n",
       "20    Finland              22        90.2   \n",
       "7     Belgium              25        83.7   \n",
       "10     Canada              21        90.7   \n",
       "2   Australia              17        96.4   \n",
       "43     Norway              20        90.8   \n",
       "29    Ireland              11       102.7   \n",
       "21     France              28        79.8   \n",
       "\n",
       "    cost of living.Monthly income (USD)  Purchasing Power Index  \\\n",
       "56                                 5138                    93.2   \n",
       "52                                 5883                   112.7   \n",
       "23                                 4498                    84.6   \n",
       "20                                 4449                    73.7   \n",
       "7                                  4544                    81.1   \n",
       "10                                 4494                    74.1   \n",
       "2                                  5262                    81.6   \n",
       "43                                 8538                   140.6   \n",
       "29                                 6699                    97.4   \n",
       "21                                 3756                    70.4   \n",
       "\n",
       "    currency rate     Gdp  population  population.Migrants (net)  \\\n",
       "56         -0.196   56305    10606999                      50115   \n",
       "52          1.075   84734     5832387                      20011   \n",
       "23         -0.305   52746    84552242                      36954   \n",
       "20         -0.957   53756     5617310                      26894   \n",
       "7           1.461   53475    11738763                      36243   \n",
       "10          1.066   53372    39742430                     368599   \n",
       "2           2.063   64712    26713205                     138510   \n",
       "43          0.514   87962     5576660                      44356   \n",
       "29         -3.199  103685     5255017                      39059   \n",
       "21          0.869   44461    66548530                      90527   \n",
       "\n",
       "    Skilled force  technology.2023 rank  Unemployment(%)  Inflation(%)  \\\n",
       "56        5825253                     2             8.36           1.6   \n",
       "52        3619025                     3             1.90           2.0   \n",
       "23       44783712                     7             3.29           2.0   \n",
       "20        2879817                     8             7.60           0.8   \n",
       "7         5432007                    10             5.51           3.2   \n",
       "10       22110473                    11             6.32           1.6   \n",
       "2        14501414                    12             4.21           2.8   \n",
       "43        3009339                    13             3.80           2.6   \n",
       "29        2766155                    14             4.38           0.7   \n",
       "21       31825317                    15             7.36           1.2   \n",
       "\n",
       "    Monthly salary+Tax(USD)  Literacy rate(%)  \n",
       "56                  2807.55              99.0  \n",
       "52                  4293.54              99.9  \n",
       "23                  2984.93              99.0  \n",
       "20                  2818.03              99.0  \n",
       "7                   2563.22              99.0  \n",
       "10                  2818.53              99.0  \n",
       "2                   3678.75              99.0  \n",
       "43                  3286.54             100.0  \n",
       "29                  3073.35              99.0  \n",
       "21                  2486.51              99.0  "
      ]
     },
     "execution_count": 1422,
     "metadata": {},
     "output_type": "execute_result"
    }
   ],
   "source": [
    "tec"
   ]
  },
  {
   "cell_type": "code",
   "execution_count": 1423,
   "id": "00697cc5-394b-47df-b7cd-9d6403ca333f",
   "metadata": {},
   "outputs": [
    {
     "data": {
      "application/vnd.plotly.v1+json": {
       "config": {
        "plotlyServerURL": "https://plot.ly"
       },
       "data": [
        {
         "alignmentgroup": "True",
         "bingroup": "x",
         "histfunc": "sum",
         "hovertemplate": "Country=%{x}<br>sum of technology.2023 rank=%{y}<extra></extra>",
         "legendgroup": "",
         "marker": {
          "color": "#636efa",
          "pattern": {
           "shape": ""
          }
         },
         "name": "",
         "offsetgroup": "",
         "orientation": "v",
         "showlegend": false,
         "type": "histogram",
         "x": [
          "Sweden",
          "Singapore",
          "Germany",
          "Finland",
          "Belgium",
          "Canada",
          "Australia",
          "Norway",
          "Ireland",
          "France"
         ],
         "xaxis": "x",
         "y": [
          2,
          3,
          7,
          8,
          10,
          11,
          12,
          13,
          14,
          15
         ],
         "yaxis": "y"
        }
       ],
       "layout": {
        "autosize": true,
        "barmode": "relative",
        "legend": {
         "tracegroupgap": 0
        },
        "margin": {
         "t": 60
        },
        "template": {
         "data": {
          "bar": [
           {
            "error_x": {
             "color": "#2a3f5f"
            },
            "error_y": {
             "color": "#2a3f5f"
            },
            "marker": {
             "line": {
              "color": "#E5ECF6",
              "width": 0.5
             },
             "pattern": {
              "fillmode": "overlay",
              "size": 10,
              "solidity": 0.2
             }
            },
            "type": "bar"
           }
          ],
          "barpolar": [
           {
            "marker": {
             "line": {
              "color": "#E5ECF6",
              "width": 0.5
             },
             "pattern": {
              "fillmode": "overlay",
              "size": 10,
              "solidity": 0.2
             }
            },
            "type": "barpolar"
           }
          ],
          "carpet": [
           {
            "aaxis": {
             "endlinecolor": "#2a3f5f",
             "gridcolor": "white",
             "linecolor": "white",
             "minorgridcolor": "white",
             "startlinecolor": "#2a3f5f"
            },
            "baxis": {
             "endlinecolor": "#2a3f5f",
             "gridcolor": "white",
             "linecolor": "white",
             "minorgridcolor": "white",
             "startlinecolor": "#2a3f5f"
            },
            "type": "carpet"
           }
          ],
          "choropleth": [
           {
            "colorbar": {
             "outlinewidth": 0,
             "ticks": ""
            },
            "type": "choropleth"
           }
          ],
          "contour": [
           {
            "colorbar": {
             "outlinewidth": 0,
             "ticks": ""
            },
            "colorscale": [
             [
              0,
              "#0d0887"
             ],
             [
              0.1111111111111111,
              "#46039f"
             ],
             [
              0.2222222222222222,
              "#7201a8"
             ],
             [
              0.3333333333333333,
              "#9c179e"
             ],
             [
              0.4444444444444444,
              "#bd3786"
             ],
             [
              0.5555555555555556,
              "#d8576b"
             ],
             [
              0.6666666666666666,
              "#ed7953"
             ],
             [
              0.7777777777777778,
              "#fb9f3a"
             ],
             [
              0.8888888888888888,
              "#fdca26"
             ],
             [
              1,
              "#f0f921"
             ]
            ],
            "type": "contour"
           }
          ],
          "contourcarpet": [
           {
            "colorbar": {
             "outlinewidth": 0,
             "ticks": ""
            },
            "type": "contourcarpet"
           }
          ],
          "heatmap": [
           {
            "colorbar": {
             "outlinewidth": 0,
             "ticks": ""
            },
            "colorscale": [
             [
              0,
              "#0d0887"
             ],
             [
              0.1111111111111111,
              "#46039f"
             ],
             [
              0.2222222222222222,
              "#7201a8"
             ],
             [
              0.3333333333333333,
              "#9c179e"
             ],
             [
              0.4444444444444444,
              "#bd3786"
             ],
             [
              0.5555555555555556,
              "#d8576b"
             ],
             [
              0.6666666666666666,
              "#ed7953"
             ],
             [
              0.7777777777777778,
              "#fb9f3a"
             ],
             [
              0.8888888888888888,
              "#fdca26"
             ],
             [
              1,
              "#f0f921"
             ]
            ],
            "type": "heatmap"
           }
          ],
          "heatmapgl": [
           {
            "colorbar": {
             "outlinewidth": 0,
             "ticks": ""
            },
            "colorscale": [
             [
              0,
              "#0d0887"
             ],
             [
              0.1111111111111111,
              "#46039f"
             ],
             [
              0.2222222222222222,
              "#7201a8"
             ],
             [
              0.3333333333333333,
              "#9c179e"
             ],
             [
              0.4444444444444444,
              "#bd3786"
             ],
             [
              0.5555555555555556,
              "#d8576b"
             ],
             [
              0.6666666666666666,
              "#ed7953"
             ],
             [
              0.7777777777777778,
              "#fb9f3a"
             ],
             [
              0.8888888888888888,
              "#fdca26"
             ],
             [
              1,
              "#f0f921"
             ]
            ],
            "type": "heatmapgl"
           }
          ],
          "histogram": [
           {
            "marker": {
             "pattern": {
              "fillmode": "overlay",
              "size": 10,
              "solidity": 0.2
             }
            },
            "type": "histogram"
           }
          ],
          "histogram2d": [
           {
            "colorbar": {
             "outlinewidth": 0,
             "ticks": ""
            },
            "colorscale": [
             [
              0,
              "#0d0887"
             ],
             [
              0.1111111111111111,
              "#46039f"
             ],
             [
              0.2222222222222222,
              "#7201a8"
             ],
             [
              0.3333333333333333,
              "#9c179e"
             ],
             [
              0.4444444444444444,
              "#bd3786"
             ],
             [
              0.5555555555555556,
              "#d8576b"
             ],
             [
              0.6666666666666666,
              "#ed7953"
             ],
             [
              0.7777777777777778,
              "#fb9f3a"
             ],
             [
              0.8888888888888888,
              "#fdca26"
             ],
             [
              1,
              "#f0f921"
             ]
            ],
            "type": "histogram2d"
           }
          ],
          "histogram2dcontour": [
           {
            "colorbar": {
             "outlinewidth": 0,
             "ticks": ""
            },
            "colorscale": [
             [
              0,
              "#0d0887"
             ],
             [
              0.1111111111111111,
              "#46039f"
             ],
             [
              0.2222222222222222,
              "#7201a8"
             ],
             [
              0.3333333333333333,
              "#9c179e"
             ],
             [
              0.4444444444444444,
              "#bd3786"
             ],
             [
              0.5555555555555556,
              "#d8576b"
             ],
             [
              0.6666666666666666,
              "#ed7953"
             ],
             [
              0.7777777777777778,
              "#fb9f3a"
             ],
             [
              0.8888888888888888,
              "#fdca26"
             ],
             [
              1,
              "#f0f921"
             ]
            ],
            "type": "histogram2dcontour"
           }
          ],
          "mesh3d": [
           {
            "colorbar": {
             "outlinewidth": 0,
             "ticks": ""
            },
            "type": "mesh3d"
           }
          ],
          "parcoords": [
           {
            "line": {
             "colorbar": {
              "outlinewidth": 0,
              "ticks": ""
             }
            },
            "type": "parcoords"
           }
          ],
          "pie": [
           {
            "automargin": true,
            "type": "pie"
           }
          ],
          "scatter": [
           {
            "fillpattern": {
             "fillmode": "overlay",
             "size": 10,
             "solidity": 0.2
            },
            "type": "scatter"
           }
          ],
          "scatter3d": [
           {
            "line": {
             "colorbar": {
              "outlinewidth": 0,
              "ticks": ""
             }
            },
            "marker": {
             "colorbar": {
              "outlinewidth": 0,
              "ticks": ""
             }
            },
            "type": "scatter3d"
           }
          ],
          "scattercarpet": [
           {
            "marker": {
             "colorbar": {
              "outlinewidth": 0,
              "ticks": ""
             }
            },
            "type": "scattercarpet"
           }
          ],
          "scattergeo": [
           {
            "marker": {
             "colorbar": {
              "outlinewidth": 0,
              "ticks": ""
             }
            },
            "type": "scattergeo"
           }
          ],
          "scattergl": [
           {
            "marker": {
             "colorbar": {
              "outlinewidth": 0,
              "ticks": ""
             }
            },
            "type": "scattergl"
           }
          ],
          "scattermapbox": [
           {
            "marker": {
             "colorbar": {
              "outlinewidth": 0,
              "ticks": ""
             }
            },
            "type": "scattermapbox"
           }
          ],
          "scatterpolar": [
           {
            "marker": {
             "colorbar": {
              "outlinewidth": 0,
              "ticks": ""
             }
            },
            "type": "scatterpolar"
           }
          ],
          "scatterpolargl": [
           {
            "marker": {
             "colorbar": {
              "outlinewidth": 0,
              "ticks": ""
             }
            },
            "type": "scatterpolargl"
           }
          ],
          "scatterternary": [
           {
            "marker": {
             "colorbar": {
              "outlinewidth": 0,
              "ticks": ""
             }
            },
            "type": "scatterternary"
           }
          ],
          "surface": [
           {
            "colorbar": {
             "outlinewidth": 0,
             "ticks": ""
            },
            "colorscale": [
             [
              0,
              "#0d0887"
             ],
             [
              0.1111111111111111,
              "#46039f"
             ],
             [
              0.2222222222222222,
              "#7201a8"
             ],
             [
              0.3333333333333333,
              "#9c179e"
             ],
             [
              0.4444444444444444,
              "#bd3786"
             ],
             [
              0.5555555555555556,
              "#d8576b"
             ],
             [
              0.6666666666666666,
              "#ed7953"
             ],
             [
              0.7777777777777778,
              "#fb9f3a"
             ],
             [
              0.8888888888888888,
              "#fdca26"
             ],
             [
              1,
              "#f0f921"
             ]
            ],
            "type": "surface"
           }
          ],
          "table": [
           {
            "cells": {
             "fill": {
              "color": "#EBF0F8"
             },
             "line": {
              "color": "white"
             }
            },
            "header": {
             "fill": {
              "color": "#C8D4E3"
             },
             "line": {
              "color": "white"
             }
            },
            "type": "table"
           }
          ]
         },
         "layout": {
          "annotationdefaults": {
           "arrowcolor": "#2a3f5f",
           "arrowhead": 0,
           "arrowwidth": 1
          },
          "autotypenumbers": "strict",
          "coloraxis": {
           "colorbar": {
            "outlinewidth": 0,
            "ticks": ""
           }
          },
          "colorscale": {
           "diverging": [
            [
             0,
             "#8e0152"
            ],
            [
             0.1,
             "#c51b7d"
            ],
            [
             0.2,
             "#de77ae"
            ],
            [
             0.3,
             "#f1b6da"
            ],
            [
             0.4,
             "#fde0ef"
            ],
            [
             0.5,
             "#f7f7f7"
            ],
            [
             0.6,
             "#e6f5d0"
            ],
            [
             0.7,
             "#b8e186"
            ],
            [
             0.8,
             "#7fbc41"
            ],
            [
             0.9,
             "#4d9221"
            ],
            [
             1,
             "#276419"
            ]
           ],
           "sequential": [
            [
             0,
             "#0d0887"
            ],
            [
             0.1111111111111111,
             "#46039f"
            ],
            [
             0.2222222222222222,
             "#7201a8"
            ],
            [
             0.3333333333333333,
             "#9c179e"
            ],
            [
             0.4444444444444444,
             "#bd3786"
            ],
            [
             0.5555555555555556,
             "#d8576b"
            ],
            [
             0.6666666666666666,
             "#ed7953"
            ],
            [
             0.7777777777777778,
             "#fb9f3a"
            ],
            [
             0.8888888888888888,
             "#fdca26"
            ],
            [
             1,
             "#f0f921"
            ]
           ],
           "sequentialminus": [
            [
             0,
             "#0d0887"
            ],
            [
             0.1111111111111111,
             "#46039f"
            ],
            [
             0.2222222222222222,
             "#7201a8"
            ],
            [
             0.3333333333333333,
             "#9c179e"
            ],
            [
             0.4444444444444444,
             "#bd3786"
            ],
            [
             0.5555555555555556,
             "#d8576b"
            ],
            [
             0.6666666666666666,
             "#ed7953"
            ],
            [
             0.7777777777777778,
             "#fb9f3a"
            ],
            [
             0.8888888888888888,
             "#fdca26"
            ],
            [
             1,
             "#f0f921"
            ]
           ]
          },
          "colorway": [
           "#636efa",
           "#EF553B",
           "#00cc96",
           "#ab63fa",
           "#FFA15A",
           "#19d3f3",
           "#FF6692",
           "#B6E880",
           "#FF97FF",
           "#FECB52"
          ],
          "font": {
           "color": "#2a3f5f"
          },
          "geo": {
           "bgcolor": "white",
           "lakecolor": "white",
           "landcolor": "#E5ECF6",
           "showlakes": true,
           "showland": true,
           "subunitcolor": "white"
          },
          "hoverlabel": {
           "align": "left"
          },
          "hovermode": "closest",
          "mapbox": {
           "style": "light"
          },
          "paper_bgcolor": "white",
          "plot_bgcolor": "#E5ECF6",
          "polar": {
           "angularaxis": {
            "gridcolor": "white",
            "linecolor": "white",
            "ticks": ""
           },
           "bgcolor": "#E5ECF6",
           "radialaxis": {
            "gridcolor": "white",
            "linecolor": "white",
            "ticks": ""
           }
          },
          "scene": {
           "xaxis": {
            "backgroundcolor": "#E5ECF6",
            "gridcolor": "white",
            "gridwidth": 2,
            "linecolor": "white",
            "showbackground": true,
            "ticks": "",
            "zerolinecolor": "white"
           },
           "yaxis": {
            "backgroundcolor": "#E5ECF6",
            "gridcolor": "white",
            "gridwidth": 2,
            "linecolor": "white",
            "showbackground": true,
            "ticks": "",
            "zerolinecolor": "white"
           },
           "zaxis": {
            "backgroundcolor": "#E5ECF6",
            "gridcolor": "white",
            "gridwidth": 2,
            "linecolor": "white",
            "showbackground": true,
            "ticks": "",
            "zerolinecolor": "white"
           }
          },
          "shapedefaults": {
           "line": {
            "color": "#2a3f5f"
           }
          },
          "ternary": {
           "aaxis": {
            "gridcolor": "white",
            "linecolor": "white",
            "ticks": ""
           },
           "baxis": {
            "gridcolor": "white",
            "linecolor": "white",
            "ticks": ""
           },
           "bgcolor": "#E5ECF6",
           "caxis": {
            "gridcolor": "white",
            "linecolor": "white",
            "ticks": ""
           }
          },
          "title": {
           "x": 0.05
          },
          "xaxis": {
           "automargin": true,
           "gridcolor": "white",
           "linecolor": "white",
           "ticks": "",
           "title": {
            "standoff": 15
           },
           "zerolinecolor": "white",
           "zerolinewidth": 2
          },
          "yaxis": {
           "automargin": true,
           "gridcolor": "white",
           "linecolor": "white",
           "ticks": "",
           "title": {
            "standoff": 15
           },
           "zerolinecolor": "white",
           "zerolinewidth": 2
          }
         }
        },
        "xaxis": {
         "anchor": "y",
         "autorange": true,
         "domain": [
          0,
          1
         ],
         "range": [
          -0.5,
          9.5
         ],
         "title": {
          "text": "Country"
         },
         "type": "category"
        },
        "yaxis": {
         "anchor": "x",
         "autorange": true,
         "domain": [
          0,
          1
         ],
         "range": [
          0,
          15.789473684210526
         ],
         "title": {
          "text": "sum of technology.2023 rank"
         },
         "type": "linear"
        }
       }
      },
      "text/html": [
       "<div>                            <div id=\"50645f8f-1c37-4ddc-8245-c79a48f9af6f\" class=\"plotly-graph-div\" style=\"height:525px; width:100%;\"></div>            <script type=\"text/javascript\">                require([\"plotly\"], function(Plotly) {                    window.PLOTLYENV=window.PLOTLYENV || {};                                    if (document.getElementById(\"50645f8f-1c37-4ddc-8245-c79a48f9af6f\")) {                    Plotly.newPlot(                        \"50645f8f-1c37-4ddc-8245-c79a48f9af6f\",                        [{\"alignmentgroup\":\"True\",\"bingroup\":\"x\",\"histfunc\":\"sum\",\"hovertemplate\":\"Country=%{x}\\u003cbr\\u003esum of technology.2023 rank=%{y}\\u003cextra\\u003e\\u003c\\u002fextra\\u003e\",\"legendgroup\":\"\",\"marker\":{\"color\":\"#636efa\",\"pattern\":{\"shape\":\"\"}},\"name\":\"\",\"offsetgroup\":\"\",\"orientation\":\"v\",\"showlegend\":false,\"x\":[\"Sweden\",\"Singapore\",\"Germany\",\"Finland\",\"Belgium\",\"Canada\",\"Australia\",\"Norway\",\"Ireland\",\"France\"],\"xaxis\":\"x\",\"y\":[2,3,7,8,10,11,12,13,14,15],\"yaxis\":\"y\",\"type\":\"histogram\"}],                        {\"template\":{\"data\":{\"histogram2dcontour\":[{\"type\":\"histogram2dcontour\",\"colorbar\":{\"outlinewidth\":0,\"ticks\":\"\"},\"colorscale\":[[0.0,\"#0d0887\"],[0.1111111111111111,\"#46039f\"],[0.2222222222222222,\"#7201a8\"],[0.3333333333333333,\"#9c179e\"],[0.4444444444444444,\"#bd3786\"],[0.5555555555555556,\"#d8576b\"],[0.6666666666666666,\"#ed7953\"],[0.7777777777777778,\"#fb9f3a\"],[0.8888888888888888,\"#fdca26\"],[1.0,\"#f0f921\"]]}],\"choropleth\":[{\"type\":\"choropleth\",\"colorbar\":{\"outlinewidth\":0,\"ticks\":\"\"}}],\"histogram2d\":[{\"type\":\"histogram2d\",\"colorbar\":{\"outlinewidth\":0,\"ticks\":\"\"},\"colorscale\":[[0.0,\"#0d0887\"],[0.1111111111111111,\"#46039f\"],[0.2222222222222222,\"#7201a8\"],[0.3333333333333333,\"#9c179e\"],[0.4444444444444444,\"#bd3786\"],[0.5555555555555556,\"#d8576b\"],[0.6666666666666666,\"#ed7953\"],[0.7777777777777778,\"#fb9f3a\"],[0.8888888888888888,\"#fdca26\"],[1.0,\"#f0f921\"]]}],\"heatmap\":[{\"type\":\"heatmap\",\"colorbar\":{\"outlinewidth\":0,\"ticks\":\"\"},\"colorscale\":[[0.0,\"#0d0887\"],[0.1111111111111111,\"#46039f\"],[0.2222222222222222,\"#7201a8\"],[0.3333333333333333,\"#9c179e\"],[0.4444444444444444,\"#bd3786\"],[0.5555555555555556,\"#d8576b\"],[0.6666666666666666,\"#ed7953\"],[0.7777777777777778,\"#fb9f3a\"],[0.8888888888888888,\"#fdca26\"],[1.0,\"#f0f921\"]]}],\"heatmapgl\":[{\"type\":\"heatmapgl\",\"colorbar\":{\"outlinewidth\":0,\"ticks\":\"\"},\"colorscale\":[[0.0,\"#0d0887\"],[0.1111111111111111,\"#46039f\"],[0.2222222222222222,\"#7201a8\"],[0.3333333333333333,\"#9c179e\"],[0.4444444444444444,\"#bd3786\"],[0.5555555555555556,\"#d8576b\"],[0.6666666666666666,\"#ed7953\"],[0.7777777777777778,\"#fb9f3a\"],[0.8888888888888888,\"#fdca26\"],[1.0,\"#f0f921\"]]}],\"contourcarpet\":[{\"type\":\"contourcarpet\",\"colorbar\":{\"outlinewidth\":0,\"ticks\":\"\"}}],\"contour\":[{\"type\":\"contour\",\"colorbar\":{\"outlinewidth\":0,\"ticks\":\"\"},\"colorscale\":[[0.0,\"#0d0887\"],[0.1111111111111111,\"#46039f\"],[0.2222222222222222,\"#7201a8\"],[0.3333333333333333,\"#9c179e\"],[0.4444444444444444,\"#bd3786\"],[0.5555555555555556,\"#d8576b\"],[0.6666666666666666,\"#ed7953\"],[0.7777777777777778,\"#fb9f3a\"],[0.8888888888888888,\"#fdca26\"],[1.0,\"#f0f921\"]]}],\"surface\":[{\"type\":\"surface\",\"colorbar\":{\"outlinewidth\":0,\"ticks\":\"\"},\"colorscale\":[[0.0,\"#0d0887\"],[0.1111111111111111,\"#46039f\"],[0.2222222222222222,\"#7201a8\"],[0.3333333333333333,\"#9c179e\"],[0.4444444444444444,\"#bd3786\"],[0.5555555555555556,\"#d8576b\"],[0.6666666666666666,\"#ed7953\"],[0.7777777777777778,\"#fb9f3a\"],[0.8888888888888888,\"#fdca26\"],[1.0,\"#f0f921\"]]}],\"mesh3d\":[{\"type\":\"mesh3d\",\"colorbar\":{\"outlinewidth\":0,\"ticks\":\"\"}}],\"scatter\":[{\"fillpattern\":{\"fillmode\":\"overlay\",\"size\":10,\"solidity\":0.2},\"type\":\"scatter\"}],\"parcoords\":[{\"type\":\"parcoords\",\"line\":{\"colorbar\":{\"outlinewidth\":0,\"ticks\":\"\"}}}],\"scatterpolargl\":[{\"type\":\"scatterpolargl\",\"marker\":{\"colorbar\":{\"outlinewidth\":0,\"ticks\":\"\"}}}],\"bar\":[{\"error_x\":{\"color\":\"#2a3f5f\"},\"error_y\":{\"color\":\"#2a3f5f\"},\"marker\":{\"line\":{\"color\":\"#E5ECF6\",\"width\":0.5},\"pattern\":{\"fillmode\":\"overlay\",\"size\":10,\"solidity\":0.2}},\"type\":\"bar\"}],\"scattergeo\":[{\"type\":\"scattergeo\",\"marker\":{\"colorbar\":{\"outlinewidth\":0,\"ticks\":\"\"}}}],\"scatterpolar\":[{\"type\":\"scatterpolar\",\"marker\":{\"colorbar\":{\"outlinewidth\":0,\"ticks\":\"\"}}}],\"histogram\":[{\"marker\":{\"pattern\":{\"fillmode\":\"overlay\",\"size\":10,\"solidity\":0.2}},\"type\":\"histogram\"}],\"scattergl\":[{\"type\":\"scattergl\",\"marker\":{\"colorbar\":{\"outlinewidth\":0,\"ticks\":\"\"}}}],\"scatter3d\":[{\"type\":\"scatter3d\",\"line\":{\"colorbar\":{\"outlinewidth\":0,\"ticks\":\"\"}},\"marker\":{\"colorbar\":{\"outlinewidth\":0,\"ticks\":\"\"}}}],\"scattermapbox\":[{\"type\":\"scattermapbox\",\"marker\":{\"colorbar\":{\"outlinewidth\":0,\"ticks\":\"\"}}}],\"scatterternary\":[{\"type\":\"scatterternary\",\"marker\":{\"colorbar\":{\"outlinewidth\":0,\"ticks\":\"\"}}}],\"scattercarpet\":[{\"type\":\"scattercarpet\",\"marker\":{\"colorbar\":{\"outlinewidth\":0,\"ticks\":\"\"}}}],\"carpet\":[{\"aaxis\":{\"endlinecolor\":\"#2a3f5f\",\"gridcolor\":\"white\",\"linecolor\":\"white\",\"minorgridcolor\":\"white\",\"startlinecolor\":\"#2a3f5f\"},\"baxis\":{\"endlinecolor\":\"#2a3f5f\",\"gridcolor\":\"white\",\"linecolor\":\"white\",\"minorgridcolor\":\"white\",\"startlinecolor\":\"#2a3f5f\"},\"type\":\"carpet\"}],\"table\":[{\"cells\":{\"fill\":{\"color\":\"#EBF0F8\"},\"line\":{\"color\":\"white\"}},\"header\":{\"fill\":{\"color\":\"#C8D4E3\"},\"line\":{\"color\":\"white\"}},\"type\":\"table\"}],\"barpolar\":[{\"marker\":{\"line\":{\"color\":\"#E5ECF6\",\"width\":0.5},\"pattern\":{\"fillmode\":\"overlay\",\"size\":10,\"solidity\":0.2}},\"type\":\"barpolar\"}],\"pie\":[{\"automargin\":true,\"type\":\"pie\"}]},\"layout\":{\"autotypenumbers\":\"strict\",\"colorway\":[\"#636efa\",\"#EF553B\",\"#00cc96\",\"#ab63fa\",\"#FFA15A\",\"#19d3f3\",\"#FF6692\",\"#B6E880\",\"#FF97FF\",\"#FECB52\"],\"font\":{\"color\":\"#2a3f5f\"},\"hovermode\":\"closest\",\"hoverlabel\":{\"align\":\"left\"},\"paper_bgcolor\":\"white\",\"plot_bgcolor\":\"#E5ECF6\",\"polar\":{\"bgcolor\":\"#E5ECF6\",\"angularaxis\":{\"gridcolor\":\"white\",\"linecolor\":\"white\",\"ticks\":\"\"},\"radialaxis\":{\"gridcolor\":\"white\",\"linecolor\":\"white\",\"ticks\":\"\"}},\"ternary\":{\"bgcolor\":\"#E5ECF6\",\"aaxis\":{\"gridcolor\":\"white\",\"linecolor\":\"white\",\"ticks\":\"\"},\"baxis\":{\"gridcolor\":\"white\",\"linecolor\":\"white\",\"ticks\":\"\"},\"caxis\":{\"gridcolor\":\"white\",\"linecolor\":\"white\",\"ticks\":\"\"}},\"coloraxis\":{\"colorbar\":{\"outlinewidth\":0,\"ticks\":\"\"}},\"colorscale\":{\"sequential\":[[0.0,\"#0d0887\"],[0.1111111111111111,\"#46039f\"],[0.2222222222222222,\"#7201a8\"],[0.3333333333333333,\"#9c179e\"],[0.4444444444444444,\"#bd3786\"],[0.5555555555555556,\"#d8576b\"],[0.6666666666666666,\"#ed7953\"],[0.7777777777777778,\"#fb9f3a\"],[0.8888888888888888,\"#fdca26\"],[1.0,\"#f0f921\"]],\"sequentialminus\":[[0.0,\"#0d0887\"],[0.1111111111111111,\"#46039f\"],[0.2222222222222222,\"#7201a8\"],[0.3333333333333333,\"#9c179e\"],[0.4444444444444444,\"#bd3786\"],[0.5555555555555556,\"#d8576b\"],[0.6666666666666666,\"#ed7953\"],[0.7777777777777778,\"#fb9f3a\"],[0.8888888888888888,\"#fdca26\"],[1.0,\"#f0f921\"]],\"diverging\":[[0,\"#8e0152\"],[0.1,\"#c51b7d\"],[0.2,\"#de77ae\"],[0.3,\"#f1b6da\"],[0.4,\"#fde0ef\"],[0.5,\"#f7f7f7\"],[0.6,\"#e6f5d0\"],[0.7,\"#b8e186\"],[0.8,\"#7fbc41\"],[0.9,\"#4d9221\"],[1,\"#276419\"]]},\"xaxis\":{\"gridcolor\":\"white\",\"linecolor\":\"white\",\"ticks\":\"\",\"title\":{\"standoff\":15},\"zerolinecolor\":\"white\",\"automargin\":true,\"zerolinewidth\":2},\"yaxis\":{\"gridcolor\":\"white\",\"linecolor\":\"white\",\"ticks\":\"\",\"title\":{\"standoff\":15},\"zerolinecolor\":\"white\",\"automargin\":true,\"zerolinewidth\":2},\"scene\":{\"xaxis\":{\"backgroundcolor\":\"#E5ECF6\",\"gridcolor\":\"white\",\"linecolor\":\"white\",\"showbackground\":true,\"ticks\":\"\",\"zerolinecolor\":\"white\",\"gridwidth\":2},\"yaxis\":{\"backgroundcolor\":\"#E5ECF6\",\"gridcolor\":\"white\",\"linecolor\":\"white\",\"showbackground\":true,\"ticks\":\"\",\"zerolinecolor\":\"white\",\"gridwidth\":2},\"zaxis\":{\"backgroundcolor\":\"#E5ECF6\",\"gridcolor\":\"white\",\"linecolor\":\"white\",\"showbackground\":true,\"ticks\":\"\",\"zerolinecolor\":\"white\",\"gridwidth\":2}},\"shapedefaults\":{\"line\":{\"color\":\"#2a3f5f\"}},\"annotationdefaults\":{\"arrowcolor\":\"#2a3f5f\",\"arrowhead\":0,\"arrowwidth\":1},\"geo\":{\"bgcolor\":\"white\",\"landcolor\":\"#E5ECF6\",\"subunitcolor\":\"white\",\"showland\":true,\"showlakes\":true,\"lakecolor\":\"white\"},\"title\":{\"x\":0.05},\"mapbox\":{\"style\":\"light\"}}},\"xaxis\":{\"anchor\":\"y\",\"domain\":[0.0,1.0],\"title\":{\"text\":\"Country\"}},\"yaxis\":{\"anchor\":\"x\",\"domain\":[0.0,1.0],\"title\":{\"text\":\"sum of technology.2023 rank\"}},\"legend\":{\"tracegroupgap\":0},\"margin\":{\"t\":60},\"barmode\":\"relative\"},                        {\"responsive\": true}                    ).then(function(){\n",
       "                            \n",
       "var gd = document.getElementById('50645f8f-1c37-4ddc-8245-c79a48f9af6f');\n",
       "var x = new MutationObserver(function (mutations, observer) {{\n",
       "        var display = window.getComputedStyle(gd).display;\n",
       "        if (!display || display === 'none') {{\n",
       "            console.log([gd, 'removed!']);\n",
       "            Plotly.purge(gd);\n",
       "            observer.disconnect();\n",
       "        }}\n",
       "}});\n",
       "\n",
       "// Listen for the removal of the full notebook cells\n",
       "var notebookContainer = gd.closest('#notebook-container');\n",
       "if (notebookContainer) {{\n",
       "    x.observe(notebookContainer, {childList: true});\n",
       "}}\n",
       "\n",
       "// Listen for the clearing of the current output cell\n",
       "var outputEl = gd.closest('.output');\n",
       "if (outputEl) {{\n",
       "    x.observe(outputEl, {childList: true});\n",
       "}}\n",
       "\n",
       "                        })                };                });            </script>        </div>"
      ]
     },
     "metadata": {},
     "output_type": "display_data"
    }
   ],
   "source": [
    "import plotly.express as px\n",
    "fig = px.histogram(tec, x=\"Country\",y=\"technology.2023 rank\")\n",
    "fig.show()"
   ]
  },
  {
   "cell_type": "code",
   "execution_count": 1424,
   "id": "8f78cd13-c48b-4e79-82d0-bf35149b4037",
   "metadata": {},
   "outputs": [],
   "source": [
    "un=new.sort_values(by=\"Unemployment(%)\",ascending=True).head(10)"
   ]
  },
  {
   "cell_type": "code",
   "execution_count": 1425,
   "id": "5ae2547e-e1af-4313-a34d-ff775bd0d1f0",
   "metadata": {},
   "outputs": [
    {
     "data": {
      "text/html": [
       "<div>\n",
       "<style scoped>\n",
       "    .dataframe tbody tr th:only-of-type {\n",
       "        vertical-align: middle;\n",
       "    }\n",
       "\n",
       "    .dataframe tbody tr th {\n",
       "        vertical-align: top;\n",
       "    }\n",
       "\n",
       "    .dataframe thead th {\n",
       "        text-align: right;\n",
       "    }\n",
       "</style>\n",
       "<table border=\"1\" class=\"dataframe\">\n",
       "  <thead>\n",
       "    <tr style=\"text-align: right;\">\n",
       "      <th></th>\n",
       "      <th>Country</th>\n",
       "      <th>cost of living</th>\n",
       "      <th>cost index</th>\n",
       "      <th>cost of living.Monthly income (USD)</th>\n",
       "      <th>Purchasing Power Index</th>\n",
       "      <th>currency rate</th>\n",
       "      <th>Gdp</th>\n",
       "      <th>population</th>\n",
       "      <th>population.Migrants (net)</th>\n",
       "      <th>Skilled force</th>\n",
       "      <th>technology.2023 rank</th>\n",
       "      <th>Unemployment(%)</th>\n",
       "      <th>Inflation(%)</th>\n",
       "      <th>Monthly salary+Tax(USD)</th>\n",
       "      <th>Literacy rate(%)</th>\n",
       "    </tr>\n",
       "  </thead>\n",
       "  <tbody>\n",
       "    <tr>\n",
       "      <th>48</th>\n",
       "      <td>Qatar</td>\n",
       "      <td>31</td>\n",
       "      <td>76.9</td>\n",
       "      <td>5839</td>\n",
       "      <td>113.5</td>\n",
       "      <td>1.558</td>\n",
       "      <td>87480</td>\n",
       "      <td>3048423</td>\n",
       "      <td>46105</td>\n",
       "      <td>2035269</td>\n",
       "      <td>67</td>\n",
       "      <td>0.30</td>\n",
       "      <td>0.82</td>\n",
       "      <td>4086.40</td>\n",
       "      <td>98.7</td>\n",
       "    </tr>\n",
       "    <tr>\n",
       "      <th>57</th>\n",
       "      <td>Thailand</td>\n",
       "      <td>81</td>\n",
       "      <td>32.2</td>\n",
       "      <td>598</td>\n",
       "      <td>27.8</td>\n",
       "      <td>1.872</td>\n",
       "      <td>7172</td>\n",
       "      <td>71668011</td>\n",
       "      <td>23321</td>\n",
       "      <td>40813511</td>\n",
       "      <td>49</td>\n",
       "      <td>1.10</td>\n",
       "      <td>0.83</td>\n",
       "      <td>584.14</td>\n",
       "      <td>98.8</td>\n",
       "    </tr>\n",
       "    <tr>\n",
       "      <th>52</th>\n",
       "      <td>Singapore</td>\n",
       "      <td>30</td>\n",
       "      <td>78.0</td>\n",
       "      <td>5883</td>\n",
       "      <td>112.7</td>\n",
       "      <td>1.075</td>\n",
       "      <td>84734</td>\n",
       "      <td>5832387</td>\n",
       "      <td>20011</td>\n",
       "      <td>3619025</td>\n",
       "      <td>3</td>\n",
       "      <td>1.90</td>\n",
       "      <td>2.00</td>\n",
       "      <td>4293.54</td>\n",
       "      <td>99.9</td>\n",
       "    </tr>\n",
       "    <tr>\n",
       "      <th>32</th>\n",
       "      <td>Japan</td>\n",
       "      <td>33</td>\n",
       "      <td>74.7</td>\n",
       "      <td>3253</td>\n",
       "      <td>65.0</td>\n",
       "      <td>1.923</td>\n",
       "      <td>33834</td>\n",
       "      <td>123753041</td>\n",
       "      <td>153357</td>\n",
       "      <td>69349452</td>\n",
       "      <td>19</td>\n",
       "      <td>2.50</td>\n",
       "      <td>2.50</td>\n",
       "      <td>2059.60</td>\n",
       "      <td>99.0</td>\n",
       "    </tr>\n",
       "    <tr>\n",
       "      <th>38</th>\n",
       "      <td>Mexico</td>\n",
       "      <td>45</td>\n",
       "      <td>60.7</td>\n",
       "      <td>1008</td>\n",
       "      <td>24.8</td>\n",
       "      <td>3.229</td>\n",
       "      <td>13926</td>\n",
       "      <td>130861007</td>\n",
       "      <td>-104581</td>\n",
       "      <td>60042318</td>\n",
       "      <td>61</td>\n",
       "      <td>2.80</td>\n",
       "      <td>4.76</td>\n",
       "      <td>653.23</td>\n",
       "      <td>98.9</td>\n",
       "    </tr>\n",
       "    <tr>\n",
       "      <th>46</th>\n",
       "      <td>Poland</td>\n",
       "      <td>56</td>\n",
       "      <td>47.8</td>\n",
       "      <td>1644</td>\n",
       "      <td>51.4</td>\n",
       "      <td>0.160</td>\n",
       "      <td>22113</td>\n",
       "      <td>38539201</td>\n",
       "      <td>-238062</td>\n",
       "      <td>18387400</td>\n",
       "      <td>27</td>\n",
       "      <td>2.93</td>\n",
       "      <td>5.00</td>\n",
       "      <td>1439.95</td>\n",
       "      <td>99.9</td>\n",
       "    </tr>\n",
       "    <tr>\n",
       "      <th>6</th>\n",
       "      <td>Belarus</td>\n",
       "      <td>94</td>\n",
       "      <td>29.3</td>\n",
       "      <td>648</td>\n",
       "      <td>33.0</td>\n",
       "      <td>3.882</td>\n",
       "      <td>7829</td>\n",
       "      <td>9056696</td>\n",
       "      <td>-3119</td>\n",
       "      <td>4956149</td>\n",
       "      <td>55</td>\n",
       "      <td>3.04</td>\n",
       "      <td>6.00</td>\n",
       "      <td>522.44</td>\n",
       "      <td>99.9</td>\n",
       "    </tr>\n",
       "    <tr>\n",
       "      <th>23</th>\n",
       "      <td>Germany</td>\n",
       "      <td>29</td>\n",
       "      <td>79.5</td>\n",
       "      <td>4498</td>\n",
       "      <td>84.6</td>\n",
       "      <td>-0.305</td>\n",
       "      <td>52746</td>\n",
       "      <td>84552242</td>\n",
       "      <td>36954</td>\n",
       "      <td>44783712</td>\n",
       "      <td>7</td>\n",
       "      <td>3.29</td>\n",
       "      <td>2.00</td>\n",
       "      <td>2984.93</td>\n",
       "      <td>99.0</td>\n",
       "    </tr>\n",
       "    <tr>\n",
       "      <th>59</th>\n",
       "      <td>United Arab Emirates</td>\n",
       "      <td>34</td>\n",
       "      <td>72.1</td>\n",
       "      <td>4441</td>\n",
       "      <td>92.1</td>\n",
       "      <td>3.404</td>\n",
       "      <td>52977</td>\n",
       "      <td>11027129</td>\n",
       "      <td>278439</td>\n",
       "      <td>6668172</td>\n",
       "      <td>37</td>\n",
       "      <td>3.40</td>\n",
       "      <td>2.50</td>\n",
       "      <td>3300.22</td>\n",
       "      <td>99.7</td>\n",
       "    </tr>\n",
       "    <tr>\n",
       "      <th>37</th>\n",
       "      <td>Malaysia</td>\n",
       "      <td>82</td>\n",
       "      <td>32.2</td>\n",
       "      <td>998</td>\n",
       "      <td>46.4</td>\n",
       "      <td>3.680</td>\n",
       "      <td>11649</td>\n",
       "      <td>35557673</td>\n",
       "      <td>174770</td>\n",
       "      <td>17307639</td>\n",
       "      <td>32</td>\n",
       "      <td>3.52</td>\n",
       "      <td>1.80</td>\n",
       "      <td>922.50</td>\n",
       "      <td>96.0</td>\n",
       "    </tr>\n",
       "  </tbody>\n",
       "</table>\n",
       "</div>"
      ],
      "text/plain": [
       "                 Country  cost of living  cost index  \\\n",
       "48                 Qatar              31        76.9   \n",
       "57              Thailand              81        32.2   \n",
       "52             Singapore              30        78.0   \n",
       "32                 Japan              33        74.7   \n",
       "38                Mexico              45        60.7   \n",
       "46                Poland              56        47.8   \n",
       "6                Belarus              94        29.3   \n",
       "23               Germany              29        79.5   \n",
       "59  United Arab Emirates              34        72.1   \n",
       "37              Malaysia              82        32.2   \n",
       "\n",
       "    cost of living.Monthly income (USD)  Purchasing Power Index  \\\n",
       "48                                 5839                   113.5   \n",
       "57                                  598                    27.8   \n",
       "52                                 5883                   112.7   \n",
       "32                                 3253                    65.0   \n",
       "38                                 1008                    24.8   \n",
       "46                                 1644                    51.4   \n",
       "6                                   648                    33.0   \n",
       "23                                 4498                    84.6   \n",
       "59                                 4441                    92.1   \n",
       "37                                  998                    46.4   \n",
       "\n",
       "    currency rate    Gdp  population  population.Migrants (net)  \\\n",
       "48          1.558  87480     3048423                      46105   \n",
       "57          1.872   7172    71668011                      23321   \n",
       "52          1.075  84734     5832387                      20011   \n",
       "32          1.923  33834   123753041                     153357   \n",
       "38          3.229  13926   130861007                    -104581   \n",
       "46          0.160  22113    38539201                    -238062   \n",
       "6           3.882   7829     9056696                      -3119   \n",
       "23         -0.305  52746    84552242                      36954   \n",
       "59          3.404  52977    11027129                     278439   \n",
       "37          3.680  11649    35557673                     174770   \n",
       "\n",
       "    Skilled force  technology.2023 rank  Unemployment(%)  Inflation(%)  \\\n",
       "48        2035269                    67             0.30          0.82   \n",
       "57       40813511                    49             1.10          0.83   \n",
       "52        3619025                     3             1.90          2.00   \n",
       "32       69349452                    19             2.50          2.50   \n",
       "38       60042318                    61             2.80          4.76   \n",
       "46       18387400                    27             2.93          5.00   \n",
       "6         4956149                    55             3.04          6.00   \n",
       "23       44783712                     7             3.29          2.00   \n",
       "59        6668172                    37             3.40          2.50   \n",
       "37       17307639                    32             3.52          1.80   \n",
       "\n",
       "    Monthly salary+Tax(USD)  Literacy rate(%)  \n",
       "48                  4086.40              98.7  \n",
       "57                   584.14              98.8  \n",
       "52                  4293.54              99.9  \n",
       "32                  2059.60              99.0  \n",
       "38                   653.23              98.9  \n",
       "46                  1439.95              99.9  \n",
       "6                    522.44              99.9  \n",
       "23                  2984.93              99.0  \n",
       "59                  3300.22              99.7  \n",
       "37                   922.50              96.0  "
      ]
     },
     "execution_count": 1425,
     "metadata": {},
     "output_type": "execute_result"
    }
   ],
   "source": [
    "un"
   ]
  },
  {
   "cell_type": "code",
   "execution_count": 1426,
   "id": "a476a8b6-df94-4dfd-8fb1-64f180ce0ec8",
   "metadata": {},
   "outputs": [
    {
     "data": {
      "application/vnd.plotly.v1+json": {
       "config": {
        "plotlyServerURL": "https://plot.ly"
       },
       "data": [
        {
         "alignmentgroup": "True",
         "bingroup": "x",
         "histfunc": "sum",
         "hovertemplate": "Country=%{x}<br>sum of Unemployment(%)=%{y}<extra></extra>",
         "legendgroup": "",
         "marker": {
          "color": "#636efa",
          "pattern": {
           "shape": ""
          }
         },
         "name": "",
         "offsetgroup": "",
         "orientation": "v",
         "showlegend": false,
         "type": "histogram",
         "x": [
          "Qatar",
          "Thailand",
          "Singapore",
          "Japan",
          "Mexico",
          "Poland",
          "Belarus",
          "Germany",
          "United Arab Emirates",
          "Malaysia"
         ],
         "xaxis": "x",
         "y": [
          0.3,
          1.1,
          1.9,
          2.5,
          2.8,
          2.93,
          3.04,
          3.29,
          3.4,
          3.52
         ],
         "yaxis": "y"
        }
       ],
       "layout": {
        "autosize": true,
        "barmode": "relative",
        "legend": {
         "tracegroupgap": 0
        },
        "margin": {
         "t": 60
        },
        "template": {
         "data": {
          "bar": [
           {
            "error_x": {
             "color": "#2a3f5f"
            },
            "error_y": {
             "color": "#2a3f5f"
            },
            "marker": {
             "line": {
              "color": "#E5ECF6",
              "width": 0.5
             },
             "pattern": {
              "fillmode": "overlay",
              "size": 10,
              "solidity": 0.2
             }
            },
            "type": "bar"
           }
          ],
          "barpolar": [
           {
            "marker": {
             "line": {
              "color": "#E5ECF6",
              "width": 0.5
             },
             "pattern": {
              "fillmode": "overlay",
              "size": 10,
              "solidity": 0.2
             }
            },
            "type": "barpolar"
           }
          ],
          "carpet": [
           {
            "aaxis": {
             "endlinecolor": "#2a3f5f",
             "gridcolor": "white",
             "linecolor": "white",
             "minorgridcolor": "white",
             "startlinecolor": "#2a3f5f"
            },
            "baxis": {
             "endlinecolor": "#2a3f5f",
             "gridcolor": "white",
             "linecolor": "white",
             "minorgridcolor": "white",
             "startlinecolor": "#2a3f5f"
            },
            "type": "carpet"
           }
          ],
          "choropleth": [
           {
            "colorbar": {
             "outlinewidth": 0,
             "ticks": ""
            },
            "type": "choropleth"
           }
          ],
          "contour": [
           {
            "colorbar": {
             "outlinewidth": 0,
             "ticks": ""
            },
            "colorscale": [
             [
              0,
              "#0d0887"
             ],
             [
              0.1111111111111111,
              "#46039f"
             ],
             [
              0.2222222222222222,
              "#7201a8"
             ],
             [
              0.3333333333333333,
              "#9c179e"
             ],
             [
              0.4444444444444444,
              "#bd3786"
             ],
             [
              0.5555555555555556,
              "#d8576b"
             ],
             [
              0.6666666666666666,
              "#ed7953"
             ],
             [
              0.7777777777777778,
              "#fb9f3a"
             ],
             [
              0.8888888888888888,
              "#fdca26"
             ],
             [
              1,
              "#f0f921"
             ]
            ],
            "type": "contour"
           }
          ],
          "contourcarpet": [
           {
            "colorbar": {
             "outlinewidth": 0,
             "ticks": ""
            },
            "type": "contourcarpet"
           }
          ],
          "heatmap": [
           {
            "colorbar": {
             "outlinewidth": 0,
             "ticks": ""
            },
            "colorscale": [
             [
              0,
              "#0d0887"
             ],
             [
              0.1111111111111111,
              "#46039f"
             ],
             [
              0.2222222222222222,
              "#7201a8"
             ],
             [
              0.3333333333333333,
              "#9c179e"
             ],
             [
              0.4444444444444444,
              "#bd3786"
             ],
             [
              0.5555555555555556,
              "#d8576b"
             ],
             [
              0.6666666666666666,
              "#ed7953"
             ],
             [
              0.7777777777777778,
              "#fb9f3a"
             ],
             [
              0.8888888888888888,
              "#fdca26"
             ],
             [
              1,
              "#f0f921"
             ]
            ],
            "type": "heatmap"
           }
          ],
          "heatmapgl": [
           {
            "colorbar": {
             "outlinewidth": 0,
             "ticks": ""
            },
            "colorscale": [
             [
              0,
              "#0d0887"
             ],
             [
              0.1111111111111111,
              "#46039f"
             ],
             [
              0.2222222222222222,
              "#7201a8"
             ],
             [
              0.3333333333333333,
              "#9c179e"
             ],
             [
              0.4444444444444444,
              "#bd3786"
             ],
             [
              0.5555555555555556,
              "#d8576b"
             ],
             [
              0.6666666666666666,
              "#ed7953"
             ],
             [
              0.7777777777777778,
              "#fb9f3a"
             ],
             [
              0.8888888888888888,
              "#fdca26"
             ],
             [
              1,
              "#f0f921"
             ]
            ],
            "type": "heatmapgl"
           }
          ],
          "histogram": [
           {
            "marker": {
             "pattern": {
              "fillmode": "overlay",
              "size": 10,
              "solidity": 0.2
             }
            },
            "type": "histogram"
           }
          ],
          "histogram2d": [
           {
            "colorbar": {
             "outlinewidth": 0,
             "ticks": ""
            },
            "colorscale": [
             [
              0,
              "#0d0887"
             ],
             [
              0.1111111111111111,
              "#46039f"
             ],
             [
              0.2222222222222222,
              "#7201a8"
             ],
             [
              0.3333333333333333,
              "#9c179e"
             ],
             [
              0.4444444444444444,
              "#bd3786"
             ],
             [
              0.5555555555555556,
              "#d8576b"
             ],
             [
              0.6666666666666666,
              "#ed7953"
             ],
             [
              0.7777777777777778,
              "#fb9f3a"
             ],
             [
              0.8888888888888888,
              "#fdca26"
             ],
             [
              1,
              "#f0f921"
             ]
            ],
            "type": "histogram2d"
           }
          ],
          "histogram2dcontour": [
           {
            "colorbar": {
             "outlinewidth": 0,
             "ticks": ""
            },
            "colorscale": [
             [
              0,
              "#0d0887"
             ],
             [
              0.1111111111111111,
              "#46039f"
             ],
             [
              0.2222222222222222,
              "#7201a8"
             ],
             [
              0.3333333333333333,
              "#9c179e"
             ],
             [
              0.4444444444444444,
              "#bd3786"
             ],
             [
              0.5555555555555556,
              "#d8576b"
             ],
             [
              0.6666666666666666,
              "#ed7953"
             ],
             [
              0.7777777777777778,
              "#fb9f3a"
             ],
             [
              0.8888888888888888,
              "#fdca26"
             ],
             [
              1,
              "#f0f921"
             ]
            ],
            "type": "histogram2dcontour"
           }
          ],
          "mesh3d": [
           {
            "colorbar": {
             "outlinewidth": 0,
             "ticks": ""
            },
            "type": "mesh3d"
           }
          ],
          "parcoords": [
           {
            "line": {
             "colorbar": {
              "outlinewidth": 0,
              "ticks": ""
             }
            },
            "type": "parcoords"
           }
          ],
          "pie": [
           {
            "automargin": true,
            "type": "pie"
           }
          ],
          "scatter": [
           {
            "fillpattern": {
             "fillmode": "overlay",
             "size": 10,
             "solidity": 0.2
            },
            "type": "scatter"
           }
          ],
          "scatter3d": [
           {
            "line": {
             "colorbar": {
              "outlinewidth": 0,
              "ticks": ""
             }
            },
            "marker": {
             "colorbar": {
              "outlinewidth": 0,
              "ticks": ""
             }
            },
            "type": "scatter3d"
           }
          ],
          "scattercarpet": [
           {
            "marker": {
             "colorbar": {
              "outlinewidth": 0,
              "ticks": ""
             }
            },
            "type": "scattercarpet"
           }
          ],
          "scattergeo": [
           {
            "marker": {
             "colorbar": {
              "outlinewidth": 0,
              "ticks": ""
             }
            },
            "type": "scattergeo"
           }
          ],
          "scattergl": [
           {
            "marker": {
             "colorbar": {
              "outlinewidth": 0,
              "ticks": ""
             }
            },
            "type": "scattergl"
           }
          ],
          "scattermapbox": [
           {
            "marker": {
             "colorbar": {
              "outlinewidth": 0,
              "ticks": ""
             }
            },
            "type": "scattermapbox"
           }
          ],
          "scatterpolar": [
           {
            "marker": {
             "colorbar": {
              "outlinewidth": 0,
              "ticks": ""
             }
            },
            "type": "scatterpolar"
           }
          ],
          "scatterpolargl": [
           {
            "marker": {
             "colorbar": {
              "outlinewidth": 0,
              "ticks": ""
             }
            },
            "type": "scatterpolargl"
           }
          ],
          "scatterternary": [
           {
            "marker": {
             "colorbar": {
              "outlinewidth": 0,
              "ticks": ""
             }
            },
            "type": "scatterternary"
           }
          ],
          "surface": [
           {
            "colorbar": {
             "outlinewidth": 0,
             "ticks": ""
            },
            "colorscale": [
             [
              0,
              "#0d0887"
             ],
             [
              0.1111111111111111,
              "#46039f"
             ],
             [
              0.2222222222222222,
              "#7201a8"
             ],
             [
              0.3333333333333333,
              "#9c179e"
             ],
             [
              0.4444444444444444,
              "#bd3786"
             ],
             [
              0.5555555555555556,
              "#d8576b"
             ],
             [
              0.6666666666666666,
              "#ed7953"
             ],
             [
              0.7777777777777778,
              "#fb9f3a"
             ],
             [
              0.8888888888888888,
              "#fdca26"
             ],
             [
              1,
              "#f0f921"
             ]
            ],
            "type": "surface"
           }
          ],
          "table": [
           {
            "cells": {
             "fill": {
              "color": "#EBF0F8"
             },
             "line": {
              "color": "white"
             }
            },
            "header": {
             "fill": {
              "color": "#C8D4E3"
             },
             "line": {
              "color": "white"
             }
            },
            "type": "table"
           }
          ]
         },
         "layout": {
          "annotationdefaults": {
           "arrowcolor": "#2a3f5f",
           "arrowhead": 0,
           "arrowwidth": 1
          },
          "autotypenumbers": "strict",
          "coloraxis": {
           "colorbar": {
            "outlinewidth": 0,
            "ticks": ""
           }
          },
          "colorscale": {
           "diverging": [
            [
             0,
             "#8e0152"
            ],
            [
             0.1,
             "#c51b7d"
            ],
            [
             0.2,
             "#de77ae"
            ],
            [
             0.3,
             "#f1b6da"
            ],
            [
             0.4,
             "#fde0ef"
            ],
            [
             0.5,
             "#f7f7f7"
            ],
            [
             0.6,
             "#e6f5d0"
            ],
            [
             0.7,
             "#b8e186"
            ],
            [
             0.8,
             "#7fbc41"
            ],
            [
             0.9,
             "#4d9221"
            ],
            [
             1,
             "#276419"
            ]
           ],
           "sequential": [
            [
             0,
             "#0d0887"
            ],
            [
             0.1111111111111111,
             "#46039f"
            ],
            [
             0.2222222222222222,
             "#7201a8"
            ],
            [
             0.3333333333333333,
             "#9c179e"
            ],
            [
             0.4444444444444444,
             "#bd3786"
            ],
            [
             0.5555555555555556,
             "#d8576b"
            ],
            [
             0.6666666666666666,
             "#ed7953"
            ],
            [
             0.7777777777777778,
             "#fb9f3a"
            ],
            [
             0.8888888888888888,
             "#fdca26"
            ],
            [
             1,
             "#f0f921"
            ]
           ],
           "sequentialminus": [
            [
             0,
             "#0d0887"
            ],
            [
             0.1111111111111111,
             "#46039f"
            ],
            [
             0.2222222222222222,
             "#7201a8"
            ],
            [
             0.3333333333333333,
             "#9c179e"
            ],
            [
             0.4444444444444444,
             "#bd3786"
            ],
            [
             0.5555555555555556,
             "#d8576b"
            ],
            [
             0.6666666666666666,
             "#ed7953"
            ],
            [
             0.7777777777777778,
             "#fb9f3a"
            ],
            [
             0.8888888888888888,
             "#fdca26"
            ],
            [
             1,
             "#f0f921"
            ]
           ]
          },
          "colorway": [
           "#636efa",
           "#EF553B",
           "#00cc96",
           "#ab63fa",
           "#FFA15A",
           "#19d3f3",
           "#FF6692",
           "#B6E880",
           "#FF97FF",
           "#FECB52"
          ],
          "font": {
           "color": "#2a3f5f"
          },
          "geo": {
           "bgcolor": "white",
           "lakecolor": "white",
           "landcolor": "#E5ECF6",
           "showlakes": true,
           "showland": true,
           "subunitcolor": "white"
          },
          "hoverlabel": {
           "align": "left"
          },
          "hovermode": "closest",
          "mapbox": {
           "style": "light"
          },
          "paper_bgcolor": "white",
          "plot_bgcolor": "#E5ECF6",
          "polar": {
           "angularaxis": {
            "gridcolor": "white",
            "linecolor": "white",
            "ticks": ""
           },
           "bgcolor": "#E5ECF6",
           "radialaxis": {
            "gridcolor": "white",
            "linecolor": "white",
            "ticks": ""
           }
          },
          "scene": {
           "xaxis": {
            "backgroundcolor": "#E5ECF6",
            "gridcolor": "white",
            "gridwidth": 2,
            "linecolor": "white",
            "showbackground": true,
            "ticks": "",
            "zerolinecolor": "white"
           },
           "yaxis": {
            "backgroundcolor": "#E5ECF6",
            "gridcolor": "white",
            "gridwidth": 2,
            "linecolor": "white",
            "showbackground": true,
            "ticks": "",
            "zerolinecolor": "white"
           },
           "zaxis": {
            "backgroundcolor": "#E5ECF6",
            "gridcolor": "white",
            "gridwidth": 2,
            "linecolor": "white",
            "showbackground": true,
            "ticks": "",
            "zerolinecolor": "white"
           }
          },
          "shapedefaults": {
           "line": {
            "color": "#2a3f5f"
           }
          },
          "ternary": {
           "aaxis": {
            "gridcolor": "white",
            "linecolor": "white",
            "ticks": ""
           },
           "baxis": {
            "gridcolor": "white",
            "linecolor": "white",
            "ticks": ""
           },
           "bgcolor": "#E5ECF6",
           "caxis": {
            "gridcolor": "white",
            "linecolor": "white",
            "ticks": ""
           }
          },
          "title": {
           "x": 0.05
          },
          "xaxis": {
           "automargin": true,
           "gridcolor": "white",
           "linecolor": "white",
           "ticks": "",
           "title": {
            "standoff": 15
           },
           "zerolinecolor": "white",
           "zerolinewidth": 2
          },
          "yaxis": {
           "automargin": true,
           "gridcolor": "white",
           "linecolor": "white",
           "ticks": "",
           "title": {
            "standoff": 15
           },
           "zerolinecolor": "white",
           "zerolinewidth": 2
          }
         }
        },
        "xaxis": {
         "anchor": "y",
         "autorange": true,
         "domain": [
          0,
          1
         ],
         "range": [
          -0.5,
          9.5
         ],
         "title": {
          "text": "Country"
         },
         "type": "category"
        },
        "yaxis": {
         "anchor": "x",
         "autorange": true,
         "domain": [
          0,
          1
         ],
         "range": [
          0,
          3.705263157894737
         ],
         "title": {
          "text": "sum of Unemployment(%)"
         },
         "type": "linear"
        }
       }
      },
      "text/html": [
       "<div>                            <div id=\"20d22459-5320-4de4-95a1-704992afd729\" class=\"plotly-graph-div\" style=\"height:525px; width:100%;\"></div>            <script type=\"text/javascript\">                require([\"plotly\"], function(Plotly) {                    window.PLOTLYENV=window.PLOTLYENV || {};                                    if (document.getElementById(\"20d22459-5320-4de4-95a1-704992afd729\")) {                    Plotly.newPlot(                        \"20d22459-5320-4de4-95a1-704992afd729\",                        [{\"alignmentgroup\":\"True\",\"bingroup\":\"x\",\"histfunc\":\"sum\",\"hovertemplate\":\"Country=%{x}\\u003cbr\\u003esum of Unemployment(%)=%{y}\\u003cextra\\u003e\\u003c\\u002fextra\\u003e\",\"legendgroup\":\"\",\"marker\":{\"color\":\"#636efa\",\"pattern\":{\"shape\":\"\"}},\"name\":\"\",\"offsetgroup\":\"\",\"orientation\":\"v\",\"showlegend\":false,\"x\":[\"Qatar\",\"Thailand\",\"Singapore\",\"Japan\",\"Mexico\",\"Poland\",\"Belarus\",\"Germany\",\"United Arab Emirates\",\"Malaysia\"],\"xaxis\":\"x\",\"y\":[0.3,1.1,1.9,2.5,2.8,2.93,3.04,3.29,3.4,3.52],\"yaxis\":\"y\",\"type\":\"histogram\"}],                        {\"template\":{\"data\":{\"histogram2dcontour\":[{\"type\":\"histogram2dcontour\",\"colorbar\":{\"outlinewidth\":0,\"ticks\":\"\"},\"colorscale\":[[0.0,\"#0d0887\"],[0.1111111111111111,\"#46039f\"],[0.2222222222222222,\"#7201a8\"],[0.3333333333333333,\"#9c179e\"],[0.4444444444444444,\"#bd3786\"],[0.5555555555555556,\"#d8576b\"],[0.6666666666666666,\"#ed7953\"],[0.7777777777777778,\"#fb9f3a\"],[0.8888888888888888,\"#fdca26\"],[1.0,\"#f0f921\"]]}],\"choropleth\":[{\"type\":\"choropleth\",\"colorbar\":{\"outlinewidth\":0,\"ticks\":\"\"}}],\"histogram2d\":[{\"type\":\"histogram2d\",\"colorbar\":{\"outlinewidth\":0,\"ticks\":\"\"},\"colorscale\":[[0.0,\"#0d0887\"],[0.1111111111111111,\"#46039f\"],[0.2222222222222222,\"#7201a8\"],[0.3333333333333333,\"#9c179e\"],[0.4444444444444444,\"#bd3786\"],[0.5555555555555556,\"#d8576b\"],[0.6666666666666666,\"#ed7953\"],[0.7777777777777778,\"#fb9f3a\"],[0.8888888888888888,\"#fdca26\"],[1.0,\"#f0f921\"]]}],\"heatmap\":[{\"type\":\"heatmap\",\"colorbar\":{\"outlinewidth\":0,\"ticks\":\"\"},\"colorscale\":[[0.0,\"#0d0887\"],[0.1111111111111111,\"#46039f\"],[0.2222222222222222,\"#7201a8\"],[0.3333333333333333,\"#9c179e\"],[0.4444444444444444,\"#bd3786\"],[0.5555555555555556,\"#d8576b\"],[0.6666666666666666,\"#ed7953\"],[0.7777777777777778,\"#fb9f3a\"],[0.8888888888888888,\"#fdca26\"],[1.0,\"#f0f921\"]]}],\"heatmapgl\":[{\"type\":\"heatmapgl\",\"colorbar\":{\"outlinewidth\":0,\"ticks\":\"\"},\"colorscale\":[[0.0,\"#0d0887\"],[0.1111111111111111,\"#46039f\"],[0.2222222222222222,\"#7201a8\"],[0.3333333333333333,\"#9c179e\"],[0.4444444444444444,\"#bd3786\"],[0.5555555555555556,\"#d8576b\"],[0.6666666666666666,\"#ed7953\"],[0.7777777777777778,\"#fb9f3a\"],[0.8888888888888888,\"#fdca26\"],[1.0,\"#f0f921\"]]}],\"contourcarpet\":[{\"type\":\"contourcarpet\",\"colorbar\":{\"outlinewidth\":0,\"ticks\":\"\"}}],\"contour\":[{\"type\":\"contour\",\"colorbar\":{\"outlinewidth\":0,\"ticks\":\"\"},\"colorscale\":[[0.0,\"#0d0887\"],[0.1111111111111111,\"#46039f\"],[0.2222222222222222,\"#7201a8\"],[0.3333333333333333,\"#9c179e\"],[0.4444444444444444,\"#bd3786\"],[0.5555555555555556,\"#d8576b\"],[0.6666666666666666,\"#ed7953\"],[0.7777777777777778,\"#fb9f3a\"],[0.8888888888888888,\"#fdca26\"],[1.0,\"#f0f921\"]]}],\"surface\":[{\"type\":\"surface\",\"colorbar\":{\"outlinewidth\":0,\"ticks\":\"\"},\"colorscale\":[[0.0,\"#0d0887\"],[0.1111111111111111,\"#46039f\"],[0.2222222222222222,\"#7201a8\"],[0.3333333333333333,\"#9c179e\"],[0.4444444444444444,\"#bd3786\"],[0.5555555555555556,\"#d8576b\"],[0.6666666666666666,\"#ed7953\"],[0.7777777777777778,\"#fb9f3a\"],[0.8888888888888888,\"#fdca26\"],[1.0,\"#f0f921\"]]}],\"mesh3d\":[{\"type\":\"mesh3d\",\"colorbar\":{\"outlinewidth\":0,\"ticks\":\"\"}}],\"scatter\":[{\"fillpattern\":{\"fillmode\":\"overlay\",\"size\":10,\"solidity\":0.2},\"type\":\"scatter\"}],\"parcoords\":[{\"type\":\"parcoords\",\"line\":{\"colorbar\":{\"outlinewidth\":0,\"ticks\":\"\"}}}],\"scatterpolargl\":[{\"type\":\"scatterpolargl\",\"marker\":{\"colorbar\":{\"outlinewidth\":0,\"ticks\":\"\"}}}],\"bar\":[{\"error_x\":{\"color\":\"#2a3f5f\"},\"error_y\":{\"color\":\"#2a3f5f\"},\"marker\":{\"line\":{\"color\":\"#E5ECF6\",\"width\":0.5},\"pattern\":{\"fillmode\":\"overlay\",\"size\":10,\"solidity\":0.2}},\"type\":\"bar\"}],\"scattergeo\":[{\"type\":\"scattergeo\",\"marker\":{\"colorbar\":{\"outlinewidth\":0,\"ticks\":\"\"}}}],\"scatterpolar\":[{\"type\":\"scatterpolar\",\"marker\":{\"colorbar\":{\"outlinewidth\":0,\"ticks\":\"\"}}}],\"histogram\":[{\"marker\":{\"pattern\":{\"fillmode\":\"overlay\",\"size\":10,\"solidity\":0.2}},\"type\":\"histogram\"}],\"scattergl\":[{\"type\":\"scattergl\",\"marker\":{\"colorbar\":{\"outlinewidth\":0,\"ticks\":\"\"}}}],\"scatter3d\":[{\"type\":\"scatter3d\",\"line\":{\"colorbar\":{\"outlinewidth\":0,\"ticks\":\"\"}},\"marker\":{\"colorbar\":{\"outlinewidth\":0,\"ticks\":\"\"}}}],\"scattermapbox\":[{\"type\":\"scattermapbox\",\"marker\":{\"colorbar\":{\"outlinewidth\":0,\"ticks\":\"\"}}}],\"scatterternary\":[{\"type\":\"scatterternary\",\"marker\":{\"colorbar\":{\"outlinewidth\":0,\"ticks\":\"\"}}}],\"scattercarpet\":[{\"type\":\"scattercarpet\",\"marker\":{\"colorbar\":{\"outlinewidth\":0,\"ticks\":\"\"}}}],\"carpet\":[{\"aaxis\":{\"endlinecolor\":\"#2a3f5f\",\"gridcolor\":\"white\",\"linecolor\":\"white\",\"minorgridcolor\":\"white\",\"startlinecolor\":\"#2a3f5f\"},\"baxis\":{\"endlinecolor\":\"#2a3f5f\",\"gridcolor\":\"white\",\"linecolor\":\"white\",\"minorgridcolor\":\"white\",\"startlinecolor\":\"#2a3f5f\"},\"type\":\"carpet\"}],\"table\":[{\"cells\":{\"fill\":{\"color\":\"#EBF0F8\"},\"line\":{\"color\":\"white\"}},\"header\":{\"fill\":{\"color\":\"#C8D4E3\"},\"line\":{\"color\":\"white\"}},\"type\":\"table\"}],\"barpolar\":[{\"marker\":{\"line\":{\"color\":\"#E5ECF6\",\"width\":0.5},\"pattern\":{\"fillmode\":\"overlay\",\"size\":10,\"solidity\":0.2}},\"type\":\"barpolar\"}],\"pie\":[{\"automargin\":true,\"type\":\"pie\"}]},\"layout\":{\"autotypenumbers\":\"strict\",\"colorway\":[\"#636efa\",\"#EF553B\",\"#00cc96\",\"#ab63fa\",\"#FFA15A\",\"#19d3f3\",\"#FF6692\",\"#B6E880\",\"#FF97FF\",\"#FECB52\"],\"font\":{\"color\":\"#2a3f5f\"},\"hovermode\":\"closest\",\"hoverlabel\":{\"align\":\"left\"},\"paper_bgcolor\":\"white\",\"plot_bgcolor\":\"#E5ECF6\",\"polar\":{\"bgcolor\":\"#E5ECF6\",\"angularaxis\":{\"gridcolor\":\"white\",\"linecolor\":\"white\",\"ticks\":\"\"},\"radialaxis\":{\"gridcolor\":\"white\",\"linecolor\":\"white\",\"ticks\":\"\"}},\"ternary\":{\"bgcolor\":\"#E5ECF6\",\"aaxis\":{\"gridcolor\":\"white\",\"linecolor\":\"white\",\"ticks\":\"\"},\"baxis\":{\"gridcolor\":\"white\",\"linecolor\":\"white\",\"ticks\":\"\"},\"caxis\":{\"gridcolor\":\"white\",\"linecolor\":\"white\",\"ticks\":\"\"}},\"coloraxis\":{\"colorbar\":{\"outlinewidth\":0,\"ticks\":\"\"}},\"colorscale\":{\"sequential\":[[0.0,\"#0d0887\"],[0.1111111111111111,\"#46039f\"],[0.2222222222222222,\"#7201a8\"],[0.3333333333333333,\"#9c179e\"],[0.4444444444444444,\"#bd3786\"],[0.5555555555555556,\"#d8576b\"],[0.6666666666666666,\"#ed7953\"],[0.7777777777777778,\"#fb9f3a\"],[0.8888888888888888,\"#fdca26\"],[1.0,\"#f0f921\"]],\"sequentialminus\":[[0.0,\"#0d0887\"],[0.1111111111111111,\"#46039f\"],[0.2222222222222222,\"#7201a8\"],[0.3333333333333333,\"#9c179e\"],[0.4444444444444444,\"#bd3786\"],[0.5555555555555556,\"#d8576b\"],[0.6666666666666666,\"#ed7953\"],[0.7777777777777778,\"#fb9f3a\"],[0.8888888888888888,\"#fdca26\"],[1.0,\"#f0f921\"]],\"diverging\":[[0,\"#8e0152\"],[0.1,\"#c51b7d\"],[0.2,\"#de77ae\"],[0.3,\"#f1b6da\"],[0.4,\"#fde0ef\"],[0.5,\"#f7f7f7\"],[0.6,\"#e6f5d0\"],[0.7,\"#b8e186\"],[0.8,\"#7fbc41\"],[0.9,\"#4d9221\"],[1,\"#276419\"]]},\"xaxis\":{\"gridcolor\":\"white\",\"linecolor\":\"white\",\"ticks\":\"\",\"title\":{\"standoff\":15},\"zerolinecolor\":\"white\",\"automargin\":true,\"zerolinewidth\":2},\"yaxis\":{\"gridcolor\":\"white\",\"linecolor\":\"white\",\"ticks\":\"\",\"title\":{\"standoff\":15},\"zerolinecolor\":\"white\",\"automargin\":true,\"zerolinewidth\":2},\"scene\":{\"xaxis\":{\"backgroundcolor\":\"#E5ECF6\",\"gridcolor\":\"white\",\"linecolor\":\"white\",\"showbackground\":true,\"ticks\":\"\",\"zerolinecolor\":\"white\",\"gridwidth\":2},\"yaxis\":{\"backgroundcolor\":\"#E5ECF6\",\"gridcolor\":\"white\",\"linecolor\":\"white\",\"showbackground\":true,\"ticks\":\"\",\"zerolinecolor\":\"white\",\"gridwidth\":2},\"zaxis\":{\"backgroundcolor\":\"#E5ECF6\",\"gridcolor\":\"white\",\"linecolor\":\"white\",\"showbackground\":true,\"ticks\":\"\",\"zerolinecolor\":\"white\",\"gridwidth\":2}},\"shapedefaults\":{\"line\":{\"color\":\"#2a3f5f\"}},\"annotationdefaults\":{\"arrowcolor\":\"#2a3f5f\",\"arrowhead\":0,\"arrowwidth\":1},\"geo\":{\"bgcolor\":\"white\",\"landcolor\":\"#E5ECF6\",\"subunitcolor\":\"white\",\"showland\":true,\"showlakes\":true,\"lakecolor\":\"white\"},\"title\":{\"x\":0.05},\"mapbox\":{\"style\":\"light\"}}},\"xaxis\":{\"anchor\":\"y\",\"domain\":[0.0,1.0],\"title\":{\"text\":\"Country\"}},\"yaxis\":{\"anchor\":\"x\",\"domain\":[0.0,1.0],\"title\":{\"text\":\"sum of Unemployment(%)\"}},\"legend\":{\"tracegroupgap\":0},\"margin\":{\"t\":60},\"barmode\":\"relative\"},                        {\"responsive\": true}                    ).then(function(){\n",
       "                            \n",
       "var gd = document.getElementById('20d22459-5320-4de4-95a1-704992afd729');\n",
       "var x = new MutationObserver(function (mutations, observer) {{\n",
       "        var display = window.getComputedStyle(gd).display;\n",
       "        if (!display || display === 'none') {{\n",
       "            console.log([gd, 'removed!']);\n",
       "            Plotly.purge(gd);\n",
       "            observer.disconnect();\n",
       "        }}\n",
       "}});\n",
       "\n",
       "// Listen for the removal of the full notebook cells\n",
       "var notebookContainer = gd.closest('#notebook-container');\n",
       "if (notebookContainer) {{\n",
       "    x.observe(notebookContainer, {childList: true});\n",
       "}}\n",
       "\n",
       "// Listen for the clearing of the current output cell\n",
       "var outputEl = gd.closest('.output');\n",
       "if (outputEl) {{\n",
       "    x.observe(outputEl, {childList: true});\n",
       "}}\n",
       "\n",
       "                        })                };                });            </script>        </div>"
      ]
     },
     "metadata": {},
     "output_type": "display_data"
    }
   ],
   "source": [
    "import plotly.express as px\n",
    "fig = px.histogram(un, x=\"Country\",y=\"Unemployment(%)\")\n",
    "fig.show()"
   ]
  },
  {
   "cell_type": "code",
   "execution_count": 1427,
   "id": "8d8102d7-c2d3-4784-b67f-bb54f76a53fa",
   "metadata": {},
   "outputs": [],
   "source": [
    "i=new.sort_values(by=\"Inflation(%)\",ascending=True).head(10)"
   ]
  },
  {
   "cell_type": "code",
   "execution_count": 1428,
   "id": "7882fb27-2885-40bf-8214-eddba148bb42",
   "metadata": {},
   "outputs": [
    {
     "data": {
      "text/html": [
       "<div>\n",
       "<style scoped>\n",
       "    .dataframe tbody tr th:only-of-type {\n",
       "        vertical-align: middle;\n",
       "    }\n",
       "\n",
       "    .dataframe tbody tr th {\n",
       "        vertical-align: top;\n",
       "    }\n",
       "\n",
       "    .dataframe thead th {\n",
       "        text-align: right;\n",
       "    }\n",
       "</style>\n",
       "<table border=\"1\" class=\"dataframe\">\n",
       "  <thead>\n",
       "    <tr style=\"text-align: right;\">\n",
       "      <th></th>\n",
       "      <th>Country</th>\n",
       "      <th>cost of living</th>\n",
       "      <th>cost index</th>\n",
       "      <th>cost of living.Monthly income (USD)</th>\n",
       "      <th>Purchasing Power Index</th>\n",
       "      <th>currency rate</th>\n",
       "      <th>Gdp</th>\n",
       "      <th>population</th>\n",
       "      <th>population.Migrants (net)</th>\n",
       "      <th>Skilled force</th>\n",
       "      <th>technology.2023 rank</th>\n",
       "      <th>Unemployment(%)</th>\n",
       "      <th>Inflation(%)</th>\n",
       "      <th>Monthly salary+Tax(USD)</th>\n",
       "      <th>Literacy rate(%)</th>\n",
       "    </tr>\n",
       "  </thead>\n",
       "  <tbody>\n",
       "    <tr>\n",
       "      <th>55</th>\n",
       "      <td>Sri Lanka</td>\n",
       "      <td>97</td>\n",
       "      <td>27.5</td>\n",
       "      <td>295</td>\n",
       "      <td>16.0</td>\n",
       "      <td>12.100</td>\n",
       "      <td>3828</td>\n",
       "      <td>23103565</td>\n",
       "      <td>-27245</td>\n",
       "      <td>8707414</td>\n",
       "      <td>89</td>\n",
       "      <td>4.30</td>\n",
       "      <td>-0.80</td>\n",
       "      <td>206.76</td>\n",
       "      <td>98.8</td>\n",
       "    </tr>\n",
       "    <tr>\n",
       "      <th>14</th>\n",
       "      <td>Costa Rica</td>\n",
       "      <td>39</td>\n",
       "      <td>67.2</td>\n",
       "      <td>1154</td>\n",
       "      <td>25.7</td>\n",
       "      <td>5.112</td>\n",
       "      <td>16595</td>\n",
       "      <td>5129910</td>\n",
       "      <td>967</td>\n",
       "      <td>2407610</td>\n",
       "      <td>57</td>\n",
       "      <td>8.29</td>\n",
       "      <td>-0.79</td>\n",
       "      <td>964.67</td>\n",
       "      <td>99.5</td>\n",
       "    </tr>\n",
       "    <tr>\n",
       "      <th>18</th>\n",
       "      <td>El Salvador</td>\n",
       "      <td>54</td>\n",
       "      <td>49.0</td>\n",
       "      <td>410</td>\n",
       "      <td>12.5</td>\n",
       "      <td>3.498</td>\n",
       "      <td>5344</td>\n",
       "      <td>6338193</td>\n",
       "      <td>-23102</td>\n",
       "      <td>2870401</td>\n",
       "      <td>102</td>\n",
       "      <td>5.50</td>\n",
       "      <td>-0.07</td>\n",
       "      <td>501.07</td>\n",
       "      <td>98.3</td>\n",
       "    </tr>\n",
       "    <tr>\n",
       "      <th>12</th>\n",
       "      <td>China</td>\n",
       "      <td>49</td>\n",
       "      <td>51.5</td>\n",
       "      <td>1117</td>\n",
       "      <td>32.4</td>\n",
       "      <td>5.240</td>\n",
       "      <td>12614</td>\n",
       "      <td>1419321278</td>\n",
       "      <td>-318992</td>\n",
       "      <td>779245529</td>\n",
       "      <td>35</td>\n",
       "      <td>5.10</td>\n",
       "      <td>0.30</td>\n",
       "      <td>938.91</td>\n",
       "      <td>99.8</td>\n",
       "    </tr>\n",
       "    <tr>\n",
       "      <th>22</th>\n",
       "      <td>Georgia</td>\n",
       "      <td>90</td>\n",
       "      <td>30.4</td>\n",
       "      <td>557</td>\n",
       "      <td>27.3</td>\n",
       "      <td>7.474</td>\n",
       "      <td>8120</td>\n",
       "      <td>3807670</td>\n",
       "      <td>1745</td>\n",
       "      <td>1853143</td>\n",
       "      <td>79</td>\n",
       "      <td>15.70</td>\n",
       "      <td>0.30</td>\n",
       "      <td>505.05</td>\n",
       "      <td>99.7</td>\n",
       "    </tr>\n",
       "    <tr>\n",
       "      <th>29</th>\n",
       "      <td>Ireland</td>\n",
       "      <td>11</td>\n",
       "      <td>102.7</td>\n",
       "      <td>6699</td>\n",
       "      <td>97.4</td>\n",
       "      <td>-3.199</td>\n",
       "      <td>103685</td>\n",
       "      <td>5255017</td>\n",
       "      <td>39059</td>\n",
       "      <td>2766155</td>\n",
       "      <td>14</td>\n",
       "      <td>4.38</td>\n",
       "      <td>0.70</td>\n",
       "      <td>3073.35</td>\n",
       "      <td>99.0</td>\n",
       "    </tr>\n",
       "    <tr>\n",
       "      <th>20</th>\n",
       "      <td>Finland</td>\n",
       "      <td>22</td>\n",
       "      <td>90.2</td>\n",
       "      <td>4449</td>\n",
       "      <td>73.7</td>\n",
       "      <td>-0.957</td>\n",
       "      <td>53756</td>\n",
       "      <td>5617310</td>\n",
       "      <td>26894</td>\n",
       "      <td>2879817</td>\n",
       "      <td>8</td>\n",
       "      <td>7.60</td>\n",
       "      <td>0.80</td>\n",
       "      <td>2818.03</td>\n",
       "      <td>99.0</td>\n",
       "    </tr>\n",
       "    <tr>\n",
       "      <th>39</th>\n",
       "      <td>Morocco</td>\n",
       "      <td>63</td>\n",
       "      <td>40.6</td>\n",
       "      <td>308</td>\n",
       "      <td>11.3</td>\n",
       "      <td>3.017</td>\n",
       "      <td>3672</td>\n",
       "      <td>38081173</td>\n",
       "      <td>-46802</td>\n",
       "      <td>12284010</td>\n",
       "      <td>70</td>\n",
       "      <td>12.00</td>\n",
       "      <td>0.80</td>\n",
       "      <td>418.32</td>\n",
       "      <td>98.5</td>\n",
       "    </tr>\n",
       "    <tr>\n",
       "      <th>48</th>\n",
       "      <td>Qatar</td>\n",
       "      <td>31</td>\n",
       "      <td>76.9</td>\n",
       "      <td>5839</td>\n",
       "      <td>113.5</td>\n",
       "      <td>1.558</td>\n",
       "      <td>87480</td>\n",
       "      <td>3048423</td>\n",
       "      <td>46105</td>\n",
       "      <td>2035269</td>\n",
       "      <td>67</td>\n",
       "      <td>0.30</td>\n",
       "      <td>0.82</td>\n",
       "      <td>4086.40</td>\n",
       "      <td>98.7</td>\n",
       "    </tr>\n",
       "    <tr>\n",
       "      <th>57</th>\n",
       "      <td>Thailand</td>\n",
       "      <td>81</td>\n",
       "      <td>32.2</td>\n",
       "      <td>598</td>\n",
       "      <td>27.8</td>\n",
       "      <td>1.872</td>\n",
       "      <td>7172</td>\n",
       "      <td>71668011</td>\n",
       "      <td>23321</td>\n",
       "      <td>40813511</td>\n",
       "      <td>49</td>\n",
       "      <td>1.10</td>\n",
       "      <td>0.83</td>\n",
       "      <td>584.14</td>\n",
       "      <td>98.8</td>\n",
       "    </tr>\n",
       "  </tbody>\n",
       "</table>\n",
       "</div>"
      ],
      "text/plain": [
       "        Country  cost of living  cost index  \\\n",
       "55    Sri Lanka              97        27.5   \n",
       "14   Costa Rica              39        67.2   \n",
       "18  El Salvador              54        49.0   \n",
       "12        China              49        51.5   \n",
       "22      Georgia              90        30.4   \n",
       "29      Ireland              11       102.7   \n",
       "20      Finland              22        90.2   \n",
       "39      Morocco              63        40.6   \n",
       "48        Qatar              31        76.9   \n",
       "57     Thailand              81        32.2   \n",
       "\n",
       "    cost of living.Monthly income (USD)  Purchasing Power Index  \\\n",
       "55                                  295                    16.0   \n",
       "14                                 1154                    25.7   \n",
       "18                                  410                    12.5   \n",
       "12                                 1117                    32.4   \n",
       "22                                  557                    27.3   \n",
       "29                                 6699                    97.4   \n",
       "20                                 4449                    73.7   \n",
       "39                                  308                    11.3   \n",
       "48                                 5839                   113.5   \n",
       "57                                  598                    27.8   \n",
       "\n",
       "    currency rate     Gdp  population  population.Migrants (net)  \\\n",
       "55         12.100    3828    23103565                     -27245   \n",
       "14          5.112   16595     5129910                        967   \n",
       "18          3.498    5344     6338193                     -23102   \n",
       "12          5.240   12614  1419321278                    -318992   \n",
       "22          7.474    8120     3807670                       1745   \n",
       "29         -3.199  103685     5255017                      39059   \n",
       "20         -0.957   53756     5617310                      26894   \n",
       "39          3.017    3672    38081173                     -46802   \n",
       "48          1.558   87480     3048423                      46105   \n",
       "57          1.872    7172    71668011                      23321   \n",
       "\n",
       "    Skilled force  technology.2023 rank  Unemployment(%)  Inflation(%)  \\\n",
       "55        8707414                    89             4.30         -0.80   \n",
       "14        2407610                    57             8.29         -0.79   \n",
       "18        2870401                   102             5.50         -0.07   \n",
       "12      779245529                    35             5.10          0.30   \n",
       "22        1853143                    79            15.70          0.30   \n",
       "29        2766155                    14             4.38          0.70   \n",
       "20        2879817                     8             7.60          0.80   \n",
       "39       12284010                    70            12.00          0.80   \n",
       "48        2035269                    67             0.30          0.82   \n",
       "57       40813511                    49             1.10          0.83   \n",
       "\n",
       "    Monthly salary+Tax(USD)  Literacy rate(%)  \n",
       "55                   206.76              98.8  \n",
       "14                   964.67              99.5  \n",
       "18                   501.07              98.3  \n",
       "12                   938.91              99.8  \n",
       "22                   505.05              99.7  \n",
       "29                  3073.35              99.0  \n",
       "20                  2818.03              99.0  \n",
       "39                   418.32              98.5  \n",
       "48                  4086.40              98.7  \n",
       "57                   584.14              98.8  "
      ]
     },
     "execution_count": 1428,
     "metadata": {},
     "output_type": "execute_result"
    }
   ],
   "source": [
    "i"
   ]
  },
  {
   "cell_type": "code",
   "execution_count": 1429,
   "id": "b94281f3-dff8-4c37-8d1d-239edbfb465f",
   "metadata": {},
   "outputs": [
    {
     "data": {
      "application/vnd.plotly.v1+json": {
       "config": {
        "plotlyServerURL": "https://plot.ly"
       },
       "data": [
        {
         "alignmentgroup": "True",
         "bingroup": "x",
         "histfunc": "sum",
         "hovertemplate": "Country=%{x}<br>sum of Inflation(%)=%{y}<extra></extra>",
         "legendgroup": "",
         "marker": {
          "color": "#636efa",
          "pattern": {
           "shape": ""
          }
         },
         "name": "",
         "offsetgroup": "",
         "orientation": "v",
         "showlegend": false,
         "type": "histogram",
         "x": [
          "Sri Lanka",
          "Costa Rica",
          "El Salvador",
          "China",
          "Georgia",
          "Ireland",
          "Finland",
          "Morocco",
          "Qatar",
          "Thailand"
         ],
         "xaxis": "x",
         "y": [
          -0.8,
          -0.79,
          -0.07,
          0.3,
          0.3,
          0.7,
          0.8,
          0.8,
          0.82,
          0.83
         ],
         "yaxis": "y"
        }
       ],
       "layout": {
        "autosize": true,
        "barmode": "relative",
        "legend": {
         "tracegroupgap": 0
        },
        "margin": {
         "t": 60
        },
        "template": {
         "data": {
          "bar": [
           {
            "error_x": {
             "color": "#2a3f5f"
            },
            "error_y": {
             "color": "#2a3f5f"
            },
            "marker": {
             "line": {
              "color": "#E5ECF6",
              "width": 0.5
             },
             "pattern": {
              "fillmode": "overlay",
              "size": 10,
              "solidity": 0.2
             }
            },
            "type": "bar"
           }
          ],
          "barpolar": [
           {
            "marker": {
             "line": {
              "color": "#E5ECF6",
              "width": 0.5
             },
             "pattern": {
              "fillmode": "overlay",
              "size": 10,
              "solidity": 0.2
             }
            },
            "type": "barpolar"
           }
          ],
          "carpet": [
           {
            "aaxis": {
             "endlinecolor": "#2a3f5f",
             "gridcolor": "white",
             "linecolor": "white",
             "minorgridcolor": "white",
             "startlinecolor": "#2a3f5f"
            },
            "baxis": {
             "endlinecolor": "#2a3f5f",
             "gridcolor": "white",
             "linecolor": "white",
             "minorgridcolor": "white",
             "startlinecolor": "#2a3f5f"
            },
            "type": "carpet"
           }
          ],
          "choropleth": [
           {
            "colorbar": {
             "outlinewidth": 0,
             "ticks": ""
            },
            "type": "choropleth"
           }
          ],
          "contour": [
           {
            "colorbar": {
             "outlinewidth": 0,
             "ticks": ""
            },
            "colorscale": [
             [
              0,
              "#0d0887"
             ],
             [
              0.1111111111111111,
              "#46039f"
             ],
             [
              0.2222222222222222,
              "#7201a8"
             ],
             [
              0.3333333333333333,
              "#9c179e"
             ],
             [
              0.4444444444444444,
              "#bd3786"
             ],
             [
              0.5555555555555556,
              "#d8576b"
             ],
             [
              0.6666666666666666,
              "#ed7953"
             ],
             [
              0.7777777777777778,
              "#fb9f3a"
             ],
             [
              0.8888888888888888,
              "#fdca26"
             ],
             [
              1,
              "#f0f921"
             ]
            ],
            "type": "contour"
           }
          ],
          "contourcarpet": [
           {
            "colorbar": {
             "outlinewidth": 0,
             "ticks": ""
            },
            "type": "contourcarpet"
           }
          ],
          "heatmap": [
           {
            "colorbar": {
             "outlinewidth": 0,
             "ticks": ""
            },
            "colorscale": [
             [
              0,
              "#0d0887"
             ],
             [
              0.1111111111111111,
              "#46039f"
             ],
             [
              0.2222222222222222,
              "#7201a8"
             ],
             [
              0.3333333333333333,
              "#9c179e"
             ],
             [
              0.4444444444444444,
              "#bd3786"
             ],
             [
              0.5555555555555556,
              "#d8576b"
             ],
             [
              0.6666666666666666,
              "#ed7953"
             ],
             [
              0.7777777777777778,
              "#fb9f3a"
             ],
             [
              0.8888888888888888,
              "#fdca26"
             ],
             [
              1,
              "#f0f921"
             ]
            ],
            "type": "heatmap"
           }
          ],
          "heatmapgl": [
           {
            "colorbar": {
             "outlinewidth": 0,
             "ticks": ""
            },
            "colorscale": [
             [
              0,
              "#0d0887"
             ],
             [
              0.1111111111111111,
              "#46039f"
             ],
             [
              0.2222222222222222,
              "#7201a8"
             ],
             [
              0.3333333333333333,
              "#9c179e"
             ],
             [
              0.4444444444444444,
              "#bd3786"
             ],
             [
              0.5555555555555556,
              "#d8576b"
             ],
             [
              0.6666666666666666,
              "#ed7953"
             ],
             [
              0.7777777777777778,
              "#fb9f3a"
             ],
             [
              0.8888888888888888,
              "#fdca26"
             ],
             [
              1,
              "#f0f921"
             ]
            ],
            "type": "heatmapgl"
           }
          ],
          "histogram": [
           {
            "marker": {
             "pattern": {
              "fillmode": "overlay",
              "size": 10,
              "solidity": 0.2
             }
            },
            "type": "histogram"
           }
          ],
          "histogram2d": [
           {
            "colorbar": {
             "outlinewidth": 0,
             "ticks": ""
            },
            "colorscale": [
             [
              0,
              "#0d0887"
             ],
             [
              0.1111111111111111,
              "#46039f"
             ],
             [
              0.2222222222222222,
              "#7201a8"
             ],
             [
              0.3333333333333333,
              "#9c179e"
             ],
             [
              0.4444444444444444,
              "#bd3786"
             ],
             [
              0.5555555555555556,
              "#d8576b"
             ],
             [
              0.6666666666666666,
              "#ed7953"
             ],
             [
              0.7777777777777778,
              "#fb9f3a"
             ],
             [
              0.8888888888888888,
              "#fdca26"
             ],
             [
              1,
              "#f0f921"
             ]
            ],
            "type": "histogram2d"
           }
          ],
          "histogram2dcontour": [
           {
            "colorbar": {
             "outlinewidth": 0,
             "ticks": ""
            },
            "colorscale": [
             [
              0,
              "#0d0887"
             ],
             [
              0.1111111111111111,
              "#46039f"
             ],
             [
              0.2222222222222222,
              "#7201a8"
             ],
             [
              0.3333333333333333,
              "#9c179e"
             ],
             [
              0.4444444444444444,
              "#bd3786"
             ],
             [
              0.5555555555555556,
              "#d8576b"
             ],
             [
              0.6666666666666666,
              "#ed7953"
             ],
             [
              0.7777777777777778,
              "#fb9f3a"
             ],
             [
              0.8888888888888888,
              "#fdca26"
             ],
             [
              1,
              "#f0f921"
             ]
            ],
            "type": "histogram2dcontour"
           }
          ],
          "mesh3d": [
           {
            "colorbar": {
             "outlinewidth": 0,
             "ticks": ""
            },
            "type": "mesh3d"
           }
          ],
          "parcoords": [
           {
            "line": {
             "colorbar": {
              "outlinewidth": 0,
              "ticks": ""
             }
            },
            "type": "parcoords"
           }
          ],
          "pie": [
           {
            "automargin": true,
            "type": "pie"
           }
          ],
          "scatter": [
           {
            "fillpattern": {
             "fillmode": "overlay",
             "size": 10,
             "solidity": 0.2
            },
            "type": "scatter"
           }
          ],
          "scatter3d": [
           {
            "line": {
             "colorbar": {
              "outlinewidth": 0,
              "ticks": ""
             }
            },
            "marker": {
             "colorbar": {
              "outlinewidth": 0,
              "ticks": ""
             }
            },
            "type": "scatter3d"
           }
          ],
          "scattercarpet": [
           {
            "marker": {
             "colorbar": {
              "outlinewidth": 0,
              "ticks": ""
             }
            },
            "type": "scattercarpet"
           }
          ],
          "scattergeo": [
           {
            "marker": {
             "colorbar": {
              "outlinewidth": 0,
              "ticks": ""
             }
            },
            "type": "scattergeo"
           }
          ],
          "scattergl": [
           {
            "marker": {
             "colorbar": {
              "outlinewidth": 0,
              "ticks": ""
             }
            },
            "type": "scattergl"
           }
          ],
          "scattermapbox": [
           {
            "marker": {
             "colorbar": {
              "outlinewidth": 0,
              "ticks": ""
             }
            },
            "type": "scattermapbox"
           }
          ],
          "scatterpolar": [
           {
            "marker": {
             "colorbar": {
              "outlinewidth": 0,
              "ticks": ""
             }
            },
            "type": "scatterpolar"
           }
          ],
          "scatterpolargl": [
           {
            "marker": {
             "colorbar": {
              "outlinewidth": 0,
              "ticks": ""
             }
            },
            "type": "scatterpolargl"
           }
          ],
          "scatterternary": [
           {
            "marker": {
             "colorbar": {
              "outlinewidth": 0,
              "ticks": ""
             }
            },
            "type": "scatterternary"
           }
          ],
          "surface": [
           {
            "colorbar": {
             "outlinewidth": 0,
             "ticks": ""
            },
            "colorscale": [
             [
              0,
              "#0d0887"
             ],
             [
              0.1111111111111111,
              "#46039f"
             ],
             [
              0.2222222222222222,
              "#7201a8"
             ],
             [
              0.3333333333333333,
              "#9c179e"
             ],
             [
              0.4444444444444444,
              "#bd3786"
             ],
             [
              0.5555555555555556,
              "#d8576b"
             ],
             [
              0.6666666666666666,
              "#ed7953"
             ],
             [
              0.7777777777777778,
              "#fb9f3a"
             ],
             [
              0.8888888888888888,
              "#fdca26"
             ],
             [
              1,
              "#f0f921"
             ]
            ],
            "type": "surface"
           }
          ],
          "table": [
           {
            "cells": {
             "fill": {
              "color": "#EBF0F8"
             },
             "line": {
              "color": "white"
             }
            },
            "header": {
             "fill": {
              "color": "#C8D4E3"
             },
             "line": {
              "color": "white"
             }
            },
            "type": "table"
           }
          ]
         },
         "layout": {
          "annotationdefaults": {
           "arrowcolor": "#2a3f5f",
           "arrowhead": 0,
           "arrowwidth": 1
          },
          "autotypenumbers": "strict",
          "coloraxis": {
           "colorbar": {
            "outlinewidth": 0,
            "ticks": ""
           }
          },
          "colorscale": {
           "diverging": [
            [
             0,
             "#8e0152"
            ],
            [
             0.1,
             "#c51b7d"
            ],
            [
             0.2,
             "#de77ae"
            ],
            [
             0.3,
             "#f1b6da"
            ],
            [
             0.4,
             "#fde0ef"
            ],
            [
             0.5,
             "#f7f7f7"
            ],
            [
             0.6,
             "#e6f5d0"
            ],
            [
             0.7,
             "#b8e186"
            ],
            [
             0.8,
             "#7fbc41"
            ],
            [
             0.9,
             "#4d9221"
            ],
            [
             1,
             "#276419"
            ]
           ],
           "sequential": [
            [
             0,
             "#0d0887"
            ],
            [
             0.1111111111111111,
             "#46039f"
            ],
            [
             0.2222222222222222,
             "#7201a8"
            ],
            [
             0.3333333333333333,
             "#9c179e"
            ],
            [
             0.4444444444444444,
             "#bd3786"
            ],
            [
             0.5555555555555556,
             "#d8576b"
            ],
            [
             0.6666666666666666,
             "#ed7953"
            ],
            [
             0.7777777777777778,
             "#fb9f3a"
            ],
            [
             0.8888888888888888,
             "#fdca26"
            ],
            [
             1,
             "#f0f921"
            ]
           ],
           "sequentialminus": [
            [
             0,
             "#0d0887"
            ],
            [
             0.1111111111111111,
             "#46039f"
            ],
            [
             0.2222222222222222,
             "#7201a8"
            ],
            [
             0.3333333333333333,
             "#9c179e"
            ],
            [
             0.4444444444444444,
             "#bd3786"
            ],
            [
             0.5555555555555556,
             "#d8576b"
            ],
            [
             0.6666666666666666,
             "#ed7953"
            ],
            [
             0.7777777777777778,
             "#fb9f3a"
            ],
            [
             0.8888888888888888,
             "#fdca26"
            ],
            [
             1,
             "#f0f921"
            ]
           ]
          },
          "colorway": [
           "#636efa",
           "#EF553B",
           "#00cc96",
           "#ab63fa",
           "#FFA15A",
           "#19d3f3",
           "#FF6692",
           "#B6E880",
           "#FF97FF",
           "#FECB52"
          ],
          "font": {
           "color": "#2a3f5f"
          },
          "geo": {
           "bgcolor": "white",
           "lakecolor": "white",
           "landcolor": "#E5ECF6",
           "showlakes": true,
           "showland": true,
           "subunitcolor": "white"
          },
          "hoverlabel": {
           "align": "left"
          },
          "hovermode": "closest",
          "mapbox": {
           "style": "light"
          },
          "paper_bgcolor": "white",
          "plot_bgcolor": "#E5ECF6",
          "polar": {
           "angularaxis": {
            "gridcolor": "white",
            "linecolor": "white",
            "ticks": ""
           },
           "bgcolor": "#E5ECF6",
           "radialaxis": {
            "gridcolor": "white",
            "linecolor": "white",
            "ticks": ""
           }
          },
          "scene": {
           "xaxis": {
            "backgroundcolor": "#E5ECF6",
            "gridcolor": "white",
            "gridwidth": 2,
            "linecolor": "white",
            "showbackground": true,
            "ticks": "",
            "zerolinecolor": "white"
           },
           "yaxis": {
            "backgroundcolor": "#E5ECF6",
            "gridcolor": "white",
            "gridwidth": 2,
            "linecolor": "white",
            "showbackground": true,
            "ticks": "",
            "zerolinecolor": "white"
           },
           "zaxis": {
            "backgroundcolor": "#E5ECF6",
            "gridcolor": "white",
            "gridwidth": 2,
            "linecolor": "white",
            "showbackground": true,
            "ticks": "",
            "zerolinecolor": "white"
           }
          },
          "shapedefaults": {
           "line": {
            "color": "#2a3f5f"
           }
          },
          "ternary": {
           "aaxis": {
            "gridcolor": "white",
            "linecolor": "white",
            "ticks": ""
           },
           "baxis": {
            "gridcolor": "white",
            "linecolor": "white",
            "ticks": ""
           },
           "bgcolor": "#E5ECF6",
           "caxis": {
            "gridcolor": "white",
            "linecolor": "white",
            "ticks": ""
           }
          },
          "title": {
           "x": 0.05
          },
          "xaxis": {
           "automargin": true,
           "gridcolor": "white",
           "linecolor": "white",
           "ticks": "",
           "title": {
            "standoff": 15
           },
           "zerolinecolor": "white",
           "zerolinewidth": 2
          },
          "yaxis": {
           "automargin": true,
           "gridcolor": "white",
           "linecolor": "white",
           "ticks": "",
           "title": {
            "standoff": 15
           },
           "zerolinecolor": "white",
           "zerolinewidth": 2
          }
         }
        },
        "xaxis": {
         "anchor": "y",
         "autorange": true,
         "domain": [
          0,
          1
         ],
         "range": [
          -0.5,
          9.5
         ],
         "title": {
          "text": "Country"
         },
         "type": "category"
        },
        "yaxis": {
         "anchor": "x",
         "autorange": true,
         "domain": [
          0,
          1
         ],
         "range": [
          -0.8905555555555555,
          0.9205555555555556
         ],
         "title": {
          "text": "sum of Inflation(%)"
         },
         "type": "linear"
        }
       }
      },
      "text/html": [
       "<div>                            <div id=\"1306ce13-c735-4b3e-917c-6c6bd1febeb6\" class=\"plotly-graph-div\" style=\"height:525px; width:100%;\"></div>            <script type=\"text/javascript\">                require([\"plotly\"], function(Plotly) {                    window.PLOTLYENV=window.PLOTLYENV || {};                                    if (document.getElementById(\"1306ce13-c735-4b3e-917c-6c6bd1febeb6\")) {                    Plotly.newPlot(                        \"1306ce13-c735-4b3e-917c-6c6bd1febeb6\",                        [{\"alignmentgroup\":\"True\",\"bingroup\":\"x\",\"histfunc\":\"sum\",\"hovertemplate\":\"Country=%{x}\\u003cbr\\u003esum of Inflation(%)=%{y}\\u003cextra\\u003e\\u003c\\u002fextra\\u003e\",\"legendgroup\":\"\",\"marker\":{\"color\":\"#636efa\",\"pattern\":{\"shape\":\"\"}},\"name\":\"\",\"offsetgroup\":\"\",\"orientation\":\"v\",\"showlegend\":false,\"x\":[\"Sri Lanka\",\"Costa Rica\",\"El Salvador\",\"China\",\"Georgia\",\"Ireland\",\"Finland\",\"Morocco\",\"Qatar\",\"Thailand\"],\"xaxis\":\"x\",\"y\":[-0.8,-0.79,-0.07,0.3,0.3,0.7,0.8,0.8,0.82,0.83],\"yaxis\":\"y\",\"type\":\"histogram\"}],                        {\"template\":{\"data\":{\"histogram2dcontour\":[{\"type\":\"histogram2dcontour\",\"colorbar\":{\"outlinewidth\":0,\"ticks\":\"\"},\"colorscale\":[[0.0,\"#0d0887\"],[0.1111111111111111,\"#46039f\"],[0.2222222222222222,\"#7201a8\"],[0.3333333333333333,\"#9c179e\"],[0.4444444444444444,\"#bd3786\"],[0.5555555555555556,\"#d8576b\"],[0.6666666666666666,\"#ed7953\"],[0.7777777777777778,\"#fb9f3a\"],[0.8888888888888888,\"#fdca26\"],[1.0,\"#f0f921\"]]}],\"choropleth\":[{\"type\":\"choropleth\",\"colorbar\":{\"outlinewidth\":0,\"ticks\":\"\"}}],\"histogram2d\":[{\"type\":\"histogram2d\",\"colorbar\":{\"outlinewidth\":0,\"ticks\":\"\"},\"colorscale\":[[0.0,\"#0d0887\"],[0.1111111111111111,\"#46039f\"],[0.2222222222222222,\"#7201a8\"],[0.3333333333333333,\"#9c179e\"],[0.4444444444444444,\"#bd3786\"],[0.5555555555555556,\"#d8576b\"],[0.6666666666666666,\"#ed7953\"],[0.7777777777777778,\"#fb9f3a\"],[0.8888888888888888,\"#fdca26\"],[1.0,\"#f0f921\"]]}],\"heatmap\":[{\"type\":\"heatmap\",\"colorbar\":{\"outlinewidth\":0,\"ticks\":\"\"},\"colorscale\":[[0.0,\"#0d0887\"],[0.1111111111111111,\"#46039f\"],[0.2222222222222222,\"#7201a8\"],[0.3333333333333333,\"#9c179e\"],[0.4444444444444444,\"#bd3786\"],[0.5555555555555556,\"#d8576b\"],[0.6666666666666666,\"#ed7953\"],[0.7777777777777778,\"#fb9f3a\"],[0.8888888888888888,\"#fdca26\"],[1.0,\"#f0f921\"]]}],\"heatmapgl\":[{\"type\":\"heatmapgl\",\"colorbar\":{\"outlinewidth\":0,\"ticks\":\"\"},\"colorscale\":[[0.0,\"#0d0887\"],[0.1111111111111111,\"#46039f\"],[0.2222222222222222,\"#7201a8\"],[0.3333333333333333,\"#9c179e\"],[0.4444444444444444,\"#bd3786\"],[0.5555555555555556,\"#d8576b\"],[0.6666666666666666,\"#ed7953\"],[0.7777777777777778,\"#fb9f3a\"],[0.8888888888888888,\"#fdca26\"],[1.0,\"#f0f921\"]]}],\"contourcarpet\":[{\"type\":\"contourcarpet\",\"colorbar\":{\"outlinewidth\":0,\"ticks\":\"\"}}],\"contour\":[{\"type\":\"contour\",\"colorbar\":{\"outlinewidth\":0,\"ticks\":\"\"},\"colorscale\":[[0.0,\"#0d0887\"],[0.1111111111111111,\"#46039f\"],[0.2222222222222222,\"#7201a8\"],[0.3333333333333333,\"#9c179e\"],[0.4444444444444444,\"#bd3786\"],[0.5555555555555556,\"#d8576b\"],[0.6666666666666666,\"#ed7953\"],[0.7777777777777778,\"#fb9f3a\"],[0.8888888888888888,\"#fdca26\"],[1.0,\"#f0f921\"]]}],\"surface\":[{\"type\":\"surface\",\"colorbar\":{\"outlinewidth\":0,\"ticks\":\"\"},\"colorscale\":[[0.0,\"#0d0887\"],[0.1111111111111111,\"#46039f\"],[0.2222222222222222,\"#7201a8\"],[0.3333333333333333,\"#9c179e\"],[0.4444444444444444,\"#bd3786\"],[0.5555555555555556,\"#d8576b\"],[0.6666666666666666,\"#ed7953\"],[0.7777777777777778,\"#fb9f3a\"],[0.8888888888888888,\"#fdca26\"],[1.0,\"#f0f921\"]]}],\"mesh3d\":[{\"type\":\"mesh3d\",\"colorbar\":{\"outlinewidth\":0,\"ticks\":\"\"}}],\"scatter\":[{\"fillpattern\":{\"fillmode\":\"overlay\",\"size\":10,\"solidity\":0.2},\"type\":\"scatter\"}],\"parcoords\":[{\"type\":\"parcoords\",\"line\":{\"colorbar\":{\"outlinewidth\":0,\"ticks\":\"\"}}}],\"scatterpolargl\":[{\"type\":\"scatterpolargl\",\"marker\":{\"colorbar\":{\"outlinewidth\":0,\"ticks\":\"\"}}}],\"bar\":[{\"error_x\":{\"color\":\"#2a3f5f\"},\"error_y\":{\"color\":\"#2a3f5f\"},\"marker\":{\"line\":{\"color\":\"#E5ECF6\",\"width\":0.5},\"pattern\":{\"fillmode\":\"overlay\",\"size\":10,\"solidity\":0.2}},\"type\":\"bar\"}],\"scattergeo\":[{\"type\":\"scattergeo\",\"marker\":{\"colorbar\":{\"outlinewidth\":0,\"ticks\":\"\"}}}],\"scatterpolar\":[{\"type\":\"scatterpolar\",\"marker\":{\"colorbar\":{\"outlinewidth\":0,\"ticks\":\"\"}}}],\"histogram\":[{\"marker\":{\"pattern\":{\"fillmode\":\"overlay\",\"size\":10,\"solidity\":0.2}},\"type\":\"histogram\"}],\"scattergl\":[{\"type\":\"scattergl\",\"marker\":{\"colorbar\":{\"outlinewidth\":0,\"ticks\":\"\"}}}],\"scatter3d\":[{\"type\":\"scatter3d\",\"line\":{\"colorbar\":{\"outlinewidth\":0,\"ticks\":\"\"}},\"marker\":{\"colorbar\":{\"outlinewidth\":0,\"ticks\":\"\"}}}],\"scattermapbox\":[{\"type\":\"scattermapbox\",\"marker\":{\"colorbar\":{\"outlinewidth\":0,\"ticks\":\"\"}}}],\"scatterternary\":[{\"type\":\"scatterternary\",\"marker\":{\"colorbar\":{\"outlinewidth\":0,\"ticks\":\"\"}}}],\"scattercarpet\":[{\"type\":\"scattercarpet\",\"marker\":{\"colorbar\":{\"outlinewidth\":0,\"ticks\":\"\"}}}],\"carpet\":[{\"aaxis\":{\"endlinecolor\":\"#2a3f5f\",\"gridcolor\":\"white\",\"linecolor\":\"white\",\"minorgridcolor\":\"white\",\"startlinecolor\":\"#2a3f5f\"},\"baxis\":{\"endlinecolor\":\"#2a3f5f\",\"gridcolor\":\"white\",\"linecolor\":\"white\",\"minorgridcolor\":\"white\",\"startlinecolor\":\"#2a3f5f\"},\"type\":\"carpet\"}],\"table\":[{\"cells\":{\"fill\":{\"color\":\"#EBF0F8\"},\"line\":{\"color\":\"white\"}},\"header\":{\"fill\":{\"color\":\"#C8D4E3\"},\"line\":{\"color\":\"white\"}},\"type\":\"table\"}],\"barpolar\":[{\"marker\":{\"line\":{\"color\":\"#E5ECF6\",\"width\":0.5},\"pattern\":{\"fillmode\":\"overlay\",\"size\":10,\"solidity\":0.2}},\"type\":\"barpolar\"}],\"pie\":[{\"automargin\":true,\"type\":\"pie\"}]},\"layout\":{\"autotypenumbers\":\"strict\",\"colorway\":[\"#636efa\",\"#EF553B\",\"#00cc96\",\"#ab63fa\",\"#FFA15A\",\"#19d3f3\",\"#FF6692\",\"#B6E880\",\"#FF97FF\",\"#FECB52\"],\"font\":{\"color\":\"#2a3f5f\"},\"hovermode\":\"closest\",\"hoverlabel\":{\"align\":\"left\"},\"paper_bgcolor\":\"white\",\"plot_bgcolor\":\"#E5ECF6\",\"polar\":{\"bgcolor\":\"#E5ECF6\",\"angularaxis\":{\"gridcolor\":\"white\",\"linecolor\":\"white\",\"ticks\":\"\"},\"radialaxis\":{\"gridcolor\":\"white\",\"linecolor\":\"white\",\"ticks\":\"\"}},\"ternary\":{\"bgcolor\":\"#E5ECF6\",\"aaxis\":{\"gridcolor\":\"white\",\"linecolor\":\"white\",\"ticks\":\"\"},\"baxis\":{\"gridcolor\":\"white\",\"linecolor\":\"white\",\"ticks\":\"\"},\"caxis\":{\"gridcolor\":\"white\",\"linecolor\":\"white\",\"ticks\":\"\"}},\"coloraxis\":{\"colorbar\":{\"outlinewidth\":0,\"ticks\":\"\"}},\"colorscale\":{\"sequential\":[[0.0,\"#0d0887\"],[0.1111111111111111,\"#46039f\"],[0.2222222222222222,\"#7201a8\"],[0.3333333333333333,\"#9c179e\"],[0.4444444444444444,\"#bd3786\"],[0.5555555555555556,\"#d8576b\"],[0.6666666666666666,\"#ed7953\"],[0.7777777777777778,\"#fb9f3a\"],[0.8888888888888888,\"#fdca26\"],[1.0,\"#f0f921\"]],\"sequentialminus\":[[0.0,\"#0d0887\"],[0.1111111111111111,\"#46039f\"],[0.2222222222222222,\"#7201a8\"],[0.3333333333333333,\"#9c179e\"],[0.4444444444444444,\"#bd3786\"],[0.5555555555555556,\"#d8576b\"],[0.6666666666666666,\"#ed7953\"],[0.7777777777777778,\"#fb9f3a\"],[0.8888888888888888,\"#fdca26\"],[1.0,\"#f0f921\"]],\"diverging\":[[0,\"#8e0152\"],[0.1,\"#c51b7d\"],[0.2,\"#de77ae\"],[0.3,\"#f1b6da\"],[0.4,\"#fde0ef\"],[0.5,\"#f7f7f7\"],[0.6,\"#e6f5d0\"],[0.7,\"#b8e186\"],[0.8,\"#7fbc41\"],[0.9,\"#4d9221\"],[1,\"#276419\"]]},\"xaxis\":{\"gridcolor\":\"white\",\"linecolor\":\"white\",\"ticks\":\"\",\"title\":{\"standoff\":15},\"zerolinecolor\":\"white\",\"automargin\":true,\"zerolinewidth\":2},\"yaxis\":{\"gridcolor\":\"white\",\"linecolor\":\"white\",\"ticks\":\"\",\"title\":{\"standoff\":15},\"zerolinecolor\":\"white\",\"automargin\":true,\"zerolinewidth\":2},\"scene\":{\"xaxis\":{\"backgroundcolor\":\"#E5ECF6\",\"gridcolor\":\"white\",\"linecolor\":\"white\",\"showbackground\":true,\"ticks\":\"\",\"zerolinecolor\":\"white\",\"gridwidth\":2},\"yaxis\":{\"backgroundcolor\":\"#E5ECF6\",\"gridcolor\":\"white\",\"linecolor\":\"white\",\"showbackground\":true,\"ticks\":\"\",\"zerolinecolor\":\"white\",\"gridwidth\":2},\"zaxis\":{\"backgroundcolor\":\"#E5ECF6\",\"gridcolor\":\"white\",\"linecolor\":\"white\",\"showbackground\":true,\"ticks\":\"\",\"zerolinecolor\":\"white\",\"gridwidth\":2}},\"shapedefaults\":{\"line\":{\"color\":\"#2a3f5f\"}},\"annotationdefaults\":{\"arrowcolor\":\"#2a3f5f\",\"arrowhead\":0,\"arrowwidth\":1},\"geo\":{\"bgcolor\":\"white\",\"landcolor\":\"#E5ECF6\",\"subunitcolor\":\"white\",\"showland\":true,\"showlakes\":true,\"lakecolor\":\"white\"},\"title\":{\"x\":0.05},\"mapbox\":{\"style\":\"light\"}}},\"xaxis\":{\"anchor\":\"y\",\"domain\":[0.0,1.0],\"title\":{\"text\":\"Country\"}},\"yaxis\":{\"anchor\":\"x\",\"domain\":[0.0,1.0],\"title\":{\"text\":\"sum of Inflation(%)\"}},\"legend\":{\"tracegroupgap\":0},\"margin\":{\"t\":60},\"barmode\":\"relative\"},                        {\"responsive\": true}                    ).then(function(){\n",
       "                            \n",
       "var gd = document.getElementById('1306ce13-c735-4b3e-917c-6c6bd1febeb6');\n",
       "var x = new MutationObserver(function (mutations, observer) {{\n",
       "        var display = window.getComputedStyle(gd).display;\n",
       "        if (!display || display === 'none') {{\n",
       "            console.log([gd, 'removed!']);\n",
       "            Plotly.purge(gd);\n",
       "            observer.disconnect();\n",
       "        }}\n",
       "}});\n",
       "\n",
       "// Listen for the removal of the full notebook cells\n",
       "var notebookContainer = gd.closest('#notebook-container');\n",
       "if (notebookContainer) {{\n",
       "    x.observe(notebookContainer, {childList: true});\n",
       "}}\n",
       "\n",
       "// Listen for the clearing of the current output cell\n",
       "var outputEl = gd.closest('.output');\n",
       "if (outputEl) {{\n",
       "    x.observe(outputEl, {childList: true});\n",
       "}}\n",
       "\n",
       "                        })                };                });            </script>        </div>"
      ]
     },
     "metadata": {},
     "output_type": "display_data"
    }
   ],
   "source": [
    "import plotly.express as px\n",
    "fig = px.histogram(i, x=\"Country\",y=\"Inflation(%)\")\n",
    "fig.show()"
   ]
  },
  {
   "cell_type": "code",
   "execution_count": 1430,
   "id": "96d738bb-745f-43c7-ad18-de43045cd783",
   "metadata": {},
   "outputs": [
    {
     "data": {
      "text/html": [
       "<div>\n",
       "<style scoped>\n",
       "    .dataframe tbody tr th:only-of-type {\n",
       "        vertical-align: middle;\n",
       "    }\n",
       "\n",
       "    .dataframe tbody tr th {\n",
       "        vertical-align: top;\n",
       "    }\n",
       "\n",
       "    .dataframe thead th {\n",
       "        text-align: right;\n",
       "    }\n",
       "</style>\n",
       "<table border=\"1\" class=\"dataframe\">\n",
       "  <thead>\n",
       "    <tr style=\"text-align: right;\">\n",
       "      <th></th>\n",
       "      <th>Country</th>\n",
       "      <th>cost of living</th>\n",
       "      <th>cost index</th>\n",
       "      <th>cost of living.Monthly income (USD)</th>\n",
       "      <th>Purchasing Power Index</th>\n",
       "      <th>currency rate</th>\n",
       "      <th>Gdp</th>\n",
       "      <th>population</th>\n",
       "      <th>population.Migrants (net)</th>\n",
       "      <th>Skilled force</th>\n",
       "      <th>technology.2023 rank</th>\n",
       "      <th>Unemployment(%)</th>\n",
       "      <th>Inflation(%)</th>\n",
       "      <th>Monthly salary+Tax(USD)</th>\n",
       "      <th>Literacy rate(%)</th>\n",
       "    </tr>\n",
       "  </thead>\n",
       "  <tbody>\n",
       "    <tr>\n",
       "      <th>19</th>\n",
       "      <td>Estonia</td>\n",
       "      <td>37</td>\n",
       "      <td>71.0</td>\n",
       "      <td>2270</td>\n",
       "      <td>47.8</td>\n",
       "      <td>-3.006</td>\n",
       "      <td>29824</td>\n",
       "      <td>1360546</td>\n",
       "      <td>-7742</td>\n",
       "      <td>752419</td>\n",
       "      <td>29</td>\n",
       "      <td>8.06</td>\n",
       "      <td>4.1</td>\n",
       "      <td>1525.26</td>\n",
       "      <td>100.0</td>\n",
       "    </tr>\n",
       "    <tr>\n",
       "      <th>36</th>\n",
       "      <td>Luxembourg</td>\n",
       "      <td>16</td>\n",
       "      <td>97.5</td>\n",
       "      <td>7364</td>\n",
       "      <td>112.9</td>\n",
       "      <td>-1.095</td>\n",
       "      <td>128259</td>\n",
       "      <td>673036</td>\n",
       "      <td>5677</td>\n",
       "      <td>351903</td>\n",
       "      <td>18</td>\n",
       "      <td>5.99</td>\n",
       "      <td>1.0</td>\n",
       "      <td>5686.45</td>\n",
       "      <td>100.0</td>\n",
       "    </tr>\n",
       "    <tr>\n",
       "      <th>51</th>\n",
       "      <td>Serbia</td>\n",
       "      <td>53</td>\n",
       "      <td>49.1</td>\n",
       "      <td>836</td>\n",
       "      <td>25.5</td>\n",
       "      <td>2.528</td>\n",
       "      <td>11361</td>\n",
       "      <td>6736216</td>\n",
       "      <td>-8132</td>\n",
       "      <td>3333428</td>\n",
       "      <td>50</td>\n",
       "      <td>9.40</td>\n",
       "      <td>4.5</td>\n",
       "      <td>776.48</td>\n",
       "      <td>100.0</td>\n",
       "    </tr>\n",
       "    <tr>\n",
       "      <th>43</th>\n",
       "      <td>Norway</td>\n",
       "      <td>20</td>\n",
       "      <td>90.8</td>\n",
       "      <td>8538</td>\n",
       "      <td>140.6</td>\n",
       "      <td>0.514</td>\n",
       "      <td>87962</td>\n",
       "      <td>5576660</td>\n",
       "      <td>44356</td>\n",
       "      <td>3009339</td>\n",
       "      <td>13</td>\n",
       "      <td>3.80</td>\n",
       "      <td>2.6</td>\n",
       "      <td>3286.54</td>\n",
       "      <td>100.0</td>\n",
       "    </tr>\n",
       "    <tr>\n",
       "      <th>31</th>\n",
       "      <td>Italy</td>\n",
       "      <td>35</td>\n",
       "      <td>71.8</td>\n",
       "      <td>3183</td>\n",
       "      <td>66.3</td>\n",
       "      <td>0.921</td>\n",
       "      <td>38373</td>\n",
       "      <td>59342867</td>\n",
       "      <td>95246</td>\n",
       "      <td>25668665</td>\n",
       "      <td>25</td>\n",
       "      <td>7.83</td>\n",
       "      <td>0.9</td>\n",
       "      <td>1716.62</td>\n",
       "      <td>99.9</td>\n",
       "    </tr>\n",
       "    <tr>\n",
       "      <th>4</th>\n",
       "      <td>Azerbaijan</td>\n",
       "      <td>84</td>\n",
       "      <td>31.3</td>\n",
       "      <td>557</td>\n",
       "      <td>26.6</td>\n",
       "      <td>1.100</td>\n",
       "      <td>7155</td>\n",
       "      <td>10336577</td>\n",
       "      <td>10864</td>\n",
       "      <td>5473196</td>\n",
       "      <td>96</td>\n",
       "      <td>5.52</td>\n",
       "      <td>3.5</td>\n",
       "      <td>456.50</td>\n",
       "      <td>99.9</td>\n",
       "    </tr>\n",
       "    <tr>\n",
       "      <th>52</th>\n",
       "      <td>Singapore</td>\n",
       "      <td>30</td>\n",
       "      <td>78.0</td>\n",
       "      <td>5883</td>\n",
       "      <td>112.7</td>\n",
       "      <td>1.075</td>\n",
       "      <td>84734</td>\n",
       "      <td>5832387</td>\n",
       "      <td>20011</td>\n",
       "      <td>3619025</td>\n",
       "      <td>3</td>\n",
       "      <td>1.90</td>\n",
       "      <td>2.0</td>\n",
       "      <td>4293.54</td>\n",
       "      <td>99.9</td>\n",
       "    </tr>\n",
       "    <tr>\n",
       "      <th>6</th>\n",
       "      <td>Belarus</td>\n",
       "      <td>94</td>\n",
       "      <td>29.3</td>\n",
       "      <td>648</td>\n",
       "      <td>33.0</td>\n",
       "      <td>3.882</td>\n",
       "      <td>7829</td>\n",
       "      <td>9056696</td>\n",
       "      <td>-3119</td>\n",
       "      <td>4956149</td>\n",
       "      <td>55</td>\n",
       "      <td>3.04</td>\n",
       "      <td>6.0</td>\n",
       "      <td>522.44</td>\n",
       "      <td>99.9</td>\n",
       "    </tr>\n",
       "    <tr>\n",
       "      <th>33</th>\n",
       "      <td>Kazakhstan</td>\n",
       "      <td>70</td>\n",
       "      <td>36.6</td>\n",
       "      <td>912</td>\n",
       "      <td>37.2</td>\n",
       "      <td>5.101</td>\n",
       "      <td>13137</td>\n",
       "      <td>20592571</td>\n",
       "      <td>-7368</td>\n",
       "      <td>9587167</td>\n",
       "      <td>68</td>\n",
       "      <td>4.78</td>\n",
       "      <td>8.5</td>\n",
       "      <td>568.13</td>\n",
       "      <td>99.9</td>\n",
       "    </tr>\n",
       "    <tr>\n",
       "      <th>49</th>\n",
       "      <td>Romania</td>\n",
       "      <td>59</td>\n",
       "      <td>43.6</td>\n",
       "      <td>1389</td>\n",
       "      <td>47.6</td>\n",
       "      <td>2.110</td>\n",
       "      <td>18419</td>\n",
       "      <td>19015088</td>\n",
       "      <td>-28466</td>\n",
       "      <td>8282417</td>\n",
       "      <td>45</td>\n",
       "      <td>5.60</td>\n",
       "      <td>4.7</td>\n",
       "      <td>919.76</td>\n",
       "      <td>99.9</td>\n",
       "    </tr>\n",
       "  </tbody>\n",
       "</table>\n",
       "</div>"
      ],
      "text/plain": [
       "       Country  cost of living  cost index  \\\n",
       "19     Estonia              37        71.0   \n",
       "36  Luxembourg              16        97.5   \n",
       "51      Serbia              53        49.1   \n",
       "43      Norway              20        90.8   \n",
       "31       Italy              35        71.8   \n",
       "4   Azerbaijan              84        31.3   \n",
       "52   Singapore              30        78.0   \n",
       "6      Belarus              94        29.3   \n",
       "33  Kazakhstan              70        36.6   \n",
       "49     Romania              59        43.6   \n",
       "\n",
       "    cost of living.Monthly income (USD)  Purchasing Power Index  \\\n",
       "19                                 2270                    47.8   \n",
       "36                                 7364                   112.9   \n",
       "51                                  836                    25.5   \n",
       "43                                 8538                   140.6   \n",
       "31                                 3183                    66.3   \n",
       "4                                   557                    26.6   \n",
       "52                                 5883                   112.7   \n",
       "6                                   648                    33.0   \n",
       "33                                  912                    37.2   \n",
       "49                                 1389                    47.6   \n",
       "\n",
       "    currency rate     Gdp  population  population.Migrants (net)  \\\n",
       "19         -3.006   29824     1360546                      -7742   \n",
       "36         -1.095  128259      673036                       5677   \n",
       "51          2.528   11361     6736216                      -8132   \n",
       "43          0.514   87962     5576660                      44356   \n",
       "31          0.921   38373    59342867                      95246   \n",
       "4           1.100    7155    10336577                      10864   \n",
       "52          1.075   84734     5832387                      20011   \n",
       "6           3.882    7829     9056696                      -3119   \n",
       "33          5.101   13137    20592571                      -7368   \n",
       "49          2.110   18419    19015088                     -28466   \n",
       "\n",
       "    Skilled force  technology.2023 rank  Unemployment(%)  Inflation(%)  \\\n",
       "19         752419                    29             8.06           4.1   \n",
       "36         351903                    18             5.99           1.0   \n",
       "51        3333428                    50             9.40           4.5   \n",
       "43        3009339                    13             3.80           2.6   \n",
       "31       25668665                    25             7.83           0.9   \n",
       "4         5473196                    96             5.52           3.5   \n",
       "52        3619025                     3             1.90           2.0   \n",
       "6         4956149                    55             3.04           6.0   \n",
       "33        9587167                    68             4.78           8.5   \n",
       "49        8282417                    45             5.60           4.7   \n",
       "\n",
       "    Monthly salary+Tax(USD)  Literacy rate(%)  \n",
       "19                  1525.26             100.0  \n",
       "36                  5686.45             100.0  \n",
       "51                   776.48             100.0  \n",
       "43                  3286.54             100.0  \n",
       "31                  1716.62              99.9  \n",
       "4                    456.50              99.9  \n",
       "52                  4293.54              99.9  \n",
       "6                    522.44              99.9  \n",
       "33                   568.13              99.9  \n",
       "49                   919.76              99.9  "
      ]
     },
     "execution_count": 1430,
     "metadata": {},
     "output_type": "execute_result"
    }
   ],
   "source": [
    "l=new.sort_values(by=\"Literacy rate(%)\",ascending=False).head(10)\n",
    "l"
   ]
  },
  {
   "cell_type": "code",
   "execution_count": null,
   "id": "0a988398-018e-425a-990f-f1c63ad665c5",
   "metadata": {},
   "outputs": [],
   "source": []
  },
  {
   "cell_type": "code",
   "execution_count": null,
   "id": "d090af47-00a0-4c7c-8231-92d0f9b6852a",
   "metadata": {},
   "outputs": [],
   "source": []
  },
  {
   "cell_type": "code",
   "execution_count": null,
   "id": "0c34449e-ed32-4e2a-afa3-403392eeed99",
   "metadata": {},
   "outputs": [],
   "source": []
  },
  {
   "cell_type": "code",
   "execution_count": 1431,
   "id": "5674c8dd-07a8-429e-89ec-c57227d5ce5b",
   "metadata": {},
   "outputs": [
    {
     "data": {
      "application/vnd.plotly.v1+json": {
       "config": {
        "plotlyServerURL": "https://plot.ly"
       },
       "data": [
        {
         "alignmentgroup": "True",
         "bingroup": "x",
         "histfunc": "sum",
         "hovertemplate": "Country=%{x}<br>sum of Literacy rate(%)=%{y}<extra></extra>",
         "legendgroup": "",
         "marker": {
          "color": "#636efa",
          "pattern": {
           "shape": ""
          }
         },
         "name": "",
         "offsetgroup": "",
         "orientation": "v",
         "showlegend": false,
         "type": "histogram",
         "x": [
          "Estonia",
          "Luxembourg",
          "Serbia",
          "Norway",
          "Italy",
          "Azerbaijan",
          "Singapore",
          "Belarus",
          "Kazakhstan",
          "Romania"
         ],
         "xaxis": "x",
         "y": [
          100,
          100,
          100,
          100,
          99.9,
          99.9,
          99.9,
          99.9,
          99.9,
          99.9
         ],
         "yaxis": "y"
        }
       ],
       "layout": {
        "autosize": true,
        "barmode": "relative",
        "legend": {
         "tracegroupgap": 0
        },
        "margin": {
         "t": 60
        },
        "template": {
         "data": {
          "bar": [
           {
            "error_x": {
             "color": "#2a3f5f"
            },
            "error_y": {
             "color": "#2a3f5f"
            },
            "marker": {
             "line": {
              "color": "#E5ECF6",
              "width": 0.5
             },
             "pattern": {
              "fillmode": "overlay",
              "size": 10,
              "solidity": 0.2
             }
            },
            "type": "bar"
           }
          ],
          "barpolar": [
           {
            "marker": {
             "line": {
              "color": "#E5ECF6",
              "width": 0.5
             },
             "pattern": {
              "fillmode": "overlay",
              "size": 10,
              "solidity": 0.2
             }
            },
            "type": "barpolar"
           }
          ],
          "carpet": [
           {
            "aaxis": {
             "endlinecolor": "#2a3f5f",
             "gridcolor": "white",
             "linecolor": "white",
             "minorgridcolor": "white",
             "startlinecolor": "#2a3f5f"
            },
            "baxis": {
             "endlinecolor": "#2a3f5f",
             "gridcolor": "white",
             "linecolor": "white",
             "minorgridcolor": "white",
             "startlinecolor": "#2a3f5f"
            },
            "type": "carpet"
           }
          ],
          "choropleth": [
           {
            "colorbar": {
             "outlinewidth": 0,
             "ticks": ""
            },
            "type": "choropleth"
           }
          ],
          "contour": [
           {
            "colorbar": {
             "outlinewidth": 0,
             "ticks": ""
            },
            "colorscale": [
             [
              0,
              "#0d0887"
             ],
             [
              0.1111111111111111,
              "#46039f"
             ],
             [
              0.2222222222222222,
              "#7201a8"
             ],
             [
              0.3333333333333333,
              "#9c179e"
             ],
             [
              0.4444444444444444,
              "#bd3786"
             ],
             [
              0.5555555555555556,
              "#d8576b"
             ],
             [
              0.6666666666666666,
              "#ed7953"
             ],
             [
              0.7777777777777778,
              "#fb9f3a"
             ],
             [
              0.8888888888888888,
              "#fdca26"
             ],
             [
              1,
              "#f0f921"
             ]
            ],
            "type": "contour"
           }
          ],
          "contourcarpet": [
           {
            "colorbar": {
             "outlinewidth": 0,
             "ticks": ""
            },
            "type": "contourcarpet"
           }
          ],
          "heatmap": [
           {
            "colorbar": {
             "outlinewidth": 0,
             "ticks": ""
            },
            "colorscale": [
             [
              0,
              "#0d0887"
             ],
             [
              0.1111111111111111,
              "#46039f"
             ],
             [
              0.2222222222222222,
              "#7201a8"
             ],
             [
              0.3333333333333333,
              "#9c179e"
             ],
             [
              0.4444444444444444,
              "#bd3786"
             ],
             [
              0.5555555555555556,
              "#d8576b"
             ],
             [
              0.6666666666666666,
              "#ed7953"
             ],
             [
              0.7777777777777778,
              "#fb9f3a"
             ],
             [
              0.8888888888888888,
              "#fdca26"
             ],
             [
              1,
              "#f0f921"
             ]
            ],
            "type": "heatmap"
           }
          ],
          "heatmapgl": [
           {
            "colorbar": {
             "outlinewidth": 0,
             "ticks": ""
            },
            "colorscale": [
             [
              0,
              "#0d0887"
             ],
             [
              0.1111111111111111,
              "#46039f"
             ],
             [
              0.2222222222222222,
              "#7201a8"
             ],
             [
              0.3333333333333333,
              "#9c179e"
             ],
             [
              0.4444444444444444,
              "#bd3786"
             ],
             [
              0.5555555555555556,
              "#d8576b"
             ],
             [
              0.6666666666666666,
              "#ed7953"
             ],
             [
              0.7777777777777778,
              "#fb9f3a"
             ],
             [
              0.8888888888888888,
              "#fdca26"
             ],
             [
              1,
              "#f0f921"
             ]
            ],
            "type": "heatmapgl"
           }
          ],
          "histogram": [
           {
            "marker": {
             "pattern": {
              "fillmode": "overlay",
              "size": 10,
              "solidity": 0.2
             }
            },
            "type": "histogram"
           }
          ],
          "histogram2d": [
           {
            "colorbar": {
             "outlinewidth": 0,
             "ticks": ""
            },
            "colorscale": [
             [
              0,
              "#0d0887"
             ],
             [
              0.1111111111111111,
              "#46039f"
             ],
             [
              0.2222222222222222,
              "#7201a8"
             ],
             [
              0.3333333333333333,
              "#9c179e"
             ],
             [
              0.4444444444444444,
              "#bd3786"
             ],
             [
              0.5555555555555556,
              "#d8576b"
             ],
             [
              0.6666666666666666,
              "#ed7953"
             ],
             [
              0.7777777777777778,
              "#fb9f3a"
             ],
             [
              0.8888888888888888,
              "#fdca26"
             ],
             [
              1,
              "#f0f921"
             ]
            ],
            "type": "histogram2d"
           }
          ],
          "histogram2dcontour": [
           {
            "colorbar": {
             "outlinewidth": 0,
             "ticks": ""
            },
            "colorscale": [
             [
              0,
              "#0d0887"
             ],
             [
              0.1111111111111111,
              "#46039f"
             ],
             [
              0.2222222222222222,
              "#7201a8"
             ],
             [
              0.3333333333333333,
              "#9c179e"
             ],
             [
              0.4444444444444444,
              "#bd3786"
             ],
             [
              0.5555555555555556,
              "#d8576b"
             ],
             [
              0.6666666666666666,
              "#ed7953"
             ],
             [
              0.7777777777777778,
              "#fb9f3a"
             ],
             [
              0.8888888888888888,
              "#fdca26"
             ],
             [
              1,
              "#f0f921"
             ]
            ],
            "type": "histogram2dcontour"
           }
          ],
          "mesh3d": [
           {
            "colorbar": {
             "outlinewidth": 0,
             "ticks": ""
            },
            "type": "mesh3d"
           }
          ],
          "parcoords": [
           {
            "line": {
             "colorbar": {
              "outlinewidth": 0,
              "ticks": ""
             }
            },
            "type": "parcoords"
           }
          ],
          "pie": [
           {
            "automargin": true,
            "type": "pie"
           }
          ],
          "scatter": [
           {
            "fillpattern": {
             "fillmode": "overlay",
             "size": 10,
             "solidity": 0.2
            },
            "type": "scatter"
           }
          ],
          "scatter3d": [
           {
            "line": {
             "colorbar": {
              "outlinewidth": 0,
              "ticks": ""
             }
            },
            "marker": {
             "colorbar": {
              "outlinewidth": 0,
              "ticks": ""
             }
            },
            "type": "scatter3d"
           }
          ],
          "scattercarpet": [
           {
            "marker": {
             "colorbar": {
              "outlinewidth": 0,
              "ticks": ""
             }
            },
            "type": "scattercarpet"
           }
          ],
          "scattergeo": [
           {
            "marker": {
             "colorbar": {
              "outlinewidth": 0,
              "ticks": ""
             }
            },
            "type": "scattergeo"
           }
          ],
          "scattergl": [
           {
            "marker": {
             "colorbar": {
              "outlinewidth": 0,
              "ticks": ""
             }
            },
            "type": "scattergl"
           }
          ],
          "scattermapbox": [
           {
            "marker": {
             "colorbar": {
              "outlinewidth": 0,
              "ticks": ""
             }
            },
            "type": "scattermapbox"
           }
          ],
          "scatterpolar": [
           {
            "marker": {
             "colorbar": {
              "outlinewidth": 0,
              "ticks": ""
             }
            },
            "type": "scatterpolar"
           }
          ],
          "scatterpolargl": [
           {
            "marker": {
             "colorbar": {
              "outlinewidth": 0,
              "ticks": ""
             }
            },
            "type": "scatterpolargl"
           }
          ],
          "scatterternary": [
           {
            "marker": {
             "colorbar": {
              "outlinewidth": 0,
              "ticks": ""
             }
            },
            "type": "scatterternary"
           }
          ],
          "surface": [
           {
            "colorbar": {
             "outlinewidth": 0,
             "ticks": ""
            },
            "colorscale": [
             [
              0,
              "#0d0887"
             ],
             [
              0.1111111111111111,
              "#46039f"
             ],
             [
              0.2222222222222222,
              "#7201a8"
             ],
             [
              0.3333333333333333,
              "#9c179e"
             ],
             [
              0.4444444444444444,
              "#bd3786"
             ],
             [
              0.5555555555555556,
              "#d8576b"
             ],
             [
              0.6666666666666666,
              "#ed7953"
             ],
             [
              0.7777777777777778,
              "#fb9f3a"
             ],
             [
              0.8888888888888888,
              "#fdca26"
             ],
             [
              1,
              "#f0f921"
             ]
            ],
            "type": "surface"
           }
          ],
          "table": [
           {
            "cells": {
             "fill": {
              "color": "#EBF0F8"
             },
             "line": {
              "color": "white"
             }
            },
            "header": {
             "fill": {
              "color": "#C8D4E3"
             },
             "line": {
              "color": "white"
             }
            },
            "type": "table"
           }
          ]
         },
         "layout": {
          "annotationdefaults": {
           "arrowcolor": "#2a3f5f",
           "arrowhead": 0,
           "arrowwidth": 1
          },
          "autotypenumbers": "strict",
          "coloraxis": {
           "colorbar": {
            "outlinewidth": 0,
            "ticks": ""
           }
          },
          "colorscale": {
           "diverging": [
            [
             0,
             "#8e0152"
            ],
            [
             0.1,
             "#c51b7d"
            ],
            [
             0.2,
             "#de77ae"
            ],
            [
             0.3,
             "#f1b6da"
            ],
            [
             0.4,
             "#fde0ef"
            ],
            [
             0.5,
             "#f7f7f7"
            ],
            [
             0.6,
             "#e6f5d0"
            ],
            [
             0.7,
             "#b8e186"
            ],
            [
             0.8,
             "#7fbc41"
            ],
            [
             0.9,
             "#4d9221"
            ],
            [
             1,
             "#276419"
            ]
           ],
           "sequential": [
            [
             0,
             "#0d0887"
            ],
            [
             0.1111111111111111,
             "#46039f"
            ],
            [
             0.2222222222222222,
             "#7201a8"
            ],
            [
             0.3333333333333333,
             "#9c179e"
            ],
            [
             0.4444444444444444,
             "#bd3786"
            ],
            [
             0.5555555555555556,
             "#d8576b"
            ],
            [
             0.6666666666666666,
             "#ed7953"
            ],
            [
             0.7777777777777778,
             "#fb9f3a"
            ],
            [
             0.8888888888888888,
             "#fdca26"
            ],
            [
             1,
             "#f0f921"
            ]
           ],
           "sequentialminus": [
            [
             0,
             "#0d0887"
            ],
            [
             0.1111111111111111,
             "#46039f"
            ],
            [
             0.2222222222222222,
             "#7201a8"
            ],
            [
             0.3333333333333333,
             "#9c179e"
            ],
            [
             0.4444444444444444,
             "#bd3786"
            ],
            [
             0.5555555555555556,
             "#d8576b"
            ],
            [
             0.6666666666666666,
             "#ed7953"
            ],
            [
             0.7777777777777778,
             "#fb9f3a"
            ],
            [
             0.8888888888888888,
             "#fdca26"
            ],
            [
             1,
             "#f0f921"
            ]
           ]
          },
          "colorway": [
           "#636efa",
           "#EF553B",
           "#00cc96",
           "#ab63fa",
           "#FFA15A",
           "#19d3f3",
           "#FF6692",
           "#B6E880",
           "#FF97FF",
           "#FECB52"
          ],
          "font": {
           "color": "#2a3f5f"
          },
          "geo": {
           "bgcolor": "white",
           "lakecolor": "white",
           "landcolor": "#E5ECF6",
           "showlakes": true,
           "showland": true,
           "subunitcolor": "white"
          },
          "hoverlabel": {
           "align": "left"
          },
          "hovermode": "closest",
          "mapbox": {
           "style": "light"
          },
          "paper_bgcolor": "white",
          "plot_bgcolor": "#E5ECF6",
          "polar": {
           "angularaxis": {
            "gridcolor": "white",
            "linecolor": "white",
            "ticks": ""
           },
           "bgcolor": "#E5ECF6",
           "radialaxis": {
            "gridcolor": "white",
            "linecolor": "white",
            "ticks": ""
           }
          },
          "scene": {
           "xaxis": {
            "backgroundcolor": "#E5ECF6",
            "gridcolor": "white",
            "gridwidth": 2,
            "linecolor": "white",
            "showbackground": true,
            "ticks": "",
            "zerolinecolor": "white"
           },
           "yaxis": {
            "backgroundcolor": "#E5ECF6",
            "gridcolor": "white",
            "gridwidth": 2,
            "linecolor": "white",
            "showbackground": true,
            "ticks": "",
            "zerolinecolor": "white"
           },
           "zaxis": {
            "backgroundcolor": "#E5ECF6",
            "gridcolor": "white",
            "gridwidth": 2,
            "linecolor": "white",
            "showbackground": true,
            "ticks": "",
            "zerolinecolor": "white"
           }
          },
          "shapedefaults": {
           "line": {
            "color": "#2a3f5f"
           }
          },
          "ternary": {
           "aaxis": {
            "gridcolor": "white",
            "linecolor": "white",
            "ticks": ""
           },
           "baxis": {
            "gridcolor": "white",
            "linecolor": "white",
            "ticks": ""
           },
           "bgcolor": "#E5ECF6",
           "caxis": {
            "gridcolor": "white",
            "linecolor": "white",
            "ticks": ""
           }
          },
          "title": {
           "x": 0.05
          },
          "xaxis": {
           "automargin": true,
           "gridcolor": "white",
           "linecolor": "white",
           "ticks": "",
           "title": {
            "standoff": 15
           },
           "zerolinecolor": "white",
           "zerolinewidth": 2
          },
          "yaxis": {
           "automargin": true,
           "gridcolor": "white",
           "linecolor": "white",
           "ticks": "",
           "title": {
            "standoff": 15
           },
           "zerolinecolor": "white",
           "zerolinewidth": 2
          }
         }
        },
        "xaxis": {
         "anchor": "y",
         "autorange": true,
         "domain": [
          0,
          1
         ],
         "range": [
          -0.5,
          9.5
         ],
         "title": {
          "text": "Country"
         },
         "type": "category"
        },
        "yaxis": {
         "anchor": "x",
         "autorange": true,
         "domain": [
          0,
          1
         ],
         "range": [
          0,
          105.26315789473685
         ],
         "title": {
          "text": "sum of Literacy rate(%)"
         },
         "type": "linear"
        }
       }
      },
      "text/html": [
       "<div>                            <div id=\"f854bba4-86eb-4a0d-b415-47fb9ef5f630\" class=\"plotly-graph-div\" style=\"height:525px; width:100%;\"></div>            <script type=\"text/javascript\">                require([\"plotly\"], function(Plotly) {                    window.PLOTLYENV=window.PLOTLYENV || {};                                    if (document.getElementById(\"f854bba4-86eb-4a0d-b415-47fb9ef5f630\")) {                    Plotly.newPlot(                        \"f854bba4-86eb-4a0d-b415-47fb9ef5f630\",                        [{\"alignmentgroup\":\"True\",\"bingroup\":\"x\",\"histfunc\":\"sum\",\"hovertemplate\":\"Country=%{x}\\u003cbr\\u003esum of Literacy rate(%)=%{y}\\u003cextra\\u003e\\u003c\\u002fextra\\u003e\",\"legendgroup\":\"\",\"marker\":{\"color\":\"#636efa\",\"pattern\":{\"shape\":\"\"}},\"name\":\"\",\"offsetgroup\":\"\",\"orientation\":\"v\",\"showlegend\":false,\"x\":[\"Estonia\",\"Luxembourg\",\"Serbia\",\"Norway\",\"Italy\",\"Azerbaijan\",\"Singapore\",\"Belarus\",\"Kazakhstan\",\"Romania\"],\"xaxis\":\"x\",\"y\":[100.0,100.0,100.0,100.0,99.9,99.9,99.9,99.9,99.9,99.9],\"yaxis\":\"y\",\"type\":\"histogram\"}],                        {\"template\":{\"data\":{\"histogram2dcontour\":[{\"type\":\"histogram2dcontour\",\"colorbar\":{\"outlinewidth\":0,\"ticks\":\"\"},\"colorscale\":[[0.0,\"#0d0887\"],[0.1111111111111111,\"#46039f\"],[0.2222222222222222,\"#7201a8\"],[0.3333333333333333,\"#9c179e\"],[0.4444444444444444,\"#bd3786\"],[0.5555555555555556,\"#d8576b\"],[0.6666666666666666,\"#ed7953\"],[0.7777777777777778,\"#fb9f3a\"],[0.8888888888888888,\"#fdca26\"],[1.0,\"#f0f921\"]]}],\"choropleth\":[{\"type\":\"choropleth\",\"colorbar\":{\"outlinewidth\":0,\"ticks\":\"\"}}],\"histogram2d\":[{\"type\":\"histogram2d\",\"colorbar\":{\"outlinewidth\":0,\"ticks\":\"\"},\"colorscale\":[[0.0,\"#0d0887\"],[0.1111111111111111,\"#46039f\"],[0.2222222222222222,\"#7201a8\"],[0.3333333333333333,\"#9c179e\"],[0.4444444444444444,\"#bd3786\"],[0.5555555555555556,\"#d8576b\"],[0.6666666666666666,\"#ed7953\"],[0.7777777777777778,\"#fb9f3a\"],[0.8888888888888888,\"#fdca26\"],[1.0,\"#f0f921\"]]}],\"heatmap\":[{\"type\":\"heatmap\",\"colorbar\":{\"outlinewidth\":0,\"ticks\":\"\"},\"colorscale\":[[0.0,\"#0d0887\"],[0.1111111111111111,\"#46039f\"],[0.2222222222222222,\"#7201a8\"],[0.3333333333333333,\"#9c179e\"],[0.4444444444444444,\"#bd3786\"],[0.5555555555555556,\"#d8576b\"],[0.6666666666666666,\"#ed7953\"],[0.7777777777777778,\"#fb9f3a\"],[0.8888888888888888,\"#fdca26\"],[1.0,\"#f0f921\"]]}],\"heatmapgl\":[{\"type\":\"heatmapgl\",\"colorbar\":{\"outlinewidth\":0,\"ticks\":\"\"},\"colorscale\":[[0.0,\"#0d0887\"],[0.1111111111111111,\"#46039f\"],[0.2222222222222222,\"#7201a8\"],[0.3333333333333333,\"#9c179e\"],[0.4444444444444444,\"#bd3786\"],[0.5555555555555556,\"#d8576b\"],[0.6666666666666666,\"#ed7953\"],[0.7777777777777778,\"#fb9f3a\"],[0.8888888888888888,\"#fdca26\"],[1.0,\"#f0f921\"]]}],\"contourcarpet\":[{\"type\":\"contourcarpet\",\"colorbar\":{\"outlinewidth\":0,\"ticks\":\"\"}}],\"contour\":[{\"type\":\"contour\",\"colorbar\":{\"outlinewidth\":0,\"ticks\":\"\"},\"colorscale\":[[0.0,\"#0d0887\"],[0.1111111111111111,\"#46039f\"],[0.2222222222222222,\"#7201a8\"],[0.3333333333333333,\"#9c179e\"],[0.4444444444444444,\"#bd3786\"],[0.5555555555555556,\"#d8576b\"],[0.6666666666666666,\"#ed7953\"],[0.7777777777777778,\"#fb9f3a\"],[0.8888888888888888,\"#fdca26\"],[1.0,\"#f0f921\"]]}],\"surface\":[{\"type\":\"surface\",\"colorbar\":{\"outlinewidth\":0,\"ticks\":\"\"},\"colorscale\":[[0.0,\"#0d0887\"],[0.1111111111111111,\"#46039f\"],[0.2222222222222222,\"#7201a8\"],[0.3333333333333333,\"#9c179e\"],[0.4444444444444444,\"#bd3786\"],[0.5555555555555556,\"#d8576b\"],[0.6666666666666666,\"#ed7953\"],[0.7777777777777778,\"#fb9f3a\"],[0.8888888888888888,\"#fdca26\"],[1.0,\"#f0f921\"]]}],\"mesh3d\":[{\"type\":\"mesh3d\",\"colorbar\":{\"outlinewidth\":0,\"ticks\":\"\"}}],\"scatter\":[{\"fillpattern\":{\"fillmode\":\"overlay\",\"size\":10,\"solidity\":0.2},\"type\":\"scatter\"}],\"parcoords\":[{\"type\":\"parcoords\",\"line\":{\"colorbar\":{\"outlinewidth\":0,\"ticks\":\"\"}}}],\"scatterpolargl\":[{\"type\":\"scatterpolargl\",\"marker\":{\"colorbar\":{\"outlinewidth\":0,\"ticks\":\"\"}}}],\"bar\":[{\"error_x\":{\"color\":\"#2a3f5f\"},\"error_y\":{\"color\":\"#2a3f5f\"},\"marker\":{\"line\":{\"color\":\"#E5ECF6\",\"width\":0.5},\"pattern\":{\"fillmode\":\"overlay\",\"size\":10,\"solidity\":0.2}},\"type\":\"bar\"}],\"scattergeo\":[{\"type\":\"scattergeo\",\"marker\":{\"colorbar\":{\"outlinewidth\":0,\"ticks\":\"\"}}}],\"scatterpolar\":[{\"type\":\"scatterpolar\",\"marker\":{\"colorbar\":{\"outlinewidth\":0,\"ticks\":\"\"}}}],\"histogram\":[{\"marker\":{\"pattern\":{\"fillmode\":\"overlay\",\"size\":10,\"solidity\":0.2}},\"type\":\"histogram\"}],\"scattergl\":[{\"type\":\"scattergl\",\"marker\":{\"colorbar\":{\"outlinewidth\":0,\"ticks\":\"\"}}}],\"scatter3d\":[{\"type\":\"scatter3d\",\"line\":{\"colorbar\":{\"outlinewidth\":0,\"ticks\":\"\"}},\"marker\":{\"colorbar\":{\"outlinewidth\":0,\"ticks\":\"\"}}}],\"scattermapbox\":[{\"type\":\"scattermapbox\",\"marker\":{\"colorbar\":{\"outlinewidth\":0,\"ticks\":\"\"}}}],\"scatterternary\":[{\"type\":\"scatterternary\",\"marker\":{\"colorbar\":{\"outlinewidth\":0,\"ticks\":\"\"}}}],\"scattercarpet\":[{\"type\":\"scattercarpet\",\"marker\":{\"colorbar\":{\"outlinewidth\":0,\"ticks\":\"\"}}}],\"carpet\":[{\"aaxis\":{\"endlinecolor\":\"#2a3f5f\",\"gridcolor\":\"white\",\"linecolor\":\"white\",\"minorgridcolor\":\"white\",\"startlinecolor\":\"#2a3f5f\"},\"baxis\":{\"endlinecolor\":\"#2a3f5f\",\"gridcolor\":\"white\",\"linecolor\":\"white\",\"minorgridcolor\":\"white\",\"startlinecolor\":\"#2a3f5f\"},\"type\":\"carpet\"}],\"table\":[{\"cells\":{\"fill\":{\"color\":\"#EBF0F8\"},\"line\":{\"color\":\"white\"}},\"header\":{\"fill\":{\"color\":\"#C8D4E3\"},\"line\":{\"color\":\"white\"}},\"type\":\"table\"}],\"barpolar\":[{\"marker\":{\"line\":{\"color\":\"#E5ECF6\",\"width\":0.5},\"pattern\":{\"fillmode\":\"overlay\",\"size\":10,\"solidity\":0.2}},\"type\":\"barpolar\"}],\"pie\":[{\"automargin\":true,\"type\":\"pie\"}]},\"layout\":{\"autotypenumbers\":\"strict\",\"colorway\":[\"#636efa\",\"#EF553B\",\"#00cc96\",\"#ab63fa\",\"#FFA15A\",\"#19d3f3\",\"#FF6692\",\"#B6E880\",\"#FF97FF\",\"#FECB52\"],\"font\":{\"color\":\"#2a3f5f\"},\"hovermode\":\"closest\",\"hoverlabel\":{\"align\":\"left\"},\"paper_bgcolor\":\"white\",\"plot_bgcolor\":\"#E5ECF6\",\"polar\":{\"bgcolor\":\"#E5ECF6\",\"angularaxis\":{\"gridcolor\":\"white\",\"linecolor\":\"white\",\"ticks\":\"\"},\"radialaxis\":{\"gridcolor\":\"white\",\"linecolor\":\"white\",\"ticks\":\"\"}},\"ternary\":{\"bgcolor\":\"#E5ECF6\",\"aaxis\":{\"gridcolor\":\"white\",\"linecolor\":\"white\",\"ticks\":\"\"},\"baxis\":{\"gridcolor\":\"white\",\"linecolor\":\"white\",\"ticks\":\"\"},\"caxis\":{\"gridcolor\":\"white\",\"linecolor\":\"white\",\"ticks\":\"\"}},\"coloraxis\":{\"colorbar\":{\"outlinewidth\":0,\"ticks\":\"\"}},\"colorscale\":{\"sequential\":[[0.0,\"#0d0887\"],[0.1111111111111111,\"#46039f\"],[0.2222222222222222,\"#7201a8\"],[0.3333333333333333,\"#9c179e\"],[0.4444444444444444,\"#bd3786\"],[0.5555555555555556,\"#d8576b\"],[0.6666666666666666,\"#ed7953\"],[0.7777777777777778,\"#fb9f3a\"],[0.8888888888888888,\"#fdca26\"],[1.0,\"#f0f921\"]],\"sequentialminus\":[[0.0,\"#0d0887\"],[0.1111111111111111,\"#46039f\"],[0.2222222222222222,\"#7201a8\"],[0.3333333333333333,\"#9c179e\"],[0.4444444444444444,\"#bd3786\"],[0.5555555555555556,\"#d8576b\"],[0.6666666666666666,\"#ed7953\"],[0.7777777777777778,\"#fb9f3a\"],[0.8888888888888888,\"#fdca26\"],[1.0,\"#f0f921\"]],\"diverging\":[[0,\"#8e0152\"],[0.1,\"#c51b7d\"],[0.2,\"#de77ae\"],[0.3,\"#f1b6da\"],[0.4,\"#fde0ef\"],[0.5,\"#f7f7f7\"],[0.6,\"#e6f5d0\"],[0.7,\"#b8e186\"],[0.8,\"#7fbc41\"],[0.9,\"#4d9221\"],[1,\"#276419\"]]},\"xaxis\":{\"gridcolor\":\"white\",\"linecolor\":\"white\",\"ticks\":\"\",\"title\":{\"standoff\":15},\"zerolinecolor\":\"white\",\"automargin\":true,\"zerolinewidth\":2},\"yaxis\":{\"gridcolor\":\"white\",\"linecolor\":\"white\",\"ticks\":\"\",\"title\":{\"standoff\":15},\"zerolinecolor\":\"white\",\"automargin\":true,\"zerolinewidth\":2},\"scene\":{\"xaxis\":{\"backgroundcolor\":\"#E5ECF6\",\"gridcolor\":\"white\",\"linecolor\":\"white\",\"showbackground\":true,\"ticks\":\"\",\"zerolinecolor\":\"white\",\"gridwidth\":2},\"yaxis\":{\"backgroundcolor\":\"#E5ECF6\",\"gridcolor\":\"white\",\"linecolor\":\"white\",\"showbackground\":true,\"ticks\":\"\",\"zerolinecolor\":\"white\",\"gridwidth\":2},\"zaxis\":{\"backgroundcolor\":\"#E5ECF6\",\"gridcolor\":\"white\",\"linecolor\":\"white\",\"showbackground\":true,\"ticks\":\"\",\"zerolinecolor\":\"white\",\"gridwidth\":2}},\"shapedefaults\":{\"line\":{\"color\":\"#2a3f5f\"}},\"annotationdefaults\":{\"arrowcolor\":\"#2a3f5f\",\"arrowhead\":0,\"arrowwidth\":1},\"geo\":{\"bgcolor\":\"white\",\"landcolor\":\"#E5ECF6\",\"subunitcolor\":\"white\",\"showland\":true,\"showlakes\":true,\"lakecolor\":\"white\"},\"title\":{\"x\":0.05},\"mapbox\":{\"style\":\"light\"}}},\"xaxis\":{\"anchor\":\"y\",\"domain\":[0.0,1.0],\"title\":{\"text\":\"Country\"}},\"yaxis\":{\"anchor\":\"x\",\"domain\":[0.0,1.0],\"title\":{\"text\":\"sum of Literacy rate(%)\"}},\"legend\":{\"tracegroupgap\":0},\"margin\":{\"t\":60},\"barmode\":\"relative\"},                        {\"responsive\": true}                    ).then(function(){\n",
       "                            \n",
       "var gd = document.getElementById('f854bba4-86eb-4a0d-b415-47fb9ef5f630');\n",
       "var x = new MutationObserver(function (mutations, observer) {{\n",
       "        var display = window.getComputedStyle(gd).display;\n",
       "        if (!display || display === 'none') {{\n",
       "            console.log([gd, 'removed!']);\n",
       "            Plotly.purge(gd);\n",
       "            observer.disconnect();\n",
       "        }}\n",
       "}});\n",
       "\n",
       "// Listen for the removal of the full notebook cells\n",
       "var notebookContainer = gd.closest('#notebook-container');\n",
       "if (notebookContainer) {{\n",
       "    x.observe(notebookContainer, {childList: true});\n",
       "}}\n",
       "\n",
       "// Listen for the clearing of the current output cell\n",
       "var outputEl = gd.closest('.output');\n",
       "if (outputEl) {{\n",
       "    x.observe(outputEl, {childList: true});\n",
       "}}\n",
       "\n",
       "                        })                };                });            </script>        </div>"
      ]
     },
     "metadata": {},
     "output_type": "display_data"
    }
   ],
   "source": [
    "import plotly.express as px\n",
    "fig = px.histogram(l, x=\"Country\",y=\"Literacy rate(%)\")\n",
    "fig.show()"
   ]
  },
  {
   "cell_type": "code",
   "execution_count": 1432,
   "id": "d00b6616-0d1d-42fd-9009-2aea0bd17d19",
   "metadata": {},
   "outputs": [
    {
     "data": {
      "image/png": "[encoded data removed]",
      "text/plain": [
       "<Figure size 2500x2000 with 10 Axes>"
      ]
     },
     "metadata": {},
     "output_type": "display_data"
    }
   ],
   "source": [
    "fig, axes = plt.subplots(2, 5,figsize=(25,20))\n",
    "axes[0,0].bar(cl['Country'],cl['cost of living'],color='green')\n",
    "axes[0,0].set_title('cost of living by Country')\n",
    "axes[0,0].set_ylabel('Cost of living')\n",
    "axes[0,0].tick_params(axis='x',rotation=45)\n",
    "axes[0,1].bar(pp['Country'], pp['Purchasing Power Index'], color='red')\n",
    "axes[0,1].set_title('Purchasing Power Index by Country')\n",
    "axes[0,1].set_ylabel('Purchasing Power Index')\n",
    "axes[0,1].tick_params(axis='x', rotation=45)\n",
    "axes[0,2].bar(gdp['Country'], gdp['Gdp'], color='blue')\n",
    "axes[0,2].set_title('GDP by Country')\n",
    "axes[0,2].set_ylabel('Gross domestic Product')\n",
    "axes[0,2].tick_params(axis='x', rotation=45)\n",
    "axes[0,3].bar(cc['Country'], cc['currency rate'], color='orange')\n",
    "axes[0,3].set_title('currency rate')\n",
    "axes[0,3].set_ylabel('currency rate')\n",
    "axes[0,3].tick_params(axis='x', rotation=45)\n",
    "axes[0,4].bar(p['Country'],p['Monthly salary+Tax(USD)'], color='Gold')\n",
    "axes[0,4].set_title('Monthly salary by country')\n",
    "axes[0,4].set_ylabel('Monthly salary')\n",
    "axes[0,4].tick_params(axis='x', rotation=45)\n",
    "axes[1,0].bar(sf['Country'], sf['Skilled force'], color='yellow')\n",
    "axes[1,0].set_title('skilled force by Country')\n",
    "axes[1,0].set_ylabel('skilled force')\n",
    "axes[1,0].tick_params(axis='x', rotation=45)\n",
    "axes[1,1].bar(tec['Country'], tec['technology.2023 rank'], color='brown')\n",
    "axes[1,1].set_title('Technology by Country')\n",
    "axes[1,1].set_ylabel('Technology')\n",
    "axes[1,1].tick_params(axis='x', rotation=45)\n",
    "axes[1,2].bar(un['Country'], un['Unemployment(%)'],color='pink')\n",
    "axes[1,2].set_title('Unemployment by Country')\n",
    "axes[1,2].set_ylabel('Unemployment')\n",
    "axes[1,2].tick_params(axis='x', rotation=45)\n",
    "axes[1,3].bar(i['Country'],i['Inflation(%)'],color='purple')\n",
    "axes[1,3].set_title('Inflation by Country')\n",
    "axes[1,3].set_ylabel('Inflation')\n",
    "axes[1,3].tick_params(axis='x', rotation=45)\n",
    "axes[1,4].bar(l['Country'],i['Literacy rate(%)'],color='magenta')\n",
    "axes[1,4].set_title('Literacy rate by Country')\n",
    "axes[1,4].set_ylabel('Literacy rate')\n",
    "axes[1,4].tick_params(axis='x', rotation=45)\n",
    "\n"
   ]
  },
  {
   "cell_type": "code",
   "execution_count": 1433,
   "id": "a8bb0217-d094-499f-a058-1dc378595b56",
   "metadata": {},
   "outputs": [
    {
     "data": {
      "text/html": [
       "<div>\n",
       "<style scoped>\n",
       "    .dataframe tbody tr th:only-of-type {\n",
       "        vertical-align: middle;\n",
       "    }\n",
       "\n",
       "    .dataframe tbody tr th {\n",
       "        vertical-align: top;\n",
       "    }\n",
       "\n",
       "    .dataframe thead th {\n",
       "        text-align: right;\n",
       "    }\n",
       "</style>\n",
       "<table border=\"1\" class=\"dataframe\">\n",
       "  <thead>\n",
       "    <tr style=\"text-align: right;\">\n",
       "      <th></th>\n",
       "      <th>Country</th>\n",
       "    </tr>\n",
       "  </thead>\n",
       "  <tbody>\n",
       "    <tr>\n",
       "      <th>0</th>\n",
       "      <td>Luxembourg</td>\n",
       "    </tr>\n",
       "    <tr>\n",
       "      <th>1</th>\n",
       "      <td>Singapore</td>\n",
       "    </tr>\n",
       "    <tr>\n",
       "      <th>2</th>\n",
       "      <td>Qatar</td>\n",
       "    </tr>\n",
       "    <tr>\n",
       "      <th>3</th>\n",
       "      <td>Australia</td>\n",
       "    </tr>\n",
       "    <tr>\n",
       "      <th>4</th>\n",
       "      <td>Denmark</td>\n",
       "    </tr>\n",
       "    <tr>\n",
       "      <th>5</th>\n",
       "      <td>United Arab Emirates</td>\n",
       "    </tr>\n",
       "    <tr>\n",
       "      <th>6</th>\n",
       "      <td>Norway</td>\n",
       "    </tr>\n",
       "    <tr>\n",
       "      <th>7</th>\n",
       "      <td>United Kingdom</td>\n",
       "    </tr>\n",
       "    <tr>\n",
       "      <th>8</th>\n",
       "      <td>Ireland</td>\n",
       "    </tr>\n",
       "    <tr>\n",
       "      <th>9</th>\n",
       "      <td>Germany</td>\n",
       "    </tr>\n",
       "  </tbody>\n",
       "</table>\n",
       "</div>"
      ],
      "text/plain": [
       "                Country\n",
       "0            Luxembourg\n",
       "1             Singapore\n",
       "2                 Qatar\n",
       "3             Australia\n",
       "4               Denmark\n",
       "5  United Arab Emirates\n",
       "6                Norway\n",
       "7        United Kingdom\n",
       "8               Ireland\n",
       "9               Germany"
      ]
     },
     "execution_count": 1433,
     "metadata": {},
     "output_type": "execute_result"
    }
   ],
   "source": [
    "a=p['Country'].reset_index()\n",
    "a=a.drop(columns=['index'])\n",
    "a\n"
   ]
  },
  {
   "cell_type": "code",
   "execution_count": 1434,
   "id": "6dbd8fd0-30b1-4e18-9b53-47c1163728a7",
   "metadata": {},
   "outputs": [
    {
     "data": {
      "text/html": [
       "<div>\n",
       "<style scoped>\n",
       "    .dataframe tbody tr th:only-of-type {\n",
       "        vertical-align: middle;\n",
       "    }\n",
       "\n",
       "    .dataframe tbody tr th {\n",
       "        vertical-align: top;\n",
       "    }\n",
       "\n",
       "    .dataframe thead th {\n",
       "        text-align: right;\n",
       "    }\n",
       "</style>\n",
       "<table border=\"1\" class=\"dataframe\">\n",
       "  <thead>\n",
       "    <tr style=\"text-align: right;\">\n",
       "      <th></th>\n",
       "      <th>Country</th>\n",
       "    </tr>\n",
       "  </thead>\n",
       "  <tbody>\n",
       "    <tr>\n",
       "      <th>0</th>\n",
       "      <td>Israel</td>\n",
       "    </tr>\n",
       "    <tr>\n",
       "      <th>1</th>\n",
       "      <td>Denmark</td>\n",
       "    </tr>\n",
       "    <tr>\n",
       "      <th>2</th>\n",
       "      <td>Ireland</td>\n",
       "    </tr>\n",
       "    <tr>\n",
       "      <th>3</th>\n",
       "      <td>Luxembourg</td>\n",
       "    </tr>\n",
       "    <tr>\n",
       "      <th>4</th>\n",
       "      <td>Australia</td>\n",
       "    </tr>\n",
       "    <tr>\n",
       "      <th>5</th>\n",
       "      <td>New Zealand</td>\n",
       "    </tr>\n",
       "    <tr>\n",
       "      <th>6</th>\n",
       "      <td>United Kingdom</td>\n",
       "    </tr>\n",
       "    <tr>\n",
       "      <th>7</th>\n",
       "      <td>Norway</td>\n",
       "    </tr>\n",
       "    <tr>\n",
       "      <th>8</th>\n",
       "      <td>Canada</td>\n",
       "    </tr>\n",
       "    <tr>\n",
       "      <th>9</th>\n",
       "      <td>Finland</td>\n",
       "    </tr>\n",
       "  </tbody>\n",
       "</table>\n",
       "</div>"
      ],
      "text/plain": [
       "          Country\n",
       "0          Israel\n",
       "1         Denmark\n",
       "2         Ireland\n",
       "3      Luxembourg\n",
       "4       Australia\n",
       "5     New Zealand\n",
       "6  United Kingdom\n",
       "7          Norway\n",
       "8          Canada\n",
       "9         Finland"
      ]
     },
     "execution_count": 1434,
     "metadata": {},
     "output_type": "execute_result"
    }
   ],
   "source": [
    "b=cl['Country'].reset_index()\n",
    "b=b.drop(columns=['index'])\n",
    "b"
   ]
  },
  {
   "cell_type": "code",
   "execution_count": 1435,
   "id": "edf3677f-c455-4a52-bcbb-a24fcceda1b5",
   "metadata": {},
   "outputs": [
    {
     "data": {
      "text/html": [
       "<div>\n",
       "<style scoped>\n",
       "    .dataframe tbody tr th:only-of-type {\n",
       "        vertical-align: middle;\n",
       "    }\n",
       "\n",
       "    .dataframe tbody tr th {\n",
       "        vertical-align: top;\n",
       "    }\n",
       "\n",
       "    .dataframe thead th {\n",
       "        text-align: right;\n",
       "    }\n",
       "</style>\n",
       "<table border=\"1\" class=\"dataframe\">\n",
       "  <thead>\n",
       "    <tr style=\"text-align: right;\">\n",
       "      <th></th>\n",
       "      <th>Country</th>\n",
       "    </tr>\n",
       "  </thead>\n",
       "  <tbody>\n",
       "    <tr>\n",
       "      <th>0</th>\n",
       "      <td>Luxembourg</td>\n",
       "    </tr>\n",
       "    <tr>\n",
       "      <th>1</th>\n",
       "      <td>Ireland</td>\n",
       "    </tr>\n",
       "    <tr>\n",
       "      <th>2</th>\n",
       "      <td>Norway</td>\n",
       "    </tr>\n",
       "    <tr>\n",
       "      <th>3</th>\n",
       "      <td>Qatar</td>\n",
       "    </tr>\n",
       "    <tr>\n",
       "      <th>4</th>\n",
       "      <td>Singapore</td>\n",
       "    </tr>\n",
       "    <tr>\n",
       "      <th>5</th>\n",
       "      <td>Denmark</td>\n",
       "    </tr>\n",
       "    <tr>\n",
       "      <th>6</th>\n",
       "      <td>Australia</td>\n",
       "    </tr>\n",
       "    <tr>\n",
       "      <th>7</th>\n",
       "      <td>Austria</td>\n",
       "    </tr>\n",
       "    <tr>\n",
       "      <th>8</th>\n",
       "      <td>Sweden</td>\n",
       "    </tr>\n",
       "    <tr>\n",
       "      <th>9</th>\n",
       "      <td>Finland</td>\n",
       "    </tr>\n",
       "  </tbody>\n",
       "</table>\n",
       "</div>"
      ],
      "text/plain": [
       "      Country\n",
       "0  Luxembourg\n",
       "1     Ireland\n",
       "2      Norway\n",
       "3       Qatar\n",
       "4   Singapore\n",
       "5     Denmark\n",
       "6   Australia\n",
       "7     Austria\n",
       "8      Sweden\n",
       "9     Finland"
      ]
     },
     "execution_count": 1435,
     "metadata": {},
     "output_type": "execute_result"
    }
   ],
   "source": [
    "c=gdp['Country'].reset_index()\n",
    "c=c.drop(columns=['index'])\n",
    "c"
   ]
  },
  {
   "cell_type": "code",
   "execution_count": 1436,
   "id": "0f0e94fe-2a92-45e4-b1f7-f905ea0d02fa",
   "metadata": {},
   "outputs": [
    {
     "data": {
      "text/html": [
       "<div>\n",
       "<style scoped>\n",
       "    .dataframe tbody tr th:only-of-type {\n",
       "        vertical-align: middle;\n",
       "    }\n",
       "\n",
       "    .dataframe tbody tr th {\n",
       "        vertical-align: top;\n",
       "    }\n",
       "\n",
       "    .dataframe thead th {\n",
       "        text-align: right;\n",
       "    }\n",
       "</style>\n",
       "<table border=\"1\" class=\"dataframe\">\n",
       "  <thead>\n",
       "    <tr style=\"text-align: right;\">\n",
       "      <th></th>\n",
       "      <th>Country</th>\n",
       "    </tr>\n",
       "  </thead>\n",
       "  <tbody>\n",
       "    <tr>\n",
       "      <th>0</th>\n",
       "      <td>Luxembourg</td>\n",
       "    </tr>\n",
       "    <tr>\n",
       "      <th>1</th>\n",
       "      <td>Estonia</td>\n",
       "    </tr>\n",
       "    <tr>\n",
       "      <th>2</th>\n",
       "      <td>Albania</td>\n",
       "    </tr>\n",
       "    <tr>\n",
       "      <th>3</th>\n",
       "      <td>Croatia</td>\n",
       "    </tr>\n",
       "    <tr>\n",
       "      <th>4</th>\n",
       "      <td>Georgia</td>\n",
       "    </tr>\n",
       "    <tr>\n",
       "      <th>5</th>\n",
       "      <td>Qatar</td>\n",
       "    </tr>\n",
       "    <tr>\n",
       "      <th>6</th>\n",
       "      <td>Libya</td>\n",
       "    </tr>\n",
       "    <tr>\n",
       "      <th>7</th>\n",
       "      <td>Costa Rica</td>\n",
       "    </tr>\n",
       "    <tr>\n",
       "      <th>8</th>\n",
       "      <td>Ireland</td>\n",
       "    </tr>\n",
       "    <tr>\n",
       "      <th>9</th>\n",
       "      <td>El Salvador</td>\n",
       "    </tr>\n",
       "  </tbody>\n",
       "</table>\n",
       "</div>"
      ],
      "text/plain": [
       "       Country\n",
       "0   Luxembourg\n",
       "1      Estonia\n",
       "2      Albania\n",
       "3      Croatia\n",
       "4      Georgia\n",
       "5        Qatar\n",
       "6        Libya\n",
       "7   Costa Rica\n",
       "8      Ireland\n",
       "9  El Salvador"
      ]
     },
     "execution_count": 1436,
     "metadata": {},
     "output_type": "execute_result"
    }
   ],
   "source": [
    "d=sf['Country'].reset_index()\n",
    "d=d.drop(columns=['index'])\n",
    "d"
   ]
  },
  {
   "cell_type": "code",
   "execution_count": 1437,
   "id": "c87d6d83-15d6-4b20-bdaa-5c3d59947b43",
   "metadata": {},
   "outputs": [],
   "source": [
    "#e=tec['Country'].reset_index()\n",
    "#e=e.drop(columns=['index'])\n",
    "#e"
   ]
  },
  {
   "cell_type": "code",
   "execution_count": 1438,
   "id": "be703a91-ccd5-4f32-92c4-b42990a19142",
   "metadata": {},
   "outputs": [],
   "source": [
    "#f=l['Country'].reset_index()\n",
    "#f=f.drop(columns=['index'])\n",
    "#f"
   ]
  },
  {
   "cell_type": "code",
   "execution_count": 1439,
   "id": "167f884a-2b8c-432b-8142-f1765295910c",
   "metadata": {},
   "outputs": [
    {
     "name": "stdout",
     "output_type": "stream",
     "text": [
      "Common element:\n",
      " ['Luxembourg', 'Ireland']\n"
     ]
    }
   ],
   "source": [
    "from functools import reduce\n",
    "\n",
    "\n",
    "\n",
    "# Finding a common element\n",
    "result = list(reduce(set.intersection, map(set, [a.Country, b.Country,c.Country,d.Country])))\n",
    "\n",
    "# Display Result\n",
    "print(\"Common element:\\n\",result)"
   ]
  },
  {
   "cell_type": "markdown",
   "id": "9401f388-c615-4227-bf13-ee8860954363",
   "metadata": {},
   "source": [
    "The analysis reveals that both Luxembourg and Ireland are prominent destinations for migrants, driven by robust economic growth, political stability, and high standards of living. However, distinct factors shape migration to these countries:\n",
    "\n",
    "Luxembourg:\n",
    "\n",
    "Migration to Luxembourg is largely influenced by its status as a financial hub and an EU administrative center. The country attracts a highly skilled international workforce, especially in finance, IT, and EU-related sectors.\n",
    "The multilingual environment and proximity to neighboring countries make Luxembourg appealing, particularly for cross-border workers.\n",
    "Challenges such as the high cost of housing and limited urban space may slow migration growth, unless policy interventions address these issues.\n",
    "Ireland:\n",
    "\n",
    "Ireland’s appeal lies in its tech-centric job market, with multinational corporations driving demand for global talent. The country also benefits from being an English-speaking nation, making it an attractive choice for non-EU migrants.\n",
    "High levels of immigration correlate with strong economic performance, but rising housing costs and urban infrastructure constraints could impact future inflows.\n",
    "Ireland’s relatively welcoming immigration policies contribute to diverse migrant demographics, supporting its globalized labor market.\n",
    "Comparison:\n",
    "\n",
    "While both countries rely heavily on skilled migration, Luxembourg’s smaller market makes its migration trends more niche, often tied to EU functions and finance.\n",
    "Ireland’s migration patterns are broader, encompassing both tech and service sectors, with a more diverse pool of migrants due to its cultural and linguistic accessibility.\n",
    "Future Outlook:\n",
    "\n",
    "Sustained economic growth and targeted policies to address housing and cost-of-living challenges will be pivotal for both nations to maintain their migration attractiveness.\n",
    "Luxembourg may continue to thrive as a specialized destination, while Ireland is poised for more significant demographic diversification, particularly in tech-driven regions."
   ]
  },
  {
   "cell_type": "code",
   "execution_count": null,
   "id": "04c77108-1ea7-4806-af62-a172a9f7f39e",
   "metadata": {},
   "outputs": [],
   "source": []
  }
 ],
 "metadata": {
  "kernelspec": {
   "display_name": "Python 3 (ipykernel)",
   "language": "python",
   "name": "python3"
  },
  "language_info": {
   "codemirror_mode": {
    "name": "ipython",
    "version": 3
   },
   "file_extension": ".py",
   "mimetype": "text/x-python",
   "name": "python",
   "nbconvert_exporter": "python",
   "pygments_lexer": "ipython3",
   "version": "3.12.4"
  }
 },
 "nbformat": 4,
 "nbformat_minor": 5
}
